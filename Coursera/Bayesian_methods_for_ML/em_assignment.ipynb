{
  "nbformat": 4,
  "nbformat_minor": 0,
  "metadata": {
    "colab": {
      "name": "Em_assignment.ipynb",
      "provenance": [],
      "collapsed_sections": []
    },
    "kernelspec": {
      "display_name": "Python 3",
      "language": "python",
      "name": "python3"
    }
  },
  "cells": [
    {
      "cell_type": "markdown",
      "metadata": {
        "id": "jlo4V6MRBEDQ"
      },
      "source": [
        "# First things first\n",
        "Click **File -> Save a copy in Drive** and click **Open in new tab** in the pop-up window to save your progress in Google Drive."
      ]
    },
    {
      "cell_type": "markdown",
      "metadata": {
        "id": "WMlNHfVxBEDT"
      },
      "source": [
        "# Expectation-maximization algorithm"
      ]
    },
    {
      "cell_type": "markdown",
      "metadata": {
        "id": "icS4MsxIBEDU"
      },
      "source": [
        "In this assignment, we will derive and implement formulas for Gaussian Mixture Model — one of the most commonly used methods for performing soft clustering of the data. "
      ]
    },
    {
      "cell_type": "markdown",
      "metadata": {
        "id": "jequoJfSBEDV"
      },
      "source": [
        "### Setup\n",
        "Loading auxiliary files and importing the necessary libraries."
      ]
    },
    {
      "cell_type": "code",
      "metadata": {
        "id": "ZqZo-y9UBEDX",
        "outputId": "c5ccd1e9-bf67-4976-ebb9-f54e1b682a8f",
        "colab": {
          "base_uri": "https://localhost:8080/",
          "height": 278
        }
      },
      "source": [
        "try:\n",
        "    import google.colab\n",
        "    IN_COLAB = True\n",
        "except:\n",
        "    IN_COLAB = False\n",
        "if IN_COLAB:\n",
        "    print(\"Downloading Colab files\")\n",
        "    ! shred -u setup_google_colab.py\n",
        "    ! wget https://raw.githubusercontent.com/hse-aml/bayesian-methods-for-ml/master/setup_google_colab.py -O setup_google_colab.py\n",
        "    import setup_google_colab\n",
        "    setup_google_colab.load_data_week2()"
      ],
      "execution_count": 1,
      "outputs": [
        {
          "output_type": "stream",
          "text": [
            "Downloading Colab files\n",
            "shred: setup_google_colab.py: failed to open for writing: No such file or directory\n",
            "--2020-09-30 06:12:59--  https://raw.githubusercontent.com/hse-aml/bayesian-methods-for-ml/master/setup_google_colab.py\n",
            "Resolving raw.githubusercontent.com (raw.githubusercontent.com)... 151.101.0.133, 151.101.64.133, 151.101.128.133, ...\n",
            "Connecting to raw.githubusercontent.com (raw.githubusercontent.com)|151.101.0.133|:443... connected.\n",
            "HTTP request sent, awaiting response... 200 OK\n",
            "Length: 1232 (1.2K) [text/plain]\n",
            "Saving to: ‘setup_google_colab.py’\n",
            "\n",
            "setup_google_colab. 100%[===================>]   1.20K  --.-KB/s    in 0s      \n",
            "\n",
            "2020-09-30 06:13:00 (50.2 MB/s) - ‘setup_google_colab.py’ saved [1232/1232]\n",
            "\n",
            "https://raw.githubusercontent.com/hse-aml/bayesian-methods-for-ml/master/week2/w2_grader.py w2_grader.py\n",
            "https://raw.githubusercontent.com/hse-aml/bayesian-methods-for-ml/master/week2/samples.npz samples.npz\n"
          ],
          "name": "stdout"
        }
      ]
    },
    {
      "cell_type": "code",
      "metadata": {
        "id": "urylZcbeBEDc"
      },
      "source": [
        "import numpy as np\n",
        "from numpy.linalg import slogdet, det, solve\n",
        "import matplotlib.pyplot as plt\n",
        "import time\n",
        "import math\n",
        "from sklearn.datasets import load_digits\n",
        "from w2_grader import EMGrader\n",
        "%matplotlib inline"
      ],
      "execution_count": 25,
      "outputs": []
    },
    {
      "cell_type": "markdown",
      "metadata": {
        "id": "tP8l9frZBEDf"
      },
      "source": [
        "### Grading\n",
        "We will create a grader instance below and use it to collect your answers. Note that these outputs will be stored locally inside grader and will be uploaded to the platform only after running submitting function in the last part of this assignment. If you want to make a partial submission, you can run that cell anytime you want."
      ]
    },
    {
      "cell_type": "code",
      "metadata": {
        "id": "7Gvy3EOvBEDg"
      },
      "source": [
        "grader = EMGrader()"
      ],
      "execution_count": 3,
      "outputs": []
    },
    {
      "cell_type": "markdown",
      "metadata": {
        "id": "dL3A2sntBEDj"
      },
      "source": [
        "## Implementing EM for GMM"
      ]
    },
    {
      "cell_type": "markdown",
      "metadata": {
        "id": "0xPS_VdpBEDk"
      },
      "source": [
        "For debugging, we will use samples from a Gaussian mixture model with unknown mean, variance, and priors. We also added initial values of parameters for grading purposes."
      ]
    },
    {
      "cell_type": "code",
      "metadata": {
        "id": "g9_aOn94BEDl",
        "outputId": "b10a54ee-028d-4c8f-d705-758389e352aa",
        "colab": {
          "base_uri": "https://localhost:8080/",
          "height": 265
        }
      },
      "source": [
        "samples = np.load('samples.npz')\n",
        "X = samples['data']\n",
        "pi0 = samples['pi0']\n",
        "mu0 = samples['mu0']\n",
        "sigma0 = samples['sigma0']\n",
        "plt.scatter(X[:, 0], X[:, 1], c = 'grey', s = 30)\n",
        "plt.axis('equal')\n",
        "plt.show()"
      ],
      "execution_count": 4,
      "outputs": [
        {
          "output_type": "display_data",
          "data": {
            "image/png": "[encoded data removed]",
            "text/plain": [
              "<Figure size 432x288 with 1 Axes>"
            ]
          },
          "metadata": {
            "tags": [],
            "needs_background": "light"
          }
        }
      ]
    },
    {
      "cell_type": "markdown",
      "metadata": {
        "id": "AmgeHTCfBEDp"
      },
      "source": [
        "### Reminder"
      ]
    },
    {
      "cell_type": "markdown",
      "metadata": {
        "id": "RgAwWi1nBEDq"
      },
      "source": [
        "Remember, that EM algorithm is a coordinate descent optimization of variational lower bound $\\mathcal{L}(\\theta, q) = \\int q(T) \\log\\frac{p(X, T|\\theta)}{q(T)}dT\\to \\max$.\n",
        "\n",
        "<b>E-step</b>:<br>\n",
        "$\\mathcal{L}(\\theta, q) \\to \\max\\limits_{q} \\Leftrightarrow \\mathcal{KL} [q(T) \\,\\|\\, p(T|X, \\theta)] \\to \\min \\limits_{q\\in Q} \\Rightarrow q(T) = p(T|X, \\theta)$<br>\n",
        "<b>M-step</b>:<br> \n",
        "$\\mathcal{L}(\\theta, q) \\to \\max\\limits_{\\theta} \\Leftrightarrow \\mathbb{E}_{q(T)}\\log p(X,T | \\theta) \\to \\max\\limits_{\\theta}$\n",
        "\n",
        "For GMM, $\\theta$ is a set of parameters that consists of mean vectors $\\mu_c$, covariance matrices $\\Sigma_c$ and priors $\\pi_c$ for each component.\n",
        "\n",
        "Latent variables $T$ are indices of components to which each data point is assigned, i.e. $t_i$  is the cluster index for object $x_i$.\n",
        "\n",
        "The joint distribution can be written as follows: $\\log p(T, X \\mid \\theta) =  \\sum\\limits_{i=1}^N \\log p(t_i, x_i \\mid \\theta) = \\sum\\limits_{i=1}^N \\sum\\limits_{c=1}^C q(t_i = c) \\log \\left (\\pi_c \\, f_{\\!\\mathcal{N}}(x_i \\mid \\mu_c, \\Sigma_c)\\right)$,\n",
        "where $f_{\\!\\mathcal{N}}(x \\mid \\mu_c, \\Sigma_c) = \\frac{1}{\\sqrt{(2\\pi)^n|\\boldsymbol\\Sigma_c|}}\n",
        "\\exp\\left(-\\frac{1}{2}({x}-{\\mu_c})^T{\\boldsymbol\\Sigma_c}^{-1}({x}-{\\mu_c})\n",
        "\\right)$ is the probability density function (pdf) of the normal distribution $\\mathcal{N}(x_i \\mid \\mu_c, \\Sigma_c)$."
      ]
    },
    {
      "cell_type": "markdown",
      "metadata": {
        "id": "ELmi1nAtBEDr"
      },
      "source": [
        "### E-step\n",
        "In this step we need to estimate the posterior distribution over the latent variables with fixed values of parameters: $q_i(t_i) = p(t_i \\mid x_i, \\theta)$. We assume that $t_i$ equals to the cluster index of the true component of the $x_i$ object. To do so we need to compute $\\gamma_{ic} = p(t_i = c \\mid x_i, \\theta)$. Note that $\\sum\\limits_{c=1}^C\\gamma_{ic}=1$.\n"
      ]
    },
    {
      "cell_type": "markdown",
      "metadata": {
        "id": "53FR1RJ9BEDs"
      },
      "source": [
        "<b>Important trick 1:</b> It is important to avoid numerical errors. At some point you will have to compute the formula of the following form: $\\frac{e^{y_i}}{\\sum_j e^{y_j}}$, which is called _softmax_. When you compute exponents of large numbers, some numbers may become infinity. You can avoid this by dividing numerator and denominator by $e^{\\max(y)}$: $\\frac{e^{y_i-\\max(y)}}{\\sum_j e^{y_j - \\max(y)}}$. After this transformation maximum value in the denominator will be equal to one. All other terms will contribute smaller values. So, to compute desired formula you first subtract maximum value from each component in vector $\\mathbf{y}$ and then compute everything else as before.\n",
        "\n",
        "<b>Important trick 2:</b> You will probably need to compute formula of the form $A^{-1}x$ at some point. You would normally inverse $A$ and then multiply it by $x$. A bit faster and more numerically accurate way to do this is to directly solve equation $Ay = x$ by using a special function. Its solution is $y=A^{-1}x$, but the equation $Ay = x$ can be solved by methods which do not explicitely invert the matrix. You can use ```np.linalg.solve``` for this.\n",
        "\n",
        "<b>Other usefull functions: </b> <a href=\"https://docs.scipy.org/doc/numpy/reference/generated/numpy.linalg.slogdet.html\">```slogdet```</a> and <a href=\"https://docs.scipy.org/doc/numpy/reference/generated/numpy.linalg.det.html#numpy.linalg.det\">```det```</a>"
      ]
    },
    {
      "cell_type": "markdown",
      "metadata": {
        "id": "KL87Q8-TBEDu"
      },
      "source": [
        "<b>Task 1:</b> Implement E-step for GMM using template below."
      ]
    },
    {
      "cell_type": "code",
      "metadata": {
        "id": "wCUCaD28BEDw"
      },
      "source": [
        "from scipy.stats import multivariate_normal\n",
        "\n",
        "def E_step(X, pi, mu, sigma):\n",
        "    \"\"\"\n",
        "    Performs E-step on GMM model\n",
        "    Each input is numpy array:\n",
        "    X: (N x d), data points\n",
        "    pi: (C), mixture component weights \n",
        "    mu: (C x d), mixture component means\n",
        "    sigma: (C x d x d), mixture component covariance matrices\n",
        "    \n",
        "    Returns:\n",
        "    gamma: (N x C), probabilities of clusters for objects\n",
        "    \"\"\"\n",
        "    N = X.shape[0] # number of objects\n",
        "    C = pi.shape[0] # number of clusters\n",
        "    d = mu.shape[1] # dimension of each object\n",
        "    gamma = np.zeros((N, C)) # distribution q(T)\n",
        "\n",
        "    ### YOUR CODE HERE\n",
        "    p_x_conditional_t = np.zeros((N, C))\n",
        "    for c in range(C):\n",
        "      ## instead of hardcoding\n",
        "      model = multivariate_normal(mean = mu[c, :], cov = sigma[c, :])\n",
        "      p_x_conditional_t[:, c] = model.pdf(X) \n",
        "\n",
        "    p_x_conditional_t *= pi\n",
        "    gamma = p_x_conditional_t / np.sum(p_x_conditional_t, axis = 1, keepdims = True)\n",
        "    return gamma"
      ],
      "execution_count": 5,
      "outputs": []
    },
    {
      "cell_type": "code",
      "metadata": {
        "id": "xlhktOlMBED1",
        "outputId": "7461fa33-5c9b-41fd-fec0-40a93765ff6a",
        "colab": {
          "base_uri": "https://localhost:8080/",
          "height": 34
        }
      },
      "source": [
        "gamma = E_step(X, pi0, mu0, sigma0)\n",
        "grader.submit_e_step(gamma)"
      ],
      "execution_count": 6,
      "outputs": [
        {
          "output_type": "stream",
          "text": [
            "Current answer for task Task 1 (E-step) is: 0.5337178741081263\n"
          ],
          "name": "stdout"
        }
      ]
    },
    {
      "cell_type": "markdown",
      "metadata": {
        "id": "fERrQWSCBED5"
      },
      "source": [
        "### M-step\n",
        "\n",
        "In M-step we need to maximize $\\mathbb{E}_{q(T)}\\log p(X,T | \\theta)$ with respect to $\\theta$. In our model this means that we need to find optimal values of $\\pi$, $\\mu$, $\\Sigma$. To do so, you need to compute the derivatives and \n",
        "set them to zero. You should start by deriving formulas for $\\mu$ as it is the easiest part. Then move on to $\\Sigma$. Here it is crucial to optimize function w.r.t. to $\\Lambda = \\Sigma^{-1}$ and then inverse obtained result. Finaly, to compute $\\pi$, you will need <a href=\"https://www3.nd.edu/~jstiver/FIN360/Constrained%20Optimization.pdf\">Lagrange Multipliers technique</a> to satisfy constraint $\\sum\\limits_{i=1}^{n}\\pi_i = 1$.\n",
        "\n",
        "<br>\n",
        "<b>Important note:</b> You will need to compute derivatives of scalars with respect to matrices. To refresh this technique from previous courses, see <a href=\"https://en.wikipedia.org/wiki/Matrix_calculus\"> wiki article</a> about it . Main formulas of matrix derivatives can be found in <a href=\"http://www2.imm.dtu.dk/pubdb/views/edoc_download.php/3274/pdf/imm3274.pdf\">Chapter 2 of The Matrix Cookbook</a>. For example, there you may find that $\\frac{\\partial}{\\partial A}\\log |A| = A^{-T}$.\n"
      ]
    },
    {
      "cell_type": "markdown",
      "metadata": {
        "id": "A31OYSogBED6"
      },
      "source": [
        "<b>Task 2:</b> Implement M-step for GMM using template below."
      ]
    },
    {
      "cell_type": "code",
      "metadata": {
        "id": "mhOr5I1bBED7"
      },
      "source": [
        "def M_step(X, gamma):\n",
        "    \"\"\"\n",
        "    Performs M-step on GMM model\n",
        "    Each input is numpy array:\n",
        "    X: (N x d), data points\n",
        "    gamma: (N x C), distribution q(T)  \n",
        "    \n",
        "    Returns:\n",
        "    pi: (C)\n",
        "    mu: (C x d)\n",
        "    sigma: (C x d x d)\n",
        "    \"\"\"\n",
        "    N = X.shape[0] # number of objects\n",
        "    C = gamma.shape[1] # number of clusters\n",
        "    d = X.shape[1] # dimension of each object\n",
        "\n",
        "    ### YOUR CODE HERE\n",
        "    pi = np.zeros(C)\n",
        "    mu = np.zeros((C, d))\n",
        "    sigma = np.zeros((C, d, d))\n",
        "\n",
        "    for c in range(C):\n",
        "      p_t = np.sum(gamma[:, c])\n",
        "      mu[c, :] = gamma[:, c].dot(X) / p_t\n",
        "      pi[c] = p_t / N\n",
        "      sigma[c] = np.sum([gamma[i,c] * np.outer(X[i,:] - mu[c,:], X[i,:] - mu[c,:]) for i in range(N)], axis = 0) / p_t\n",
        "    return pi, mu, sigma"
      ],
      "execution_count": 9,
      "outputs": []
    },
    {
      "cell_type": "markdown",
      "metadata": {
        "id": "3V-aJETlxX6L"
      },
      "source": [
        ""
      ]
    },
    {
      "cell_type": "code",
      "metadata": {
        "id": "6i5cv65SBED-",
        "outputId": "449c509a-9268-434b-a513-e2597596631e",
        "colab": {
          "base_uri": "https://localhost:8080/",
          "height": 69
        }
      },
      "source": [
        "gamma = E_step(X, pi0, mu0, sigma0)\n",
        "pi, mu, sigma = M_step(X, gamma)\n",
        "grader.submit_m_step(pi, mu, sigma)"
      ],
      "execution_count": 10,
      "outputs": [
        {
          "output_type": "stream",
          "text": [
            "Current answer for task Task 2 (M-step: mu) is: 2.899391882050384\n",
            "Current answer for task Task 2 (M-step: sigma) is: 5.9771052168975265\n",
            "Current answer for task Task 2 (M-step: pi) is: 0.5507624459218775\n"
          ],
          "name": "stdout"
        }
      ]
    },
    {
      "cell_type": "markdown",
      "metadata": {
        "id": "svyzjt7XBEEC"
      },
      "source": [
        "### Loss function"
      ]
    },
    {
      "cell_type": "markdown",
      "metadata": {
        "id": "qexOXBLUBEED"
      },
      "source": [
        "Finally, we need some function to track convergence. We will use variational lower bound $\\mathcal{L}$ for this purpose. We will stop our EM iterations when $\\mathcal{L}$ will saturate. Usually, you will need only about 10-20 iterations to converge. It is also useful to check that this function never decreases during training. If it does, you have a bug in your code.\n",
        "\n",
        "<b>Task 3:</b> Implement a function that will compute $\\mathcal{L}$ using template below.\n",
        "\n",
        "$$\\mathcal{L} = \\sum_{i=1}^{N} \\sum_{c=1}^{C} q(t_i =c) (\\log \\pi_c + \\log f_{\\!\\mathcal{N}}(x_i \\mid \\mu_c, \\Sigma_c)) - \\sum_{i=1}^{N} \\sum_{c=1}^{K} q(t_i =c) \\log q(t_i =c)$$"
      ]
    },
    {
      "cell_type": "code",
      "metadata": {
        "id": "B5tKCZe0BEEE"
      },
      "source": [
        "def compute_vlb(X, pi, mu, sigma, gamma):\n",
        "    \"\"\"\n",
        "    Each input is numpy array:\n",
        "    X: (N x d), data points\n",
        "    gamma: (N x C), distribution q(T)  \n",
        "    pi: (C)\n",
        "    mu: (C x d)\n",
        "    sigma: (C x d x d)\n",
        "    \n",
        "    Returns value of variational lower bound\n",
        "    \"\"\"\n",
        "    N = X.shape[0] # number of objects\n",
        "    C = gamma.shape[1] # number of clusters\n",
        "    d = X.shape[1] # dimension of each object\n",
        "\n",
        "    ### YOUR CODE HERE\n",
        "    loss = 0.0\n",
        "    for c in range(C):\n",
        "      model = multivariate_normal(mu[c], sigma[c])\n",
        "      for n in range(N):\n",
        "        loss += gamma[n, c]* (np.log(pi[c] + 1e-12) + model.logpdf(X[n, :]) - np.log(gamma[n,c] + 1e-12))\n",
        "\n",
        "    return loss"
      ],
      "execution_count": 16,
      "outputs": []
    },
    {
      "cell_type": "code",
      "metadata": {
        "id": "xNva3XRTBEEI",
        "outputId": "b0b02ba2-be7c-4a08-e893-1c49c30da9e9",
        "colab": {
          "base_uri": "https://localhost:8080/",
          "height": 34
        }
      },
      "source": [
        "pi, mu, sigma = pi0, mu0, sigma0\n",
        "gamma = E_step(X, pi, mu, sigma)\n",
        "pi, mu, sigma = M_step(X, gamma)\n",
        "loss = compute_vlb(X, pi, mu, sigma, gamma)\n",
        "grader.submit_VLB(loss)"
      ],
      "execution_count": 17,
      "outputs": [
        {
          "output_type": "stream",
          "text": [
            "Current answer for task Task 3 (VLB) is: -1213.9734643058089\n"
          ],
          "name": "stdout"
        }
      ]
    },
    {
      "cell_type": "markdown",
      "metadata": {
        "id": "I5p8XC-eBEEM"
      },
      "source": [
        "### Bringing it all together"
      ]
    },
    {
      "cell_type": "markdown",
      "metadata": {
        "id": "cQsdsNVCBEEU"
      },
      "source": [
        "Now that we have E step, M step and VLB, we can implement the training loop. We will initialize values of $\\pi$, $\\mu$ and $\\Sigma$ to some random numbers, train until $\\mathcal{L}$ stops changing, and return the resulting points. We also know that the EM algorithm converges to local optima. To find a better local optima, we will restart the algorithm multiple times from different (random) starting positions. Each training trial should stop either when maximum number of iterations is reached or when relative improvement is smaller than given tolerance ($|\\frac{\\mathcal{L}_i-\\mathcal{L}_{i-1}}{\\mathcal{L}_{i-1}}| \\le \\text{rtol}$).\n",
        "\n",
        "Remember, that initial (random) values of $\\pi$ that you generate must be non-negative and sum up to 1. Also, $\\Sigma$ matrices must be symmetric and positive semi-definite. If you don't know how to generate those matrices, you can use $\\Sigma=I$ as initialization.\n",
        "\n",
        "You will also sometimes get numerical errors because of component collapsing. The easiest way to deal with this problems is to restart the procedure.\n",
        "\n",
        "<b>Task 4:</b> Implement training procedure"
      ]
    },
    {
      "cell_type": "code",
      "metadata": {
        "id": "Q1AAcyl0BEEW"
      },
      "source": [
        "def train_EM(X, C, rtol = 1e-3, max_iter = 100, restarts = 10):\n",
        "    '''\n",
        "    Starts with random initialization *restarts* times\n",
        "    Runs optimization until saturation with *rtol* reached\n",
        "    or *max_iter* iterations were made.\n",
        "    \n",
        "    X: (N, d), data points\n",
        "    C: int, number of clusters\n",
        "    '''\n",
        "    N = X.shape[0] # number of objects\n",
        "    d = X.shape[1] # dimension of each object\n",
        "    best_loss = -np.inf\n",
        "    best_pi = None\n",
        "    best_mu = None\n",
        "    best_sigma = None\n",
        "\n",
        "    mu = np.zeros((C, d))\n",
        "    for _ in range(restarts):\n",
        "        try:\n",
        "            ### YOUR CODE HERE\n",
        "            pi = np.array([1.0 / C] * C)\n",
        "            sigma = np.array([np.eye(d)] * C)\n",
        "            mu = np.random.rand(C, d)\n",
        "            prev_loss = None\n",
        "            for i in range(max_iter):\n",
        "                gamma = E_step(X, pi, mu, sigma)\n",
        "                pi, mu, sigma = M_step(X, gamma)\n",
        "                pi = pi / np.sum(pi)\n",
        "                loss = compute_vlb(X, pi, mu, sigma, gamma)\n",
        "                if not math.isnan(loss) and loss > best_loss:\n",
        "                    best_loss = loss\n",
        "                    best_mu = mu\n",
        "                    best_pi = pi\n",
        "                    best_sigma = sigma\n",
        "                print(\"Iteration {}, loss: {}\".format(i, loss))\n",
        "                if prev_loss is not None:\n",
        "                    diff = np.abs((loss - prev_loss) / (prev_loss + 1e-12))\n",
        "                    if diff < rtol:\n",
        "                        break\n",
        "                prev_loss = loss\n",
        "        except np.linalg.LinAlgError:\n",
        "            print(\"Singular matrix: components collapsed\")\n",
        "            pass\n",
        "\n",
        "    return best_loss, best_pi, best_mu, best_sigma"
      ],
      "execution_count": 29,
      "outputs": []
    },
    {
      "cell_type": "code",
      "metadata": {
        "id": "0f8A5sbmBEEZ",
        "outputId": "57a20e0b-c23a-479c-ef7f-ccac8abdc4b8",
        "colab": {
          "base_uri": "https://localhost:8080/",
          "height": 1000
        }
      },
      "source": [
        "best_loss, best_pi, best_mu, best_sigma = train_EM(X, 3)\n",
        "grader.submit_EM(best_loss)"
      ],
      "execution_count": 30,
      "outputs": [
        {
          "output_type": "stream",
          "text": [
            "Iteration 0, loss: -1221.185310403792\n",
            "Iteration 1, loss: -1206.6451567737936\n",
            "Iteration 2, loss: -1192.4319691996586\n",
            "Iteration 3, loss: -1174.8946689358854\n",
            "Iteration 4, loss: -1162.6129071404425\n",
            "Iteration 5, loss: -1157.5810509943342\n",
            "Iteration 6, loss: -1155.2578593916687\n",
            "Iteration 7, loss: -1153.2253832864635\n",
            "Iteration 8, loss: -1150.807391767889\n",
            "Iteration 9, loss: -1147.8408725903616\n",
            "Iteration 10, loss: -1144.3215330077849\n",
            "Iteration 11, loss: -1140.2788757875162\n",
            "Iteration 12, loss: -1135.6716053883436\n",
            "Iteration 13, loss: -1130.3864036717723\n",
            "Iteration 14, loss: -1124.5297809087383\n",
            "Iteration 15, loss: -1118.6873849188892\n",
            "Iteration 16, loss: -1113.4802627543227\n",
            "Iteration 17, loss: -1109.1802651761366\n",
            "Iteration 18, loss: -1105.8783523455975\n",
            "Iteration 19, loss: -1103.5093613619385\n",
            "Iteration 20, loss: -1101.8260706641609\n",
            "Iteration 21, loss: -1100.5387062170187\n",
            "Iteration 22, loss: -1099.429578387078\n",
            "Iteration 23, loss: -1098.3550105643922\n",
            "Iteration 0, loss: -1225.82680341651\n",
            "Iteration 1, loss: -1200.005414761667\n",
            "Iteration 2, loss: -1174.5554683532662\n",
            "Iteration 3, loss: -1163.2403908463975\n",
            "Iteration 4, loss: -1153.7828358138354\n",
            "Iteration 5, loss: -1138.504606803402\n",
            "Iteration 6, loss: -1115.7396046696197\n",
            "Iteration 7, loss: -1095.924420201877\n",
            "Iteration 8, loss: -1085.973473484796\n",
            "Iteration 9, loss: -1080.3739926730539\n",
            "Iteration 10, loss: -1076.1296553325653\n",
            "Iteration 11, loss: -1072.1338775594788\n",
            "Iteration 12, loss: -1068.945141616969\n",
            "Iteration 13, loss: -1066.862383490129\n",
            "Iteration 14, loss: -1065.7331224251477\n",
            "Iteration 15, loss: -1064.9482771172816\n",
            "Iteration 0, loss: -1222.0677800652647\n",
            "Iteration 1, loss: -1199.2333877786464\n",
            "Iteration 2, loss: -1184.7309173650747\n",
            "Iteration 3, loss: -1170.3801259754869\n",
            "Iteration 4, loss: -1150.7961383949312\n",
            "Iteration 5, loss: -1133.6806861513908\n",
            "Iteration 6, loss: -1123.3992151547723\n",
            "Iteration 7, loss: -1116.6854052553347\n",
            "Iteration 8, loss: -1111.568163892308\n",
            "Iteration 9, loss: -1107.3831863047606\n",
            "Iteration 10, loss: -1104.0178072670963\n",
            "Iteration 11, loss: -1101.4857998121402\n",
            "Iteration 12, loss: -1099.6275778409172\n",
            "Iteration 13, loss: -1098.133948802335\n",
            "Iteration 14, loss: -1096.7143072140807\n",
            "Iteration 15, loss: -1095.1540482149308\n",
            "Iteration 16, loss: -1093.2666021144323\n",
            "Iteration 17, loss: -1090.7611097131655\n",
            "Iteration 18, loss: -1087.199204460124\n",
            "Iteration 19, loss: -1082.6342960118463\n",
            "Iteration 20, loss: -1077.330214660724\n",
            "Iteration 21, loss: -1069.293122340558\n",
            "Iteration 22, loss: -1064.385258962322\n",
            "Iteration 23, loss: -1063.9539792747642\n",
            "Iteration 0, loss: -1229.7434541078278\n",
            "Iteration 1, loss: -1209.2352301148514\n",
            "Iteration 2, loss: -1184.4428393613307\n",
            "Iteration 3, loss: -1163.68752856079\n",
            "Iteration 4, loss: -1143.763166968918\n",
            "Iteration 5, loss: -1130.4438307915739\n",
            "Iteration 6, loss: -1122.3076727351504\n",
            "Iteration 7, loss: -1116.4929031389863\n",
            "Iteration 8, loss: -1111.717258455469\n",
            "Iteration 9, loss: -1107.574307302146\n",
            "Iteration 10, loss: -1104.1133629837063\n",
            "Iteration 11, loss: -1101.45352037321\n",
            "Iteration 12, loss: -1099.4871051681575\n",
            "Iteration 13, loss: -1097.9073245876368\n",
            "Iteration 14, loss: -1096.4036332167636\n",
            "Iteration 15, loss: -1094.740475039441\n",
            "Iteration 16, loss: -1092.6995920813872\n",
            "Iteration 17, loss: -1089.9269196804048\n",
            "Iteration 18, loss: -1086.011494376378\n",
            "Iteration 19, loss: -1081.2390763060696\n",
            "Iteration 20, loss: -1075.3767679095492\n",
            "Iteration 21, loss: -1066.849572735181\n",
            "Iteration 22, loss: -1064.1624863173774\n",
            "Iteration 23, loss: -1063.9100257470784\n",
            "Iteration 0, loss: -1226.7604852843392\n",
            "Iteration 1, loss: -1213.3158416713577\n",
            "Iteration 2, loss: -1195.2259446648377\n",
            "Iteration 3, loss: -1178.4505740926115\n",
            "Iteration 4, loss: -1165.9278164654895\n",
            "Iteration 5, loss: -1158.507106382832\n",
            "Iteration 6, loss: -1154.4852406831953\n",
            "Iteration 7, loss: -1151.4318732089014\n",
            "Iteration 8, loss: -1148.1658049603884\n",
            "Iteration 9, loss: -1144.316019492071\n",
            "Iteration 10, loss: -1139.790321166882\n",
            "Iteration 11, loss: -1134.5609873320907\n",
            "Iteration 12, loss: -1128.6843819970545\n",
            "Iteration 13, loss: -1122.5449835120237\n",
            "Iteration 14, loss: -1116.7929201172328\n",
            "Iteration 15, loss: -1111.860621586524\n",
            "Iteration 16, loss: -1107.9155413393112\n",
            "Iteration 17, loss: -1104.991093188171\n",
            "Iteration 18, loss: -1102.928528757572\n",
            "Iteration 19, loss: -1101.4341200718611\n",
            "Iteration 20, loss: -1100.2404618163462\n",
            "Iteration 21, loss: -1099.1665774923838\n",
            "Iteration 0, loss: -1234.2413794302956\n",
            "Iteration 1, loss: -1231.3197668578778\n",
            "Iteration 2, loss: -1223.8719943606989\n",
            "Iteration 3, loss: -1211.3110963755987\n",
            "Iteration 4, loss: -1191.0585148911605\n",
            "Iteration 5, loss: -1167.3081559091565\n",
            "Iteration 6, loss: -1149.0133965037846\n",
            "Iteration 7, loss: -1139.2075027038593\n",
            "Iteration 8, loss: -1132.7105841084149\n",
            "Iteration 9, loss: -1126.6576494526596\n",
            "Iteration 10, loss: -1120.7241486249782\n",
            "Iteration 11, loss: -1115.31389852196\n",
            "Iteration 12, loss: -1110.684485466081\n",
            "Iteration 13, loss: -1106.9171537868172\n",
            "Iteration 14, loss: -1104.0618002260803\n",
            "Iteration 15, loss: -1102.0178130179356\n",
            "Iteration 16, loss: -1100.52345004153\n",
            "Iteration 17, loss: -1099.3058448232182\n",
            "Iteration 18, loss: -1098.1645754856527\n",
            "Iteration 19, loss: -1096.9593137593909\n",
            "Iteration 20, loss: -1095.5776472785426\n",
            "Iteration 21, loss: -1093.9022959476004\n",
            "Iteration 22, loss: -1091.731215904934\n",
            "Iteration 23, loss: -1088.6755335850419\n",
            "Iteration 24, loss: -1084.5254462513726\n",
            "Iteration 25, loss: -1079.7388285206036\n",
            "Iteration 26, loss: -1073.197358559902\n",
            "Iteration 27, loss: -1065.3459748230757\n",
            "Iteration 28, loss: -1064.0570425477133\n",
            "Iteration 29, loss: -1063.8840832964647\n",
            "Iteration 0, loss: -1229.65087710346\n",
            "Iteration 1, loss: -1208.2578922099165\n",
            "Iteration 2, loss: -1169.5562817522696\n",
            "Iteration 3, loss: -1146.7241144580112\n",
            "Iteration 4, loss: -1131.5464203302931\n",
            "Iteration 5, loss: -1117.5249192280635\n",
            "Iteration 6, loss: -1101.1374006222914\n",
            "Iteration 7, loss: -1084.1027914488127\n",
            "Iteration 8, loss: -1074.323971061424\n",
            "Iteration 9, loss: -1070.5727047570629\n",
            "Iteration 10, loss: -1068.6174193015977\n",
            "Iteration 11, loss: -1067.3021336040783\n",
            "Iteration 12, loss: -1066.2765938655566\n",
            "Iteration 0, loss: -1217.7617056776728\n",
            "Iteration 1, loss: -1186.2355899026547\n",
            "Iteration 2, loss: -1166.1949268184287\n",
            "Iteration 3, loss: -1147.862306684643\n",
            "Iteration 4, loss: -1131.1650086093646\n",
            "Iteration 5, loss: -1118.8160865361083\n",
            "Iteration 6, loss: -1109.9740008493545\n",
            "Iteration 7, loss: -1102.7620463775295\n",
            "Iteration 8, loss: -1096.965318102088\n",
            "Iteration 9, loss: -1092.5712730361947\n",
            "Iteration 10, loss: -1088.9174052320473\n",
            "Iteration 11, loss: -1085.600196232076\n",
            "Iteration 12, loss: -1082.6593685162136\n",
            "Iteration 13, loss: -1079.3092850171895\n",
            "Iteration 14, loss: -1073.9832337482414\n",
            "Iteration 15, loss: -1066.5379473293983\n",
            "Iteration 16, loss: -1064.3793847727784\n",
            "Iteration 17, loss: -1064.0129384467314\n",
            "Iteration 0, loss: -1216.406784173429\n",
            "Iteration 1, loss: -1183.086637823437\n",
            "Iteration 2, loss: -1166.9045487601388\n",
            "Iteration 3, loss: -1158.8535939904805\n",
            "Iteration 4, loss: -1150.0038928853064\n",
            "Iteration 5, loss: -1136.1803100677912\n",
            "Iteration 6, loss: -1117.030198597354\n",
            "Iteration 7, loss: -1097.862336670935\n",
            "Iteration 8, loss: -1085.377583416041\n",
            "Iteration 9, loss: -1078.4551571659376\n",
            "Iteration 10, loss: -1073.5405707925704\n",
            "Iteration 11, loss: -1070.176020736018\n",
            "Iteration 12, loss: -1067.8357029834185\n",
            "Iteration 13, loss: -1066.4308221793606\n",
            "Iteration 14, loss: -1065.486441848765\n",
            "Iteration 0, loss: -1223.9680158609808\n",
            "Iteration 1, loss: -1205.4246516712356\n",
            "Iteration 2, loss: -1194.4690334758593\n",
            "Iteration 3, loss: -1186.911867546288\n",
            "Iteration 4, loss: -1179.5475578578546\n",
            "Iteration 5, loss: -1171.1926195139347\n",
            "Iteration 6, loss: -1162.645702575392\n",
            "Iteration 7, loss: -1156.978592521675\n",
            "Iteration 8, loss: -1154.3156695623538\n",
            "Iteration 9, loss: -1152.5717794487512\n",
            "Iteration 10, loss: -1150.933207152372\n",
            "Iteration 11, loss: -1149.1592625239155\n",
            "Iteration 12, loss: -1147.0105269638677\n",
            "Iteration 13, loss: -1143.9861583637028\n",
            "Iteration 14, loss: -1139.0297921271401\n",
            "Iteration 15, loss: -1130.5668681930351\n",
            "Iteration 16, loss: -1119.1664385455913\n",
            "Iteration 17, loss: -1109.8805793743359\n",
            "Iteration 18, loss: -1104.6074628648637\n",
            "Iteration 19, loss: -1101.8508720978075\n",
            "Iteration 20, loss: -1100.2236819508494\n",
            "Iteration 21, loss: -1098.9787082415753\n",
            "Iteration 22, loss: -1097.7983642679008\n",
            "Iteration 23, loss: -1096.5206973955999\n",
            "Iteration 24, loss: -1095.0235301652294\n",
            "Iteration 25, loss: -1093.1625078729758\n",
            "Iteration 26, loss: -1090.6577285588583\n",
            "Iteration 27, loss: -1087.08185031123\n",
            "Iteration 28, loss: -1082.515285074619\n",
            "Iteration 29, loss: -1077.1773905882806\n",
            "Iteration 30, loss: -1069.0645613925794\n",
            "Iteration 31, loss: -1064.3584232281248\n",
            "Iteration 32, loss: -1063.9490546184581\n",
            "Current answer for task Task 4 (EM) is: -1063.8840832964647\n"
          ],
          "name": "stdout"
        }
      ]
    },
    {
      "cell_type": "markdown",
      "metadata": {
        "id": "tYd6tPHKBEEd"
      },
      "source": [
        "If you implemented all the steps correctly, your algorithm should converge in about 20 iterations. Let's plot the clusters to see it. We will assign a cluster label as the most probable cluster index. This can be found using a matrix $\\gamma$ computed on last E-step. "
      ]
    },
    {
      "cell_type": "code",
      "metadata": {
        "id": "mK_M6QLnBEEe",
        "outputId": "59098cba-7eb1-4c6e-da5c-8fb4d3413344",
        "colab": {
          "base_uri": "https://localhost:8080/",
          "height": 265
        }
      },
      "source": [
        "gamma = E_step(X, best_pi, best_mu, best_sigma)\n",
        "labels = gamma.argmax(axis=1)\n",
        "colors = np.array([(31, 119, 180), (255, 127, 14), (44, 160, 44)]) / 255.\n",
        "plt.scatter(X[:, 0], X[:, 1], c=colors[labels], s=30)\n",
        "plt.axis('equal')\n",
        "plt.show()"
      ],
      "execution_count": 31,
      "outputs": [
        {
          "output_type": "display_data",
          "data": {
            "image/png": "[encoded data removed]",
            "text/plain": [
              "<Figure size 432x288 with 1 Axes>"
            ]
          },
          "metadata": {
            "tags": [],
            "needs_background": "light"
          }
        }
      ]
    },
    {
      "cell_type": "markdown",
      "metadata": {
        "id": "h4lnjrc7BEEl"
      },
      "source": [
        "# Authorization & Submission\n",
        "To submit assignment parts to Cousera platform, please, enter your e-mail and token into variables below. You can generate a token on this programming assignment's page. <b>Note:</b> The token expires 30 minutes after generation."
      ]
    },
    {
      "cell_type": "code",
      "metadata": {
        "id": "5uQRl29_BEEl",
        "outputId": "f6853e88-283d-485b-e094-cc7414fa50e0",
        "colab": {
          "base_uri": "https://localhost:8080/",
          "height": 139
        }
      },
      "source": [
        "STUDENT_EMAIL = 'chernyavskij.as@phystech.edu'\n",
        "STUDENT_TOKEN = 'iyWFsmZqnQW3vnpH'\n",
        "grader.status()"
      ],
      "execution_count": 33,
      "outputs": [
        {
          "output_type": "stream",
          "text": [
            "You want to submit these numbers:\n",
            "Task Task 1 (E-step): 0.5337178741081263\n",
            "Task Task 2 (M-step: mu): 2.899391882050384\n",
            "Task Task 2 (M-step: sigma): 5.9771052168975265\n",
            "Task Task 2 (M-step: pi): 0.5507624459218775\n",
            "Task Task 3 (VLB): -1213.9734643058089\n",
            "Task Task 4 (EM): -1063.8840832964647\n"
          ],
          "name": "stdout"
        }
      ]
    },
    {
      "cell_type": "markdown",
      "metadata": {
        "id": "sNCsqNOiBEEn"
      },
      "source": [
        "If you want to submit these answers, run cell below"
      ]
    },
    {
      "cell_type": "code",
      "metadata": {
        "id": "3sc9imWNBEEo",
        "outputId": "459eb34a-d242-4f80-ae89-09483de6872e",
        "colab": {
          "base_uri": "https://localhost:8080/",
          "height": 34
        }
      },
      "source": [
        "grader.submit(STUDENT_EMAIL, STUDENT_TOKEN)"
      ],
      "execution_count": 34,
      "outputs": [
        {
          "output_type": "stream",
          "text": [
            "Submitted to Coursera platform. See results on assignment page!\n"
          ],
          "name": "stdout"
        }
      ]
    },
    {
      "cell_type": "code",
      "metadata": {
        "id": "_j9hJcJsvpR5"
      },
      "source": [
        ""
      ],
      "execution_count": null,
      "outputs": []
    }
  ]
}