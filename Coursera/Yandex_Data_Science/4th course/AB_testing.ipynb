{
 "cells": [
  {
   "cell_type": "code",
   "execution_count": 1,
   "metadata": {},
   "outputs": [
    {
     "name": "stdout",
     "output_type": "stream",
     "text": [
      "Populating the interactive namespace from numpy and matplotlib\n"
     ]
    }
   ],
   "source": [
    "import warnings\n",
    "warnings.filterwarnings('ignore')\n",
    "from scipy import stats\n",
    "import pandas as pd\n",
    "import numpy as np\n",
    "import matplotlib.pyplot as plt\n",
    "import statsmodels.formula.api as smf\n",
    "import statsmodels.stats.multitest as smm\n",
    "from statsmodels.sandbox.stats.multicomp import multipletests \n",
    "%pylab inline"
   ]
  },
  {
   "cell_type": "markdown",
   "metadata": {},
   "source": [
    "**Задание:**\n",
    "*    проанализировать АБ тест, проведённый на реальных пользователях Яндекса;\n",
    "*    подтвердить или опровергнуть наличие изменений в пользовательском поведении между контрольной (control) и тестовой (exp) группами;\n",
    "*    определить характер этих изменений и практическую значимость вводимого изменения;\n",
    "*    понять, какая из пользовательских групп более всего проигрывает / выигрывает от тестируемого изменения (локализовать изменение).\n",
    "\n",
    "Описание данных:\n",
    "\n",
    "*    userID: уникальный идентификатор пользователя\n",
    "*    browser: браузер, который использовал userID\n",
    "*    slot: в каком статусе пользователь участвовал в исследовании (exp = видел измененную страницу, control = видел неизменную страницу)\n",
    "*    n_clicks: количество кликов, которые пользоваль совершил за n_queries\n",
    "*    n_queries: количество запросов, который совершил userID, пользуясь браузером browser\n",
    "*    n_nonclk_queries: количество запросов пользователя, в которых им не было совершено ни одного клика\n",
    "\n",
    "Обращаем внимание, что не все люди используют только один браузер, поэтому в столбце userID есть повторяющиеся идентификаторы. В предлагаемых данных уникальным является сочетание userID и browser."
   ]
  },
  {
   "cell_type": "code",
   "execution_count": 2,
   "metadata": {},
   "outputs": [],
   "source": [
    "data = pd.read_csv(\"ab_browser_test.csv\")"
   ]
  },
  {
   "cell_type": "code",
   "execution_count": 3,
   "metadata": {},
   "outputs": [
    {
     "data": {
      "text/html": [
       "<div>\n",
       "<style scoped>\n",
       "    .dataframe tbody tr th:only-of-type {\n",
       "        vertical-align: middle;\n",
       "    }\n",
       "\n",
       "    .dataframe tbody tr th {\n",
       "        vertical-align: top;\n",
       "    }\n",
       "\n",
       "    .dataframe thead th {\n",
       "        text-align: right;\n",
       "    }\n",
       "</style>\n",
       "<table border=\"1\" class=\"dataframe\">\n",
       "  <thead>\n",
       "    <tr style=\"text-align: right;\">\n",
       "      <th></th>\n",
       "      <th>userID</th>\n",
       "      <th>n_clicks</th>\n",
       "      <th>n_queries</th>\n",
       "      <th>n_nonclk_queries</th>\n",
       "    </tr>\n",
       "  </thead>\n",
       "  <tbody>\n",
       "    <tr>\n",
       "      <td>count</td>\n",
       "      <td>566134.000000</td>\n",
       "      <td>566134.000000</td>\n",
       "      <td>566134.000000</td>\n",
       "      <td>566134.000000</td>\n",
       "    </tr>\n",
       "    <tr>\n",
       "      <td>mean</td>\n",
       "      <td>301377.214027</td>\n",
       "      <td>11.431658</td>\n",
       "      <td>10.720524</td>\n",
       "      <td>4.703987</td>\n",
       "    </tr>\n",
       "    <tr>\n",
       "      <td>std</td>\n",
       "      <td>175526.333101</td>\n",
       "      <td>20.251494</td>\n",
       "      <td>16.262827</td>\n",
       "      <td>8.109958</td>\n",
       "    </tr>\n",
       "    <tr>\n",
       "      <td>min</td>\n",
       "      <td>1.000000</td>\n",
       "      <td>0.000000</td>\n",
       "      <td>1.000000</td>\n",
       "      <td>0.000000</td>\n",
       "    </tr>\n",
       "    <tr>\n",
       "      <td>25%</td>\n",
       "      <td>148627.250000</td>\n",
       "      <td>1.000000</td>\n",
       "      <td>2.000000</td>\n",
       "      <td>1.000000</td>\n",
       "    </tr>\n",
       "    <tr>\n",
       "      <td>50%</td>\n",
       "      <td>299362.500000</td>\n",
       "      <td>4.000000</td>\n",
       "      <td>5.000000</td>\n",
       "      <td>2.000000</td>\n",
       "    </tr>\n",
       "    <tr>\n",
       "      <td>75%</td>\n",
       "      <td>455698.750000</td>\n",
       "      <td>13.000000</td>\n",
       "      <td>13.000000</td>\n",
       "      <td>6.000000</td>\n",
       "    </tr>\n",
       "    <tr>\n",
       "      <td>max</td>\n",
       "      <td>603137.000000</td>\n",
       "      <td>863.000000</td>\n",
       "      <td>665.000000</td>\n",
       "      <td>581.000000</td>\n",
       "    </tr>\n",
       "  </tbody>\n",
       "</table>\n",
       "</div>"
      ],
      "text/plain": [
       "              userID       n_clicks      n_queries  n_nonclk_queries\n",
       "count  566134.000000  566134.000000  566134.000000     566134.000000\n",
       "mean   301377.214027      11.431658      10.720524          4.703987\n",
       "std    175526.333101      20.251494      16.262827          8.109958\n",
       "min         1.000000       0.000000       1.000000          0.000000\n",
       "25%    148627.250000       1.000000       2.000000          1.000000\n",
       "50%    299362.500000       4.000000       5.000000          2.000000\n",
       "75%    455698.750000      13.000000      13.000000          6.000000\n",
       "max    603137.000000     863.000000     665.000000        581.000000"
      ]
     },
     "execution_count": 3,
     "metadata": {},
     "output_type": "execute_result"
    }
   ],
   "source": [
    "data.describe()"
   ]
  },
  {
   "cell_type": "code",
   "execution_count": 4,
   "metadata": {},
   "outputs": [
    {
     "data": {
      "text/html": [
       "<div>\n",
       "<style scoped>\n",
       "    .dataframe tbody tr th:only-of-type {\n",
       "        vertical-align: middle;\n",
       "    }\n",
       "\n",
       "    .dataframe tbody tr th {\n",
       "        vertical-align: top;\n",
       "    }\n",
       "\n",
       "    .dataframe thead th {\n",
       "        text-align: right;\n",
       "    }\n",
       "</style>\n",
       "<table border=\"1\" class=\"dataframe\">\n",
       "  <thead>\n",
       "    <tr style=\"text-align: right;\">\n",
       "      <th></th>\n",
       "      <th>userID</th>\n",
       "      <th>browser</th>\n",
       "      <th>slot</th>\n",
       "      <th>n_clicks</th>\n",
       "      <th>n_queries</th>\n",
       "      <th>n_nonclk_queries</th>\n",
       "    </tr>\n",
       "  </thead>\n",
       "  <tbody>\n",
       "    <tr>\n",
       "      <td>0</td>\n",
       "      <td>1</td>\n",
       "      <td>Browser #2</td>\n",
       "      <td>exp</td>\n",
       "      <td>23</td>\n",
       "      <td>32</td>\n",
       "      <td>19</td>\n",
       "    </tr>\n",
       "    <tr>\n",
       "      <td>1</td>\n",
       "      <td>3</td>\n",
       "      <td>Browser #4</td>\n",
       "      <td>exp</td>\n",
       "      <td>3</td>\n",
       "      <td>4</td>\n",
       "      <td>2</td>\n",
       "    </tr>\n",
       "    <tr>\n",
       "      <td>2</td>\n",
       "      <td>5</td>\n",
       "      <td>Browser #4</td>\n",
       "      <td>exp</td>\n",
       "      <td>29</td>\n",
       "      <td>35</td>\n",
       "      <td>16</td>\n",
       "    </tr>\n",
       "    <tr>\n",
       "      <td>3</td>\n",
       "      <td>6</td>\n",
       "      <td>Browser #4</td>\n",
       "      <td>control</td>\n",
       "      <td>12</td>\n",
       "      <td>6</td>\n",
       "      <td>0</td>\n",
       "    </tr>\n",
       "    <tr>\n",
       "      <td>4</td>\n",
       "      <td>7</td>\n",
       "      <td>Browser #4</td>\n",
       "      <td>exp</td>\n",
       "      <td>54</td>\n",
       "      <td>68</td>\n",
       "      <td>30</td>\n",
       "    </tr>\n",
       "  </tbody>\n",
       "</table>\n",
       "</div>"
      ],
      "text/plain": [
       "   userID     browser     slot  n_clicks  n_queries  n_nonclk_queries\n",
       "0       1  Browser #2      exp        23         32                19\n",
       "1       3  Browser #4      exp         3          4                 2\n",
       "2       5  Browser #4      exp        29         35                16\n",
       "3       6  Browser #4  control        12          6                 0\n",
       "4       7  Browser #4      exp        54         68                30"
      ]
     },
     "execution_count": 4,
     "metadata": {},
     "output_type": "execute_result"
    }
   ],
   "source": [
    "data.head()"
   ]
  },
  {
   "cell_type": "code",
   "execution_count": 5,
   "metadata": {},
   "outputs": [],
   "source": [
    "control = data.loc[data.slot == 'control']\n",
    "_exp = data.loc[data.slot == 'exp']"
   ]
  },
  {
   "cell_type": "code",
   "execution_count": 7,
   "metadata": {},
   "outputs": [
    {
     "name": "stdout",
     "output_type": "stream",
     "text": [
      "На сколько процентов кликов было больше в тестовой группе, чем в контрольной: 1.614000 %\n",
      "\n",
      "Mean number of clicks in each group\n",
      "Exp: 11.5840\n",
      "Control: 11.2809\n",
      "Median number of clicks in each group\n",
      "Exp: 5\n",
      "Control: 4\n"
     ]
    }
   ],
   "source": [
    "print(\"На сколько процентов кликов было больше в тестовой группе, чем в контрольной: %f %%\" %\n",
    "      round(100 * (sum(_exp.n_clicks.values) / sum(control.n_clicks.values) - 1), 3))\n",
    "\n",
    "print('\\nMean number of clicks in each group')\n",
    "print('Exp: %.4f' % _exp.n_clicks.mean())\n",
    "print('Control: %.4f' % control.n_clicks.mean())\n",
    "\n",
    "print('Median number of clicks in each group')\n",
    "print('Exp: %d' % _exp.n_clicks.median())\n",
    "print('Control: %d' % control.n_clicks.median())"
   ]
  },
  {
   "cell_type": "code",
   "execution_count": 38,
   "metadata": {},
   "outputs": [],
   "source": [
    "def get_bootstrap_samples(data, n_samples):\n",
    "    indices = np.random.randint(0, len(data), (n_samples, len(data)))\n",
    "    samples = data[indices]\n",
    "    return samples\n",
    "\n",
    "def stat_intervals(stat, alpha):\n",
    "    boundaries = np.percentile(stat, [100 * alpha / 2., 100 * (1 - alpha / 2.)])\n",
    "    return boundaries\n",
    "\n",
    "np.random.seed(0)\n",
    "\n",
    "_exp_median_scores = list(map(np.median, get_bootstrap_samples(_exp.n_clicks.values, 500)))\n",
    "_control_median_scores = list(map(np.median, get_bootstrap_samples(control.n_clicks.values, 500)))\n",
    "\n",
    "_exp_mean_scores = list(map(np.mean, get_bootstrap_samples(_exp.n_clicks.values, 500)))\n",
    "control_mean_scores = list(map(np.mean, get_bootstrap_samples(control.n_clicks.values, 500)))\n"
   ]
  },
  {
   "cell_type": "code",
   "execution_count": 39,
   "metadata": {},
   "outputs": [
    {
     "name": "stdout",
     "output_type": "stream",
     "text": [
      "95% confidence interval for the difference between means [-0.40031281 -0.18858095]\n",
      "95% confidence interval for the difference between medians [-1. -1.]\n"
     ]
    }
   ],
   "source": [
    "delta_median_scores = list(map(lambda x: x[1] - x[0], zip(_exp_median_scores, control_median_scores)))\n",
    "delta_mean_scores = list(map(lambda x: x[1] - x[0], zip(_exp_mean_scores, control_mean_scores)))\n",
    "\n",
    "print(\"95% confidence interval for the difference between means\",  stat_intervals(delta_mean_scores, 0.05))\n",
    "print(\"95% confidence interval for the difference between medians\",  stat_intervals(delta_median_scores, 0.05))"
   ]
  },
  {
   "cell_type": "code",
   "execution_count": 40,
   "metadata": {},
   "outputs": [
    {
     "data": {
      "image/png": "[encoded data removed]",
      "text/plain": [
       "<Figure size 1080x504 with 2 Axes>"
      ]
     },
     "metadata": {
      "needs_background": "light"
     },
     "output_type": "display_data"
    }
   ],
   "source": [
    "def make_hist(x, y, bins = 15):\n",
    "    plt.figure(1, figsize = (15,7))\n",
    "\n",
    "    plt.subplot(1, 2, 1)\n",
    "    plt.title('control n_clicks')\n",
    "    plt.hist(x, edgecolor = 'k', color = 'r', bins = bins)\n",
    "\n",
    "    plt.subplot(1, 2, 2)\n",
    "    plt.title('exp n_clicks')\n",
    "    plt.hist(y, edgecolor = 'k', bins = bins)\n",
    "    plt.show()\n",
    "make_hist(control.n_clicks, _exp.n_clicks)\n",
    "#pylab.scatter(exp.userID, _exp.n_clicks)\n",
    "#распределение не похоже на нормальное даже близко: никаких критериев Стьюдента и вообще параметрических критериев"
   ]
  },
  {
   "cell_type": "code",
   "execution_count": 41,
   "metadata": {},
   "outputs": [],
   "source": [
    "np.random.seed(0)\n",
    "\n",
    "n_boot_samples = 500\n",
    "control_mean_scores = get_bootstrap_samples(control.n_clicks.values, n_boot_samples)\n",
    "means = control_mean_scores.mean(axis = 1)\n",
    "delta = control_mean_scores - means[: , np.newaxis]\n",
    "control_boot_chi_squared = sum(delta * delta, axis = 1)"
   ]
  },
  {
   "cell_type": "code",
   "execution_count": 42,
   "metadata": {},
   "outputs": [
    {
     "data": {
      "image/png": "[encoded data removed]",
      "text/plain": [
       "<Figure size 432x288 with 1 Axes>"
      ]
     },
     "metadata": {
      "needs_background": "light"
     },
     "output_type": "display_data"
    }
   ],
   "source": [
    "r = stats.probplot(means, plot = pylab, rvalue=True)\n",
    "pylab.show()"
   ]
  },
  {
   "cell_type": "code",
   "execution_count": 43,
   "metadata": {},
   "outputs": [
    {
     "data": {
      "image/png": "[encoded data removed]",
      "text/plain": [
       "<Figure size 432x288 with 1 Axes>"
      ]
     },
     "metadata": {
      "needs_background": "light"
     },
     "output_type": "display_data"
    }
   ],
   "source": [
    "r = stats.probplot(control_boot_chi_squared, dist = 'chi2', sparams = (len(control_boot_chi_squared) - 1), \n",
    "               plot = pylab, rvalue=True)"
   ]
  },
  {
   "cell_type": "code",
   "execution_count": 44,
   "metadata": {},
   "outputs": [
    {
     "data": {
      "text/plain": [
       "MannwhitneyuResult(statistic=41184125116.0, pvalue=6.247235801369629e-75)"
      ]
     },
     "execution_count": 44,
     "metadata": {},
     "output_type": "execute_result"
    }
   ],
   "source": [
    "stats.mannwhitneyu(_exp.n_clicks.values, control.n_clicks.values, alternative = 'two-sided')"
   ]
  },
  {
   "cell_type": "code",
   "execution_count": 45,
   "metadata": {},
   "outputs": [],
   "source": [
    "browsers_nclicks_exp = data.loc[_exp.index].groupby(['browser', 'userID']).sum().loc[:,'n_clicks']\n",
    "browsers_nclicks_ctrl = data.loc[control.index].groupby(['browser', 'userID']).sum().loc[:,'n_clicks']"
   ]
  },
  {
   "cell_type": "code",
   "execution_count": 60,
   "metadata": {},
   "outputs": [
    {
     "name": "stdout",
     "output_type": "stream",
     "text": [
      "Without multitest: \n",
      "\n",
      "Browser #14 0.0\n",
      "Browser #17 0.03740060143010802\n",
      "Browser #2 0.0272438604197241\n",
      "Browser #20 0.45366656388735377\n",
      "Browser #22 0.2574055152210032\n",
      "Browser #4 0.40760617658454984\n",
      "With multitest: \n",
      "\n",
      "Browser #14 0.0\n",
      "Browser #17 0.14960240572043207\n",
      "Browser #2 0.13621930209862051\n",
      "Browser #20 0.8152123531690997\n",
      "Browser #22 0.7722165456630096\n",
      "Browser #4 0.8152123531690997\n",
      "[True, False, False, False, False, False]\n"
     ]
    }
   ],
   "source": [
    "browsers = np.unique(data.browser)\n",
    "print('Without multitest: \\n')\n",
    "ps = np.empty(browsers.shape[0])\n",
    "for i, browser in enumerate(browsers):\n",
    "    _, ps[i] = stats.mannwhitneyu(browsers_nclicks_exp.loc[browser, :], browsers_nclicks_ctrl.loc[browser, :])\n",
    "    print(browser, ps[i])\n",
    "    \n",
    "print('With multitest: \\n')\n",
    "_, p_corr, _, _ = multipletests(ps, alpha = 0.05, method = 'holm')\n",
    "for i, browser in enumerate(browsers):\n",
    "    print(browser, p_corr[i])\n",
    "x = 0\n",
    "print([x < 0.05 for x in p_corr])"
   ]
  },
  {
   "cell_type": "markdown",
   "metadata": {},
   "source": [
    "Для каждого браузера в каждой из двух групп (control и exp) посчитаем долю запросов, в которых пользователь не кликнул ни разу. Это можно сделать, поделив сумму значений n_nonclk_queries на сумму значений n_queries. Умножив это значение на 100, получим процент некликнутых запросов, который можно легче проинтерпретировать."
   ]
  },
  {
   "cell_type": "code",
   "execution_count": 71,
   "metadata": {},
   "outputs": [
    {
     "name": "stdout",
     "output_type": "stream",
     "text": [
      "Control / experimental groups\n",
      "Browser #14\n",
      "ctrl:  [57.59]\n",
      "exp:  [43.76]\n",
      "\n",
      "\n",
      "Browser #17\n",
      "ctrl:  [36.3]\n",
      "exp:  [36.94]\n",
      "\n",
      "\n",
      "Browser #2\n",
      "ctrl:  [45.96]\n",
      "exp:  [44.98]\n",
      "\n",
      "\n",
      "Browser #20\n",
      "ctrl:  [40.54]\n",
      "exp:  [38.98]\n",
      "\n",
      "\n",
      "Browser #22\n",
      "ctrl:  [40.59]\n",
      "exp:  [39.85]\n",
      "\n",
      "\n",
      "Browser #4\n",
      "ctrl:  [46.97]\n",
      "exp:  [45.14]\n",
      "\n",
      "\n"
     ]
    }
   ],
   "source": [
    "browsers_nonclk_q_exp = data.loc[_exp.index].groupby(['browser']).sum().loc[:,'n_nonclk_queries']\n",
    "browsers_clk_q_exp = data.loc[_exp.index].groupby(['browser']).sum().loc[:,'n_queries']\n",
    "browsers_nonclk_q_prop_exp = round(browsers_nonclk_q_exp / browsers_clk_q_exp * 100, 2)\n",
    "\n",
    "browsers_nonclk_q_ctrl = data.loc[control.index].groupby(['browser']).sum().loc[:,'n_nonclk_queries']\n",
    "browsers_clk_q_ctrl = data.loc[control.index].groupby(['browser']).sum().loc[:,'n_queries']\n",
    "browsers_nonclk_q_prop_ctrl = round(browsers_nonclk_q_ctrl / browsers_clk_q_ctrl * 100, 2)\n",
    "\n",
    "print('Control / experimental groups')\n",
    "for br in browsers:\n",
    "    print(br),\n",
    "    print(\"ctrl: \", browsers_nonclk_q_prop_ctrl.loc[browsers_nonclk_q_prop_ctrl.index == br].values),\n",
    "    print(\"exp: \", browsers_nonclk_q_prop_exp.loc[browsers_nonclk_q_prop_ctrl.index == br].values)\n",
    "    print('\\n')"
   ]
  },
  {
   "cell_type": "code",
   "execution_count": null,
   "metadata": {},
   "outputs": [],
   "source": []
  }
 ],
 "metadata": {
  "kernelspec": {
   "display_name": "Python 3",
   "language": "python",
   "name": "python3"
  },
  "language_info": {
   "codemirror_mode": {
    "name": "ipython",
    "version": 3
   },
   "file_extension": ".py",
   "mimetype": "text/x-python",
   "name": "python",
   "nbconvert_exporter": "python",
   "pygments_lexer": "ipython3",
   "version": "3.7.4"
  }
 },
 "nbformat": 4,
 "nbformat_minor": 2
}
