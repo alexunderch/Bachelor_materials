{
 "cells": [
  {
   "cell_type": "code",
   "execution_count": 29,
   "metadata": {},
   "outputs": [
    {
     "name": "stdout",
     "output_type": "stream",
     "text": [
      "Populating the interactive namespace from numpy and matplotlib\n"
     ]
    }
   ],
   "source": [
    "import warnings\n",
    "warnings.filterwarnings('ignore')\n",
    "from scipy import stats\n",
    "from itertools import combinations\n",
    "import pandas as pd\n",
    "import numpy as np\n",
    "import matplotlib.pyplot as plt\n",
    "import statsmodels.formula.api as smf\n",
    "import statsmodels.stats.multitest as smm\n",
    "from statsmodels.stats.proportion import proportion_confint\n",
    "from statsmodels.sandbox.stats.multicomp import multipletests \n",
    "%pylab inline"
   ]
  },
  {
   "cell_type": "markdown",
   "metadata": {},
   "source": [
    "Измерены следующие признаки:\n",
    "\n",
    "*    state — штат США\n",
    "*    account_length — длительность использования аккаунта\n",
    "*    area_code — деление пользователей на псевдорегионы, использующееся в телекоме\n",
    "*    intl_plan — подключена ли у пользователя услуга международного общения\n",
    "*    vmail_plan — подключена ли у пользователя услуга голосовых сообщений\n",
    "*    vmail_message — количество голосых сообщений, который пользователь отправил / принял\n",
    "*    day_calls — сколько пользователь совершил дневных звонков\n",
    "*    day_mins — сколько пользователь проговорил минут в течение дня\n",
    "*    day_charge — сколько пользователь заплатил за свою дневную активность\n",
    "*    eve_calls, eve_mins, eve_charge — аналогичные метрики относительно вечерней активности\n",
    "*    night_calls, night_mins, night_charge — аналогичные метрики относительно ночной активности\n",
    "*    intl_calls, intl_mins, intl_charge — аналогичные метрики относительно международного общения\n",
    "*   custserv_calls — сколько раз пользователь позвонил в службу поддержки\n",
    "*    treatment — номер стратегии, которая применялись для удержания абонентов (0, 2 = два разных типа воздействия, 1 = контрольная группа)\n",
    "*    mes_estim — оценка интенсивности пользования интернет мессенджерами\n",
    "*    churn — результат оттока: перестал ли абонент пользоваться услугами оператора"
   ]
  },
  {
   "cell_type": "code",
   "execution_count": 2,
   "metadata": {},
   "outputs": [
    {
     "data": {
      "text/html": [
       "<div>\n",
       "<style scoped>\n",
       "    .dataframe tbody tr th:only-of-type {\n",
       "        vertical-align: middle;\n",
       "    }\n",
       "\n",
       "    .dataframe tbody tr th {\n",
       "        vertical-align: top;\n",
       "    }\n",
       "\n",
       "    .dataframe thead th {\n",
       "        text-align: right;\n",
       "    }\n",
       "</style>\n",
       "<table border=\"1\" class=\"dataframe\">\n",
       "  <thead>\n",
       "    <tr style=\"text-align: right;\">\n",
       "      <th></th>\n",
       "      <th>Unnamed: 0</th>\n",
       "      <th>state</th>\n",
       "      <th>account_length</th>\n",
       "      <th>area_code</th>\n",
       "      <th>intl_plan</th>\n",
       "      <th>vmail_plan</th>\n",
       "      <th>vmail_message</th>\n",
       "      <th>day_mins</th>\n",
       "      <th>day_calls</th>\n",
       "      <th>day_charge</th>\n",
       "      <th>...</th>\n",
       "      <th>night_mins</th>\n",
       "      <th>night_calls</th>\n",
       "      <th>night_charge</th>\n",
       "      <th>intl_mins</th>\n",
       "      <th>intl_calls</th>\n",
       "      <th>intl_charge</th>\n",
       "      <th>custserv_calls</th>\n",
       "      <th>treatment</th>\n",
       "      <th>mes_estim</th>\n",
       "      <th>churn</th>\n",
       "    </tr>\n",
       "  </thead>\n",
       "  <tbody>\n",
       "    <tr>\n",
       "      <td>0</td>\n",
       "      <td>0</td>\n",
       "      <td>KS</td>\n",
       "      <td>128</td>\n",
       "      <td>415</td>\n",
       "      <td>no</td>\n",
       "      <td>yes</td>\n",
       "      <td>25</td>\n",
       "      <td>265.1</td>\n",
       "      <td>110</td>\n",
       "      <td>45.07</td>\n",
       "      <td>...</td>\n",
       "      <td>244.7</td>\n",
       "      <td>91</td>\n",
       "      <td>11.01</td>\n",
       "      <td>10.0</td>\n",
       "      <td>3</td>\n",
       "      <td>2.70</td>\n",
       "      <td>1</td>\n",
       "      <td>1</td>\n",
       "      <td>0.65</td>\n",
       "      <td>False.</td>\n",
       "    </tr>\n",
       "    <tr>\n",
       "      <td>1</td>\n",
       "      <td>1</td>\n",
       "      <td>OH</td>\n",
       "      <td>107</td>\n",
       "      <td>415</td>\n",
       "      <td>no</td>\n",
       "      <td>yes</td>\n",
       "      <td>26</td>\n",
       "      <td>161.6</td>\n",
       "      <td>123</td>\n",
       "      <td>27.47</td>\n",
       "      <td>...</td>\n",
       "      <td>254.4</td>\n",
       "      <td>103</td>\n",
       "      <td>11.45</td>\n",
       "      <td>13.7</td>\n",
       "      <td>3</td>\n",
       "      <td>3.70</td>\n",
       "      <td>1</td>\n",
       "      <td>0</td>\n",
       "      <td>0.55</td>\n",
       "      <td>False.</td>\n",
       "    </tr>\n",
       "    <tr>\n",
       "      <td>2</td>\n",
       "      <td>2</td>\n",
       "      <td>NJ</td>\n",
       "      <td>137</td>\n",
       "      <td>415</td>\n",
       "      <td>no</td>\n",
       "      <td>no</td>\n",
       "      <td>0</td>\n",
       "      <td>243.4</td>\n",
       "      <td>114</td>\n",
       "      <td>41.38</td>\n",
       "      <td>...</td>\n",
       "      <td>162.6</td>\n",
       "      <td>104</td>\n",
       "      <td>7.32</td>\n",
       "      <td>12.2</td>\n",
       "      <td>5</td>\n",
       "      <td>3.29</td>\n",
       "      <td>0</td>\n",
       "      <td>0</td>\n",
       "      <td>0.72</td>\n",
       "      <td>False.</td>\n",
       "    </tr>\n",
       "    <tr>\n",
       "      <td>3</td>\n",
       "      <td>3</td>\n",
       "      <td>OH</td>\n",
       "      <td>84</td>\n",
       "      <td>408</td>\n",
       "      <td>yes</td>\n",
       "      <td>no</td>\n",
       "      <td>0</td>\n",
       "      <td>299.4</td>\n",
       "      <td>71</td>\n",
       "      <td>50.90</td>\n",
       "      <td>...</td>\n",
       "      <td>196.9</td>\n",
       "      <td>89</td>\n",
       "      <td>8.86</td>\n",
       "      <td>6.6</td>\n",
       "      <td>7</td>\n",
       "      <td>1.78</td>\n",
       "      <td>2</td>\n",
       "      <td>1</td>\n",
       "      <td>0.28</td>\n",
       "      <td>False.</td>\n",
       "    </tr>\n",
       "    <tr>\n",
       "      <td>4</td>\n",
       "      <td>4</td>\n",
       "      <td>OK</td>\n",
       "      <td>75</td>\n",
       "      <td>415</td>\n",
       "      <td>yes</td>\n",
       "      <td>no</td>\n",
       "      <td>0</td>\n",
       "      <td>166.7</td>\n",
       "      <td>113</td>\n",
       "      <td>28.34</td>\n",
       "      <td>...</td>\n",
       "      <td>186.9</td>\n",
       "      <td>121</td>\n",
       "      <td>8.41</td>\n",
       "      <td>10.1</td>\n",
       "      <td>3</td>\n",
       "      <td>2.73</td>\n",
       "      <td>3</td>\n",
       "      <td>2</td>\n",
       "      <td>0.45</td>\n",
       "      <td>False.</td>\n",
       "    </tr>\n",
       "  </tbody>\n",
       "</table>\n",
       "<p>5 rows × 23 columns</p>\n",
       "</div>"
      ],
      "text/plain": [
       "   Unnamed: 0 state  account_length  area_code intl_plan vmail_plan  \\\n",
       "0           0    KS             128        415        no        yes   \n",
       "1           1    OH             107        415        no        yes   \n",
       "2           2    NJ             137        415        no         no   \n",
       "3           3    OH              84        408       yes         no   \n",
       "4           4    OK              75        415       yes         no   \n",
       "\n",
       "   vmail_message  day_mins  day_calls  day_charge  ...  night_mins  \\\n",
       "0             25     265.1        110       45.07  ...       244.7   \n",
       "1             26     161.6        123       27.47  ...       254.4   \n",
       "2              0     243.4        114       41.38  ...       162.6   \n",
       "3              0     299.4         71       50.90  ...       196.9   \n",
       "4              0     166.7        113       28.34  ...       186.9   \n",
       "\n",
       "   night_calls  night_charge  intl_mins  intl_calls  intl_charge  \\\n",
       "0           91         11.01       10.0           3         2.70   \n",
       "1          103         11.45       13.7           3         3.70   \n",
       "2          104          7.32       12.2           5         3.29   \n",
       "3           89          8.86        6.6           7         1.78   \n",
       "4          121          8.41       10.1           3         2.73   \n",
       "\n",
       "   custserv_calls  treatment  mes_estim   churn  \n",
       "0               1          1       0.65  False.  \n",
       "1               1          0       0.55  False.  \n",
       "2               0          0       0.72  False.  \n",
       "3               2          1       0.28  False.  \n",
       "4               3          2       0.45  False.  \n",
       "\n",
       "[5 rows x 23 columns]"
      ]
     },
     "execution_count": 2,
     "metadata": {},
     "output_type": "execute_result"
    }
   ],
   "source": [
    "data = pd.read_csv(\"churn_analysis.csv\")\n",
    "data.head()"
   ]
  },
  {
   "cell_type": "code",
   "execution_count": 3,
   "metadata": {},
   "outputs": [],
   "source": [
    "data.describe()\n",
    "data.drop('Unnamed: 0', axis = 1, inplace = True)\n",
    "data.churn.loc[data.churn == 'True.'] = True\n",
    "data.churn.loc[data.churn == 'False.'] = False"
   ]
  },
  {
   "cell_type": "markdown",
   "metadata": {},
   "source": [
    "Давайте рассмотрим всех пользователей из контрольной группы (treatment = 1). Для таких пользователей мы хотим проверить гипотезу о том, что штат абонента не влияет на то, перестанет ли абонент пользоваться услугами оператора.\n",
    "\n",
    "Для этого мы воспользуемся критерием хи-квадрат. Постройте таблицы сопряженности между каждой из всех 1275 возможных неупорядоченных пар штатов и значением признака churn. Для каждой такой таблицы 2x2 применить критерий хи-квадрат можно с помощью функции "
   ]
  },
  {
   "cell_type": "code",
   "execution_count": 5,
   "metadata": {},
   "outputs": [],
   "source": [
    "df_states = pd.pivot_table(data.loc[data.treatment == 1], values = 'treatment', \n",
    "                           index = 'state', columns = 'churn', aggfunc = len, fill_value = 0)\n",
    "_values = pd.DataFrame(columns = ['state1', 'state2', 'chi_2_statistics', 'chi_2_corrected', \n",
    "                                      'p_val', 'p_val_corrected', 'fisher_stat'])\n",
    "i = 0\n",
    "for st1, st2 in combinations(df_states.index, 2):\n",
    "        table = df_states.loc[[st1, st2], :]\n",
    "        _values.loc[i, 'state1'] = st1\n",
    "        _values.loc[i, 'state2'] = st2\n",
    "        chi2_stat = stats.chi2_contingency(table.values, correction = False)\n",
    "        chi2_stat_corr = stats.chi2_contingency(table.values, correction = True)\n",
    "        _values.loc[i, 'chi_2_statistics'] = chi2_stat[0]\n",
    "        _values.loc[i, 'p_val'] = chi2_stat[1]\n",
    "        _values.loc[i, 'chi_2_corrected'] = chi2_stat_corr[0]\n",
    "        _values.loc[i, 'p_val_corrected'] = chi2_stat_corr[1]\n",
    "        fisher_stat = stats.fisher_exact(table.values)\n",
    "        _values.loc[i, 'fisher_stat'] = fisher_stat[0]\n",
    "        _values.loc[i, 'p-value_fisher'] = fisher_stat[1]\n",
    "        i += 1"
   ]
  },
  {
   "cell_type": "code",
   "execution_count": 6,
   "metadata": {},
   "outputs": [
    {
     "data": {
      "text/html": [
       "<div>\n",
       "<style scoped>\n",
       "    .dataframe tbody tr th:only-of-type {\n",
       "        vertical-align: middle;\n",
       "    }\n",
       "\n",
       "    .dataframe tbody tr th {\n",
       "        vertical-align: top;\n",
       "    }\n",
       "\n",
       "    .dataframe thead th {\n",
       "        text-align: right;\n",
       "    }\n",
       "</style>\n",
       "<table border=\"1\" class=\"dataframe\">\n",
       "  <thead>\n",
       "    <tr style=\"text-align: right;\">\n",
       "      <th></th>\n",
       "      <th>state1</th>\n",
       "      <th>state2</th>\n",
       "      <th>chi_2_statistics</th>\n",
       "      <th>chi_2_corrected</th>\n",
       "      <th>p_val</th>\n",
       "      <th>p_val_corrected</th>\n",
       "      <th>fisher_stat</th>\n",
       "      <th>p-value_fisher</th>\n",
       "    </tr>\n",
       "  </thead>\n",
       "  <tbody>\n",
       "    <tr>\n",
       "      <td>0</td>\n",
       "      <td>AK</td>\n",
       "      <td>AL</td>\n",
       "      <td>1.54672</td>\n",
       "      <td>0.639205</td>\n",
       "      <td>0.213621</td>\n",
       "      <td>0.423999</td>\n",
       "      <td>3.8</td>\n",
       "      <td>0.381063</td>\n",
       "    </tr>\n",
       "    <tr>\n",
       "      <td>1</td>\n",
       "      <td>AK</td>\n",
       "      <td>AR</td>\n",
       "      <td>4.41</td>\n",
       "      <td>2.7225</td>\n",
       "      <td>0.0357288</td>\n",
       "      <td>0.0989429</td>\n",
       "      <td>8.63636</td>\n",
       "      <td>0.068862</td>\n",
       "    </tr>\n",
       "    <tr>\n",
       "      <td>2</td>\n",
       "      <td>AK</td>\n",
       "      <td>AZ</td>\n",
       "      <td>0.419079</td>\n",
       "      <td>0.00213816</td>\n",
       "      <td>0.517397</td>\n",
       "      <td>0.963119</td>\n",
       "      <td>2.23529</td>\n",
       "      <td>0.604990</td>\n",
       "    </tr>\n",
       "    <tr>\n",
       "      <td>3</td>\n",
       "      <td>AK</td>\n",
       "      <td>CA</td>\n",
       "      <td>4.84435</td>\n",
       "      <td>3.05496</td>\n",
       "      <td>0.0277369</td>\n",
       "      <td>0.0804911</td>\n",
       "      <td>9.5</td>\n",
       "      <td>0.063965</td>\n",
       "    </tr>\n",
       "    <tr>\n",
       "      <td>4</td>\n",
       "      <td>AK</td>\n",
       "      <td>CO</td>\n",
       "      <td>2.68864</td>\n",
       "      <td>1.4358</td>\n",
       "      <td>0.101066</td>\n",
       "      <td>0.230821</td>\n",
       "      <td>5.58824</td>\n",
       "      <td>0.187034</td>\n",
       "    </tr>\n",
       "    <tr>\n",
       "      <td>...</td>\n",
       "      <td>...</td>\n",
       "      <td>...</td>\n",
       "      <td>...</td>\n",
       "      <td>...</td>\n",
       "      <td>...</td>\n",
       "      <td>...</td>\n",
       "      <td>...</td>\n",
       "      <td>...</td>\n",
       "    </tr>\n",
       "    <tr>\n",
       "      <td>1270</td>\n",
       "      <td>WA</td>\n",
       "      <td>WV</td>\n",
       "      <td>1.72063</td>\n",
       "      <td>0.961945</td>\n",
       "      <td>0.189612</td>\n",
       "      <td>0.326697</td>\n",
       "      <td>0.42328</td>\n",
       "      <td>0.207829</td>\n",
       "    </tr>\n",
       "    <tr>\n",
       "      <td>1271</td>\n",
       "      <td>WA</td>\n",
       "      <td>WY</td>\n",
       "      <td>3.20158</td>\n",
       "      <td>2.00655</td>\n",
       "      <td>0.0735671</td>\n",
       "      <td>0.156622</td>\n",
       "      <td>0.228571</td>\n",
       "      <td>0.134552</td>\n",
       "    </tr>\n",
       "    <tr>\n",
       "      <td>1272</td>\n",
       "      <td>WI</td>\n",
       "      <td>WV</td>\n",
       "      <td>0.666667</td>\n",
       "      <td>0.166667</td>\n",
       "      <td>0.414216</td>\n",
       "      <td>0.683091</td>\n",
       "      <td>2.03704</td>\n",
       "      <td>0.686168</td>\n",
       "    </tr>\n",
       "    <tr>\n",
       "      <td>1273</td>\n",
       "      <td>WI</td>\n",
       "      <td>WY</td>\n",
       "      <td>0.00829726</td>\n",
       "      <td>0.187207</td>\n",
       "      <td>0.927422</td>\n",
       "      <td>0.665252</td>\n",
       "      <td>1.1</td>\n",
       "      <td>1.000000</td>\n",
       "    </tr>\n",
       "    <tr>\n",
       "      <td>1274</td>\n",
       "      <td>WV</td>\n",
       "      <td>WY</td>\n",
       "      <td>0.493334</td>\n",
       "      <td>0.0841652</td>\n",
       "      <td>0.482444</td>\n",
       "      <td>0.77173</td>\n",
       "      <td>0.54</td>\n",
       "      <td>0.687305</td>\n",
       "    </tr>\n",
       "  </tbody>\n",
       "</table>\n",
       "<p>1275 rows × 8 columns</p>\n",
       "</div>"
      ],
      "text/plain": [
       "     state1 state2 chi_2_statistics chi_2_corrected      p_val  \\\n",
       "0        AK     AL          1.54672        0.639205   0.213621   \n",
       "1        AK     AR             4.41          2.7225  0.0357288   \n",
       "2        AK     AZ         0.419079      0.00213816   0.517397   \n",
       "3        AK     CA          4.84435         3.05496  0.0277369   \n",
       "4        AK     CO          2.68864          1.4358   0.101066   \n",
       "...     ...    ...              ...             ...        ...   \n",
       "1270     WA     WV          1.72063        0.961945   0.189612   \n",
       "1271     WA     WY          3.20158         2.00655  0.0735671   \n",
       "1272     WI     WV         0.666667        0.166667   0.414216   \n",
       "1273     WI     WY       0.00829726        0.187207   0.927422   \n",
       "1274     WV     WY         0.493334       0.0841652   0.482444   \n",
       "\n",
       "     p_val_corrected fisher_stat  p-value_fisher  \n",
       "0           0.423999         3.8        0.381063  \n",
       "1          0.0989429     8.63636        0.068862  \n",
       "2           0.963119     2.23529        0.604990  \n",
       "3          0.0804911         9.5        0.063965  \n",
       "4           0.230821     5.58824        0.187034  \n",
       "...              ...         ...             ...  \n",
       "1270        0.326697     0.42328        0.207829  \n",
       "1271        0.156622    0.228571        0.134552  \n",
       "1272        0.683091     2.03704        0.686168  \n",
       "1273        0.665252         1.1        1.000000  \n",
       "1274         0.77173        0.54        0.687305  \n",
       "\n",
       "[1275 rows x 8 columns]"
      ]
     },
     "execution_count": 6,
     "metadata": {},
     "output_type": "execute_result"
    }
   ],
   "source": [
    "_values"
   ]
  },
  {
   "cell_type": "code",
   "execution_count": 8,
   "metadata": {},
   "outputs": [
    {
     "name": "stdout",
     "output_type": "stream",
     "text": [
      "Число p-value <= 0.05: 34\n",
      "Число p-value (с коррекцией) <= 0.05: 0\n"
     ]
    }
   ],
   "source": [
    "print(\"Число p-value <= 0.05:\",len(_values.loc[_values['p_val'] < 0.05, :]))\n",
    "print(\"Число p-value (с коррекцией) <= 0.05:\",len(_values.loc[_values['p_val_corrected'] < 0.05, :]))"
   ]
  },
  {
   "cell_type": "markdown",
   "metadata": {},
   "source": [
    "В основе критерия xи-квадрат лежит предположение о том, что если верна нулевая гипотеза, то **дискретное** биномиальное распределение данных по клеткам в таблице сопряженности может быть аппроксимировано с помощью **непрерывного** распределения xи-квадрат. Однако точность такой аппроксимации существенно зависит от суммарного количества наблюдений и их распределения в этой таблице (отсюда и ограничения при использовании критерия xи-квадрат)."
   ]
  },
  {
   "cell_type": "markdown",
   "metadata": {},
   "source": [
    "Одним из способов коррекции точности аппроксимации является поправка Йетса на непрерывность. Эта поправка заключается в вычитании константы 0.5 из каждого модуля разности наблюденного $O_i$ и ожидаемого \n",
    "$E_i$ значений, то есть, статистика с такой поправкой выглядит так: χYates2=∑i=1N(|Oi−Ei|−0.5)2Ei.\n",
    "\n",
    "Такая поправка, как несложно догадаться по формуле, как правило, уменьшает значение статистики χ2, то есть увеличивает достигаемый уровень значимости.\n",
    "\n",
    "Эта поправка обычно используется для таблиц сопряженности размером 2x2 и для небольшого количества наблюдений. Такая поправка, однако, не является серебрянной пулей, и часто критикуется за то, что статистический критерий при ее использовании становится слишком консервативным, то есть часто не отвергает нулевую гипотезу там, где она неверна (совершает ошибку II рода). "
   ]
  },
  {
   "cell_type": "code",
   "execution_count": 9,
   "metadata": {},
   "outputs": [
    {
     "name": "stdout",
     "output_type": "stream",
     "text": [
      "Pearson correlation: -0.0518\n",
      "P-value: 0.0028\n",
      "Spearman correlation: 0.0433\n",
      "P-value: 0.0123\n"
     ]
    }
   ],
   "source": [
    "print('Pearson correlation: %.4f' % stats.pearsonr(data.day_calls, data.mes_estim)[0])\n",
    "print('P-value: %.4f' % stats.pearsonr(data.day_calls, data.mes_estim)[1])\n",
    "\n",
    "print('Spearman correlation: %.4f' % stats.spearmanr(data.day_calls, data.mes_estim)[0])\n",
    "print('P-value: %.4f' % stats.spearmanr(data.day_calls, data.mes_estim)[1])"
   ]
  },
  {
   "cell_type": "code",
   "execution_count": 10,
   "metadata": {},
   "outputs": [
    {
     "data": {
      "image/png": "[encoded data removed]",
      "text/plain": [
       "<Figure size 432x288 with 1 Axes>"
      ]
     },
     "metadata": {
      "needs_background": "light"
     },
     "output_type": "display_data"
    }
   ],
   "source": [
    "_ = stats.probplot(data.mes_estim, rvalue = True, plot = plt)"
   ]
  },
  {
   "cell_type": "code",
   "execution_count": 11,
   "metadata": {},
   "outputs": [
    {
     "data": {
      "image/png": "[encoded data removed]",
      "text/plain": [
       "<Figure size 432x288 with 1 Axes>"
      ]
     },
     "metadata": {
      "needs_background": "light"
     },
     "output_type": "display_data"
    }
   ],
   "source": [
    "_ = stats.probplot(data.day_calls, rvalue = True, plot = plt)"
   ]
  },
  {
   "cell_type": "code",
   "execution_count": 12,
   "metadata": {},
   "outputs": [
    {
     "name": "stdout",
     "output_type": "stream",
     "text": [
      "V Cramer stat value: 0.2004\n"
     ]
    }
   ],
   "source": [
    "def cramers_stat(confusion_matrix):\n",
    "    chi2 = stats.chi2_contingency(confusion_matrix)[0]\n",
    "    n = confusion_matrix.sum()\n",
    "    return np.sqrt(chi2 / (n * (min(confusion_matrix.shape) - 1)))\n",
    "print('V Cramer stat value: %.4f' % cramers_stat(df_states.values))"
   ]
  },
  {
   "cell_type": "markdown",
   "metadata": {},
   "source": [
    "с помощью каких методов можно провести анализ эффективности удержания (churn) с помощью раличных методов (treatment = 0, treatment = 2) относительно контрольной группы пользователей (treatment = 1).\n",
    "\n",
    "Что можно сказать об этих двух методах (treatment = 0, treatment = 2)? Одинаковы ли они с точки зрения эффективности? Каким бы методом вы бы посоветовали воспользоваться компании?"
   ]
  },
  {
   "cell_type": "code",
   "execution_count": 16,
   "metadata": {},
   "outputs": [
    {
     "data": {
      "text/html": [
       "<div>\n",
       "<style scoped>\n",
       "    .dataframe tbody tr th:only-of-type {\n",
       "        vertical-align: middle;\n",
       "    }\n",
       "\n",
       "    .dataframe tbody tr th {\n",
       "        vertical-align: top;\n",
       "    }\n",
       "\n",
       "    .dataframe thead tr th {\n",
       "        text-align: left;\n",
       "    }\n",
       "\n",
       "    .dataframe thead tr:last-of-type th {\n",
       "        text-align: right;\n",
       "    }\n",
       "</style>\n",
       "<table border=\"1\" class=\"dataframe\">\n",
       "  <thead>\n",
       "    <tr>\n",
       "      <th>treatment</th>\n",
       "      <th colspan=\"2\" halign=\"left\">0</th>\n",
       "      <th colspan=\"2\" halign=\"left\">1</th>\n",
       "      <th colspan=\"2\" halign=\"left\">2</th>\n",
       "    </tr>\n",
       "    <tr>\n",
       "      <th>churn</th>\n",
       "      <th>False</th>\n",
       "      <th>True</th>\n",
       "      <th>False</th>\n",
       "      <th>True</th>\n",
       "      <th>False</th>\n",
       "      <th>True</th>\n",
       "    </tr>\n",
       "    <tr>\n",
       "      <th>state</th>\n",
       "      <th></th>\n",
       "      <th></th>\n",
       "      <th></th>\n",
       "      <th></th>\n",
       "      <th></th>\n",
       "      <th></th>\n",
       "    </tr>\n",
       "  </thead>\n",
       "  <tbody>\n",
       "    <tr>\n",
       "      <td>AK</td>\n",
       "      <td>15</td>\n",
       "      <td>2</td>\n",
       "      <td>19</td>\n",
       "      <td>1</td>\n",
       "      <td>15</td>\n",
       "      <td>0</td>\n",
       "    </tr>\n",
       "    <tr>\n",
       "      <td>AL</td>\n",
       "      <td>22</td>\n",
       "      <td>1</td>\n",
       "      <td>25</td>\n",
       "      <td>5</td>\n",
       "      <td>25</td>\n",
       "      <td>2</td>\n",
       "    </tr>\n",
       "    <tr>\n",
       "      <td>AR</td>\n",
       "      <td>14</td>\n",
       "      <td>3</td>\n",
       "      <td>11</td>\n",
       "      <td>5</td>\n",
       "      <td>19</td>\n",
       "      <td>3</td>\n",
       "    </tr>\n",
       "    <tr>\n",
       "      <td>AZ</td>\n",
       "      <td>26</td>\n",
       "      <td>0</td>\n",
       "      <td>17</td>\n",
       "      <td>2</td>\n",
       "      <td>17</td>\n",
       "      <td>2</td>\n",
       "    </tr>\n",
       "    <tr>\n",
       "      <td>CA</td>\n",
       "      <td>10</td>\n",
       "      <td>3</td>\n",
       "      <td>10</td>\n",
       "      <td>5</td>\n",
       "      <td>5</td>\n",
       "      <td>1</td>\n",
       "    </tr>\n",
       "  </tbody>\n",
       "</table>\n",
       "</div>"
      ],
      "text/plain": [
       "treatment     0           1           2      \n",
       "churn     False True  False True  False True \n",
       "state                                        \n",
       "AK           15     2    19     1    15     0\n",
       "AL           22     1    25     5    25     2\n",
       "AR           14     3    11     5    19     3\n",
       "AZ           26     0    17     2    17     2\n",
       "CA           10     3    10     5     5     1"
      ]
     },
     "execution_count": 16,
     "metadata": {},
     "output_type": "execute_result"
    }
   ],
   "source": [
    "df_states = pd.pivot_table(data, values = 'account_length', index = 'state', columns = ['treatment', 'churn'],\n",
    "                           aggfunc = len, fill_value = 0)\n",
    "df_states.head()"
   ]
  },
  {
   "cell_type": "code",
   "execution_count": 23,
   "metadata": {},
   "outputs": [
    {
     "name": "stdout",
     "output_type": "stream",
     "text": [
      "treatment(1, 2, 3) -- proportions of churn = 1 (1, 2, 3):\n",
      " [0.14563107 0.16408387 0.12511333]\n"
     ]
    }
   ],
   "source": [
    "#построим доверительный интервал для долей TRUE в каждой из подгрупп\n",
    "proportions = np.array([\n",
    "     df_states.loc[:, i].loc[:, True].sum() / (df_states.loc[:, i].loc[:, True].sum() \n",
    "     + df_states.loc[:, i].loc[:, False].sum()) for i in range(3)])\n",
    "print(\"treatment(1, 2, 3) -- proportions of churn = 1 (1, 2, 3):\\n\", proportions)"
   ]
  },
  {
   "cell_type": "code",
   "execution_count": 33,
   "metadata": {},
   "outputs": [
    {
     "name": "stdout",
     "output_type": "stream",
     "text": [
      "treatment(1, 2, 3) -- Wilson proportions of churn = 1 (1, 2, 3):\n",
      " [[0.12628913 0.16736788]\n",
      " [0.14334707 0.18716506]\n",
      " [0.1068801  0.14594876]]\n"
     ]
    }
   ],
   "source": [
    "#построим доверительные интервалы Wilson'a и разности долей для независимых выборок\n",
    "w_proportion = np.array([proportion_confint(df_states.loc[:, treat].loc[:, True].sum(),\n",
    "                       (df_states.loc[:, treat].loc[:, False].sum() + df_states.loc[:, treat].loc[:, True].sum()),\n",
    "                        method = 'wilson') for treat in range(3)])\n",
    "print(\"treatment(1, 2, 3) -- Wilson proportions of churn = 1 (1, 2, 3):\\n\", w_proportion)"
   ]
  },
  {
   "cell_type": "code",
   "execution_count": 37,
   "metadata": {},
   "outputs": [
    {
     "name": "stdout",
     "output_type": "stream",
     "text": [
      "0 1 (-0.04848883584089464, 0.011583241590025106)\n",
      "0 2 (-0.007820886720395197, 0.04885636806430281)\n",
      "1 2 (0.00961876673809212, 0.06832230885668503)\n"
     ]
    },
    {
     "data": {
      "text/plain": [
       "array([[0.        , 1.        , 0.22833116],\n",
       "       [0.        , 2.        , 0.15642469],\n",
       "       [1.        , 2.        , 0.00934808]])"
      ]
     },
     "execution_count": 37,
     "metadata": {},
     "output_type": "execute_result"
    }
   ],
   "source": [
    "def proportions_confint_diff_ind(sample1, sample2, alpha = 0.05):    \n",
    "    z = stats.norm.ppf(1 - alpha / 2.)\n",
    "    l1 = sample1.loc[:, False].sum() + sample1.loc[:, True].sum()\n",
    "    l2 = sample2.loc[:, False].sum() + sample2.loc[:, True].sum()\n",
    "    p1 = sample1.loc[:, True].sum() / l1\n",
    "    p2 = sample2.loc[:, True].sum() / l2\n",
    "    \n",
    "    left_boundary = (p1 - p2) - z * np.sqrt(p1 * (1 - p1)/ l1 + p2 * (1 - p2)/ l2)\n",
    "    right_boundary = (p1 - p2) + z * np.sqrt(p1 * (1 - p1)/ l1 + p2 * (1 - p2)/ l2)\n",
    "    \n",
    "    return (left_boundary, right_boundary)\n",
    "\n",
    "def proportions_diff_z_stat_ind(sample1, sample2):\n",
    "    l1 = sample1.loc[:, False].sum() + sample1.loc[:, True].sum()\n",
    "    l2 = sample2.loc[:, False].sum() + sample2.loc[:, True].sum()\n",
    "    p1 = sample1.loc[:, True].sum() / l1\n",
    "    p2 = sample2.loc[:, True].sum() / l2\n",
    "    P = (p1 * l1 + p2 * l2) / (l1 + l2)\n",
    "    \n",
    "    return (p1 - p2) / np.sqrt(P * (1 - P) * (1. / l1 + 1. / l2))\n",
    "\n",
    "def proportions_diff_z_test(z_stat, alternative = 'two-sided'):\n",
    "    return 2 * (1 - stats.norm.cdf(np.abs(z_stat)))\n",
    "\n",
    "p_val_table = np.empty((3, 3))\n",
    "i = 0\n",
    "for tr1, tr2 in combinations(range(3), 2):\n",
    "    confint_diff = proportions_confint_diff_ind(df_states.loc[:, tr1], df_states.loc[:, tr2])\n",
    "    print(tr1, tr2, confint_diff)\n",
    "    p_val = proportions_diff_z_test(proportions_diff_z_stat_ind(df_states.loc[:, tr1], df_states.loc[:, tr2]))\n",
    "    p_val_table[i, :] = int(tr1), int(tr2), p_val\n",
    "    i += 1\n",
    "\n",
    "p_val_table"
   ]
  },
  {
   "cell_type": "code",
   "execution_count": 38,
   "metadata": {},
   "outputs": [
    {
     "data": {
      "text/plain": [
       "array([0.22833116, 0.22833116, 0.02804425])"
      ]
     },
     "execution_count": 38,
     "metadata": {},
     "output_type": "execute_result"
    }
   ],
   "source": [
    "#поправка на проверку гипотез по fdr\n",
    "_, p_corrected, _, _ = multipletests(p_val_table[:, 2], alpha = 0.05, method = 'fdr_bh') \n",
    "p_corrected\n",
    "\n"
   ]
  },
  {
   "cell_type": "code",
   "execution_count": null,
   "metadata": {},
   "outputs": [],
   "source": []
  }
 ],
 "metadata": {
  "kernelspec": {
   "display_name": "Python 3",
   "language": "python",
   "name": "python3"
  },
  "language_info": {
   "codemirror_mode": {
    "name": "ipython",
    "version": 3
   },
   "file_extension": ".py",
   "mimetype": "text/x-python",
   "name": "python",
   "nbconvert_exporter": "python",
   "pygments_lexer": "ipython3",
   "version": "3.7.4"
  }
 },
 "nbformat": 4,
 "nbformat_minor": 2
}
