{
 "cells": [
  {
   "cell_type": "code",
   "execution_count": 1,
   "metadata": {},
   "outputs": [
    {
     "name": "stdout",
     "output_type": "stream",
     "text": [
      "Добрый день!!!\n"
     ]
    }
   ],
   "source": [
    "print('Добрый день!!!')"
   ]
  },
  {
   "cell_type": "markdown",
   "metadata": {},
   "source": [
    "# Прогнозирование временных рядов на карте"
   ]
  },
  {
   "cell_type": "code",
   "execution_count": null,
   "metadata": {},
   "outputs": [],
   "source": []
  },
  {
   "cell_type": "code",
   "execution_count": 6,
   "metadata": {},
   "outputs": [
    {
     "name": "stdout",
     "output_type": "stream",
     "text": [
      "Populating the interactive namespace from numpy and matplotlib\n"
     ]
    }
   ],
   "source": [
    "import pandas as pd\n",
    "import numpy as np\n",
    "import matplotlib.pyplot as plt\n",
    "\n",
    "%pylab inline"
   ]
  },
  {
   "cell_type": "markdown",
   "metadata": {},
   "source": [
    "## Подготовка данных"
   ]
  },
  {
   "cell_type": "code",
   "execution_count": 7,
   "metadata": {},
   "outputs": [],
   "source": [
    "df = pd.read_csv('yellow_tripdata_2016-05.csv',\n",
    "                 usecols     = ['tpep_pickup_datetime',\n",
    "                                'pickup_longitude',\n",
    "                                'pickup_latitude',\n",
    "                                'tpep_dropoff_datetime',\n",
    "                                'trip_distance',\n",
    "                                'passenger_count'],\n",
    "                 parse_dates = ['tpep_pickup_datetime',\n",
    "                                'tpep_dropoff_datetime'],\n",
    "                 header      = 0,\n",
    "                 sep         = ',')"
   ]
  },
  {
   "cell_type": "code",
   "execution_count": 8,
   "metadata": {},
   "outputs": [
    {
     "data": {
      "text/html": [
       "<div>\n",
       "<style scoped>\n",
       "    .dataframe tbody tr th:only-of-type {\n",
       "        vertical-align: middle;\n",
       "    }\n",
       "\n",
       "    .dataframe tbody tr th {\n",
       "        vertical-align: top;\n",
       "    }\n",
       "\n",
       "    .dataframe thead th {\n",
       "        text-align: right;\n",
       "    }\n",
       "</style>\n",
       "<table border=\"1\" class=\"dataframe\">\n",
       "  <thead>\n",
       "    <tr style=\"text-align: right;\">\n",
       "      <th></th>\n",
       "      <th>tpep_pickup_datetime</th>\n",
       "      <th>tpep_dropoff_datetime</th>\n",
       "      <th>passenger_count</th>\n",
       "      <th>trip_distance</th>\n",
       "      <th>pickup_longitude</th>\n",
       "      <th>pickup_latitude</th>\n",
       "    </tr>\n",
       "  </thead>\n",
       "  <tbody>\n",
       "    <tr>\n",
       "      <th>0</th>\n",
       "      <td>2016-05-01</td>\n",
       "      <td>2016-05-01 00:17:31</td>\n",
       "      <td>1</td>\n",
       "      <td>3.60</td>\n",
       "      <td>-73.985901</td>\n",
       "      <td>40.768040</td>\n",
       "    </tr>\n",
       "    <tr>\n",
       "      <th>1</th>\n",
       "      <td>2016-05-01</td>\n",
       "      <td>2016-05-01 00:07:31</td>\n",
       "      <td>1</td>\n",
       "      <td>1.68</td>\n",
       "      <td>-73.991577</td>\n",
       "      <td>40.744751</td>\n",
       "    </tr>\n",
       "    <tr>\n",
       "      <th>2</th>\n",
       "      <td>2016-05-01</td>\n",
       "      <td>2016-05-01 00:07:01</td>\n",
       "      <td>6</td>\n",
       "      <td>1.09</td>\n",
       "      <td>-73.993073</td>\n",
       "      <td>40.741573</td>\n",
       "    </tr>\n",
       "    <tr>\n",
       "      <th>3</th>\n",
       "      <td>2016-05-01</td>\n",
       "      <td>2016-05-01 00:19:47</td>\n",
       "      <td>1</td>\n",
       "      <td>4.21</td>\n",
       "      <td>-73.991943</td>\n",
       "      <td>40.684601</td>\n",
       "    </tr>\n",
       "    <tr>\n",
       "      <th>4</th>\n",
       "      <td>2016-05-01</td>\n",
       "      <td>2016-05-01 00:06:39</td>\n",
       "      <td>1</td>\n",
       "      <td>0.56</td>\n",
       "      <td>-74.005280</td>\n",
       "      <td>40.740192</td>\n",
       "    </tr>\n",
       "  </tbody>\n",
       "</table>\n",
       "</div>"
      ],
      "text/plain": [
       "  tpep_pickup_datetime tpep_dropoff_datetime  passenger_count  trip_distance  \\\n",
       "0           2016-05-01   2016-05-01 00:17:31                1           3.60   \n",
       "1           2016-05-01   2016-05-01 00:07:31                1           1.68   \n",
       "2           2016-05-01   2016-05-01 00:07:01                6           1.09   \n",
       "3           2016-05-01   2016-05-01 00:19:47                1           4.21   \n",
       "4           2016-05-01   2016-05-01 00:06:39                1           0.56   \n",
       "\n",
       "   pickup_longitude  pickup_latitude  \n",
       "0        -73.985901        40.768040  \n",
       "1        -73.991577        40.744751  \n",
       "2        -73.993073        40.741573  \n",
       "3        -73.991943        40.684601  \n",
       "4        -74.005280        40.740192  "
      ]
     },
     "execution_count": 8,
     "metadata": {},
     "output_type": "execute_result"
    }
   ],
   "source": [
    "df.head()"
   ]
  },
  {
   "cell_type": "code",
   "execution_count": 9,
   "metadata": {},
   "outputs": [
    {
     "name": "stdout",
     "output_type": "stream",
     "text": [
      "210332\n"
     ]
    }
   ],
   "source": [
    "start = df.shape[0]\n",
    "df = df[( df.passenger_count > 0) &\n",
    "        ( df.trip_distance != 0) &\n",
    "        ((df.tpep_dropoff_datetime - df.tpep_pickup_datetime).dt.seconds > 0) &\n",
    "        ( df.pickup_longitude >= -74.25559) &\n",
    "        ( df.pickup_longitude <= -73.70001) & \n",
    "        ( df.pickup_latitude  >= 40.49612) &\n",
    "        ( df.pickup_latitude  <= 40.91553)]\n",
    "print(start - df.shape[0])"
   ]
  },
  {
   "cell_type": "markdown",
   "metadata": {},
   "source": [
    "## Агрегация по часам и областям"
   ]
  },
  {
   "cell_type": "code",
   "execution_count": 10,
   "metadata": {},
   "outputs": [
    {
     "data": {
      "text/html": [
       "<div>\n",
       "<style scoped>\n",
       "    .dataframe tbody tr th:only-of-type {\n",
       "        vertical-align: middle;\n",
       "    }\n",
       "\n",
       "    .dataframe tbody tr th {\n",
       "        vertical-align: top;\n",
       "    }\n",
       "\n",
       "    .dataframe thead th {\n",
       "        text-align: right;\n",
       "    }\n",
       "</style>\n",
       "<table border=\"1\" class=\"dataframe\">\n",
       "  <thead>\n",
       "    <tr style=\"text-align: right;\">\n",
       "      <th></th>\n",
       "      <th>tpep_pickup_datetime</th>\n",
       "      <th>tpep_dropoff_datetime</th>\n",
       "      <th>passenger_count</th>\n",
       "      <th>trip_distance</th>\n",
       "      <th>pickup_longitude</th>\n",
       "      <th>pickup_latitude</th>\n",
       "    </tr>\n",
       "  </thead>\n",
       "  <tbody>\n",
       "    <tr>\n",
       "      <th>1023</th>\n",
       "      <td>2016-05-04 22:00:00</td>\n",
       "      <td>2016-05-04 22:23:26</td>\n",
       "      <td>1</td>\n",
       "      <td>0.41</td>\n",
       "      <td>-73.983994</td>\n",
       "      <td>40.752243</td>\n",
       "    </tr>\n",
       "    <tr>\n",
       "      <th>1024</th>\n",
       "      <td>2016-05-04 22:00:00</td>\n",
       "      <td>2016-05-04 23:04:46</td>\n",
       "      <td>2</td>\n",
       "      <td>13.72</td>\n",
       "      <td>-73.992119</td>\n",
       "      <td>40.749290</td>\n",
       "    </tr>\n",
       "    <tr>\n",
       "      <th>1025</th>\n",
       "      <td>2016-05-04 22:00:00</td>\n",
       "      <td>2016-05-04 22:38:51</td>\n",
       "      <td>1</td>\n",
       "      <td>4.76</td>\n",
       "      <td>-73.987297</td>\n",
       "      <td>40.733070</td>\n",
       "    </tr>\n",
       "    <tr>\n",
       "      <th>1026</th>\n",
       "      <td>2016-05-04 22:00:00</td>\n",
       "      <td>2016-05-04 22:35:29</td>\n",
       "      <td>1</td>\n",
       "      <td>2.30</td>\n",
       "      <td>-73.990440</td>\n",
       "      <td>40.745701</td>\n",
       "    </tr>\n",
       "    <tr>\n",
       "      <th>1027</th>\n",
       "      <td>2016-05-04 22:00:00</td>\n",
       "      <td>2016-05-04 22:32:42</td>\n",
       "      <td>1</td>\n",
       "      <td>2.10</td>\n",
       "      <td>-73.990944</td>\n",
       "      <td>40.761005</td>\n",
       "    </tr>\n",
       "  </tbody>\n",
       "</table>\n",
       "</div>"
      ],
      "text/plain": [
       "     tpep_pickup_datetime tpep_dropoff_datetime  passenger_count  \\\n",
       "1023  2016-05-04 22:00:00   2016-05-04 22:23:26                1   \n",
       "1024  2016-05-04 22:00:00   2016-05-04 23:04:46                2   \n",
       "1025  2016-05-04 22:00:00   2016-05-04 22:38:51                1   \n",
       "1026  2016-05-04 22:00:00   2016-05-04 22:35:29                1   \n",
       "1027  2016-05-04 22:00:00   2016-05-04 22:32:42                1   \n",
       "\n",
       "      trip_distance  pickup_longitude  pickup_latitude  \n",
       "1023           0.41        -73.983994        40.752243  \n",
       "1024          13.72        -73.992119        40.749290  \n",
       "1025           4.76        -73.987297        40.733070  \n",
       "1026           2.30        -73.990440        40.745701  \n",
       "1027           2.10        -73.990944        40.761005  "
      ]
     },
     "execution_count": 10,
     "metadata": {},
     "output_type": "execute_result"
    }
   ],
   "source": [
    "# Округление до часов\n",
    "df.tpep_pickup_datetime  = df.tpep_pickup_datetime.dt.floor('H')\n",
    "df[1000:1005]"
   ]
  },
  {
   "cell_type": "code",
   "execution_count": 11,
   "metadata": {},
   "outputs": [
    {
     "data": {
      "text/html": [
       "<div>\n",
       "<style scoped>\n",
       "    .dataframe tbody tr th:only-of-type {\n",
       "        vertical-align: middle;\n",
       "    }\n",
       "\n",
       "    .dataframe tbody tr th {\n",
       "        vertical-align: top;\n",
       "    }\n",
       "\n",
       "    .dataframe thead th {\n",
       "        text-align: right;\n",
       "    }\n",
       "</style>\n",
       "<table border=\"1\" class=\"dataframe\">\n",
       "  <thead>\n",
       "    <tr style=\"text-align: right;\">\n",
       "      <th></th>\n",
       "      <th>region</th>\n",
       "      <th>west</th>\n",
       "      <th>east</th>\n",
       "      <th>south</th>\n",
       "      <th>north</th>\n",
       "    </tr>\n",
       "  </thead>\n",
       "  <tbody>\n",
       "    <tr>\n",
       "      <th>0</th>\n",
       "      <td>1</td>\n",
       "      <td>-74.25559</td>\n",
       "      <td>-74.244478</td>\n",
       "      <td>40.496120</td>\n",
       "      <td>40.504508</td>\n",
       "    </tr>\n",
       "    <tr>\n",
       "      <th>1</th>\n",
       "      <td>2</td>\n",
       "      <td>-74.25559</td>\n",
       "      <td>-74.244478</td>\n",
       "      <td>40.504508</td>\n",
       "      <td>40.512896</td>\n",
       "    </tr>\n",
       "    <tr>\n",
       "      <th>2</th>\n",
       "      <td>3</td>\n",
       "      <td>-74.25559</td>\n",
       "      <td>-74.244478</td>\n",
       "      <td>40.512896</td>\n",
       "      <td>40.521285</td>\n",
       "    </tr>\n",
       "    <tr>\n",
       "      <th>3</th>\n",
       "      <td>4</td>\n",
       "      <td>-74.25559</td>\n",
       "      <td>-74.244478</td>\n",
       "      <td>40.521285</td>\n",
       "      <td>40.529673</td>\n",
       "    </tr>\n",
       "    <tr>\n",
       "      <th>4</th>\n",
       "      <td>5</td>\n",
       "      <td>-74.25559</td>\n",
       "      <td>-74.244478</td>\n",
       "      <td>40.529673</td>\n",
       "      <td>40.538061</td>\n",
       "    </tr>\n",
       "  </tbody>\n",
       "</table>\n",
       "</div>"
      ],
      "text/plain": [
       "   region      west       east      south      north\n",
       "0       1 -74.25559 -74.244478  40.496120  40.504508\n",
       "1       2 -74.25559 -74.244478  40.504508  40.512896\n",
       "2       3 -74.25559 -74.244478  40.512896  40.521285\n",
       "3       4 -74.25559 -74.244478  40.521285  40.529673\n",
       "4       5 -74.25559 -74.244478  40.529673  40.538061"
      ]
     },
     "execution_count": 11,
     "metadata": {},
     "output_type": "execute_result"
    }
   ],
   "source": [
    "regions = pd.read_csv('regions.csv', sep = ';', header=0)\n",
    "regions.head()"
   ]
  },
  {
   "cell_type": "code",
   "execution_count": 12,
   "metadata": {},
   "outputs": [],
   "source": [
    "x_edges = [ x for x in sorted( set(regions.west).union(set(regions.east)))  ]\n",
    "y_edges = [ y for y in sorted( set(regions.north).union(set(regions.south)))]"
   ]
  },
  {
   "cell_type": "code",
   "execution_count": 13,
   "metadata": {},
   "outputs": [
    {
     "data": {
      "text/plain": [
       "1231"
      ]
     },
     "execution_count": 13,
     "metadata": {},
     "output_type": "execute_result"
    }
   ],
   "source": [
    "def getRegionNumber(longitude, latitude, bins = 50):\n",
    "    \"\"\"Старая функция\"\"\"\n",
    "    x = 0\n",
    "    y = 0\n",
    "    n = 0\n",
    "    \n",
    "    q = len(x_edges) - 1\n",
    "    \n",
    "    for i in range(q):\n",
    "        if (float(longitude) > float(x_edges[i])) &\\\n",
    "           (float(longitude) < float(x_edges[(i+1)])):\n",
    "            x = i + 1\n",
    "        if (float(latitude) > float(y_edges[i])) &\\\n",
    "           (float(latitude) < float(y_edges[(i+1)])):\n",
    "            y = i + 1\n",
    "        z = (x - 1) * bins + y\n",
    "    return z\n",
    "\n",
    "getRegionNumber(-73.9856715, 40.7484831)"
   ]
  },
  {
   "cell_type": "code",
   "execution_count": 15,
   "metadata": {},
   "outputs": [],
   "source": [
    "df['region'] = df.apply( lambda r: getRegionNumber(r['pickup_longitude'],\n",
    "                                                   r['pickup_latitude']), axis = 1)"
   ]
  },
  {
   "cell_type": "code",
   "execution_count": 18,
   "metadata": {},
   "outputs": [
    {
     "data": {
      "text/html": [
       "<div>\n",
       "<style scoped>\n",
       "    .dataframe tbody tr th:only-of-type {\n",
       "        vertical-align: middle;\n",
       "    }\n",
       "\n",
       "    .dataframe tbody tr th {\n",
       "        vertical-align: top;\n",
       "    }\n",
       "\n",
       "    .dataframe thead th {\n",
       "        text-align: right;\n",
       "    }\n",
       "</style>\n",
       "<table border=\"1\" class=\"dataframe\">\n",
       "  <thead>\n",
       "    <tr style=\"text-align: right;\">\n",
       "      <th></th>\n",
       "      <th>tpep_pickup_datetime</th>\n",
       "      <th>tpep_dropoff_datetime</th>\n",
       "      <th>passenger_count</th>\n",
       "      <th>trip_distance</th>\n",
       "      <th>pickup_longitude</th>\n",
       "      <th>pickup_latitude</th>\n",
       "      <th>region</th>\n",
       "    </tr>\n",
       "  </thead>\n",
       "  <tbody>\n",
       "    <tr>\n",
       "      <th>0</th>\n",
       "      <td>2016-05-01</td>\n",
       "      <td>2016-05-01 00:17:31</td>\n",
       "      <td>1</td>\n",
       "      <td>3.60</td>\n",
       "      <td>-73.985901</td>\n",
       "      <td>40.768040</td>\n",
       "      <td>1233</td>\n",
       "    </tr>\n",
       "    <tr>\n",
       "      <th>1</th>\n",
       "      <td>2016-05-01</td>\n",
       "      <td>2016-05-01 00:07:31</td>\n",
       "      <td>1</td>\n",
       "      <td>1.68</td>\n",
       "      <td>-73.991577</td>\n",
       "      <td>40.744751</td>\n",
       "      <td>1180</td>\n",
       "    </tr>\n",
       "    <tr>\n",
       "      <th>2</th>\n",
       "      <td>2016-05-01</td>\n",
       "      <td>2016-05-01 00:07:01</td>\n",
       "      <td>6</td>\n",
       "      <td>1.09</td>\n",
       "      <td>-73.993073</td>\n",
       "      <td>40.741573</td>\n",
       "      <td>1180</td>\n",
       "    </tr>\n",
       "    <tr>\n",
       "      <th>3</th>\n",
       "      <td>2016-05-01</td>\n",
       "      <td>2016-05-01 00:19:47</td>\n",
       "      <td>1</td>\n",
       "      <td>4.21</td>\n",
       "      <td>-73.991943</td>\n",
       "      <td>40.684601</td>\n",
       "      <td>1173</td>\n",
       "    </tr>\n",
       "    <tr>\n",
       "      <th>4</th>\n",
       "      <td>2016-05-01</td>\n",
       "      <td>2016-05-01 00:06:39</td>\n",
       "      <td>1</td>\n",
       "      <td>0.56</td>\n",
       "      <td>-74.005280</td>\n",
       "      <td>40.740192</td>\n",
       "      <td>1130</td>\n",
       "    </tr>\n",
       "  </tbody>\n",
       "</table>\n",
       "</div>"
      ],
      "text/plain": [
       "  tpep_pickup_datetime tpep_dropoff_datetime  passenger_count  trip_distance  \\\n",
       "0           2016-05-01   2016-05-01 00:17:31                1           3.60   \n",
       "1           2016-05-01   2016-05-01 00:07:31                1           1.68   \n",
       "2           2016-05-01   2016-05-01 00:07:01                6           1.09   \n",
       "3           2016-05-01   2016-05-01 00:19:47                1           4.21   \n",
       "4           2016-05-01   2016-05-01 00:06:39                1           0.56   \n",
       "\n",
       "   pickup_longitude  pickup_latitude  region  \n",
       "0        -73.985901        40.768040    1233  \n",
       "1        -73.991577        40.744751    1180  \n",
       "2        -73.993073        40.741573    1180  \n",
       "3        -73.991943        40.684601    1173  \n",
       "4        -74.005280        40.740192    1130  "
      ]
     },
     "execution_count": 18,
     "metadata": {},
     "output_type": "execute_result"
    }
   ],
   "source": [
    "df.head()"
   ]
  },
  {
   "cell_type": "code",
   "execution_count": 19,
   "metadata": {},
   "outputs": [
    {
     "name": "stdout",
     "output_type": "stream",
     "text": [
      "Wall time: 1min 11s\n"
     ]
    }
   ],
   "source": [
    "%%time \n",
    "df.to_csv('yt_2016-05_rs.csv',\n",
    "          columns = ['tpep_pickup_datetime', \n",
    "                     'region'],\n",
    "          index   = False )"
   ]
  },
  {
   "cell_type": "code",
   "execution_count": 20,
   "metadata": {},
   "outputs": [
    {
     "data": {
      "text/html": [
       "<div>\n",
       "<style scoped>\n",
       "    .dataframe tbody tr th:only-of-type {\n",
       "        vertical-align: middle;\n",
       "    }\n",
       "\n",
       "    .dataframe tbody tr th {\n",
       "        vertical-align: top;\n",
       "    }\n",
       "\n",
       "    .dataframe thead th {\n",
       "        text-align: right;\n",
       "    }\n",
       "</style>\n",
       "<table border=\"1\" class=\"dataframe\">\n",
       "  <thead>\n",
       "    <tr style=\"text-align: right;\">\n",
       "      <th></th>\n",
       "      <th>tpep_pickup_datetime</th>\n",
       "      <th>region</th>\n",
       "      <th>trips</th>\n",
       "    </tr>\n",
       "  </thead>\n",
       "  <tbody>\n",
       "    <tr>\n",
       "      <th>0</th>\n",
       "      <td>2016-05-01</td>\n",
       "      <td>1015</td>\n",
       "      <td>1</td>\n",
       "    </tr>\n",
       "    <tr>\n",
       "      <th>1</th>\n",
       "      <td>2016-05-01</td>\n",
       "      <td>1017</td>\n",
       "      <td>1</td>\n",
       "    </tr>\n",
       "    <tr>\n",
       "      <th>2</th>\n",
       "      <td>2016-05-01</td>\n",
       "      <td>1029</td>\n",
       "      <td>3</td>\n",
       "    </tr>\n",
       "    <tr>\n",
       "      <th>3</th>\n",
       "      <td>2016-05-01</td>\n",
       "      <td>1030</td>\n",
       "      <td>1</td>\n",
       "    </tr>\n",
       "    <tr>\n",
       "      <th>4</th>\n",
       "      <td>2016-05-01</td>\n",
       "      <td>1033</td>\n",
       "      <td>4</td>\n",
       "    </tr>\n",
       "  </tbody>\n",
       "</table>\n",
       "</div>"
      ],
      "text/plain": [
       "  tpep_pickup_datetime  region  trips\n",
       "0           2016-05-01    1015      1\n",
       "1           2016-05-01    1017      1\n",
       "2           2016-05-01    1029      3\n",
       "3           2016-05-01    1030      1\n",
       "4           2016-05-01    1033      4"
      ]
     },
     "execution_count": 20,
     "metadata": {},
     "output_type": "execute_result"
    }
   ],
   "source": [
    "dfg = df.groupby(['tpep_pickup_datetime','region']).size().reset_index().rename(columns={0: 'trips'})\n",
    "dfg.head()"
   ]
  },
  {
   "cell_type": "code",
   "execution_count": 21,
   "metadata": {},
   "outputs": [],
   "source": [
    "import itertools\n",
    "hours = pd.date_range(start  = '2016-05-01',\n",
    "                      end    = '2016-06-01',\n",
    "                      freq   = 'h',\n",
    "                      closed = 'left')\n",
    "dft = pd.DataFrame(itertools.product(hours, range(1, 2501)),\n",
    "                   columns = ['tpep_pickup_datetime', 'region'])\n",
    "\n",
    "dfg = dft.merge(dfg,\n",
    "                on  = ['tpep_pickup_datetime', 'region'],\n",
    "                how = 'left').fillna({'trips': 0})\n",
    "dfg['trips'] = dfg['trips'].astype(np.int64)"
   ]
  },
  {
   "cell_type": "code",
   "execution_count": 24,
   "metadata": {},
   "outputs": [
    {
     "data": {
      "text/html": [
       "<div>\n",
       "<style scoped>\n",
       "    .dataframe tbody tr th:only-of-type {\n",
       "        vertical-align: middle;\n",
       "    }\n",
       "\n",
       "    .dataframe tbody tr th {\n",
       "        vertical-align: top;\n",
       "    }\n",
       "\n",
       "    .dataframe thead th {\n",
       "        text-align: right;\n",
       "    }\n",
       "</style>\n",
       "<table border=\"1\" class=\"dataframe\">\n",
       "  <thead>\n",
       "    <tr style=\"text-align: right;\">\n",
       "      <th></th>\n",
       "      <th>tpep_pickup_datetime</th>\n",
       "      <th>region</th>\n",
       "      <th>trips</th>\n",
       "    </tr>\n",
       "  </thead>\n",
       "  <tbody>\n",
       "    <tr>\n",
       "      <th>0</th>\n",
       "      <td>2016-05-01</td>\n",
       "      <td>1</td>\n",
       "      <td>0</td>\n",
       "    </tr>\n",
       "    <tr>\n",
       "      <th>1</th>\n",
       "      <td>2016-05-01</td>\n",
       "      <td>2</td>\n",
       "      <td>0</td>\n",
       "    </tr>\n",
       "    <tr>\n",
       "      <th>2</th>\n",
       "      <td>2016-05-01</td>\n",
       "      <td>3</td>\n",
       "      <td>0</td>\n",
       "    </tr>\n",
       "    <tr>\n",
       "      <th>3</th>\n",
       "      <td>2016-05-01</td>\n",
       "      <td>4</td>\n",
       "      <td>0</td>\n",
       "    </tr>\n",
       "    <tr>\n",
       "      <th>4</th>\n",
       "      <td>2016-05-01</td>\n",
       "      <td>5</td>\n",
       "      <td>0</td>\n",
       "    </tr>\n",
       "    <tr>\n",
       "      <th>5</th>\n",
       "      <td>2016-05-01</td>\n",
       "      <td>6</td>\n",
       "      <td>0</td>\n",
       "    </tr>\n",
       "    <tr>\n",
       "      <th>6</th>\n",
       "      <td>2016-05-01</td>\n",
       "      <td>7</td>\n",
       "      <td>0</td>\n",
       "    </tr>\n",
       "    <tr>\n",
       "      <th>7</th>\n",
       "      <td>2016-05-01</td>\n",
       "      <td>8</td>\n",
       "      <td>0</td>\n",
       "    </tr>\n",
       "    <tr>\n",
       "      <th>8</th>\n",
       "      <td>2016-05-01</td>\n",
       "      <td>9</td>\n",
       "      <td>0</td>\n",
       "    </tr>\n",
       "  </tbody>\n",
       "</table>\n",
       "</div>"
      ],
      "text/plain": [
       "  tpep_pickup_datetime  region  trips\n",
       "0           2016-05-01       1      0\n",
       "1           2016-05-01       2      0\n",
       "2           2016-05-01       3      0\n",
       "3           2016-05-01       4      0\n",
       "4           2016-05-01       5      0\n",
       "5           2016-05-01       6      0\n",
       "6           2016-05-01       7      0\n",
       "7           2016-05-01       8      0\n",
       "8           2016-05-01       9      0"
      ]
     },
     "execution_count": 24,
     "metadata": {},
     "output_type": "execute_result"
    }
   ],
   "source": [
    "dfg.head(9)"
   ]
  },
  {
   "cell_type": "code",
   "execution_count": 25,
   "metadata": {},
   "outputs": [
    {
     "data": {
      "text/plain": [
       "(1860000, 3)"
      ]
     },
     "execution_count": 25,
     "metadata": {},
     "output_type": "execute_result"
    }
   ],
   "source": [
    "dfg.shape"
   ]
  },
  {
   "cell_type": "markdown",
   "metadata": {},
   "source": [
    "## Задания"
   ]
  },
  {
   "cell_type": "code",
   "execution_count": 26,
   "metadata": {},
   "outputs": [
    {
     "data": {
      "text/plain": [
       "1231"
      ]
     },
     "execution_count": 26,
     "metadata": {},
     "output_type": "execute_result"
    }
   ],
   "source": [
    "ESB = getRegionNumber(-73.9856715, 40.7484831)\n",
    "ESB"
   ]
  },
  {
   "cell_type": "code",
   "execution_count": 27,
   "metadata": {},
   "outputs": [
    {
     "name": "stdout",
     "output_type": "stream",
     "text": [
      "Populating the interactive namespace from numpy and matplotlib\n"
     ]
    },
    {
     "data": {
      "text/plain": [
       "Text(0.5, 1.0, 'Колличество поездок от времени из сектора Empire State Building (40.748, -73.985)')"
      ]
     },
     "execution_count": 27,
     "metadata": {},
     "output_type": "execute_result"
    },
    {
     "data": {
      "image/png": "[encoded data removed]",
      "text/plain": [
       "<Figure size 864x576 with 1 Axes>"
      ]
     },
     "metadata": {
      "needs_background": "light"
     },
     "output_type": "display_data"
    }
   ],
   "source": [
    "import matplotlib.pyplot as plt\n",
    "%pylab inline\n",
    "\n",
    "\n",
    "dfg[ dfg.region == ESB ][['tpep_pickup_datetime','trips']].\\\n",
    "     set_index('tpep_pickup_datetime').\\\n",
    "     plot(figsize=(12, 8))\n",
    "plt.title('Колличество поездок от времени из сектора Empire State Building (40.748, -73.985)')"
   ]
  },
  {
   "cell_type": "code",
   "execution_count": 28,
   "metadata": {},
   "outputs": [
    {
     "data": {
      "text/plain": [
       "1718238"
      ]
     },
     "execution_count": 28,
     "metadata": {},
     "output_type": "execute_result"
    }
   ],
   "source": [
    "dfg[dfg['trips'] == 0].shape[0]"
   ]
  },
  {
   "cell_type": "code",
   "execution_count": 23,
   "metadata": {},
   "outputs": [
    {
     "ename": "SyntaxError",
     "evalue": "invalid syntax (<ipython-input-23-8d06436c33a3>, line 1)",
     "output_type": "error",
     "traceback": [
      "\u001b[1;36m  File \u001b[1;32m\"<ipython-input-23-8d06436c33a3>\"\u001b[1;36m, line \u001b[1;32m1\u001b[0m\n\u001b[1;33m    //\u001b[0m\n\u001b[1;37m     ^\u001b[0m\n\u001b[1;31mSyntaxError\u001b[0m\u001b[1;31m:\u001b[0m invalid syntax\n"
     ]
    }
   ],
   "source": [
    "//"
   ]
  },
  {
   "cell_type": "code",
   "execution_count": null,
   "metadata": {},
   "outputs": [],
   "source": []
  }
 ],
 "metadata": {
  "kernelspec": {
   "display_name": "Python 3",
   "language": "python",
   "name": "python3"
  },
  "language_info": {
   "codemirror_mode": {
    "name": "ipython",
    "version": 3
   },
   "file_extension": ".py",
   "mimetype": "text/x-python",
   "name": "python",
   "nbconvert_exporter": "python",
   "pygments_lexer": "ipython3",
   "version": "3.7.4"
  }
 },
 "nbformat": 4,
 "nbformat_minor": 2
}
