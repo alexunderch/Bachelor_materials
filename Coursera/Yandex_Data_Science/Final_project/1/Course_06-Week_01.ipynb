{
 "cells": [
  {
   "cell_type": "markdown",
   "metadata": {},
   "source": [
    "# Знакомство с данными и агрегация "
   ]
  },
  {
   "cell_type": "markdown",
   "metadata": {},
   "source": [
    "### 1. Загрузите данные за май 2016 года. "
   ]
  },
  {
   "cell_type": "code",
   "execution_count": 1,
   "metadata": {
    "collapsed": true
   },
   "outputs": [],
   "source": [
    "import pandas as pd"
   ]
  },
  {
   "cell_type": "code",
   "execution_count": 2,
   "metadata": {
    "collapsed": true
   },
   "outputs": [],
   "source": [
    "# Считываем данные из файла с данными за май 2016 года:\n",
    "df_file = pd.read_csv('yellow_tripdata_2016-05.csv', header=0, sep=',')"
   ]
  },
  {
   "cell_type": "markdown",
   "metadata": {},
   "source": [
    "### 2. Проведите фильтрацию"
   ]
  },
  {
   "cell_type": "markdown",
   "metadata": {},
   "source": [
    "Удалите поездки с:\n",
    "- нулевой длительностью\n",
    "- нулевым количеством пассажиров\n",
    "- нулевым расстоянием поездки по счётчику\n",
    "- координатами начала, не попадающими в прямоугольник Нью-Йорка\n",
    "\n",
    "Можно придумать ещё какие-то критерии для фильтрации данных; тем не менее, не стоит применять дополнительные фильтры: начиная с четвёртой недели вам предстоит сравнивать качество ваших прогнозов с качеством прогнозов других слушателей, и, чтобы это сравнение было корректным, нужно, чтобы данные у всех были предобработаны одинаково."
   ]
  },
  {
   "cell_type": "code",
   "execution_count": 3,
   "metadata": {
    "collapsed": false
   },
   "outputs": [
    {
     "data": {
      "text/plain": [
       "(11836853, 19)"
      ]
     },
     "execution_count": 3,
     "metadata": {},
     "output_type": "execute_result"
    }
   ],
   "source": [
    "# Посмотрим на размер.\n",
    "# Имеем 11 836 853 поездки с 19-ю признаками:\n",
    "df_file.shape"
   ]
  },
  {
   "cell_type": "code",
   "execution_count": 4,
   "metadata": {
    "collapsed": false
   },
   "outputs": [
    {
     "data": {
      "text/html": [
       "<div>\n",
       "<style scoped>\n",
       "    .dataframe tbody tr th:only-of-type {\n",
       "        vertical-align: middle;\n",
       "    }\n",
       "\n",
       "    .dataframe tbody tr th {\n",
       "        vertical-align: top;\n",
       "    }\n",
       "\n",
       "    .dataframe thead th {\n",
       "        text-align: right;\n",
       "    }\n",
       "</style>\n",
       "<table border=\"1\" class=\"dataframe\">\n",
       "  <thead>\n",
       "    <tr style=\"text-align: right;\">\n",
       "      <th></th>\n",
       "      <th>VendorID</th>\n",
       "      <th>tpep_pickup_datetime</th>\n",
       "      <th>tpep_dropoff_datetime</th>\n",
       "      <th>passenger_count</th>\n",
       "      <th>trip_distance</th>\n",
       "      <th>pickup_longitude</th>\n",
       "      <th>pickup_latitude</th>\n",
       "      <th>RatecodeID</th>\n",
       "      <th>store_and_fwd_flag</th>\n",
       "      <th>dropoff_longitude</th>\n",
       "      <th>dropoff_latitude</th>\n",
       "      <th>payment_type</th>\n",
       "      <th>fare_amount</th>\n",
       "      <th>extra</th>\n",
       "      <th>mta_tax</th>\n",
       "      <th>tip_amount</th>\n",
       "      <th>tolls_amount</th>\n",
       "      <th>improvement_surcharge</th>\n",
       "      <th>total_amount</th>\n",
       "    </tr>\n",
       "  </thead>\n",
       "  <tbody>\n",
       "    <tr>\n",
       "      <th>0</th>\n",
       "      <td>1</td>\n",
       "      <td>2016-05-01 00:00:00</td>\n",
       "      <td>2016-05-01 00:17:31</td>\n",
       "      <td>1</td>\n",
       "      <td>3.60</td>\n",
       "      <td>-73.985901</td>\n",
       "      <td>40.768040</td>\n",
       "      <td>1</td>\n",
       "      <td>N</td>\n",
       "      <td>-73.983986</td>\n",
       "      <td>40.730099</td>\n",
       "      <td>1</td>\n",
       "      <td>15.0</td>\n",
       "      <td>0.5</td>\n",
       "      <td>0.5</td>\n",
       "      <td>1.50</td>\n",
       "      <td>0.0</td>\n",
       "      <td>0.3</td>\n",
       "      <td>17.80</td>\n",
       "    </tr>\n",
       "    <tr>\n",
       "      <th>1</th>\n",
       "      <td>2</td>\n",
       "      <td>2016-05-01 00:00:00</td>\n",
       "      <td>2016-05-01 00:07:31</td>\n",
       "      <td>1</td>\n",
       "      <td>1.68</td>\n",
       "      <td>-73.991577</td>\n",
       "      <td>40.744751</td>\n",
       "      <td>1</td>\n",
       "      <td>N</td>\n",
       "      <td>-73.975700</td>\n",
       "      <td>40.765469</td>\n",
       "      <td>1</td>\n",
       "      <td>7.5</td>\n",
       "      <td>0.5</td>\n",
       "      <td>0.5</td>\n",
       "      <td>0.88</td>\n",
       "      <td>0.0</td>\n",
       "      <td>0.3</td>\n",
       "      <td>9.68</td>\n",
       "    </tr>\n",
       "    <tr>\n",
       "      <th>2</th>\n",
       "      <td>2</td>\n",
       "      <td>2016-05-01 00:00:00</td>\n",
       "      <td>2016-05-01 00:07:01</td>\n",
       "      <td>6</td>\n",
       "      <td>1.09</td>\n",
       "      <td>-73.993073</td>\n",
       "      <td>40.741573</td>\n",
       "      <td>1</td>\n",
       "      <td>N</td>\n",
       "      <td>-73.980995</td>\n",
       "      <td>40.744633</td>\n",
       "      <td>1</td>\n",
       "      <td>6.5</td>\n",
       "      <td>0.5</td>\n",
       "      <td>0.5</td>\n",
       "      <td>1.56</td>\n",
       "      <td>0.0</td>\n",
       "      <td>0.3</td>\n",
       "      <td>9.36</td>\n",
       "    </tr>\n",
       "    <tr>\n",
       "      <th>3</th>\n",
       "      <td>2</td>\n",
       "      <td>2016-05-01 00:00:00</td>\n",
       "      <td>2016-05-01 00:19:47</td>\n",
       "      <td>1</td>\n",
       "      <td>4.21</td>\n",
       "      <td>-73.991943</td>\n",
       "      <td>40.684601</td>\n",
       "      <td>1</td>\n",
       "      <td>N</td>\n",
       "      <td>-74.002258</td>\n",
       "      <td>40.733002</td>\n",
       "      <td>1</td>\n",
       "      <td>17.0</td>\n",
       "      <td>0.5</td>\n",
       "      <td>0.5</td>\n",
       "      <td>3.66</td>\n",
       "      <td>0.0</td>\n",
       "      <td>0.3</td>\n",
       "      <td>21.96</td>\n",
       "    </tr>\n",
       "    <tr>\n",
       "      <th>4</th>\n",
       "      <td>2</td>\n",
       "      <td>2016-05-01 00:00:00</td>\n",
       "      <td>2016-05-01 00:06:39</td>\n",
       "      <td>1</td>\n",
       "      <td>0.56</td>\n",
       "      <td>-74.005280</td>\n",
       "      <td>40.740192</td>\n",
       "      <td>1</td>\n",
       "      <td>N</td>\n",
       "      <td>-73.997498</td>\n",
       "      <td>40.737564</td>\n",
       "      <td>1</td>\n",
       "      <td>6.0</td>\n",
       "      <td>0.5</td>\n",
       "      <td>0.5</td>\n",
       "      <td>1.46</td>\n",
       "      <td>0.0</td>\n",
       "      <td>0.3</td>\n",
       "      <td>8.76</td>\n",
       "    </tr>\n",
       "  </tbody>\n",
       "</table>\n",
       "</div>"
      ],
      "text/plain": [
       "   VendorID tpep_pickup_datetime tpep_dropoff_datetime  passenger_count  \\\n",
       "0         1  2016-05-01 00:00:00   2016-05-01 00:17:31                1   \n",
       "1         2  2016-05-01 00:00:00   2016-05-01 00:07:31                1   \n",
       "2         2  2016-05-01 00:00:00   2016-05-01 00:07:01                6   \n",
       "3         2  2016-05-01 00:00:00   2016-05-01 00:19:47                1   \n",
       "4         2  2016-05-01 00:00:00   2016-05-01 00:06:39                1   \n",
       "\n",
       "   trip_distance  pickup_longitude  pickup_latitude  RatecodeID  \\\n",
       "0           3.60        -73.985901        40.768040           1   \n",
       "1           1.68        -73.991577        40.744751           1   \n",
       "2           1.09        -73.993073        40.741573           1   \n",
       "3           4.21        -73.991943        40.684601           1   \n",
       "4           0.56        -74.005280        40.740192           1   \n",
       "\n",
       "  store_and_fwd_flag  dropoff_longitude  dropoff_latitude  payment_type  \\\n",
       "0                  N         -73.983986         40.730099             1   \n",
       "1                  N         -73.975700         40.765469             1   \n",
       "2                  N         -73.980995         40.744633             1   \n",
       "3                  N         -74.002258         40.733002             1   \n",
       "4                  N         -73.997498         40.737564             1   \n",
       "\n",
       "   fare_amount  extra  mta_tax  tip_amount  tolls_amount  \\\n",
       "0         15.0    0.5      0.5        1.50           0.0   \n",
       "1          7.5    0.5      0.5        0.88           0.0   \n",
       "2          6.5    0.5      0.5        1.56           0.0   \n",
       "3         17.0    0.5      0.5        3.66           0.0   \n",
       "4          6.0    0.5      0.5        1.46           0.0   \n",
       "\n",
       "   improvement_surcharge  total_amount  \n",
       "0                    0.3         17.80  \n",
       "1                    0.3          9.68  \n",
       "2                    0.3          9.36  \n",
       "3                    0.3         21.96  \n",
       "4                    0.3          8.76  "
      ]
     },
     "execution_count": 4,
     "metadata": {},
     "output_type": "execute_result"
    }
   ],
   "source": [
    "# Посмотрим на первые 5 записей\n",
    "df_file.head()"
   ]
  },
  {
   "cell_type": "code",
   "execution_count": 5,
   "metadata": {
    "collapsed": false
   },
   "outputs": [
    {
     "data": {
      "text/plain": [
       "VendorID                   int64\n",
       "tpep_pickup_datetime      object\n",
       "tpep_dropoff_datetime     object\n",
       "passenger_count            int64\n",
       "trip_distance            float64\n",
       "pickup_longitude         float64\n",
       "pickup_latitude          float64\n",
       "RatecodeID                 int64\n",
       "store_and_fwd_flag        object\n",
       "dropoff_longitude        float64\n",
       "dropoff_latitude         float64\n",
       "payment_type               int64\n",
       "fare_amount              float64\n",
       "extra                    float64\n",
       "mta_tax                  float64\n",
       "tip_amount               float64\n",
       "tolls_amount             float64\n",
       "improvement_surcharge    float64\n",
       "total_amount             float64\n",
       "dtype: object"
      ]
     },
     "execution_count": 5,
     "metadata": {},
     "output_type": "execute_result"
    }
   ],
   "source": [
    "# Смотрим на типы данных в столбцах:\n",
    "df_file.dtypes"
   ]
  },
  {
   "cell_type": "code",
   "execution_count": 6,
   "metadata": {
    "collapsed": true
   },
   "outputs": [],
   "source": [
    "# Меняем типы столбцов, в которых хранится дата/время посадки/высодки пассажиров, на datetime:\n",
    "# Выполняется долго!!! 17:22 \n",
    "df_file.tpep_pickup_datetime = df_file.tpep_pickup_datetime.apply(pd.to_datetime)\n",
    "df_file.tpep_dropoff_datetime = df_file.tpep_dropoff_datetime.apply(pd.to_datetime)"
   ]
  },
  {
   "cell_type": "code",
   "execution_count": 7,
   "metadata": {
    "collapsed": false
   },
   "outputs": [
    {
     "data": {
      "text/plain": [
       "VendorID                          int64\n",
       "tpep_pickup_datetime     datetime64[ns]\n",
       "tpep_dropoff_datetime    datetime64[ns]\n",
       "passenger_count                   int64\n",
       "trip_distance                   float64\n",
       "pickup_longitude                float64\n",
       "pickup_latitude                 float64\n",
       "RatecodeID                        int64\n",
       "store_and_fwd_flag               object\n",
       "dropoff_longitude               float64\n",
       "dropoff_latitude                float64\n",
       "payment_type                      int64\n",
       "fare_amount                     float64\n",
       "extra                           float64\n",
       "mta_tax                         float64\n",
       "tip_amount                      float64\n",
       "tolls_amount                    float64\n",
       "improvement_surcharge           float64\n",
       "total_amount                    float64\n",
       "dtype: object"
      ]
     },
     "execution_count": 7,
     "metadata": {},
     "output_type": "execute_result"
    }
   ],
   "source": [
    "# Смотрим на типы данных в столбцах:\n",
    "df_file.dtypes"
   ]
  },
  {
   "cell_type": "code",
   "execution_count": null,
   "metadata": {
    "collapsed": true
   },
   "outputs": [],
   "source": [
    "# Удаляем поездки, у которых:\n",
    "#    1. нулевая длительность\n",
    "#    2. нулевое количество пассажиров\n",
    "#    3. нулевое расстояние поездки по счётчику\n",
    "#    4. координаты начала не попадают в прямоугольник Нью-Йорка"
   ]
  },
  {
   "cell_type": "code",
   "execution_count": 8,
   "metadata": {
    "collapsed": false
   },
   "outputs": [
    {
     "data": {
      "text/plain": [
       "(11836853, 19)"
      ]
     },
     "execution_count": 8,
     "metadata": {},
     "output_type": "execute_result"
    }
   ],
   "source": [
    "# До удаления имеем 11 836 853 поездок с 19-ю признаками:\n",
    "df_file.shape "
   ]
  },
  {
   "cell_type": "code",
   "execution_count": 9,
   "metadata": {
    "collapsed": false
   },
   "outputs": [],
   "source": [
    "df_filtered = df_file.loc[(df_file['tpep_dropoff_datetime'] - df_file['tpep_pickup_datetime'] != '00:00:00') &\n",
    "                              (df_file['passenger_count']!=0) &\n",
    "                              (df_file['trip_distance']!=0)   &\n",
    "                              ((df_file['pickup_longitude'] >= -74.25559) & (df_file['pickup_longitude'] <= -73.70001) & \n",
    "                               (df_file['pickup_latitude'] >= 40.49612)   & (df_file['pickup_latitude'] <= 40.91553))\n",
    "                             ]"
   ]
  },
  {
   "cell_type": "code",
   "execution_count": 10,
   "metadata": {
    "collapsed": false
   },
   "outputs": [
    {
     "data": {
      "text/plain": [
       "(11626521, 19)"
      ]
     },
     "execution_count": 10,
     "metadata": {},
     "output_type": "execute_result"
    }
   ],
   "source": [
    "# После удаления имеем 11 626 521 поездок с 19-ю признаками (т.е. было удалено 210 332 поездок):\n",
    "df_filtered.shape "
   ]
  },
  {
   "cell_type": "markdown",
   "metadata": {},
   "source": [
    "### 3. Агрегация данных "
   ]
  },
  {
   "cell_type": "markdown",
   "metadata": {},
   "source": [
    "Агрегируйте данные за май 2016 года по часам и областям (можно использовать функцию stats.binned_statistic_2d, с которой вы сталкивались в заданиях четвёртого курса). Не забудьте проверить, что идентификаторы, которые вы присваиваете ячейкам, соответствуют приложенному выше файлу."
   ]
  },
  {
   "cell_type": "code",
   "execution_count": 31,
   "metadata": {
    "collapsed": true
   },
   "outputs": [],
   "source": [
    "# Создаём DataFrame для этого пункта:\n",
    "df_regs_hours = df_filtered"
   ]
  },
  {
   "cell_type": "code",
   "execution_count": 32,
   "metadata": {
    "collapsed": false
   },
   "outputs": [
    {
     "data": {
      "text/html": [
       "<div>\n",
       "<style scoped>\n",
       "    .dataframe tbody tr th:only-of-type {\n",
       "        vertical-align: middle;\n",
       "    }\n",
       "\n",
       "    .dataframe tbody tr th {\n",
       "        vertical-align: top;\n",
       "    }\n",
       "\n",
       "    .dataframe thead th {\n",
       "        text-align: right;\n",
       "    }\n",
       "</style>\n",
       "<table border=\"1\" class=\"dataframe\">\n",
       "  <thead>\n",
       "    <tr style=\"text-align: right;\">\n",
       "      <th></th>\n",
       "      <th>VendorID</th>\n",
       "      <th>tpep_pickup_datetime</th>\n",
       "      <th>tpep_dropoff_datetime</th>\n",
       "      <th>passenger_count</th>\n",
       "      <th>trip_distance</th>\n",
       "      <th>pickup_longitude</th>\n",
       "      <th>pickup_latitude</th>\n",
       "      <th>RatecodeID</th>\n",
       "      <th>store_and_fwd_flag</th>\n",
       "      <th>dropoff_longitude</th>\n",
       "      <th>...</th>\n",
       "      <th>payment_type</th>\n",
       "      <th>fare_amount</th>\n",
       "      <th>extra</th>\n",
       "      <th>mta_tax</th>\n",
       "      <th>tip_amount</th>\n",
       "      <th>tolls_amount</th>\n",
       "      <th>improvement_surcharge</th>\n",
       "      <th>total_amount</th>\n",
       "      <th>region_numbers</th>\n",
       "      <th>tpep_pickup_hour</th>\n",
       "    </tr>\n",
       "  </thead>\n",
       "  <tbody>\n",
       "    <tr>\n",
       "      <th>0</th>\n",
       "      <td>1</td>\n",
       "      <td>2016-05-01</td>\n",
       "      <td>2016-05-01 00:17:31</td>\n",
       "      <td>1</td>\n",
       "      <td>3.60</td>\n",
       "      <td>-73.985901</td>\n",
       "      <td>40.768040</td>\n",
       "      <td>1</td>\n",
       "      <td>N</td>\n",
       "      <td>-73.983986</td>\n",
       "      <td>...</td>\n",
       "      <td>1</td>\n",
       "      <td>15.0</td>\n",
       "      <td>0.5</td>\n",
       "      <td>0.5</td>\n",
       "      <td>1.50</td>\n",
       "      <td>0.0</td>\n",
       "      <td>0.3</td>\n",
       "      <td>17.80</td>\n",
       "      <td>1233</td>\n",
       "      <td>2016-05-01 00</td>\n",
       "    </tr>\n",
       "    <tr>\n",
       "      <th>1</th>\n",
       "      <td>2</td>\n",
       "      <td>2016-05-01</td>\n",
       "      <td>2016-05-01 00:07:31</td>\n",
       "      <td>1</td>\n",
       "      <td>1.68</td>\n",
       "      <td>-73.991577</td>\n",
       "      <td>40.744751</td>\n",
       "      <td>1</td>\n",
       "      <td>N</td>\n",
       "      <td>-73.975700</td>\n",
       "      <td>...</td>\n",
       "      <td>1</td>\n",
       "      <td>7.5</td>\n",
       "      <td>0.5</td>\n",
       "      <td>0.5</td>\n",
       "      <td>0.88</td>\n",
       "      <td>0.0</td>\n",
       "      <td>0.3</td>\n",
       "      <td>9.68</td>\n",
       "      <td>1180</td>\n",
       "      <td>2016-05-01 00</td>\n",
       "    </tr>\n",
       "    <tr>\n",
       "      <th>2</th>\n",
       "      <td>2</td>\n",
       "      <td>2016-05-01</td>\n",
       "      <td>2016-05-01 00:07:01</td>\n",
       "      <td>6</td>\n",
       "      <td>1.09</td>\n",
       "      <td>-73.993073</td>\n",
       "      <td>40.741573</td>\n",
       "      <td>1</td>\n",
       "      <td>N</td>\n",
       "      <td>-73.980995</td>\n",
       "      <td>...</td>\n",
       "      <td>1</td>\n",
       "      <td>6.5</td>\n",
       "      <td>0.5</td>\n",
       "      <td>0.5</td>\n",
       "      <td>1.56</td>\n",
       "      <td>0.0</td>\n",
       "      <td>0.3</td>\n",
       "      <td>9.36</td>\n",
       "      <td>1180</td>\n",
       "      <td>2016-05-01 00</td>\n",
       "    </tr>\n",
       "    <tr>\n",
       "      <th>3</th>\n",
       "      <td>2</td>\n",
       "      <td>2016-05-01</td>\n",
       "      <td>2016-05-01 00:19:47</td>\n",
       "      <td>1</td>\n",
       "      <td>4.21</td>\n",
       "      <td>-73.991943</td>\n",
       "      <td>40.684601</td>\n",
       "      <td>1</td>\n",
       "      <td>N</td>\n",
       "      <td>-74.002258</td>\n",
       "      <td>...</td>\n",
       "      <td>1</td>\n",
       "      <td>17.0</td>\n",
       "      <td>0.5</td>\n",
       "      <td>0.5</td>\n",
       "      <td>3.66</td>\n",
       "      <td>0.0</td>\n",
       "      <td>0.3</td>\n",
       "      <td>21.96</td>\n",
       "      <td>1173</td>\n",
       "      <td>2016-05-01 00</td>\n",
       "    </tr>\n",
       "    <tr>\n",
       "      <th>4</th>\n",
       "      <td>2</td>\n",
       "      <td>2016-05-01</td>\n",
       "      <td>2016-05-01 00:06:39</td>\n",
       "      <td>1</td>\n",
       "      <td>0.56</td>\n",
       "      <td>-74.005280</td>\n",
       "      <td>40.740192</td>\n",
       "      <td>1</td>\n",
       "      <td>N</td>\n",
       "      <td>-73.997498</td>\n",
       "      <td>...</td>\n",
       "      <td>1</td>\n",
       "      <td>6.0</td>\n",
       "      <td>0.5</td>\n",
       "      <td>0.5</td>\n",
       "      <td>1.46</td>\n",
       "      <td>0.0</td>\n",
       "      <td>0.3</td>\n",
       "      <td>8.76</td>\n",
       "      <td>1130</td>\n",
       "      <td>2016-05-01 00</td>\n",
       "    </tr>\n",
       "  </tbody>\n",
       "</table>\n",
       "<p>5 rows × 21 columns</p>\n",
       "</div>"
      ],
      "text/plain": [
       "   VendorID tpep_pickup_datetime tpep_dropoff_datetime  passenger_count  \\\n",
       "0         1           2016-05-01   2016-05-01 00:17:31                1   \n",
       "1         2           2016-05-01   2016-05-01 00:07:31                1   \n",
       "2         2           2016-05-01   2016-05-01 00:07:01                6   \n",
       "3         2           2016-05-01   2016-05-01 00:19:47                1   \n",
       "4         2           2016-05-01   2016-05-01 00:06:39                1   \n",
       "\n",
       "   trip_distance  pickup_longitude  pickup_latitude  RatecodeID  \\\n",
       "0           3.60        -73.985901        40.768040           1   \n",
       "1           1.68        -73.991577        40.744751           1   \n",
       "2           1.09        -73.993073        40.741573           1   \n",
       "3           4.21        -73.991943        40.684601           1   \n",
       "4           0.56        -74.005280        40.740192           1   \n",
       "\n",
       "  store_and_fwd_flag  dropoff_longitude        ...         payment_type  \\\n",
       "0                  N         -73.983986        ...                    1   \n",
       "1                  N         -73.975700        ...                    1   \n",
       "2                  N         -73.980995        ...                    1   \n",
       "3                  N         -74.002258        ...                    1   \n",
       "4                  N         -73.997498        ...                    1   \n",
       "\n",
       "   fare_amount  extra  mta_tax  tip_amount  tolls_amount  \\\n",
       "0         15.0    0.5      0.5        1.50           0.0   \n",
       "1          7.5    0.5      0.5        0.88           0.0   \n",
       "2          6.5    0.5      0.5        1.56           0.0   \n",
       "3         17.0    0.5      0.5        3.66           0.0   \n",
       "4          6.0    0.5      0.5        1.46           0.0   \n",
       "\n",
       "   improvement_surcharge  total_amount  region_numbers  tpep_pickup_hour  \n",
       "0                    0.3         17.80            1233     2016-05-01 00  \n",
       "1                    0.3          9.68            1180     2016-05-01 00  \n",
       "2                    0.3          9.36            1180     2016-05-01 00  \n",
       "3                    0.3         21.96            1173     2016-05-01 00  \n",
       "4                    0.3          8.76            1130     2016-05-01 00  \n",
       "\n",
       "[5 rows x 21 columns]"
      ]
     },
     "execution_count": 32,
     "metadata": {},
     "output_type": "execute_result"
    }
   ],
   "source": [
    "# Посмотрим на первые 5 записей\n",
    "df_regs_hours.head()"
   ]
  },
  {
   "cell_type": "markdown",
   "metadata": {},
   "source": [
    "#### 3.1 Для агрегации по областям необходимо создасть столбец с номером области"
   ]
  },
  {
   "cell_type": "markdown",
   "metadata": {},
   "source": [
    "Для агрегации по областям необходимо создать столбец с номером области. Для этого, как написано в задании, будем использовать функцию stats.binned_statistic_2d.\n",
    "\n",
    "Сначала нужно сформировать параметры, которые будут поданы на вход этой функции: \n",
    "- значения долготы и широты границ областей;\n",
    "- значений долготы и широты пунктов начала всех поездок;"
   ]
  },
  {
   "cell_type": "markdown",
   "metadata": {},
   "source": [
    "##### 3.1.1 Расчёт значений долготы и широты границ областей:"
   ]
  },
  {
   "cell_type": "code",
   "execution_count": 33,
   "metadata": {
    "collapsed": true
   },
   "outputs": [],
   "source": [
    "# Создаём пустой список для значений границ областей (по долготе):\n",
    "binx = []"
   ]
  },
  {
   "cell_type": "code",
   "execution_count": 34,
   "metadata": {
    "collapsed": false
   },
   "outputs": [
    {
     "data": {
      "text/plain": [
       "0.0111116"
      ]
     },
     "execution_count": 34,
     "metadata": {},
     "output_type": "execute_result"
    }
   ],
   "source": [
    "# Расчёт расстояния между границами областей (по долготе):\n",
    "delta_x = round((-73.70001 - (-74.25559))/50, 7)\n",
    "delta_x"
   ]
  },
  {
   "cell_type": "code",
   "execution_count": 35,
   "metadata": {
    "collapsed": false
   },
   "outputs": [],
   "source": [
    "# Заполняем список значений границ областей (по долготе).\n",
    "# Первую и последнюю границы не включаем в список (из-за особенностей функции stats.binned_statistic_2d).\n",
    "for i in range(50):\n",
    "    if i==0:\n",
    "        continue\n",
    "    binx.append(round((-74.25559 + delta_x*i),7))"
   ]
  },
  {
   "cell_type": "code",
   "execution_count": 36,
   "metadata": {
    "collapsed": false
   },
   "outputs": [
    {
     "data": {
      "text/plain": [
       "49"
      ]
     },
     "execution_count": 36,
     "metadata": {},
     "output_type": "execute_result"
    }
   ],
   "source": [
    "len(binx)"
   ]
  },
  {
   "cell_type": "code",
   "execution_count": 37,
   "metadata": {
    "collapsed": true
   },
   "outputs": [],
   "source": [
    "# Создаём пустой список для значений границ областей (по широте):\n",
    "biny = []"
   ]
  },
  {
   "cell_type": "code",
   "execution_count": 38,
   "metadata": {
    "collapsed": false
   },
   "outputs": [
    {
     "data": {
      "text/plain": [
       "0.0083882"
      ]
     },
     "execution_count": 38,
     "metadata": {},
     "output_type": "execute_result"
    }
   ],
   "source": [
    "# Расчёт расстояния между границами областей (по широте):\n",
    "delta_y = round((40.91553 - (40.49612))/50, 7)\n",
    "delta_y"
   ]
  },
  {
   "cell_type": "code",
   "execution_count": 39,
   "metadata": {
    "collapsed": false
   },
   "outputs": [],
   "source": [
    "# Заполняем список значений границ областей (по широте).\n",
    "# Первую и последнюю границы не включаем в список (из-за особенностей функции stats.binned_statistic_2d).\n",
    "for i in range(50):\n",
    "    if i==0:\n",
    "        continue\n",
    "    biny.append(round((40.49612 + delta_y*i),7))"
   ]
  },
  {
   "cell_type": "code",
   "execution_count": 40,
   "metadata": {
    "collapsed": false
   },
   "outputs": [
    {
     "data": {
      "text/plain": [
       "49"
      ]
     },
     "execution_count": 40,
     "metadata": {},
     "output_type": "execute_result"
    }
   ],
   "source": [
    "len(biny)"
   ]
  },
  {
   "cell_type": "markdown",
   "metadata": {},
   "source": [
    "##### 3.1.2 Составляем списки значений долготы и широты пунктов начала всех поездок (pickup_longitude и pickup_latitude):"
   ]
  },
  {
   "cell_type": "code",
   "execution_count": 41,
   "metadata": {
    "collapsed": true
   },
   "outputs": [],
   "source": [
    "from scipy import stats"
   ]
  },
  {
   "cell_type": "code",
   "execution_count": 42,
   "metadata": {
    "collapsed": false
   },
   "outputs": [],
   "source": [
    "# Преобразуем столбцы в списки:\n",
    "x = df_regs_hours['pickup_longitude'].values.tolist()\n",
    "y = df_regs_hours['pickup_latitude'].values.tolist()"
   ]
  },
  {
   "cell_type": "markdown",
   "metadata": {},
   "source": [
    "##### 3.1.3 Формируем столбец с номерами областей"
   ]
  },
  {
   "cell_type": "code",
   "execution_count": 43,
   "metadata": {
    "collapsed": false
   },
   "outputs": [],
   "source": [
    "# Вызываем функию:\n",
    "ret = stats.binned_statistic_2d(x, y, None, 'count', bins=[binx, biny], expand_binnumbers=False)"
   ]
  },
  {
   "cell_type": "code",
   "execution_count": 44,
   "metadata": {
    "collapsed": false
   },
   "outputs": [
    {
     "data": {
      "text/plain": [
       "numpy.ndarray"
      ]
     },
     "execution_count": 44,
     "metadata": {},
     "output_type": "execute_result"
    }
   ],
   "source": [
    "# Смотрим на тип объекта, содержащего номера областей:\n",
    "type(ret.binnumber)"
   ]
  },
  {
   "cell_type": "code",
   "execution_count": 45,
   "metadata": {
    "collapsed": true
   },
   "outputs": [],
   "source": [
    "# Нумерация начинается с нуля, а нам нужно с единицы:\n",
    "region_numbers = ret.binnumber + 1"
   ]
  },
  {
   "cell_type": "code",
   "execution_count": 46,
   "metadata": {
    "collapsed": false
   },
   "outputs": [
    {
     "name": "stderr",
     "output_type": "stream",
     "text": [
      "C:\\Users\\1\\Anaconda2\\lib\\site-packages\\ipykernel\\__main__.py:2: SettingWithCopyWarning: \n",
      "A value is trying to be set on a copy of a slice from a DataFrame.\n",
      "Try using .loc[row_indexer,col_indexer] = value instead\n",
      "\n",
      "See the caveats in the documentation: http://pandas.pydata.org/pandas-docs/stable/indexing.html#indexing-view-versus-copy\n",
      "  from ipykernel import kernelapp as app\n"
     ]
    }
   ],
   "source": [
    "# Создаём столбец - номера регионов:\n",
    "df_regs_hours['region_numbers'] = region_numbers"
   ]
  },
  {
   "cell_type": "code",
   "execution_count": 47,
   "metadata": {
    "collapsed": false
   },
   "outputs": [
    {
     "data": {
      "text/html": [
       "<div>\n",
       "<style scoped>\n",
       "    .dataframe tbody tr th:only-of-type {\n",
       "        vertical-align: middle;\n",
       "    }\n",
       "\n",
       "    .dataframe tbody tr th {\n",
       "        vertical-align: top;\n",
       "    }\n",
       "\n",
       "    .dataframe thead th {\n",
       "        text-align: right;\n",
       "    }\n",
       "</style>\n",
       "<table border=\"1\" class=\"dataframe\">\n",
       "  <thead>\n",
       "    <tr style=\"text-align: right;\">\n",
       "      <th></th>\n",
       "      <th>VendorID</th>\n",
       "      <th>tpep_pickup_datetime</th>\n",
       "      <th>tpep_dropoff_datetime</th>\n",
       "      <th>passenger_count</th>\n",
       "      <th>trip_distance</th>\n",
       "      <th>pickup_longitude</th>\n",
       "      <th>pickup_latitude</th>\n",
       "      <th>RatecodeID</th>\n",
       "      <th>store_and_fwd_flag</th>\n",
       "      <th>dropoff_longitude</th>\n",
       "      <th>...</th>\n",
       "      <th>payment_type</th>\n",
       "      <th>fare_amount</th>\n",
       "      <th>extra</th>\n",
       "      <th>mta_tax</th>\n",
       "      <th>tip_amount</th>\n",
       "      <th>tolls_amount</th>\n",
       "      <th>improvement_surcharge</th>\n",
       "      <th>total_amount</th>\n",
       "      <th>region_numbers</th>\n",
       "      <th>tpep_pickup_hour</th>\n",
       "    </tr>\n",
       "  </thead>\n",
       "  <tbody>\n",
       "    <tr>\n",
       "      <th>0</th>\n",
       "      <td>1</td>\n",
       "      <td>2016-05-01 00:00:00</td>\n",
       "      <td>2016-05-01 00:17:31</td>\n",
       "      <td>1</td>\n",
       "      <td>3.60</td>\n",
       "      <td>-73.985901</td>\n",
       "      <td>40.768040</td>\n",
       "      <td>1</td>\n",
       "      <td>N</td>\n",
       "      <td>-73.983986</td>\n",
       "      <td>...</td>\n",
       "      <td>1</td>\n",
       "      <td>15.0</td>\n",
       "      <td>0.5</td>\n",
       "      <td>0.5</td>\n",
       "      <td>1.50</td>\n",
       "      <td>0.0</td>\n",
       "      <td>0.3</td>\n",
       "      <td>17.80</td>\n",
       "      <td>1233</td>\n",
       "      <td>2016-05-01 00</td>\n",
       "    </tr>\n",
       "    <tr>\n",
       "      <th>1</th>\n",
       "      <td>2</td>\n",
       "      <td>2016-05-01 00:00:00</td>\n",
       "      <td>2016-05-01 00:07:31</td>\n",
       "      <td>1</td>\n",
       "      <td>1.68</td>\n",
       "      <td>-73.991577</td>\n",
       "      <td>40.744751</td>\n",
       "      <td>1</td>\n",
       "      <td>N</td>\n",
       "      <td>-73.975700</td>\n",
       "      <td>...</td>\n",
       "      <td>1</td>\n",
       "      <td>7.5</td>\n",
       "      <td>0.5</td>\n",
       "      <td>0.5</td>\n",
       "      <td>0.88</td>\n",
       "      <td>0.0</td>\n",
       "      <td>0.3</td>\n",
       "      <td>9.68</td>\n",
       "      <td>1180</td>\n",
       "      <td>2016-05-01 00</td>\n",
       "    </tr>\n",
       "    <tr>\n",
       "      <th>2</th>\n",
       "      <td>2</td>\n",
       "      <td>2016-05-01 00:00:00</td>\n",
       "      <td>2016-05-01 00:07:01</td>\n",
       "      <td>6</td>\n",
       "      <td>1.09</td>\n",
       "      <td>-73.993073</td>\n",
       "      <td>40.741573</td>\n",
       "      <td>1</td>\n",
       "      <td>N</td>\n",
       "      <td>-73.980995</td>\n",
       "      <td>...</td>\n",
       "      <td>1</td>\n",
       "      <td>6.5</td>\n",
       "      <td>0.5</td>\n",
       "      <td>0.5</td>\n",
       "      <td>1.56</td>\n",
       "      <td>0.0</td>\n",
       "      <td>0.3</td>\n",
       "      <td>9.36</td>\n",
       "      <td>1180</td>\n",
       "      <td>2016-05-01 00</td>\n",
       "    </tr>\n",
       "    <tr>\n",
       "      <th>3</th>\n",
       "      <td>2</td>\n",
       "      <td>2016-05-01 00:00:00</td>\n",
       "      <td>2016-05-01 00:19:47</td>\n",
       "      <td>1</td>\n",
       "      <td>4.21</td>\n",
       "      <td>-73.991943</td>\n",
       "      <td>40.684601</td>\n",
       "      <td>1</td>\n",
       "      <td>N</td>\n",
       "      <td>-74.002258</td>\n",
       "      <td>...</td>\n",
       "      <td>1</td>\n",
       "      <td>17.0</td>\n",
       "      <td>0.5</td>\n",
       "      <td>0.5</td>\n",
       "      <td>3.66</td>\n",
       "      <td>0.0</td>\n",
       "      <td>0.3</td>\n",
       "      <td>21.96</td>\n",
       "      <td>1173</td>\n",
       "      <td>2016-05-01 00</td>\n",
       "    </tr>\n",
       "    <tr>\n",
       "      <th>4</th>\n",
       "      <td>2</td>\n",
       "      <td>2016-05-01 00:00:00</td>\n",
       "      <td>2016-05-01 00:06:39</td>\n",
       "      <td>1</td>\n",
       "      <td>0.56</td>\n",
       "      <td>-74.005280</td>\n",
       "      <td>40.740192</td>\n",
       "      <td>1</td>\n",
       "      <td>N</td>\n",
       "      <td>-73.997498</td>\n",
       "      <td>...</td>\n",
       "      <td>1</td>\n",
       "      <td>6.0</td>\n",
       "      <td>0.5</td>\n",
       "      <td>0.5</td>\n",
       "      <td>1.46</td>\n",
       "      <td>0.0</td>\n",
       "      <td>0.3</td>\n",
       "      <td>8.76</td>\n",
       "      <td>1130</td>\n",
       "      <td>2016-05-01 00</td>\n",
       "    </tr>\n",
       "    <tr>\n",
       "      <th>5</th>\n",
       "      <td>2</td>\n",
       "      <td>2016-05-01 00:00:00</td>\n",
       "      <td>2016-05-01 00:05:19</td>\n",
       "      <td>2</td>\n",
       "      <td>0.63</td>\n",
       "      <td>-73.979294</td>\n",
       "      <td>40.755764</td>\n",
       "      <td>1</td>\n",
       "      <td>N</td>\n",
       "      <td>-73.988014</td>\n",
       "      <td>...</td>\n",
       "      <td>1</td>\n",
       "      <td>5.0</td>\n",
       "      <td>0.5</td>\n",
       "      <td>0.5</td>\n",
       "      <td>0.00</td>\n",
       "      <td>0.0</td>\n",
       "      <td>0.3</td>\n",
       "      <td>6.30</td>\n",
       "      <td>1231</td>\n",
       "      <td>2016-05-01 00</td>\n",
       "    </tr>\n",
       "    <tr>\n",
       "      <th>6</th>\n",
       "      <td>2</td>\n",
       "      <td>2016-05-01 00:00:00</td>\n",
       "      <td>2016-05-01 00:15:43</td>\n",
       "      <td>1</td>\n",
       "      <td>6.68</td>\n",
       "      <td>-73.981544</td>\n",
       "      <td>40.780739</td>\n",
       "      <td>1</td>\n",
       "      <td>N</td>\n",
       "      <td>-73.937805</td>\n",
       "      <td>...</td>\n",
       "      <td>1</td>\n",
       "      <td>20.5</td>\n",
       "      <td>0.5</td>\n",
       "      <td>0.5</td>\n",
       "      <td>2.00</td>\n",
       "      <td>0.0</td>\n",
       "      <td>0.3</td>\n",
       "      <td>23.80</td>\n",
       "      <td>1234</td>\n",
       "      <td>2016-05-01 00</td>\n",
       "    </tr>\n",
       "    <tr>\n",
       "      <th>7</th>\n",
       "      <td>2</td>\n",
       "      <td>2016-05-01 00:00:00</td>\n",
       "      <td>2016-05-01 00:06:31</td>\n",
       "      <td>1</td>\n",
       "      <td>1.48</td>\n",
       "      <td>-73.987198</td>\n",
       "      <td>40.750507</td>\n",
       "      <td>1</td>\n",
       "      <td>N</td>\n",
       "      <td>-73.980797</td>\n",
       "      <td>...</td>\n",
       "      <td>1</td>\n",
       "      <td>7.0</td>\n",
       "      <td>0.5</td>\n",
       "      <td>0.5</td>\n",
       "      <td>1.66</td>\n",
       "      <td>0.0</td>\n",
       "      <td>0.3</td>\n",
       "      <td>9.96</td>\n",
       "      <td>1231</td>\n",
       "      <td>2016-05-01 00</td>\n",
       "    </tr>\n",
       "    <tr>\n",
       "      <th>11</th>\n",
       "      <td>1</td>\n",
       "      <td>2016-05-01 00:00:01</td>\n",
       "      <td>2016-05-01 00:15:50</td>\n",
       "      <td>1</td>\n",
       "      <td>5.20</td>\n",
       "      <td>-73.951302</td>\n",
       "      <td>40.774345</td>\n",
       "      <td>1</td>\n",
       "      <td>N</td>\n",
       "      <td>-74.002312</td>\n",
       "      <td>...</td>\n",
       "      <td>1</td>\n",
       "      <td>17.0</td>\n",
       "      <td>0.5</td>\n",
       "      <td>0.5</td>\n",
       "      <td>3.65</td>\n",
       "      <td>0.0</td>\n",
       "      <td>0.3</td>\n",
       "      <td>21.95</td>\n",
       "      <td>1384</td>\n",
       "      <td>2016-05-01 00</td>\n",
       "    </tr>\n",
       "    <tr>\n",
       "      <th>12</th>\n",
       "      <td>2</td>\n",
       "      <td>2016-05-01 00:00:01</td>\n",
       "      <td>2016-05-01 00:13:28</td>\n",
       "      <td>5</td>\n",
       "      <td>4.75</td>\n",
       "      <td>-73.983498</td>\n",
       "      <td>40.726082</td>\n",
       "      <td>1</td>\n",
       "      <td>N</td>\n",
       "      <td>-74.014130</td>\n",
       "      <td>...</td>\n",
       "      <td>1</td>\n",
       "      <td>16.0</td>\n",
       "      <td>0.5</td>\n",
       "      <td>0.5</td>\n",
       "      <td>3.46</td>\n",
       "      <td>0.0</td>\n",
       "      <td>0.3</td>\n",
       "      <td>20.76</td>\n",
       "      <td>1228</td>\n",
       "      <td>2016-05-01 00</td>\n",
       "    </tr>\n",
       "  </tbody>\n",
       "</table>\n",
       "<p>10 rows × 21 columns</p>\n",
       "</div>"
      ],
      "text/plain": [
       "    VendorID tpep_pickup_datetime tpep_dropoff_datetime  passenger_count  \\\n",
       "0          1  2016-05-01 00:00:00   2016-05-01 00:17:31                1   \n",
       "1          2  2016-05-01 00:00:00   2016-05-01 00:07:31                1   \n",
       "2          2  2016-05-01 00:00:00   2016-05-01 00:07:01                6   \n",
       "3          2  2016-05-01 00:00:00   2016-05-01 00:19:47                1   \n",
       "4          2  2016-05-01 00:00:00   2016-05-01 00:06:39                1   \n",
       "5          2  2016-05-01 00:00:00   2016-05-01 00:05:19                2   \n",
       "6          2  2016-05-01 00:00:00   2016-05-01 00:15:43                1   \n",
       "7          2  2016-05-01 00:00:00   2016-05-01 00:06:31                1   \n",
       "11         1  2016-05-01 00:00:01   2016-05-01 00:15:50                1   \n",
       "12         2  2016-05-01 00:00:01   2016-05-01 00:13:28                5   \n",
       "\n",
       "    trip_distance  pickup_longitude  pickup_latitude  RatecodeID  \\\n",
       "0            3.60        -73.985901        40.768040           1   \n",
       "1            1.68        -73.991577        40.744751           1   \n",
       "2            1.09        -73.993073        40.741573           1   \n",
       "3            4.21        -73.991943        40.684601           1   \n",
       "4            0.56        -74.005280        40.740192           1   \n",
       "5            0.63        -73.979294        40.755764           1   \n",
       "6            6.68        -73.981544        40.780739           1   \n",
       "7            1.48        -73.987198        40.750507           1   \n",
       "11           5.20        -73.951302        40.774345           1   \n",
       "12           4.75        -73.983498        40.726082           1   \n",
       "\n",
       "   store_and_fwd_flag  dropoff_longitude        ...         payment_type  \\\n",
       "0                   N         -73.983986        ...                    1   \n",
       "1                   N         -73.975700        ...                    1   \n",
       "2                   N         -73.980995        ...                    1   \n",
       "3                   N         -74.002258        ...                    1   \n",
       "4                   N         -73.997498        ...                    1   \n",
       "5                   N         -73.988014        ...                    1   \n",
       "6                   N         -73.937805        ...                    1   \n",
       "7                   N         -73.980797        ...                    1   \n",
       "11                  N         -74.002312        ...                    1   \n",
       "12                  N         -74.014130        ...                    1   \n",
       "\n",
       "    fare_amount  extra  mta_tax  tip_amount  tolls_amount  \\\n",
       "0          15.0    0.5      0.5        1.50           0.0   \n",
       "1           7.5    0.5      0.5        0.88           0.0   \n",
       "2           6.5    0.5      0.5        1.56           0.0   \n",
       "3          17.0    0.5      0.5        3.66           0.0   \n",
       "4           6.0    0.5      0.5        1.46           0.0   \n",
       "5           5.0    0.5      0.5        0.00           0.0   \n",
       "6          20.5    0.5      0.5        2.00           0.0   \n",
       "7           7.0    0.5      0.5        1.66           0.0   \n",
       "11         17.0    0.5      0.5        3.65           0.0   \n",
       "12         16.0    0.5      0.5        3.46           0.0   \n",
       "\n",
       "    improvement_surcharge  total_amount  region_numbers  tpep_pickup_hour  \n",
       "0                     0.3         17.80            1233     2016-05-01 00  \n",
       "1                     0.3          9.68            1180     2016-05-01 00  \n",
       "2                     0.3          9.36            1180     2016-05-01 00  \n",
       "3                     0.3         21.96            1173     2016-05-01 00  \n",
       "4                     0.3          8.76            1130     2016-05-01 00  \n",
       "5                     0.3          6.30            1231     2016-05-01 00  \n",
       "6                     0.3         23.80            1234     2016-05-01 00  \n",
       "7                     0.3          9.96            1231     2016-05-01 00  \n",
       "11                    0.3         21.95            1384     2016-05-01 00  \n",
       "12                    0.3         20.76            1228     2016-05-01 00  \n",
       "\n",
       "[10 rows x 21 columns]"
      ]
     },
     "execution_count": 47,
     "metadata": {},
     "output_type": "execute_result"
    }
   ],
   "source": [
    "df_regs_hours.head(10)"
   ]
  },
  {
   "cell_type": "markdown",
   "metadata": {},
   "source": [
    "#### 3.2 Для агрегации по часам необходимо создасть столбец с времем начала поездки (tpep_pickup_datetime) без минут и секунд:"
   ]
  },
  {
   "cell_type": "code",
   "execution_count": 48,
   "metadata": {
    "collapsed": true
   },
   "outputs": [],
   "source": [
    "import datetime"
   ]
  },
  {
   "cell_type": "code",
   "execution_count": 49,
   "metadata": {
    "collapsed": true
   },
   "outputs": [],
   "source": [
    "# Функция будет отрезать минуты и секунды, оставлять год, месяц, день, час:\n",
    "def cut_min_sec(pickup_datetime):\n",
    "    return datetime.datetime.strftime(pickup_datetime, '%Y-%m-%d %H')"
   ]
  },
  {
   "cell_type": "code",
   "execution_count": 50,
   "metadata": {
    "collapsed": false
   },
   "outputs": [
    {
     "name": "stderr",
     "output_type": "stream",
     "text": [
      "C:\\Users\\1\\Anaconda2\\lib\\site-packages\\ipykernel\\__main__.py:2: SettingWithCopyWarning: \n",
      "A value is trying to be set on a copy of a slice from a DataFrame.\n",
      "Try using .loc[row_indexer,col_indexer] = value instead\n",
      "\n",
      "See the caveats in the documentation: http://pandas.pydata.org/pandas-docs/stable/indexing.html#indexing-view-versus-copy\n",
      "  from ipykernel import kernelapp as app\n"
     ]
    }
   ],
   "source": [
    "# Создаём столбец - дата/время без минут и секунд:\n",
    "df_regs_hours['tpep_pickup_hour'] = df_regs_hours.tpep_pickup_datetime.apply(cut_min_sec)"
   ]
  },
  {
   "cell_type": "code",
   "execution_count": 51,
   "metadata": {
    "collapsed": false
   },
   "outputs": [
    {
     "data": {
      "text/html": [
       "<div>\n",
       "<style scoped>\n",
       "    .dataframe tbody tr th:only-of-type {\n",
       "        vertical-align: middle;\n",
       "    }\n",
       "\n",
       "    .dataframe tbody tr th {\n",
       "        vertical-align: top;\n",
       "    }\n",
       "\n",
       "    .dataframe thead th {\n",
       "        text-align: right;\n",
       "    }\n",
       "</style>\n",
       "<table border=\"1\" class=\"dataframe\">\n",
       "  <thead>\n",
       "    <tr style=\"text-align: right;\">\n",
       "      <th></th>\n",
       "      <th>VendorID</th>\n",
       "      <th>tpep_pickup_datetime</th>\n",
       "      <th>tpep_dropoff_datetime</th>\n",
       "      <th>passenger_count</th>\n",
       "      <th>trip_distance</th>\n",
       "      <th>pickup_longitude</th>\n",
       "      <th>pickup_latitude</th>\n",
       "      <th>RatecodeID</th>\n",
       "      <th>store_and_fwd_flag</th>\n",
       "      <th>dropoff_longitude</th>\n",
       "      <th>...</th>\n",
       "      <th>payment_type</th>\n",
       "      <th>fare_amount</th>\n",
       "      <th>extra</th>\n",
       "      <th>mta_tax</th>\n",
       "      <th>tip_amount</th>\n",
       "      <th>tolls_amount</th>\n",
       "      <th>improvement_surcharge</th>\n",
       "      <th>total_amount</th>\n",
       "      <th>region_numbers</th>\n",
       "      <th>tpep_pickup_hour</th>\n",
       "    </tr>\n",
       "  </thead>\n",
       "  <tbody>\n",
       "    <tr>\n",
       "      <th>0</th>\n",
       "      <td>1</td>\n",
       "      <td>2016-05-01 00:00:00</td>\n",
       "      <td>2016-05-01 00:17:31</td>\n",
       "      <td>1</td>\n",
       "      <td>3.60</td>\n",
       "      <td>-73.985901</td>\n",
       "      <td>40.768040</td>\n",
       "      <td>1</td>\n",
       "      <td>N</td>\n",
       "      <td>-73.983986</td>\n",
       "      <td>...</td>\n",
       "      <td>1</td>\n",
       "      <td>15.0</td>\n",
       "      <td>0.5</td>\n",
       "      <td>0.5</td>\n",
       "      <td>1.50</td>\n",
       "      <td>0.0</td>\n",
       "      <td>0.3</td>\n",
       "      <td>17.80</td>\n",
       "      <td>1233</td>\n",
       "      <td>2016-05-01 00</td>\n",
       "    </tr>\n",
       "    <tr>\n",
       "      <th>1</th>\n",
       "      <td>2</td>\n",
       "      <td>2016-05-01 00:00:00</td>\n",
       "      <td>2016-05-01 00:07:31</td>\n",
       "      <td>1</td>\n",
       "      <td>1.68</td>\n",
       "      <td>-73.991577</td>\n",
       "      <td>40.744751</td>\n",
       "      <td>1</td>\n",
       "      <td>N</td>\n",
       "      <td>-73.975700</td>\n",
       "      <td>...</td>\n",
       "      <td>1</td>\n",
       "      <td>7.5</td>\n",
       "      <td>0.5</td>\n",
       "      <td>0.5</td>\n",
       "      <td>0.88</td>\n",
       "      <td>0.0</td>\n",
       "      <td>0.3</td>\n",
       "      <td>9.68</td>\n",
       "      <td>1180</td>\n",
       "      <td>2016-05-01 00</td>\n",
       "    </tr>\n",
       "    <tr>\n",
       "      <th>2</th>\n",
       "      <td>2</td>\n",
       "      <td>2016-05-01 00:00:00</td>\n",
       "      <td>2016-05-01 00:07:01</td>\n",
       "      <td>6</td>\n",
       "      <td>1.09</td>\n",
       "      <td>-73.993073</td>\n",
       "      <td>40.741573</td>\n",
       "      <td>1</td>\n",
       "      <td>N</td>\n",
       "      <td>-73.980995</td>\n",
       "      <td>...</td>\n",
       "      <td>1</td>\n",
       "      <td>6.5</td>\n",
       "      <td>0.5</td>\n",
       "      <td>0.5</td>\n",
       "      <td>1.56</td>\n",
       "      <td>0.0</td>\n",
       "      <td>0.3</td>\n",
       "      <td>9.36</td>\n",
       "      <td>1180</td>\n",
       "      <td>2016-05-01 00</td>\n",
       "    </tr>\n",
       "    <tr>\n",
       "      <th>3</th>\n",
       "      <td>2</td>\n",
       "      <td>2016-05-01 00:00:00</td>\n",
       "      <td>2016-05-01 00:19:47</td>\n",
       "      <td>1</td>\n",
       "      <td>4.21</td>\n",
       "      <td>-73.991943</td>\n",
       "      <td>40.684601</td>\n",
       "      <td>1</td>\n",
       "      <td>N</td>\n",
       "      <td>-74.002258</td>\n",
       "      <td>...</td>\n",
       "      <td>1</td>\n",
       "      <td>17.0</td>\n",
       "      <td>0.5</td>\n",
       "      <td>0.5</td>\n",
       "      <td>3.66</td>\n",
       "      <td>0.0</td>\n",
       "      <td>0.3</td>\n",
       "      <td>21.96</td>\n",
       "      <td>1173</td>\n",
       "      <td>2016-05-01 00</td>\n",
       "    </tr>\n",
       "    <tr>\n",
       "      <th>4</th>\n",
       "      <td>2</td>\n",
       "      <td>2016-05-01 00:00:00</td>\n",
       "      <td>2016-05-01 00:06:39</td>\n",
       "      <td>1</td>\n",
       "      <td>0.56</td>\n",
       "      <td>-74.005280</td>\n",
       "      <td>40.740192</td>\n",
       "      <td>1</td>\n",
       "      <td>N</td>\n",
       "      <td>-73.997498</td>\n",
       "      <td>...</td>\n",
       "      <td>1</td>\n",
       "      <td>6.0</td>\n",
       "      <td>0.5</td>\n",
       "      <td>0.5</td>\n",
       "      <td>1.46</td>\n",
       "      <td>0.0</td>\n",
       "      <td>0.3</td>\n",
       "      <td>8.76</td>\n",
       "      <td>1130</td>\n",
       "      <td>2016-05-01 00</td>\n",
       "    </tr>\n",
       "    <tr>\n",
       "      <th>5</th>\n",
       "      <td>2</td>\n",
       "      <td>2016-05-01 00:00:00</td>\n",
       "      <td>2016-05-01 00:05:19</td>\n",
       "      <td>2</td>\n",
       "      <td>0.63</td>\n",
       "      <td>-73.979294</td>\n",
       "      <td>40.755764</td>\n",
       "      <td>1</td>\n",
       "      <td>N</td>\n",
       "      <td>-73.988014</td>\n",
       "      <td>...</td>\n",
       "      <td>1</td>\n",
       "      <td>5.0</td>\n",
       "      <td>0.5</td>\n",
       "      <td>0.5</td>\n",
       "      <td>0.00</td>\n",
       "      <td>0.0</td>\n",
       "      <td>0.3</td>\n",
       "      <td>6.30</td>\n",
       "      <td>1231</td>\n",
       "      <td>2016-05-01 00</td>\n",
       "    </tr>\n",
       "    <tr>\n",
       "      <th>6</th>\n",
       "      <td>2</td>\n",
       "      <td>2016-05-01 00:00:00</td>\n",
       "      <td>2016-05-01 00:15:43</td>\n",
       "      <td>1</td>\n",
       "      <td>6.68</td>\n",
       "      <td>-73.981544</td>\n",
       "      <td>40.780739</td>\n",
       "      <td>1</td>\n",
       "      <td>N</td>\n",
       "      <td>-73.937805</td>\n",
       "      <td>...</td>\n",
       "      <td>1</td>\n",
       "      <td>20.5</td>\n",
       "      <td>0.5</td>\n",
       "      <td>0.5</td>\n",
       "      <td>2.00</td>\n",
       "      <td>0.0</td>\n",
       "      <td>0.3</td>\n",
       "      <td>23.80</td>\n",
       "      <td>1234</td>\n",
       "      <td>2016-05-01 00</td>\n",
       "    </tr>\n",
       "    <tr>\n",
       "      <th>7</th>\n",
       "      <td>2</td>\n",
       "      <td>2016-05-01 00:00:00</td>\n",
       "      <td>2016-05-01 00:06:31</td>\n",
       "      <td>1</td>\n",
       "      <td>1.48</td>\n",
       "      <td>-73.987198</td>\n",
       "      <td>40.750507</td>\n",
       "      <td>1</td>\n",
       "      <td>N</td>\n",
       "      <td>-73.980797</td>\n",
       "      <td>...</td>\n",
       "      <td>1</td>\n",
       "      <td>7.0</td>\n",
       "      <td>0.5</td>\n",
       "      <td>0.5</td>\n",
       "      <td>1.66</td>\n",
       "      <td>0.0</td>\n",
       "      <td>0.3</td>\n",
       "      <td>9.96</td>\n",
       "      <td>1231</td>\n",
       "      <td>2016-05-01 00</td>\n",
       "    </tr>\n",
       "    <tr>\n",
       "      <th>11</th>\n",
       "      <td>1</td>\n",
       "      <td>2016-05-01 00:00:01</td>\n",
       "      <td>2016-05-01 00:15:50</td>\n",
       "      <td>1</td>\n",
       "      <td>5.20</td>\n",
       "      <td>-73.951302</td>\n",
       "      <td>40.774345</td>\n",
       "      <td>1</td>\n",
       "      <td>N</td>\n",
       "      <td>-74.002312</td>\n",
       "      <td>...</td>\n",
       "      <td>1</td>\n",
       "      <td>17.0</td>\n",
       "      <td>0.5</td>\n",
       "      <td>0.5</td>\n",
       "      <td>3.65</td>\n",
       "      <td>0.0</td>\n",
       "      <td>0.3</td>\n",
       "      <td>21.95</td>\n",
       "      <td>1384</td>\n",
       "      <td>2016-05-01 00</td>\n",
       "    </tr>\n",
       "    <tr>\n",
       "      <th>12</th>\n",
       "      <td>2</td>\n",
       "      <td>2016-05-01 00:00:01</td>\n",
       "      <td>2016-05-01 00:13:28</td>\n",
       "      <td>5</td>\n",
       "      <td>4.75</td>\n",
       "      <td>-73.983498</td>\n",
       "      <td>40.726082</td>\n",
       "      <td>1</td>\n",
       "      <td>N</td>\n",
       "      <td>-74.014130</td>\n",
       "      <td>...</td>\n",
       "      <td>1</td>\n",
       "      <td>16.0</td>\n",
       "      <td>0.5</td>\n",
       "      <td>0.5</td>\n",
       "      <td>3.46</td>\n",
       "      <td>0.0</td>\n",
       "      <td>0.3</td>\n",
       "      <td>20.76</td>\n",
       "      <td>1228</td>\n",
       "      <td>2016-05-01 00</td>\n",
       "    </tr>\n",
       "  </tbody>\n",
       "</table>\n",
       "<p>10 rows × 21 columns</p>\n",
       "</div>"
      ],
      "text/plain": [
       "    VendorID tpep_pickup_datetime tpep_dropoff_datetime  passenger_count  \\\n",
       "0          1  2016-05-01 00:00:00   2016-05-01 00:17:31                1   \n",
       "1          2  2016-05-01 00:00:00   2016-05-01 00:07:31                1   \n",
       "2          2  2016-05-01 00:00:00   2016-05-01 00:07:01                6   \n",
       "3          2  2016-05-01 00:00:00   2016-05-01 00:19:47                1   \n",
       "4          2  2016-05-01 00:00:00   2016-05-01 00:06:39                1   \n",
       "5          2  2016-05-01 00:00:00   2016-05-01 00:05:19                2   \n",
       "6          2  2016-05-01 00:00:00   2016-05-01 00:15:43                1   \n",
       "7          2  2016-05-01 00:00:00   2016-05-01 00:06:31                1   \n",
       "11         1  2016-05-01 00:00:01   2016-05-01 00:15:50                1   \n",
       "12         2  2016-05-01 00:00:01   2016-05-01 00:13:28                5   \n",
       "\n",
       "    trip_distance  pickup_longitude  pickup_latitude  RatecodeID  \\\n",
       "0            3.60        -73.985901        40.768040           1   \n",
       "1            1.68        -73.991577        40.744751           1   \n",
       "2            1.09        -73.993073        40.741573           1   \n",
       "3            4.21        -73.991943        40.684601           1   \n",
       "4            0.56        -74.005280        40.740192           1   \n",
       "5            0.63        -73.979294        40.755764           1   \n",
       "6            6.68        -73.981544        40.780739           1   \n",
       "7            1.48        -73.987198        40.750507           1   \n",
       "11           5.20        -73.951302        40.774345           1   \n",
       "12           4.75        -73.983498        40.726082           1   \n",
       "\n",
       "   store_and_fwd_flag  dropoff_longitude        ...         payment_type  \\\n",
       "0                   N         -73.983986        ...                    1   \n",
       "1                   N         -73.975700        ...                    1   \n",
       "2                   N         -73.980995        ...                    1   \n",
       "3                   N         -74.002258        ...                    1   \n",
       "4                   N         -73.997498        ...                    1   \n",
       "5                   N         -73.988014        ...                    1   \n",
       "6                   N         -73.937805        ...                    1   \n",
       "7                   N         -73.980797        ...                    1   \n",
       "11                  N         -74.002312        ...                    1   \n",
       "12                  N         -74.014130        ...                    1   \n",
       "\n",
       "    fare_amount  extra  mta_tax  tip_amount  tolls_amount  \\\n",
       "0          15.0    0.5      0.5        1.50           0.0   \n",
       "1           7.5    0.5      0.5        0.88           0.0   \n",
       "2           6.5    0.5      0.5        1.56           0.0   \n",
       "3          17.0    0.5      0.5        3.66           0.0   \n",
       "4           6.0    0.5      0.5        1.46           0.0   \n",
       "5           5.0    0.5      0.5        0.00           0.0   \n",
       "6          20.5    0.5      0.5        2.00           0.0   \n",
       "7           7.0    0.5      0.5        1.66           0.0   \n",
       "11         17.0    0.5      0.5        3.65           0.0   \n",
       "12         16.0    0.5      0.5        3.46           0.0   \n",
       "\n",
       "    improvement_surcharge  total_amount  region_numbers  tpep_pickup_hour  \n",
       "0                     0.3         17.80            1233     2016-05-01 00  \n",
       "1                     0.3          9.68            1180     2016-05-01 00  \n",
       "2                     0.3          9.36            1180     2016-05-01 00  \n",
       "3                     0.3         21.96            1173     2016-05-01 00  \n",
       "4                     0.3          8.76            1130     2016-05-01 00  \n",
       "5                     0.3          6.30            1231     2016-05-01 00  \n",
       "6                     0.3         23.80            1234     2016-05-01 00  \n",
       "7                     0.3          9.96            1231     2016-05-01 00  \n",
       "11                    0.3         21.95            1384     2016-05-01 00  \n",
       "12                    0.3         20.76            1228     2016-05-01 00  \n",
       "\n",
       "[10 rows x 21 columns]"
      ]
     },
     "execution_count": 51,
     "metadata": {},
     "output_type": "execute_result"
    }
   ],
   "source": [
    "df_regs_hours.head(10)"
   ]
  },
  {
   "cell_type": "markdown",
   "metadata": {},
   "source": [
    "#### 3.3 Проводим агрегацию"
   ]
  },
  {
   "cell_type": "code",
   "execution_count": 52,
   "metadata": {
    "collapsed": true
   },
   "outputs": [],
   "source": [
    "# Теперь можно провести агрегацию по времени и номеру области:\n",
    "df_aggr = df_regs_hours.groupby(['tpep_pickup_hour', 'region_numbers']).size().to_frame('number_of_lines').reset_index()"
   ]
  },
  {
   "cell_type": "code",
   "execution_count": 53,
   "metadata": {
    "collapsed": false
   },
   "outputs": [
    {
     "data": {
      "text/plain": [
       "(141762, 3)"
      ]
     },
     "execution_count": 53,
     "metadata": {},
     "output_type": "execute_result"
    }
   ],
   "source": [
    "# Смотрим, сколько строк получилось\n",
    "df_aggr.shape"
   ]
  },
  {
   "cell_type": "markdown",
   "metadata": {},
   "source": [
    "### 4. Выведите первые строки полученной таблицы с указанием времени, идентификатора зоны и количества поездок"
   ]
  },
  {
   "cell_type": "code",
   "execution_count": 54,
   "metadata": {
    "collapsed": false
   },
   "outputs": [
    {
     "data": {
      "text/html": [
       "<div>\n",
       "<style scoped>\n",
       "    .dataframe tbody tr th:only-of-type {\n",
       "        vertical-align: middle;\n",
       "    }\n",
       "\n",
       "    .dataframe tbody tr th {\n",
       "        vertical-align: top;\n",
       "    }\n",
       "\n",
       "    .dataframe thead th {\n",
       "        text-align: right;\n",
       "    }\n",
       "</style>\n",
       "<table border=\"1\" class=\"dataframe\">\n",
       "  <thead>\n",
       "    <tr style=\"text-align: right;\">\n",
       "      <th></th>\n",
       "      <th>tpep_pickup_hour</th>\n",
       "      <th>region_numbers</th>\n",
       "      <th>number_of_lines</th>\n",
       "    </tr>\n",
       "  </thead>\n",
       "  <tbody>\n",
       "    <tr>\n",
       "      <th>0</th>\n",
       "      <td>2016-05-01 00</td>\n",
       "      <td>1015</td>\n",
       "      <td>1</td>\n",
       "    </tr>\n",
       "    <tr>\n",
       "      <th>1</th>\n",
       "      <td>2016-05-01 00</td>\n",
       "      <td>1017</td>\n",
       "      <td>1</td>\n",
       "    </tr>\n",
       "    <tr>\n",
       "      <th>2</th>\n",
       "      <td>2016-05-01 00</td>\n",
       "      <td>1029</td>\n",
       "      <td>3</td>\n",
       "    </tr>\n",
       "    <tr>\n",
       "      <th>3</th>\n",
       "      <td>2016-05-01 00</td>\n",
       "      <td>1030</td>\n",
       "      <td>1</td>\n",
       "    </tr>\n",
       "    <tr>\n",
       "      <th>4</th>\n",
       "      <td>2016-05-01 00</td>\n",
       "      <td>1033</td>\n",
       "      <td>4</td>\n",
       "    </tr>\n",
       "  </tbody>\n",
       "</table>\n",
       "</div>"
      ],
      "text/plain": [
       "  tpep_pickup_hour  region_numbers  number_of_lines\n",
       "0    2016-05-01 00            1015                1\n",
       "1    2016-05-01 00            1017                1\n",
       "2    2016-05-01 00            1029                3\n",
       "3    2016-05-01 00            1030                1\n",
       "4    2016-05-01 00            1033                4"
      ]
     },
     "execution_count": 54,
     "metadata": {},
     "output_type": "execute_result"
    }
   ],
   "source": [
    "df_aggr.head()"
   ]
  },
  {
   "cell_type": "markdown",
   "metadata": {},
   "source": [
    "### 5. Постройте график количества поездок жёлтого такси из ячейки, содержащей Empire State Building "
   ]
  },
  {
   "cell_type": "code",
   "execution_count": null,
   "metadata": {
    "collapsed": true
   },
   "outputs": [],
   "source": [
    "# Координаты Empire State Building: \n",
    "#    40 44'54.36'' N\n",
    "#    73 59'08.36'' W"
   ]
  },
  {
   "cell_type": "code",
   "execution_count": null,
   "metadata": {
    "collapsed": true
   },
   "outputs": [],
   "source": [
    "# Рассчитаем эти координаты в десятичном формате:"
   ]
  },
  {
   "cell_type": "code",
   "execution_count": 55,
   "metadata": {
    "collapsed": true
   },
   "outputs": [],
   "source": [
    "# Долгота\n",
    "esb_longitude = []"
   ]
  },
  {
   "cell_type": "code",
   "execution_count": 56,
   "metadata": {
    "collapsed": false
   },
   "outputs": [
    {
     "data": {
      "text/plain": [
       "[-73.98565555555555]"
      ]
     },
     "execution_count": 56,
     "metadata": {},
     "output_type": "execute_result"
    }
   ],
   "source": [
    "esb_longitude.append(-(73. + 59./60 + 8.36/3600))\n",
    "esb_longitude"
   ]
  },
  {
   "cell_type": "code",
   "execution_count": 57,
   "metadata": {
    "collapsed": true
   },
   "outputs": [],
   "source": [
    "# Широта\n",
    "esb_latitude = []"
   ]
  },
  {
   "cell_type": "code",
   "execution_count": 58,
   "metadata": {
    "collapsed": false
   },
   "outputs": [
    {
     "data": {
      "text/plain": [
       "[40.74843333333333]"
      ]
     },
     "execution_count": 58,
     "metadata": {},
     "output_type": "execute_result"
    }
   ],
   "source": [
    "esb_latitude.append(40. + 44./60 + 54.36/3600)\n",
    "esb_latitude"
   ]
  },
  {
   "cell_type": "code",
   "execution_count": null,
   "metadata": {
    "collapsed": true
   },
   "outputs": [],
   "source": [
    "# Определим номер ячейки, в которой находится Empire State Building:"
   ]
  },
  {
   "cell_type": "code",
   "execution_count": 59,
   "metadata": {
    "collapsed": false
   },
   "outputs": [],
   "source": [
    "esb_ret = stats.binned_statistic_2d(esb_longitude, esb_latitude, None, 'count', bins=[binx, biny], expand_binnumbers=False)"
   ]
  },
  {
   "cell_type": "code",
   "execution_count": 60,
   "metadata": {
    "collapsed": true
   },
   "outputs": [],
   "source": [
    "# Нумерация начинается с нуля, а нам нужно с единицы:\n",
    "esb_region_numbers = esb_ret.binnumber + 1"
   ]
  },
  {
   "cell_type": "code",
   "execution_count": 61,
   "metadata": {
    "collapsed": false
   },
   "outputs": [
    {
     "data": {
      "text/plain": [
       "array([1231])"
      ]
     },
     "execution_count": 61,
     "metadata": {},
     "output_type": "execute_result"
    }
   ],
   "source": [
    "# Empire State Building находится в области 1231:\n",
    "esb_region_numbers"
   ]
  },
  {
   "cell_type": "code",
   "execution_count": null,
   "metadata": {
    "collapsed": true
   },
   "outputs": [],
   "source": [
    "# Строим график"
   ]
  },
  {
   "cell_type": "code",
   "execution_count": 62,
   "metadata": {
    "collapsed": false
   },
   "outputs": [],
   "source": [
    "import matplotlib.pyplot as plt\n",
    "%matplotlib inline"
   ]
  },
  {
   "cell_type": "code",
   "execution_count": 63,
   "metadata": {
    "collapsed": false
   },
   "outputs": [],
   "source": [
    "# Отбираем записи в области, содержащей Empire State Building\n",
    "df_aggr_esb = df_aggr[df_aggr.region_numbers == 1231]"
   ]
  },
  {
   "cell_type": "code",
   "execution_count": 64,
   "metadata": {
    "collapsed": false
   },
   "outputs": [
    {
     "data": {
      "text/plain": [
       "(744, 3)"
      ]
     },
     "execution_count": 64,
     "metadata": {},
     "output_type": "execute_result"
    }
   ],
   "source": [
    "# Количество записей = 744, это количество часов в мае (24 * 31), значит, в каждом часе была хотя бы одна поездка:\n",
    "df_aggr_esb.shape"
   ]
  },
  {
   "cell_type": "code",
   "execution_count": 65,
   "metadata": {
    "collapsed": false
   },
   "outputs": [],
   "source": [
    "import numpy as np"
   ]
  },
  {
   "cell_type": "code",
   "execution_count": 66,
   "metadata": {
    "collapsed": false
   },
   "outputs": [],
   "source": [
    "x_axis = range(744)"
   ]
  },
  {
   "cell_type": "code",
   "execution_count": 67,
   "metadata": {
    "collapsed": false
   },
   "outputs": [
    {
     "data": {
      "text/plain": [
       "list"
      ]
     },
     "execution_count": 67,
     "metadata": {},
     "output_type": "execute_result"
    }
   ],
   "source": [
    "type(x_axis)"
   ]
  },
  {
   "cell_type": "code",
   "execution_count": 68,
   "metadata": {
    "collapsed": false
   },
   "outputs": [],
   "source": [
    "y_axis = df_aggr_esb['number_of_lines'].tolist()"
   ]
  },
  {
   "cell_type": "code",
   "execution_count": 69,
   "metadata": {
    "collapsed": false
   },
   "outputs": [
    {
     "data": {
      "text/plain": [
       "list"
      ]
     },
     "execution_count": 69,
     "metadata": {},
     "output_type": "execute_result"
    }
   ],
   "source": [
    "type(y_axis)"
   ]
  },
  {
   "cell_type": "code",
   "execution_count": 70,
   "metadata": {
    "collapsed": false
   },
   "outputs": [
    {
     "data": {
      "text/plain": [
       "<matplotlib.legend.Legend at 0x1e5b2ba90>"
      ]
     },
     "execution_count": 70,
     "metadata": {},
     "output_type": "execute_result"
    },
    {
     "data": {
      "image/png": "[encoded data removed]",
      "text/plain": [
       "<matplotlib.figure.Figure at 0x1e5b2bac8>"
      ]
     },
     "metadata": {},
     "output_type": "display_data"
    }
   ],
   "source": [
    "plt.plot(x_axis, y_axis, label = 'Empire State Building')\n",
    "plt.ylabel('$Count of taxi rides$')\n",
    "plt.xlabel('$Time$')\n",
    "plt.legend()"
   ]
  },
  {
   "cell_type": "markdown",
   "metadata": {},
   "source": [
    "### 6. Посчитайте, сколько в мае 2016 было пар час-ячейка, для которых не было совершено ни одной поездки"
   ]
  },
  {
   "cell_type": "code",
   "execution_count": null,
   "metadata": {
    "collapsed": true
   },
   "outputs": [],
   "source": [
    "# Количество пар \"час-область\", для которых не было совершено ни одной поездки, можно рассчитать следующим образом.\n",
    "# Общее количество таких пар равно произведению количества часов в мае (744) на количество областей (2500) и равно:\n",
    "# 744 х 2500 = 1 860 000 шт."
   ]
  },
  {
   "cell_type": "code",
   "execution_count": null,
   "metadata": {
    "collapsed": true
   },
   "outputs": [],
   "source": [
    "# Из этого  значения нужно вычесть количество пар, в которых поездки были. Это количество равно количеству строк в \n",
    "# df_aggr (141 762 шт.), который был сформирован выше в пункте 3.3."
   ]
  },
  {
   "cell_type": "code",
   "execution_count": null,
   "metadata": {
    "collapsed": true
   },
   "outputs": [],
   "source": [
    "# Получаем значение 1 718 238 шт.:"
   ]
  },
  {
   "cell_type": "code",
   "execution_count": 71,
   "metadata": {
    "collapsed": false
   },
   "outputs": [
    {
     "data": {
      "text/plain": [
       "1718238"
      ]
     },
     "execution_count": 71,
     "metadata": {},
     "output_type": "execute_result"
    }
   ],
   "source": [
    "744 * 2500 - len(df_aggr)"
   ]
  },
  {
   "cell_type": "code",
   "execution_count": null,
   "metadata": {
    "collapsed": true
   },
   "outputs": [],
   "source": [
    "# Это значение можно проверить следующим образом."
   ]
  },
  {
   "cell_type": "code",
   "execution_count": 72,
   "metadata": {
    "collapsed": true
   },
   "outputs": [],
   "source": [
    "# Проводим группировку по полю 'tpep_pickup_hour' (часы). \n",
    "#\n",
    "# В результате получаем DataFrame, в котором для каждой пары \"час-область\" будут рассчитаны количества областей, в которых \n",
    "# были поездки в течение этого часа; при дальнейшем подсчёте каждое из этих значений нужно будет вычитать из 2500 (из общего \n",
    "# количества областей):\n",
    "\n",
    "df_aggr_hours = df_aggr.groupby(['tpep_pickup_hour']).size().to_frame('regs_count_within_hour').reset_index()"
   ]
  },
  {
   "cell_type": "code",
   "execution_count": 73,
   "metadata": {
    "collapsed": false
   },
   "outputs": [
    {
     "data": {
      "text/html": [
       "<div>\n",
       "<style scoped>\n",
       "    .dataframe tbody tr th:only-of-type {\n",
       "        vertical-align: middle;\n",
       "    }\n",
       "\n",
       "    .dataframe tbody tr th {\n",
       "        vertical-align: top;\n",
       "    }\n",
       "\n",
       "    .dataframe thead th {\n",
       "        text-align: right;\n",
       "    }\n",
       "</style>\n",
       "<table border=\"1\" class=\"dataframe\">\n",
       "  <thead>\n",
       "    <tr style=\"text-align: right;\">\n",
       "      <th></th>\n",
       "      <th>tpep_pickup_hour</th>\n",
       "      <th>regs_count_within_hour</th>\n",
       "    </tr>\n",
       "  </thead>\n",
       "  <tbody>\n",
       "    <tr>\n",
       "      <th>0</th>\n",
       "      <td>2016-05-01 00</td>\n",
       "      <td>225</td>\n",
       "    </tr>\n",
       "    <tr>\n",
       "      <th>1</th>\n",
       "      <td>2016-05-01 01</td>\n",
       "      <td>222</td>\n",
       "    </tr>\n",
       "    <tr>\n",
       "      <th>2</th>\n",
       "      <td>2016-05-01 02</td>\n",
       "      <td>221</td>\n",
       "    </tr>\n",
       "    <tr>\n",
       "      <th>3</th>\n",
       "      <td>2016-05-01 03</td>\n",
       "      <td>206</td>\n",
       "    </tr>\n",
       "    <tr>\n",
       "      <th>4</th>\n",
       "      <td>2016-05-01 04</td>\n",
       "      <td>214</td>\n",
       "    </tr>\n",
       "  </tbody>\n",
       "</table>\n",
       "</div>"
      ],
      "text/plain": [
       "  tpep_pickup_hour  regs_count_within_hour\n",
       "0    2016-05-01 00                     225\n",
       "1    2016-05-01 01                     222\n",
       "2    2016-05-01 02                     221\n",
       "3    2016-05-01 03                     206\n",
       "4    2016-05-01 04                     214"
      ]
     },
     "execution_count": 73,
     "metadata": {},
     "output_type": "execute_result"
    }
   ],
   "source": [
    "df_aggr_hours.head()"
   ]
  },
  {
   "cell_type": "code",
   "execution_count": 74,
   "metadata": {
    "collapsed": false
   },
   "outputs": [
    {
     "data": {
      "text/plain": [
       "(744, 2)"
      ]
     },
     "execution_count": 74,
     "metadata": {},
     "output_type": "execute_result"
    }
   ],
   "source": [
    "df_aggr_hours.shape"
   ]
  },
  {
   "cell_type": "code",
   "execution_count": null,
   "metadata": {
    "collapsed": true
   },
   "outputs": [],
   "source": [
    "# Проводим расчёт пар \"час-область\", для которых не было совершено ни одной поездки"
   ]
  },
  {
   "cell_type": "code",
   "execution_count": 75,
   "metadata": {
    "collapsed": true
   },
   "outputs": [],
   "source": [
    "empty_cells = 0"
   ]
  },
  {
   "cell_type": "code",
   "execution_count": 76,
   "metadata": {
    "collapsed": false
   },
   "outputs": [
    {
     "name": "stdout",
     "output_type": "stream",
     "text": [
      "1718238\n"
     ]
    }
   ],
   "source": [
    "for index, row in df_aggr_hours.iterrows():\n",
    "    empty_cells = empty_cells + (2500 - row['regs_count_within_hour'])\n",
    "        \n",
    "print(empty_cells)"
   ]
  },
  {
   "cell_type": "code",
   "execution_count": 199,
   "metadata": {
    "collapsed": true
   },
   "outputs": [],
   "source": [
    "# Получаем то же самое значение: 1 718 238 шт."
   ]
  }
 ],
 "metadata": {
  "kernelspec": {
   "display_name": "Python 2",
   "language": "python",
   "name": "python2"
  },
  "language_info": {
   "codemirror_mode": {
    "name": "ipython",
    "version": 2
   },
   "file_extension": ".py",
   "mimetype": "text/x-python",
   "name": "python",
   "nbconvert_exporter": "python",
   "pygments_lexer": "ipython2",
   "version": "2.7.13"
  }
 },
 "nbformat": 4,
 "nbformat_minor": 0
}
