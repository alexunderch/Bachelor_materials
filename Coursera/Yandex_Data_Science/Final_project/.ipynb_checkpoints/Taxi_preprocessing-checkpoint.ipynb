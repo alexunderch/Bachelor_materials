{
 "cells": [
  {
   "cell_type": "markdown",
   "metadata": {
    "colab_type": "text",
    "id": "K2z3Aedcwn8Z"
   },
   "source": [
    "## Загрузка и подключение необходимых файлов"
   ]
  },
  {
   "cell_type": "code",
   "execution_count": 3,
   "metadata": {
    "colab": {
     "base_uri": "https://localhost:8080/",
     "height": 153
    },
    "colab_type": "code",
    "id": "ucDzzoLkc_Uy",
    "outputId": "98316fc3-22dd-4f0b-fa08-8478d947fd5a"
   },
   "outputs": [
    {
     "name": "stdout",
     "output_type": "stream",
     "text": [
      "--2020-04-29 06:28:47--  https://s3.amazonaws.com/nyc-tlc/trip+data/yellow_tripdata_2016-05.csv\n",
      "Resolving s3.amazonaws.com (s3.amazonaws.com)... 52.217.36.126\n",
      "Connecting to s3.amazonaws.com (s3.amazonaws.com)|52.217.36.126|:443... connected.\n",
      "HTTP request sent, awaiting response... 200 OK\n",
      "Length: 1858526595 (1.7G) [application/octet-stream]\n",
      "Saving to: ‘yellow_tripdata_2016-05.csv.1’\n",
      "\n",
      "  yellow_tripdata_2   1%[                    ]  27.61M  9.44MB/s               ^C\n"
     ]
    }
   ],
   "source": [
    "!wget https://s3.amazonaws.com/nyc-tlc/trip+data/yellow_tripdata_2016-05.csv"
   ]
  },
  {
   "cell_type": "code",
   "execution_count": 1,
   "metadata": {
    "colab": {
     "base_uri": "https://localhost:8080/",
     "height": 34
    },
    "colab_type": "code",
    "id": "1PiyDc6SdcZD",
    "outputId": "e4f0c2a9-0f86-424a-af2d-5d876fd03c1a"
   },
   "outputs": [
    {
     "name": "stdout",
     "output_type": "stream",
     "text": [
      "Populating the interactive namespace from numpy and matplotlib\n"
     ]
    }
   ],
   "source": [
    "import pandas as pd\n",
    "import numpy as np\n",
    "from scipy.stats import binned_statistic_2d\n",
    "import matplotlib.pyplot as plt\n",
    "import datetime\n",
    "%pylab inline"
   ]
  },
  {
   "cell_type": "code",
   "execution_count": 0,
   "metadata": {
    "colab": {},
    "colab_type": "code",
    "id": "Ti3yl3Ped22N"
   },
   "outputs": [],
   "source": [
    "taxi = pd.read_csv(\"yellow_tripdata_2016-05.csv\", header = 0, skipinitialspace = True,\n",
    "                             parse_dates = [1, 2],\n",
    "                             date_parser = lambda x: datetime.datetime.strptime(x, '%Y-%m-%d %H:%M:%S'))"
   ]
  },
  {
   "cell_type": "code",
   "execution_count": 6,
   "metadata": {
    "colab": {
     "base_uri": "https://localhost:8080/",
     "height": 317
    },
    "colab_type": "code",
    "id": "at7RJAEdzP3C",
    "outputId": "7ee283c5-83dc-4af5-f857-17746a2d2d74"
   },
   "outputs": [
    {
     "data": {
      "text/html": [
       "<div>\n",
       "<style scoped>\n",
       "    .dataframe tbody tr th:only-of-type {\n",
       "        vertical-align: middle;\n",
       "    }\n",
       "\n",
       "    .dataframe tbody tr th {\n",
       "        vertical-align: top;\n",
       "    }\n",
       "\n",
       "    .dataframe thead th {\n",
       "        text-align: right;\n",
       "    }\n",
       "</style>\n",
       "<table border=\"1\" class=\"dataframe\">\n",
       "  <thead>\n",
       "    <tr style=\"text-align: right;\">\n",
       "      <th></th>\n",
       "      <th>VendorID</th>\n",
       "      <th>passenger_count</th>\n",
       "      <th>trip_distance</th>\n",
       "      <th>pickup_longitude</th>\n",
       "      <th>pickup_latitude</th>\n",
       "      <th>RatecodeID</th>\n",
       "      <th>dropoff_longitude</th>\n",
       "      <th>dropoff_latitude</th>\n",
       "      <th>payment_type</th>\n",
       "      <th>fare_amount</th>\n",
       "      <th>extra</th>\n",
       "      <th>mta_tax</th>\n",
       "      <th>tip_amount</th>\n",
       "      <th>tolls_amount</th>\n",
       "      <th>improvement_surcharge</th>\n",
       "      <th>total_amount</th>\n",
       "    </tr>\n",
       "  </thead>\n",
       "  <tbody>\n",
       "    <tr>\n",
       "      <th>count</th>\n",
       "      <td>1.183685e+07</td>\n",
       "      <td>1.183685e+07</td>\n",
       "      <td>1.183685e+07</td>\n",
       "      <td>1.183685e+07</td>\n",
       "      <td>1.183685e+07</td>\n",
       "      <td>1.183685e+07</td>\n",
       "      <td>1.183685e+07</td>\n",
       "      <td>1.183685e+07</td>\n",
       "      <td>1.183685e+07</td>\n",
       "      <td>1.183685e+07</td>\n",
       "      <td>1.183685e+07</td>\n",
       "      <td>1.183685e+07</td>\n",
       "      <td>1.183685e+07</td>\n",
       "      <td>1.183685e+07</td>\n",
       "      <td>1.183685e+07</td>\n",
       "      <td>1.183685e+07</td>\n",
       "    </tr>\n",
       "    <tr>\n",
       "      <th>mean</th>\n",
       "      <td>1.529075e+00</td>\n",
       "      <td>1.662265e+00</td>\n",
       "      <td>6.110069e+00</td>\n",
       "      <td>-7.304978e+01</td>\n",
       "      <td>4.024234e+01</td>\n",
       "      <td>1.045014e+00</td>\n",
       "      <td>-7.311869e+01</td>\n",
       "      <td>4.028127e+01</td>\n",
       "      <td>1.349840e+00</td>\n",
       "      <td>1.334066e+01</td>\n",
       "      <td>3.291893e-01</td>\n",
       "      <td>4.972577e-01</td>\n",
       "      <td>1.831982e+00</td>\n",
       "      <td>3.422044e-01</td>\n",
       "      <td>2.996838e-01</td>\n",
       "      <td>1.664095e+01</td>\n",
       "    </tr>\n",
       "    <tr>\n",
       "      <th>std</th>\n",
       "      <td>4.991539e-01</td>\n",
       "      <td>1.304418e+00</td>\n",
       "      <td>5.155162e+03</td>\n",
       "      <td>8.212003e+00</td>\n",
       "      <td>4.523904e+00</td>\n",
       "      <td>6.203209e-01</td>\n",
       "      <td>7.902544e+00</td>\n",
       "      <td>4.353644e+00</td>\n",
       "      <td>4.942504e-01</td>\n",
       "      <td>1.188799e+01</td>\n",
       "      <td>4.585669e-01</td>\n",
       "      <td>4.473578e-02</td>\n",
       "      <td>2.665043e+00</td>\n",
       "      <td>1.760303e+00</td>\n",
       "      <td>1.300760e-02</td>\n",
       "      <td>1.450379e+01</td>\n",
       "    </tr>\n",
       "    <tr>\n",
       "      <th>min</th>\n",
       "      <td>1.000000e+00</td>\n",
       "      <td>0.000000e+00</td>\n",
       "      <td>0.000000e+00</td>\n",
       "      <td>-1.650819e+02</td>\n",
       "      <td>-4.456935e+01</td>\n",
       "      <td>1.000000e+00</td>\n",
       "      <td>-1.295732e+02</td>\n",
       "      <td>0.000000e+00</td>\n",
       "      <td>1.000000e+00</td>\n",
       "      <td>-4.100000e+02</td>\n",
       "      <td>-3.900000e+01</td>\n",
       "      <td>-2.700000e+00</td>\n",
       "      <td>-8.000000e+01</td>\n",
       "      <td>-1.500000e+01</td>\n",
       "      <td>-3.000000e-01</td>\n",
       "      <td>-4.103000e+02</td>\n",
       "    </tr>\n",
       "    <tr>\n",
       "      <th>25%</th>\n",
       "      <td>1.000000e+00</td>\n",
       "      <td>1.000000e+00</td>\n",
       "      <td>1.000000e+00</td>\n",
       "      <td>-7.399179e+01</td>\n",
       "      <td>4.073611e+01</td>\n",
       "      <td>1.000000e+00</td>\n",
       "      <td>-7.399116e+01</td>\n",
       "      <td>4.073457e+01</td>\n",
       "      <td>1.000000e+00</td>\n",
       "      <td>6.500000e+00</td>\n",
       "      <td>0.000000e+00</td>\n",
       "      <td>5.000000e-01</td>\n",
       "      <td>0.000000e+00</td>\n",
       "      <td>0.000000e+00</td>\n",
       "      <td>3.000000e-01</td>\n",
       "      <td>8.760000e+00</td>\n",
       "    </tr>\n",
       "    <tr>\n",
       "      <th>50%</th>\n",
       "      <td>2.000000e+00</td>\n",
       "      <td>1.000000e+00</td>\n",
       "      <td>1.720000e+00</td>\n",
       "      <td>-7.398136e+01</td>\n",
       "      <td>4.075375e+01</td>\n",
       "      <td>1.000000e+00</td>\n",
       "      <td>-7.397922e+01</td>\n",
       "      <td>4.075439e+01</td>\n",
       "      <td>1.000000e+00</td>\n",
       "      <td>9.500000e+00</td>\n",
       "      <td>0.000000e+00</td>\n",
       "      <td>5.000000e-01</td>\n",
       "      <td>1.260000e+00</td>\n",
       "      <td>0.000000e+00</td>\n",
       "      <td>3.000000e-01</td>\n",
       "      <td>1.230000e+01</td>\n",
       "    </tr>\n",
       "    <tr>\n",
       "      <th>75%</th>\n",
       "      <td>2.000000e+00</td>\n",
       "      <td>2.000000e+00</td>\n",
       "      <td>3.270000e+00</td>\n",
       "      <td>-7.396588e+01</td>\n",
       "      <td>4.076862e+01</td>\n",
       "      <td>1.000000e+00</td>\n",
       "      <td>-7.396164e+01</td>\n",
       "      <td>4.077012e+01</td>\n",
       "      <td>2.000000e+00</td>\n",
       "      <td>1.500000e+01</td>\n",
       "      <td>5.000000e-01</td>\n",
       "      <td>5.000000e-01</td>\n",
       "      <td>2.450000e+00</td>\n",
       "      <td>0.000000e+00</td>\n",
       "      <td>3.000000e-01</td>\n",
       "      <td>1.836000e+01</td>\n",
       "    </tr>\n",
       "    <tr>\n",
       "      <th>max</th>\n",
       "      <td>2.000000e+00</td>\n",
       "      <td>9.000000e+00</td>\n",
       "      <td>1.200000e+07</td>\n",
       "      <td>1.184089e+02</td>\n",
       "      <td>5.366724e+01</td>\n",
       "      <td>9.900000e+01</td>\n",
       "      <td>0.000000e+00</td>\n",
       "      <td>7.012994e+01</td>\n",
       "      <td>5.000000e+00</td>\n",
       "      <td>8.007000e+03</td>\n",
       "      <td>7.900000e+01</td>\n",
       "      <td>4.030000e+01</td>\n",
       "      <td>7.500000e+02</td>\n",
       "      <td>1.120680e+03</td>\n",
       "      <td>3.100000e+00</td>\n",
       "      <td>8.007800e+03</td>\n",
       "    </tr>\n",
       "  </tbody>\n",
       "</table>\n",
       "</div>"
      ],
      "text/plain": [
       "           VendorID  passenger_count  ...  improvement_surcharge  total_amount\n",
       "count  1.183685e+07     1.183685e+07  ...           1.183685e+07  1.183685e+07\n",
       "mean   1.529075e+00     1.662265e+00  ...           2.996838e-01  1.664095e+01\n",
       "std    4.991539e-01     1.304418e+00  ...           1.300760e-02  1.450379e+01\n",
       "min    1.000000e+00     0.000000e+00  ...          -3.000000e-01 -4.103000e+02\n",
       "25%    1.000000e+00     1.000000e+00  ...           3.000000e-01  8.760000e+00\n",
       "50%    2.000000e+00     1.000000e+00  ...           3.000000e-01  1.230000e+01\n",
       "75%    2.000000e+00     2.000000e+00  ...           3.000000e-01  1.836000e+01\n",
       "max    2.000000e+00     9.000000e+00  ...           3.100000e+00  8.007800e+03\n",
       "\n",
       "[8 rows x 16 columns]"
      ]
     },
     "execution_count": 6,
     "metadata": {
      "tags": []
     },
     "output_type": "execute_result"
    }
   ],
   "source": [
    "taxi.describe()"
   ]
  },
  {
   "cell_type": "code",
   "execution_count": 0,
   "metadata": {
    "colab": {},
    "colab_type": "code",
    "id": "N9QY0WSleBi5"
   },
   "outputs": [],
   "source": [
    "labels = pd.read_csv(\"regions.csv\", sep = ';')"
   ]
  },
  {
   "cell_type": "markdown",
   "metadata": {
    "colab_type": "text",
    "id": "6Rd1Bec4wgZ-"
   },
   "source": [
    "## Очистка данных"
   ]
  },
  {
   "cell_type": "code",
   "execution_count": 0,
   "metadata": {
    "colab": {},
    "colab_type": "code",
    "id": "xoTdvyqweM8l"
   },
   "outputs": [],
   "source": [
    "taxi = taxi[(taxi['tpep_pickup_datetime'] != taxi['tpep_dropoff_datetime']) &\n",
    "              (taxi.passenger_count > 0) & \n",
    "              (taxi.trip_distance > 0) & \n",
    "              (taxi['pickup_longitude'] <= -73.70001) & \n",
    "              (taxi['pickup_longitude'] >= -74.25559) & \n",
    "              (taxi['pickup_latitude'] <= 40.91553) & \n",
    "              (taxi['pickup_latitude'] >= 40.49612)]\n",
    "taxi['tpep_pickup_datetime'] = taxi['tpep_pickup_datetime'].apply(lambda x: x.replace(minute = 0, second = 0))"
   ]
  },
  {
   "cell_type": "code",
   "execution_count": 0,
   "metadata": {
    "colab": {},
    "colab_type": "code",
    "id": "tNRKxv1E4mdi"
   },
   "outputs": [],
   "source": []
  },
  {
   "cell_type": "markdown",
   "metadata": {
    "colab_type": "text",
    "id": "AIiG3Y7azWTO"
   },
   "source": [
    "## Считаем количество поездок\n",
    "\n",
    "Используем binned_statistics_2d с биномиальным распределением"
   ]
  },
  {
   "cell_type": "code",
   "execution_count": 0,
   "metadata": {
    "colab": {},
    "colab_type": "code",
    "id": "33PszbOjePdm"
   },
   "outputs": [],
   "source": [
    "def get_trips(x, y, coords = [-74.25559, -73.70001, 40.49612, 40.91553]):\n",
    "    west, east, south, north = coords\n",
    "    counts = binned_statistic_2d(x, y, np.arange(len(x)), statistic = 'count', \n",
    "                                 range = [[west, east], [south, north]], \n",
    "                                 bins = [labels['west'].append(labels['east']).unique(), \n",
    "                                        labels['south'].append(labels['north']).unique()], \n",
    "                                 expand_binnumbers = True)\n",
    "    return counts.statistic.ravel()"
   ]
  },
  {
   "cell_type": "markdown",
   "metadata": {
    "colab_type": "text",
    "id": "0EUWrinr0GYN"
   },
   "source": [
    "## Собираем поездки по датам"
   ]
  },
  {
   "cell_type": "code",
   "execution_count": 0,
   "metadata": {
    "colab": {},
    "colab_type": "code",
    "id": "PFaI1Uowz8hG"
   },
   "outputs": [],
   "source": [
    "#считаем часы в каждом месяце\n",
    "\n",
    "def get_hours(date):\n",
    "    now_date = date.replace(day = 1, hour = 0, minute = 0, second = 0)\n",
    "    target_month = now_date.month\n",
    "    now_month = now_date.month\n",
    "    res_list = []\n",
    "    while now_month == target_month:\n",
    "        res_list.append(now_date)\n",
    "        now_date = now_date + datetime.timedelta(hours = 1)\n",
    "        now_month = now_date.month\n",
    "    return res_list"
   ]
  },
  {
   "cell_type": "code",
   "execution_count": 0,
   "metadata": {
    "colab": {},
    "colab_type": "code",
    "id": "cciRDymYJu9a"
   },
   "outputs": [],
   "source": [
    "hours = get_hours(taxi['tpep_pickup_datetime'][0])\n",
    "for hour in hours:\n",
    "    values = np.zeros((labels.shape[0],))\n",
    "    labels[hour] = values\n",
    "    \n",
    "#соберём статистику по поездкам\n",
    "for hour in set(taxi['tpep_pickup_datetime']):\n",
    "    h_chunk = taxi[taxi['tpep_pickup_datetime'] == hour]\n",
    "    x = np.array(h_chunk['pickup_longitude'])\n",
    "    y = np.array(h_chunk['pickup_latitude'])\n",
    "    labels[hour] = np.array(labels[hour]) + get_trips(x, y)"
   ]
  },
  {
   "cell_type": "code",
   "execution_count": 16,
   "metadata": {
    "colab": {
     "base_uri": "https://localhost:8080/",
     "height": 194
    },
    "colab_type": "code",
    "id": "CXrBUzkMN6aU",
    "outputId": "716ee7e4-9771-4c9b-d808-cf418078b966"
   },
   "outputs": [
    {
     "data": {
      "text/html": [
       "<div>\n",
       "<style scoped>\n",
       "    .dataframe tbody tr th:only-of-type {\n",
       "        vertical-align: middle;\n",
       "    }\n",
       "\n",
       "    .dataframe tbody tr th {\n",
       "        vertical-align: top;\n",
       "    }\n",
       "\n",
       "    .dataframe thead th {\n",
       "        text-align: right;\n",
       "    }\n",
       "</style>\n",
       "<table border=\"1\" class=\"dataframe\">\n",
       "  <thead>\n",
       "    <tr style=\"text-align: right;\">\n",
       "      <th></th>\n",
       "      <th>region</th>\n",
       "      <th>2016-05-01 00:00:00</th>\n",
       "      <th>2016-05-01 01:00:00</th>\n",
       "      <th>2016-05-01 02:00:00</th>\n",
       "      <th>2016-05-01 03:00:00</th>\n",
       "      <th>2016-05-01 04:00:00</th>\n",
       "      <th>2016-05-01 05:00:00</th>\n",
       "      <th>2016-05-01 06:00:00</th>\n",
       "      <th>2016-05-01 07:00:00</th>\n",
       "      <th>2016-05-01 08:00:00</th>\n",
       "      <th>2016-05-01 09:00:00</th>\n",
       "      <th>2016-05-01 10:00:00</th>\n",
       "      <th>2016-05-01 11:00:00</th>\n",
       "      <th>2016-05-01 12:00:00</th>\n",
       "      <th>2016-05-01 13:00:00</th>\n",
       "      <th>2016-05-01 14:00:00</th>\n",
       "      <th>2016-05-01 15:00:00</th>\n",
       "      <th>2016-05-01 16:00:00</th>\n",
       "      <th>2016-05-01 17:00:00</th>\n",
       "      <th>2016-05-01 18:00:00</th>\n",
       "      <th>2016-05-01 19:00:00</th>\n",
       "      <th>2016-05-01 20:00:00</th>\n",
       "      <th>2016-05-01 21:00:00</th>\n",
       "      <th>2016-05-01 22:00:00</th>\n",
       "      <th>2016-05-01 23:00:00</th>\n",
       "      <th>2016-05-02 00:00:00</th>\n",
       "      <th>2016-05-02 01:00:00</th>\n",
       "      <th>2016-05-02 02:00:00</th>\n",
       "      <th>2016-05-02 03:00:00</th>\n",
       "      <th>2016-05-02 04:00:00</th>\n",
       "      <th>2016-05-02 05:00:00</th>\n",
       "      <th>2016-05-02 06:00:00</th>\n",
       "      <th>2016-05-02 07:00:00</th>\n",
       "      <th>2016-05-02 08:00:00</th>\n",
       "      <th>2016-05-02 09:00:00</th>\n",
       "      <th>2016-05-02 10:00:00</th>\n",
       "      <th>2016-05-02 11:00:00</th>\n",
       "      <th>2016-05-02 12:00:00</th>\n",
       "      <th>2016-05-02 13:00:00</th>\n",
       "      <th>2016-05-02 14:00:00</th>\n",
       "      <th>...</th>\n",
       "      <th>2016-05-30 08:00:00</th>\n",
       "      <th>2016-05-30 09:00:00</th>\n",
       "      <th>2016-05-30 10:00:00</th>\n",
       "      <th>2016-05-30 11:00:00</th>\n",
       "      <th>2016-05-30 12:00:00</th>\n",
       "      <th>2016-05-30 13:00:00</th>\n",
       "      <th>2016-05-30 14:00:00</th>\n",
       "      <th>2016-05-30 15:00:00</th>\n",
       "      <th>2016-05-30 16:00:00</th>\n",
       "      <th>2016-05-30 17:00:00</th>\n",
       "      <th>2016-05-30 18:00:00</th>\n",
       "      <th>2016-05-30 19:00:00</th>\n",
       "      <th>2016-05-30 20:00:00</th>\n",
       "      <th>2016-05-30 21:00:00</th>\n",
       "      <th>2016-05-30 22:00:00</th>\n",
       "      <th>2016-05-30 23:00:00</th>\n",
       "      <th>2016-05-31 00:00:00</th>\n",
       "      <th>2016-05-31 01:00:00</th>\n",
       "      <th>2016-05-31 02:00:00</th>\n",
       "      <th>2016-05-31 03:00:00</th>\n",
       "      <th>2016-05-31 04:00:00</th>\n",
       "      <th>2016-05-31 05:00:00</th>\n",
       "      <th>2016-05-31 06:00:00</th>\n",
       "      <th>2016-05-31 07:00:00</th>\n",
       "      <th>2016-05-31 08:00:00</th>\n",
       "      <th>2016-05-31 09:00:00</th>\n",
       "      <th>2016-05-31 10:00:00</th>\n",
       "      <th>2016-05-31 11:00:00</th>\n",
       "      <th>2016-05-31 12:00:00</th>\n",
       "      <th>2016-05-31 13:00:00</th>\n",
       "      <th>2016-05-31 14:00:00</th>\n",
       "      <th>2016-05-31 15:00:00</th>\n",
       "      <th>2016-05-31 16:00:00</th>\n",
       "      <th>2016-05-31 17:00:00</th>\n",
       "      <th>2016-05-31 18:00:00</th>\n",
       "      <th>2016-05-31 19:00:00</th>\n",
       "      <th>2016-05-31 20:00:00</th>\n",
       "      <th>2016-05-31 21:00:00</th>\n",
       "      <th>2016-05-31 22:00:00</th>\n",
       "      <th>2016-05-31 23:00:00</th>\n",
       "    </tr>\n",
       "  </thead>\n",
       "  <tbody>\n",
       "    <tr>\n",
       "      <th>0</th>\n",
       "      <td>1</td>\n",
       "      <td>0.0</td>\n",
       "      <td>0.0</td>\n",
       "      <td>0.0</td>\n",
       "      <td>0.0</td>\n",
       "      <td>0.0</td>\n",
       "      <td>0.0</td>\n",
       "      <td>0.0</td>\n",
       "      <td>0.0</td>\n",
       "      <td>0.0</td>\n",
       "      <td>0.0</td>\n",
       "      <td>0.0</td>\n",
       "      <td>0.0</td>\n",
       "      <td>0.0</td>\n",
       "      <td>0.0</td>\n",
       "      <td>0.0</td>\n",
       "      <td>0.0</td>\n",
       "      <td>0.0</td>\n",
       "      <td>0.0</td>\n",
       "      <td>0.0</td>\n",
       "      <td>0.0</td>\n",
       "      <td>0.0</td>\n",
       "      <td>0.0</td>\n",
       "      <td>0.0</td>\n",
       "      <td>0.0</td>\n",
       "      <td>0.0</td>\n",
       "      <td>0.0</td>\n",
       "      <td>0.0</td>\n",
       "      <td>0.0</td>\n",
       "      <td>0.0</td>\n",
       "      <td>0.0</td>\n",
       "      <td>0.0</td>\n",
       "      <td>0.0</td>\n",
       "      <td>0.0</td>\n",
       "      <td>0.0</td>\n",
       "      <td>0.0</td>\n",
       "      <td>0.0</td>\n",
       "      <td>0.0</td>\n",
       "      <td>0.0</td>\n",
       "      <td>0.0</td>\n",
       "      <td>...</td>\n",
       "      <td>0.0</td>\n",
       "      <td>0.0</td>\n",
       "      <td>0.0</td>\n",
       "      <td>0.0</td>\n",
       "      <td>0.0</td>\n",
       "      <td>0.0</td>\n",
       "      <td>0.0</td>\n",
       "      <td>0.0</td>\n",
       "      <td>0.0</td>\n",
       "      <td>0.0</td>\n",
       "      <td>0.0</td>\n",
       "      <td>0.0</td>\n",
       "      <td>0.0</td>\n",
       "      <td>0.0</td>\n",
       "      <td>0.0</td>\n",
       "      <td>0.0</td>\n",
       "      <td>0.0</td>\n",
       "      <td>0.0</td>\n",
       "      <td>0.0</td>\n",
       "      <td>0.0</td>\n",
       "      <td>0.0</td>\n",
       "      <td>0.0</td>\n",
       "      <td>0.0</td>\n",
       "      <td>0.0</td>\n",
       "      <td>0.0</td>\n",
       "      <td>0.0</td>\n",
       "      <td>0.0</td>\n",
       "      <td>0.0</td>\n",
       "      <td>0.0</td>\n",
       "      <td>0.0</td>\n",
       "      <td>0.0</td>\n",
       "      <td>0.0</td>\n",
       "      <td>0.0</td>\n",
       "      <td>0.0</td>\n",
       "      <td>0.0</td>\n",
       "      <td>0.0</td>\n",
       "      <td>0.0</td>\n",
       "      <td>0.0</td>\n",
       "      <td>0.0</td>\n",
       "      <td>0.0</td>\n",
       "    </tr>\n",
       "    <tr>\n",
       "      <th>1</th>\n",
       "      <td>2</td>\n",
       "      <td>0.0</td>\n",
       "      <td>0.0</td>\n",
       "      <td>0.0</td>\n",
       "      <td>0.0</td>\n",
       "      <td>0.0</td>\n",
       "      <td>0.0</td>\n",
       "      <td>0.0</td>\n",
       "      <td>0.0</td>\n",
       "      <td>0.0</td>\n",
       "      <td>0.0</td>\n",
       "      <td>0.0</td>\n",
       "      <td>0.0</td>\n",
       "      <td>0.0</td>\n",
       "      <td>0.0</td>\n",
       "      <td>0.0</td>\n",
       "      <td>0.0</td>\n",
       "      <td>0.0</td>\n",
       "      <td>0.0</td>\n",
       "      <td>0.0</td>\n",
       "      <td>0.0</td>\n",
       "      <td>0.0</td>\n",
       "      <td>0.0</td>\n",
       "      <td>0.0</td>\n",
       "      <td>0.0</td>\n",
       "      <td>0.0</td>\n",
       "      <td>0.0</td>\n",
       "      <td>0.0</td>\n",
       "      <td>0.0</td>\n",
       "      <td>0.0</td>\n",
       "      <td>0.0</td>\n",
       "      <td>0.0</td>\n",
       "      <td>0.0</td>\n",
       "      <td>0.0</td>\n",
       "      <td>0.0</td>\n",
       "      <td>0.0</td>\n",
       "      <td>0.0</td>\n",
       "      <td>0.0</td>\n",
       "      <td>0.0</td>\n",
       "      <td>0.0</td>\n",
       "      <td>...</td>\n",
       "      <td>0.0</td>\n",
       "      <td>0.0</td>\n",
       "      <td>0.0</td>\n",
       "      <td>0.0</td>\n",
       "      <td>0.0</td>\n",
       "      <td>0.0</td>\n",
       "      <td>0.0</td>\n",
       "      <td>0.0</td>\n",
       "      <td>0.0</td>\n",
       "      <td>0.0</td>\n",
       "      <td>0.0</td>\n",
       "      <td>0.0</td>\n",
       "      <td>0.0</td>\n",
       "      <td>0.0</td>\n",
       "      <td>0.0</td>\n",
       "      <td>0.0</td>\n",
       "      <td>0.0</td>\n",
       "      <td>0.0</td>\n",
       "      <td>0.0</td>\n",
       "      <td>0.0</td>\n",
       "      <td>0.0</td>\n",
       "      <td>0.0</td>\n",
       "      <td>0.0</td>\n",
       "      <td>0.0</td>\n",
       "      <td>0.0</td>\n",
       "      <td>0.0</td>\n",
       "      <td>0.0</td>\n",
       "      <td>0.0</td>\n",
       "      <td>0.0</td>\n",
       "      <td>0.0</td>\n",
       "      <td>0.0</td>\n",
       "      <td>0.0</td>\n",
       "      <td>0.0</td>\n",
       "      <td>0.0</td>\n",
       "      <td>0.0</td>\n",
       "      <td>0.0</td>\n",
       "      <td>0.0</td>\n",
       "      <td>0.0</td>\n",
       "      <td>0.0</td>\n",
       "      <td>0.0</td>\n",
       "    </tr>\n",
       "  </tbody>\n",
       "</table>\n",
       "<p>2 rows × 745 columns</p>\n",
       "</div>"
      ],
      "text/plain": [
       "   region  2016-05-01 00:00:00  ...  2016-05-31 22:00:00  2016-05-31 23:00:00\n",
       "0       1                  0.0  ...                  0.0                  0.0\n",
       "1       2                  0.0  ...                  0.0                  0.0\n",
       "\n",
       "[2 rows x 745 columns]"
      ]
     },
     "execution_count": 16,
     "metadata": {
      "tags": []
     },
     "output_type": "execute_result"
    }
   ],
   "source": [
    "col_ind = [0] + list(range(labels.shape[1]))[5:]\n",
    "labels.iloc[0:2, col_ind]\n"
   ]
  },
  {
   "cell_type": "code",
   "execution_count": 21,
   "metadata": {
    "colab": {
     "base_uri": "https://localhost:8080/",
     "height": 419
    },
    "colab_type": "code",
    "id": "J2G4AFjmp863",
    "outputId": "3591fcd4-e764-41da-f711-ab7d155632ce"
   },
   "outputs": [
    {
     "data": {
      "text/html": [
       "<div>\n",
       "<style scoped>\n",
       "    .dataframe tbody tr th:only-of-type {\n",
       "        vertical-align: middle;\n",
       "    }\n",
       "\n",
       "    .dataframe tbody tr th {\n",
       "        vertical-align: top;\n",
       "    }\n",
       "\n",
       "    .dataframe thead th {\n",
       "        text-align: right;\n",
       "    }\n",
       "</style>\n",
       "<table border=\"1\" class=\"dataframe\">\n",
       "  <thead>\n",
       "    <tr style=\"text-align: right;\">\n",
       "      <th></th>\n",
       "      <th>region</th>\n",
       "      <th>2016-05-01 00:00:00</th>\n",
       "      <th>2016-05-01 01:00:00</th>\n",
       "    </tr>\n",
       "  </thead>\n",
       "  <tbody>\n",
       "    <tr>\n",
       "      <th>0</th>\n",
       "      <td>1</td>\n",
       "      <td>0.0</td>\n",
       "      <td>0.0</td>\n",
       "    </tr>\n",
       "    <tr>\n",
       "      <th>1</th>\n",
       "      <td>2</td>\n",
       "      <td>0.0</td>\n",
       "      <td>0.0</td>\n",
       "    </tr>\n",
       "    <tr>\n",
       "      <th>2</th>\n",
       "      <td>3</td>\n",
       "      <td>0.0</td>\n",
       "      <td>0.0</td>\n",
       "    </tr>\n",
       "    <tr>\n",
       "      <th>3</th>\n",
       "      <td>4</td>\n",
       "      <td>0.0</td>\n",
       "      <td>0.0</td>\n",
       "    </tr>\n",
       "    <tr>\n",
       "      <th>4</th>\n",
       "      <td>5</td>\n",
       "      <td>0.0</td>\n",
       "      <td>0.0</td>\n",
       "    </tr>\n",
       "    <tr>\n",
       "      <th>...</th>\n",
       "      <td>...</td>\n",
       "      <td>...</td>\n",
       "      <td>...</td>\n",
       "    </tr>\n",
       "    <tr>\n",
       "      <th>2495</th>\n",
       "      <td>2496</td>\n",
       "      <td>0.0</td>\n",
       "      <td>0.0</td>\n",
       "    </tr>\n",
       "    <tr>\n",
       "      <th>2496</th>\n",
       "      <td>2497</td>\n",
       "      <td>0.0</td>\n",
       "      <td>0.0</td>\n",
       "    </tr>\n",
       "    <tr>\n",
       "      <th>2497</th>\n",
       "      <td>2498</td>\n",
       "      <td>0.0</td>\n",
       "      <td>0.0</td>\n",
       "    </tr>\n",
       "    <tr>\n",
       "      <th>2498</th>\n",
       "      <td>2499</td>\n",
       "      <td>0.0</td>\n",
       "      <td>0.0</td>\n",
       "    </tr>\n",
       "    <tr>\n",
       "      <th>2499</th>\n",
       "      <td>2500</td>\n",
       "      <td>0.0</td>\n",
       "      <td>0.0</td>\n",
       "    </tr>\n",
       "  </tbody>\n",
       "</table>\n",
       "<p>2500 rows × 3 columns</p>\n",
       "</div>"
      ],
      "text/plain": [
       "      region  2016-05-01 00:00:00  2016-05-01 01:00:00\n",
       "0          1                  0.0                  0.0\n",
       "1          2                  0.0                  0.0\n",
       "2          3                  0.0                  0.0\n",
       "3          4                  0.0                  0.0\n",
       "4          5                  0.0                  0.0\n",
       "...      ...                  ...                  ...\n",
       "2495    2496                  0.0                  0.0\n",
       "2496    2497                  0.0                  0.0\n",
       "2497    2498                  0.0                  0.0\n",
       "2498    2499                  0.0                  0.0\n",
       "2499    2500                  0.0                  0.0\n",
       "\n",
       "[2500 rows x 3 columns]"
      ]
     },
     "execution_count": 21,
     "metadata": {
      "tags": []
     },
     "output_type": "execute_result"
    }
   ],
   "source": [
    "labels.iloc[:, [0, 5, 6]]"
   ]
  },
  {
   "cell_type": "markdown",
   "metadata": {
    "colab_type": "text",
    "id": "T2XWtf54qRYA"
   },
   "source": [
    "## Empire State Building"
   ]
  },
  {
   "cell_type": "code",
   "execution_count": 2,
   "metadata": {
    "colab": {
     "base_uri": "https://localhost:8080/",
     "height": 446
    },
    "colab_type": "code",
    "id": "H7amNK5LqWrM",
    "outputId": "a49b226e-8382-442e-fb97-6600834e10ba"
   },
   "outputs": [
    {
     "data": {
      "text/plain": [
       "Text(0, 0.5, 'Trips')"
      ]
     },
     "execution_count": 2,
     "metadata": {},
     "output_type": "execute_result"
    },
    {
     "data": {
      "image/png": "[encoded data removed]",
      "text/plain": [
       "<Figure size 1296x360 with 1 Axes>"
      ]
     },
     "metadata": {
      "needs_background": "light"
     },
     "output_type": "display_data"
    }
   ],
   "source": [
    "longitude = -73.985428\n",
    "latitude = 40.748817\n",
    "row = labels[(labels.west <= longitude) &  \n",
    "             (labels.east >= longitude) & \n",
    "             (labels.south <= latitude) & \n",
    "             (labels.north >= latitude)]\n",
    "trips = np.array(row.iloc[0, 5:])\n",
    "hours = list(range(len(trips)))\n",
    "plt.figure(figsize = (18, 5))\n",
    "plt.plot(hours, trips)\n",
    "plt.xlabel('Hours')\n",
    "plt.xticks(hours[::12], list(labels.columns)[5:], rotation = 'vertical')\n",
    "plt.ylabel('Trips')\n"
   ]
  },
  {
   "cell_type": "markdown",
   "metadata": {
    "colab_type": "text",
    "id": "TkzRdp0lsmcD"
   },
   "source": [
    "## Сколько в мае 2016 было пар час-ячейка, для которых не было совершено ни одной поездки?"
   ]
  },
  {
   "cell_type": "code",
   "execution_count": 42,
   "metadata": {
    "colab": {
     "base_uri": "https://localhost:8080/",
     "height": 68
    },
    "colab_type": "code",
    "id": "q-wtA8jjssRK",
    "outputId": "754dbc1c-40bd-422a-caed-3486fb3ea06b"
   },
   "outputs": [
    {
     "name": "stdout",
     "output_type": "stream",
     "text": [
      "Всего в мае 2016 года всего пар час-ячейка: 1860000\n",
      "Из них нулевые: 1718238\n",
      "Доля в процентах 92.380000 %\n"
     ]
    }
   ],
   "source": [
    "non_zeros = np.array(labels.iloc[:, 5:])\n",
    "zeros = non_zeros.size - np.count_nonzero(non_zeros)\n",
    "print('Всего в мае 2016 года всего пар час-ячейка:', non_zeros.size)\n",
    "print(\"Из них нулевые:\", zeros),\n",
    "print(\"Доля в процентах %f %%\" % round((zeros / non_zeros.size) * 100, 2))\n",
    "                                                                        "
   ]
  },
  {
   "cell_type": "markdown",
   "metadata": {
    "colab_type": "text",
    "id": "E16C1U7Pg6mQ"
   },
   "source": [
    "## О формате данных \n",
    "[Источник](https://www1.nyc.gov/assets/tlc/downloads/pdf/data_dictionary_trip_records_yellow.pdf)"
   ]
  },
  {
   "cell_type": "code",
   "execution_count": 0,
   "metadata": {
    "colab": {},
    "colab_type": "code",
    "id": "Tr29SiHDeUyL"
   },
   "outputs": [],
   "source": []
  },
  {
   "cell_type": "code",
   "execution_count": 0,
   "metadata": {
    "colab": {},
    "colab_type": "code",
    "id": "i6IPhLs1eb-y"
   },
   "outputs": [],
   "source": []
  }
 ],
 "metadata": {
  "colab": {
   "collapsed_sections": [],
   "name": "Taxi_preprocessing.ipynb",
   "provenance": [],
   "toc_visible": true
  },
  "kernelspec": {
   "display_name": "Python 3",
   "language": "python",
   "name": "python3"
  },
  "language_info": {
   "codemirror_mode": {
    "name": "ipython",
    "version": 3
   },
   "file_extension": ".py",
   "mimetype": "text/x-python",
   "name": "python",
   "nbconvert_exporter": "python",
   "pygments_lexer": "ipython3",
   "version": "3.7.4"
  }
 },
 "nbformat": 4,
 "nbformat_minor": 1
}
