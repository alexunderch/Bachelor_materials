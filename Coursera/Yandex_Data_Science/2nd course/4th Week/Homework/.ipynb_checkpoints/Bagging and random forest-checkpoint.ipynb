{
 "cells": [
  {
   "cell_type": "code",
   "execution_count": 1,
   "metadata": {},
   "outputs": [
    {
     "name": "stderr",
     "output_type": "stream",
     "text": [
      "/home/me/anaconda3/lib/python3.6/site-packages/sklearn/cross_validation.py:41: DeprecationWarning: This module was deprecated in version 0.18 in favor of the model_selection module into which all the refactored classes and functions are moved. Also note that the interface of the new CV iterators are different from that of this module. This module will be removed in 0.20.\n",
      "  \"This module will be removed in 0.20.\", DeprecationWarning)\n"
     ]
    },
    {
     "name": "stdout",
     "output_type": "stream",
     "text": [
      "Populating the interactive namespace from numpy and matplotlib\n"
     ]
    }
   ],
   "source": [
    "from matplotlib.colors import ListedColormap\n",
    "from sklearn import ensemble, cross_validation, datasets, metrics, tree \n",
    "%pylab inline\n",
    "import pandas as pd\n",
    "import numpy as np"
   ]
  },
  {
   "cell_type": "code",
   "execution_count": 2,
   "metadata": {},
   "outputs": [],
   "source": [
    "from sklearn.datasets import load_digits"
   ]
  },
  {
   "cell_type": "code",
   "execution_count": 3,
   "metadata": {},
   "outputs": [],
   "source": [
    "digits = load_digits()"
   ]
  },
  {
   "cell_type": "code",
   "execution_count": 4,
   "metadata": {},
   "outputs": [],
   "source": [
    "X = digits.data\n",
    "y = digits.target"
   ]
  },
  {
   "cell_type": "code",
   "execution_count": 5,
   "metadata": {},
   "outputs": [],
   "source": [
    "def plot_scores (score):\n",
    "    pylab.plot(range(cv_r), score, label='cv scores')\n",
    "    pylab.ylim((0.0, 1.1))\n",
    "    pylab.legend(loc='best')"
   ]
  },
  {
   "cell_type": "code",
   "execution_count": 6,
   "metadata": {},
   "outputs": [],
   "source": [
    "def write_answer1(ans1):\n",
    "    with open(\"answer1.txt\", \"w\") as fout:\n",
    "        fout.write(str(ans1))\n",
    "        \n",
    "def write_answer2(ans2):\n",
    "    with open(\"answer2.txt\", \"w\") as fout:\n",
    "        fout.write(str(ans2))\n",
    "        \n",
    "def write_answer3(ans3):\n",
    "    with open(\"answer3.txt\", \"w\") as fout:\n",
    "        fout.write(str(ans3))\n",
    "        \n",
    "def write_answer4(ans4):\n",
    "    with open(\"answer4.txt\", \"w\") as fout:\n",
    "        fout.write(str(ans4))"
   ]
  },
  {
   "cell_type": "code",
   "execution_count": 39,
   "metadata": {},
   "outputs": [],
   "source": [
    "def write_answer5(ans5):\n",
    "    with open(\"answer5.txt\", \"w\") as fout:\n",
    "        fout.write(str(ans5))"
   ]
  },
  {
   "cell_type": "markdown",
   "metadata": {},
   "source": [
    "## Проведём стратегию кроссвалидации"
   ]
  },
  {
   "cell_type": "code",
   "execution_count": 7,
   "metadata": {},
   "outputs": [],
   "source": [
    "model = tree.DecisionTreeClassifier()\n",
    "cv_r = 10"
   ]
  },
  {
   "cell_type": "code",
   "execution_count": 8,
   "metadata": {},
   "outputs": [],
   "source": [
    "tree_score = cross_validation.cross_val_score(model, X, y, cv = cv_r)"
   ]
  },
  {
   "cell_type": "code",
   "execution_count": 9,
   "metadata": {
    "scrolled": true
   },
   "outputs": [
    {
     "name": "stdout",
     "output_type": "stream",
     "text": [
      "0.8307954539996496\n"
     ]
    },
    {
     "data": {
      "image/png": "[encoded data removed]",
      "text/plain": [
       "<Figure size 432x288 with 1 Axes>"
      ]
     },
     "metadata": {},
     "output_type": "display_data"
    }
   ],
   "source": [
    "ans1 = tree_score.mean()\n",
    "plot_scores(tree_score)\n",
    "print(ans1)"
   ]
  },
  {
   "cell_type": "markdown",
   "metadata": {},
   "source": [
    "### the 1st ans = 0.8376509515684452\n",
    "### the 2nd ans = 0.923754643077076\n",
    "### the 3rd ans = 0.9310535475468052\n",
    "### the 4th ans = 0.9533298382790916"
   ]
  },
  {
   "cell_type": "markdown",
   "metadata": {},
   "source": [
    "## BaggingClassification"
   ]
  },
  {
   "cell_type": "code",
   "execution_count": 10,
   "metadata": {},
   "outputs": [],
   "source": [
    "bagging = ensemble.BaggingClassifier(model, n_estimators = 100)\n",
    "bagging_scores = cross_validation.cross_val_score(bagging, X, y, cv = cv_r)"
   ]
  },
  {
   "cell_type": "code",
   "execution_count": 11,
   "metadata": {},
   "outputs": [
    {
     "name": "stdout",
     "output_type": "stream",
     "text": [
      "0.9226528251247996\n"
     ]
    },
    {
     "data": {
      "image/png": "[encoded data removed]",
      "text/plain": [
       "<Figure size 432x288 with 1 Axes>"
      ]
     },
     "metadata": {},
     "output_type": "display_data"
    }
   ],
   "source": [
    "ans2 = bagging_scores.mean()\n",
    "plot_scores(bagging_scores)\n",
    "print(ans2)"
   ]
  },
  {
   "cell_type": "markdown",
   "metadata": {},
   "source": [
    "### Теперь опробуем Бэггинг на корне из d признаков (max_features)"
   ]
  },
  {
   "cell_type": "code",
   "execution_count": 12,
   "metadata": {},
   "outputs": [],
   "source": [
    "mf_r = int(np.sqrt(X.shape[1]))\n",
    "bagging2 = ensemble.BaggingClassifier(model, n_estimators = 100, max_features = mf_r)\n",
    "bagging_scores2 = cross_validation.cross_val_score(bagging2, X, y, cv = cv_r)"
   ]
  },
  {
   "cell_type": "code",
   "execution_count": 13,
   "metadata": {},
   "outputs": [
    {
     "name": "stdout",
     "output_type": "stream",
     "text": [
      "0.930494019056472\n"
     ]
    },
    {
     "data": {
      "image/png": "[encoded data removed]",
      "text/plain": [
       "<Figure size 432x288 with 1 Axes>"
      ]
     },
     "metadata": {},
     "output_type": "display_data"
    }
   ],
   "source": [
    "ans3 = bagging_scores2.mean()\n",
    "plot_scores(bagging_scores2)\n",
    "print(ans3)"
   ]
  },
  {
   "cell_type": "code",
   "execution_count": 14,
   "metadata": {},
   "outputs": [],
   "source": [
    "model_r = tree.DecisionTreeClassifier(max_features = mf_r)\n",
    "bagging3 = ensemble.BaggingClassifier(model_r, n_estimators = 100)\n",
    "bagging_scores3 = cross_validation.cross_val_score(bagging3, X, y, cv = cv_r)"
   ]
  },
  {
   "cell_type": "code",
   "execution_count": 15,
   "metadata": {},
   "outputs": [
    {
     "name": "stdout",
     "output_type": "stream",
     "text": [
      "0.954431368346212\n"
     ]
    },
    {
     "data": {
      "image/png": "[encoded data removed]",
      "text/plain": [
       "<Figure size 432x288 with 1 Axes>"
      ]
     },
     "metadata": {},
     "output_type": "display_data"
    }
   ],
   "source": [
    "ans4 = bagging_scores3.mean()\n",
    "plot_scores(bagging_scores3)\n",
    "print(ans4)"
   ]
  },
  {
   "cell_type": "markdown",
   "metadata": {},
   "source": [
    "### Полученный в предыдущем пункте классификатор - бэггинг на рандомизированных деревьях (в которых при построении каждой вершины выбирается случайное подмножество признаков и разбиение ищется только по ним). Это в точности соответствует алгоритму Random Forest"
   ]
  },
  {
   "cell_type": "code",
   "execution_count": 20,
   "metadata": {},
   "outputs": [
    {
     "name": "stdout",
     "output_type": "stream",
     "text": [
      "0.9176693553402874\n"
     ]
    }
   ],
   "source": [
    "n_est_f = 10\n",
    "mf_f = 410\n",
    "md_f = 10\n",
    "forest = ensemble.RandomForestClassifier()\n",
    "forest_scores = cross_validation.cross_val_score(forest, X, y, scoring = 'accuracy', cv = cv_r)\n",
    "ans = forest_scores.mean()\n",
    "print(ans)"
   ]
  },
  {
   "cell_type": "code",
   "execution_count": 31,
   "metadata": {},
   "outputs": [],
   "source": [
    "n_trees = range(5,105,5)\n",
    "scoring = []\n",
    "for n_tree in n_trees:\n",
    "    estimator = ensemble.RandomForestClassifier(n_estimators = n_tree, min_samples_split=5, random_state=1)\n",
    "    score = cross_validation.cross_val_score(estimator, X, y, \n",
    "                                             scoring = 'accuracy', cv = cv_r)    \n",
    "    scoring.append(score)\n",
    "scoring = np.asmatrix(scoring)"
   ]
  },
  {
   "cell_type": "code",
   "execution_count": 32,
   "metadata": {},
   "outputs": [
    {
     "data": {
      "text/plain": [
       "matrix([[0.83243243, 0.91803279, 0.84530387, 0.83333333, 0.93854749,\n",
       "         0.89385475, 0.89385475, 0.93258427, 0.86440678, 0.86931818],\n",
       "        [0.88108108, 0.93989071, 0.9281768 , 0.90555556, 0.9273743 ,\n",
       "         0.94972067, 0.94413408, 0.93820225, 0.89265537, 0.92045455],\n",
       "        [0.88648649, 0.97814208, 0.93922652, 0.91666667, 0.94413408,\n",
       "         0.97765363, 0.97206704, 0.94382022, 0.89830508, 0.92613636],\n",
       "        [0.88648649, 0.96174863, 0.9281768 , 0.92777778, 0.94972067,\n",
       "         0.96648045, 0.97206704, 0.96629213, 0.89830508, 0.9375    ],\n",
       "        [0.8972973 , 0.96174863, 0.93370166, 0.94444444, 0.94972067,\n",
       "         0.96089385, 0.97206704, 0.96067416, 0.89830508, 0.9375    ],\n",
       "        [0.90810811, 0.96721311, 0.93370166, 0.96111111, 0.96089385,\n",
       "         0.96648045, 0.96648045, 0.96067416, 0.9039548 , 0.9375    ],\n",
       "        [0.8972973 , 0.9726776 , 0.93922652, 0.95555556, 0.94972067,\n",
       "         0.96648045, 0.96089385, 0.96629213, 0.90960452, 0.94318182],\n",
       "        [0.9027027 , 0.96721311, 0.93922652, 0.95555556, 0.94972067,\n",
       "         0.97206704, 0.96089385, 0.96629213, 0.90960452, 0.94318182],\n",
       "        [0.9027027 , 0.96721311, 0.94475138, 0.95555556, 0.94972067,\n",
       "         0.96648045, 0.97206704, 0.96629213, 0.89830508, 0.94318182],\n",
       "        [0.9027027 , 0.97814208, 0.95027624, 0.96666667, 0.96089385,\n",
       "         0.97206704, 0.97765363, 0.96629213, 0.9039548 , 0.94886364],\n",
       "        [0.9027027 , 0.96721311, 0.94475138, 0.96111111, 0.96089385,\n",
       "         0.96089385, 0.97765363, 0.97191011, 0.91525424, 0.95454545],\n",
       "        [0.9027027 , 0.97814208, 0.94475138, 0.97222222, 0.96089385,\n",
       "         0.96089385, 0.97765363, 0.96629213, 0.91525424, 0.94886364],\n",
       "        [0.91351351, 0.98360656, 0.94475138, 0.97222222, 0.95530726,\n",
       "         0.96648045, 0.98324022, 0.96629213, 0.90960452, 0.9375    ],\n",
       "        [0.90810811, 0.97814208, 0.94475138, 0.96111111, 0.95530726,\n",
       "         0.96648045, 0.98324022, 0.96629213, 0.91525424, 0.9375    ],\n",
       "        [0.90810811, 0.97814208, 0.94475138, 0.97222222, 0.96089385,\n",
       "         0.96648045, 0.98324022, 0.97191011, 0.91525424, 0.94318182],\n",
       "        [0.90810811, 0.97814208, 0.93922652, 0.96666667, 0.95530726,\n",
       "         0.96648045, 0.98324022, 0.96629213, 0.91525424, 0.94886364],\n",
       "        [0.90810811, 0.97814208, 0.93370166, 0.97222222, 0.95530726,\n",
       "         0.97206704, 0.98324022, 0.97191011, 0.90960452, 0.94886364],\n",
       "        [0.90810811, 0.97814208, 0.93922652, 0.96666667, 0.96089385,\n",
       "         0.97206704, 0.98324022, 0.97191011, 0.91525424, 0.94886364],\n",
       "        [0.90810811, 0.97814208, 0.93922652, 0.97222222, 0.96089385,\n",
       "         0.97206704, 0.98324022, 0.97191011, 0.92090395, 0.94886364],\n",
       "        [0.90810811, 0.97814208, 0.93370166, 0.97222222, 0.96089385,\n",
       "         0.96648045, 0.98324022, 0.97191011, 0.92090395, 0.94886364]])"
      ]
     },
     "execution_count": 32,
     "metadata": {},
     "output_type": "execute_result"
    }
   ],
   "source": [
    "scoring"
   ]
  },
  {
   "cell_type": "code",
   "execution_count": 33,
   "metadata": {},
   "outputs": [
    {
     "data": {
      "text/plain": [
       "<matplotlib.legend.Legend at 0x7f33c28201d0>"
      ]
     },
     "execution_count": 33,
     "metadata": {},
     "output_type": "execute_result"
    },
    {
     "data": {
      "image/png": "[encoded data removed]",
      "text/plain": [
       "<Figure size 432x288 with 1 Axes>"
      ]
     },
     "metadata": {},
     "output_type": "display_data"
    }
   ],
   "source": [
    "pylab.plot(n_trees, scoring.mean(axis = 1), label = 'RandF')\n",
    "pylab.xlabel('n_trees')\n",
    "pylab.ylabel('score')\n",
    "pylab.title('Accuracy score')\n",
    "pylab.legend(loc = 'best')"
   ]
  },
  {
   "cell_type": "code",
   "execution_count": 37,
   "metadata": {},
   "outputs": [],
   "source": [
    "n_features = np.arange(0.1,1.1,0.1)\n",
    "scoring = []\n",
    "for n_feat in n_features:\n",
    "    n_f = int(n_feat * X.shape[1])\n",
    "    estimator = ensemble.RandomForestClassifier(n_estimators = 50, min_samples_split=5, random_state=1, \n",
    "                                                max_features = n_f)\n",
    "    score = cross_validation.cross_val_score(estimator, X, y, \n",
    "                                             scoring = 'accuracy', cv = cv_r)    \n",
    "    scoring.append(score)\n",
    "scoring = np.asmatrix(scoring)"
   ]
  },
  {
   "cell_type": "code",
   "execution_count": 38,
   "metadata": {},
   "outputs": [
    {
     "data": {
      "text/plain": [
       "<matplotlib.legend.Legend at 0x7f33c27bf358>"
      ]
     },
     "execution_count": 38,
     "metadata": {},
     "output_type": "execute_result"
    },
    {
     "data": {
      "image/png": "[encoded data removed]",
      "text/plain": [
       "<Figure size 432x288 with 1 Axes>"
      ]
     },
     "metadata": {},
     "output_type": "display_data"
    }
   ],
   "source": [
    "pylab.plot(n_features, scoring.mean(axis = 1), marker='.', label='RandomForest')\n",
    "pylab.grid(True)\n",
    "pylab.xlabel('n_features')\n",
    "pylab.ylabel('score')\n",
    "pylab.title('Accuracy score')\n",
    "pylab.legend(loc = 'best')"
   ]
  },
  {
   "cell_type": "code",
   "execution_count": 43,
   "metadata": {},
   "outputs": [],
   "source": [
    "ans5 = '2 3 4 7'\n",
    "write_answer5(ans5)"
   ]
  },
  {
   "cell_type": "code",
   "execution_count": null,
   "metadata": {},
   "outputs": [],
   "source": []
  }
 ],
 "metadata": {
  "kernelspec": {
   "display_name": "Python 3",
   "language": "python",
   "name": "python3"
  },
  "language_info": {
   "codemirror_mode": {
    "name": "ipython",
    "version": 3
   },
   "file_extension": ".py",
   "mimetype": "text/x-python",
   "name": "python",
   "nbconvert_exporter": "python",
   "pygments_lexer": "ipython3",
   "version": "3.6.5"
  }
 },
 "nbformat": 4,
 "nbformat_minor": 2
}
