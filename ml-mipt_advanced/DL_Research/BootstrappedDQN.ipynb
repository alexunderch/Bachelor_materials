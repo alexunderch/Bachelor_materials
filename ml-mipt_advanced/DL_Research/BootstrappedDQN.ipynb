{
  "nbformat": 4,
  "nbformat_minor": 0,
  "metadata": {
    "colab": {
      "name": "BootstrappedDQN.ipynb",
      "provenance": [],
      "collapsed_sections": [],
      "include_colab_link": true
    },
    "kernelspec": {
      "name": "python3",
      "display_name": "Python 3"
    },
    "language_info": {
      "name": "python"
    },
    "accelerator": "GPU"
  },
  "cells": [
    {
      "cell_type": "markdown",
      "metadata": {
        "id": "view-in-github",
        "colab_type": "text"
      },
      "source": [
        "<a href=\"https://colab.research.google.com/github/alexunderch/Bachelor_materials/blob/main/ml-mipt_advanced/DL_Research/BootstrappedDQN.ipynb\" target=\"_parent\"><img src=\"https://colab.research.google.com/assets/colab-badge.svg\" alt=\"Open In Colab\"/></a>"
      ]
    },
    {
      "cell_type": "markdown",
      "metadata": {
        "id": "-IKSoYGjliGB"
      },
      "source": [
        "Based on [link](https://csc2541-f17.github.io/slides/lec08.pdf)"
      ]
    },
    {
      "cell_type": "code",
      "metadata": {
        "colab": {
          "base_uri": "https://localhost:8080/"
        },
        "id": "TEDF0Fzj66n-",
        "outputId": "02316bc5-a1d9-46e3-a2a5-2db825cb0f30"
      },
      "source": [
        "import sys, os\n",
        "if 'google.colab' in sys.modules and not os.path.exists('.setup_complete'):\n",
        "    !wget -q https://raw.githubusercontent.com/yandexdataschool/Practical_RL/master/setup_colab.sh -O- | bash\n",
        "    !touch .setup_complete\n",
        "\n",
        "if type(os.environ.get(\"DISPLAY\")) is not str or len(os.environ.get(\"DISPLAY\")) == 0:\n",
        "    !bash ../xvfb start\n",
        "    os.environ['DISPLAY'] = ':1'\n",
        "\n",
        "prefix = 'https://raw.githubusercontent.com/yandexdataschool/Practical_RL/spring19/week04_approx_rl/'\n",
        "\n",
        "os.system('wget ' + prefix + 'atari_wrappers.py')\n",
        "os.system('wget ' + prefix + 'utils.py')\n",
        "os.system('wget ' + prefix + 'framebuffer.py')\n",
        "\n",
        "print('setup complete')"
      ],
      "execution_count": null,
      "outputs": [
        {
          "output_type": "stream",
          "name": "stdout",
          "text": [
            "Selecting previously unselected package xvfb.\n",
            "(Reading database ... 155219 files and directories currently installed.)\n",
            "Preparing to unpack .../xvfb_2%3a1.19.6-1ubuntu4.9_amd64.deb ...\n",
            "Unpacking xvfb (2:1.19.6-1ubuntu4.9) ...\n",
            "Setting up xvfb (2:1.19.6-1ubuntu4.9) ...\n",
            "Processing triggers for man-db (2.8.3-2ubuntu0.1) ...\n",
            "Starting virtual X frame buffer: Xvfb.\n",
            "setup complete\n"
          ]
        }
      ]
    },
    {
      "cell_type": "code",
      "metadata": {
        "id": "r1puBEo69qAw"
      },
      "source": [
        "import random\n",
        "import numpy as np\n",
        "import torch\n",
        "import torch\n",
        "import torch.nn as nn\n",
        "from torch.nn import functional as F\n",
        "\n",
        "device = torch.device('cuda' if torch.cuda.is_available() else 'cpu')\n",
        "import utils\n",
        "\n",
        "import gym\n",
        "import numpy as np\n",
        "import matplotlib.pyplot as plt\n",
        "ENV_NAME = \"BreakoutNoFrameskip-v4\"#\"BeamRider-v0\"\n"
      ],
      "execution_count": null,
      "outputs": []
    },
    {
      "cell_type": "code",
      "metadata": {
        "id": "EC3ds64Z9y4t"
      },
      "source": [
        "from framebuffer import FrameBuffer\n",
        "%load_ext autoreload\n",
        "%autoreload 2\n",
        "import atari_wrappers\n",
        "\n",
        "from gym.core import ObservationWrapper\n",
        "from gym.spaces import Box\n",
        "from PIL import Image\n",
        "\n",
        "\n",
        "\n",
        "def make_env(clip_rewards=True, seed=None):\n",
        "    env = gym.make(ENV_NAME)  # create raw env\n",
        "    if seed is not None:\n",
        "        env.seed(seed)\n",
        "    env = PrimaryAtariWrap(env, clip_rewards)\n",
        "    env = FrameBuffer(env, n_frames=4, dim_order='pytorch')\n",
        "    return env"
      ],
      "execution_count": null,
      "outputs": []
    },
    {
      "cell_type": "code",
      "metadata": {
        "id": "BK5jWaUtvb46",
        "colab": {
          "base_uri": "https://localhost:8080/",
          "height": 606
        },
        "outputId": "b3abae74-e502-4640-8736-6f02ac908651"
      },
      "source": [
        "class PreprocessAtariObs(ObservationWrapper):\n",
        "    def __init__(self, env):\n",
        "        \"\"\"A gym wrapper that crops, scales image into the desired shapes and grayscales it.\"\"\"\n",
        "        ObservationWrapper.__init__(self, env)\n",
        "\n",
        "        self.img_size = (1, 64, 64)\n",
        "        self.img_c, self.img_h, self.img_w = self.img_size \n",
        "        self.observation_space = Box(0.0, 1.0, self.img_size)\n",
        "\n",
        "    #\n",
        "    def _to_gray_scale(self, rgb, channel_weights = np.array([0.2989, 0.5870, 0.1140])):\n",
        "        return np.dot(rgb[..., :3], channel_weights)[..., None]\n",
        "\n",
        "\n",
        "    def _crop_centre(self, img, cropH, cropW):\n",
        "      h, w, c = img.shape\n",
        "      startH = h // 2 - (cropH // 2)\n",
        "      startW = w // 2 - (cropW // 2)    \n",
        "      return img[startH : startH + cropH,\n",
        "                 startW : startW + cropW]\n",
        "\n",
        "    def observation(self, img):\n",
        "        \"\"\"what happens to each observation\"\"\"\n",
        "\n",
        "        # Here's what you need to do:\n",
        "        #  * crop image, remove irrelevant parts\n",
        "        #  * resize image to self.img_size\n",
        "        #     (use imresize from any library you want,\n",
        "        #      e.g. opencv, skimage, PIL, keras)\n",
        "        #  * cast image to grayscale\n",
        "        #  * convert image pixels to (0,1) range, float32 type\n",
        "        cropped_img = self._crop_centre(img, 177, 150)\n",
        "        resized_img = np.array(Image.fromarray(cropped_img).resize((self.img_h, self.img_w)))\n",
        "        greyscaled_img = self._to_gray_scale(resized_img).reshape(self.img_size)\n",
        "        return greyscaled_img.astype(np.float32) / 255\n",
        "\n",
        "def PrimaryAtariWrap(env, clip_rewards=True):\n",
        "    # assert 'NoFrameskip' in env.spec.id\n",
        "\n",
        "    # This wrapper holds the same action for <skip> frames and outputs\n",
        "    # the maximal pixel value of 2 last frames (to handle blinking\n",
        "    # in some envs)\n",
        "    env = atari_wrappers.MaxAndSkipEnv(env, skip=4)\n",
        "\n",
        "    # This wrapper sends done=True when each life is lost\n",
        "    # (not all the 5 lives that are givern by the game rules).\n",
        "    # It should make easier for the agent to understand that losing is bad.\n",
        "    env = atari_wrappers.EpisodicLifeEnv(env)\n",
        "\n",
        "    # This wrapper laucnhes the ball when an episode starts.\n",
        "    # Without it the agent has to learn this action, too.\n",
        "    # Actually it can but learning would take longer.\n",
        "    env = atari_wrappers.FireResetEnv(env)\n",
        "\n",
        "    # This wrapper transforms rewards to {-1, 0, 1} according to their sign\n",
        "    if clip_rewards:\n",
        "        env = atari_wrappers.ClipRewardEnv(env)\n",
        "\n",
        "    # This wrapper is yours :)\n",
        "    env = PreprocessAtariObs(env)\n",
        "    return env\n",
        "\n",
        "env = gym.make(ENV_NAME)  # create raw env\n",
        "env = PreprocessAtariObs(env)\n",
        "observation_shape = env.observation_space.shape\n",
        "n_actions = env.action_space.n\n",
        "\n",
        "_ = env.reset()\n",
        "\n",
        "for _ in range(12):\n",
        "    obs, _, _, _ = env.step(env.action_space.sample())\n",
        "\n",
        "plt.figure(figsize=[12,10])\n",
        "plt.title(\"Game image\")\n",
        "plt.imshow(env.render(\"rgb_array\"))\n",
        "plt.show()\n"
      ],
      "execution_count": null,
      "outputs": [
        {
          "output_type": "display_data",
          "data": {
            "image/png": "[encoded data removed]",
            "text/plain": [
              "<Figure size 864x720 with 1 Axes>"
            ]
          },
          "metadata": {
            "needs_background": "light"
          }
        }
      ]
    },
    {
      "cell_type": "code",
      "metadata": {
        "id": "6KFEWv6dt2cv"
      },
      "source": [
        "import numpy as np\n",
        "import random\n",
        "\n",
        "\n",
        "class ReplayBuffer(object):\n",
        "    def __init__(self, size, p: float = 1., heads: int = 1):\n",
        "        \"\"\"Create Replay buffer.\n",
        "        Parameters\n",
        "        ----------\n",
        "        size: int\n",
        "            Max number of transitions to store in the buffer. When the buffer\n",
        "            overflows the old memories are dropped.\n",
        "        \"\"\"\n",
        "        self.bernoulli_probability = p\n",
        "        self.num_heads = heads\n",
        "        self._storage = []\n",
        "        self._maxsize = size\n",
        "        self._next_idx = 0\n",
        "\n",
        "    def __len__(self):\n",
        "        return len(self._storage)\n",
        "\n",
        "    def add(self, obs_t, action, reward, obs_tp1, done):\n",
        "        data = (obs_t, action, reward, obs_tp1, done, self.bernoulli_probability)\n",
        "\n",
        "        if self._next_idx >= len(self._storage):\n",
        "            self._storage.append(data)\n",
        "        else:\n",
        "            self._storage[self._next_idx] = data\n",
        "        self._next_idx = (self._next_idx + 1) % self._maxsize\n",
        "\n",
        "    def _encode_sample(self, idxes):\n",
        "        obses_t, actions, rewards, obses_tp1, dones, masks = [], [], [], [], [], []\n",
        "        for i in idxes:\n",
        "            data = self._storage[i]\n",
        "            obs_t, action, reward, obs_tp1, done, _ = data\n",
        "            obses_t.append(np.array(obs_t, copy=False))\n",
        "            actions.append(np.array(action, copy=False))\n",
        "            rewards.append(reward)\n",
        "            obses_tp1.append(np.array(obs_tp1, copy=False))\n",
        "            dones.append(done)\n",
        "            masks.append(np.random.binomial(1, self.bernoulli_probability, size = self.num_heads))\n",
        "        return np.array(obses_t), np.array(actions), np.array(rewards), np.array(obses_tp1), np.array(dones), np.array(masks)\n",
        "\n",
        "    def sample(self, batch_size):\n",
        "        \"\"\"Sample a batch of experiences.\n",
        "        Parameters\n",
        "        ----------\n",
        "        batch_size: int\n",
        "            How many transitions to sample.\n",
        "        Returns\n",
        "        -------\n",
        "        obs_batch: np.array\n",
        "            batch of observations\n",
        "        act_batch: np.array\n",
        "            batch of actions executed given obs_batch\n",
        "        rew_batch: np.array\n",
        "            rewards received as results of executing act_batch\n",
        "        next_obs_batch: np.array\n",
        "            next set of observations seen after executing act_batch\n",
        "        done_mask: np.array\n",
        "            done_mask[i] = 1 if executing act_batch[i] resulted in\n",
        "            the end of an episode and 0 otherwise.\n",
        "        \"\"\"\n",
        "        idxes = [random.randint(0, len(self._storage) - 1) for _ in range(batch_size)]\n",
        "        return self._encode_sample(idxes)"
      ],
      "execution_count": null,
      "outputs": []
    },
    {
      "cell_type": "markdown",
      "metadata": {
        "id": "d8sjASXhuRwd"
      },
      "source": [
        "# Bootstrapped DQN"
      ]
    },
    {
      "cell_type": "code",
      "metadata": {
        "id": "VvRLtvQktU4c"
      },
      "source": [
        "def conv2d_size_out(size, kernel_size = 3, stride = 2):\n",
        "    \"\"\"\n",
        "    common use case:\n",
        "    cur_layer_img_w = conv2d_size_out(cur_layer_img_w, kernel_size, stride)\n",
        "    cur_layer_img_h = conv2d_size_out(cur_layer_img_h, kernel_size, stride)\n",
        "    to understand the shape for dense layer's input\n",
        "    \"\"\"\n",
        "    return (size - (kernel_size - 1) - 1) // stride  + 1\n",
        "\n",
        "\n",
        "\n",
        "def evaluate(env, agent, k: int, n_games=1, greedy=False, t_max=10000):\n",
        "    \"\"\" Plays n_games full games. If greedy, picks actions as argmax(qvalues). Returns mean reward. \"\"\"\n",
        "    rewards = []\n",
        "    for _ in range(n_games):\n",
        "        s = env.reset()\n",
        "        reward = 0\n",
        "        for _ in range(t_max):\n",
        "            qvalues = agent.get_qvalues([s], k)\n",
        "            action = qvalues.argmax(axis=-1)[0] if greedy else agent.sample_actions(qvalues)[0]\n",
        "            s, r, done, _ = env.step(action)\n",
        "            reward += r\n",
        "            if done: break\n",
        "\n",
        "        rewards.append(reward)\n",
        "    return np.mean(rewards)\n",
        "\n",
        "def play_and_record(initial_state, agent, k: int, env, exp_replay, n_steps=1):\n",
        "    \"\"\"\n",
        "    Play the game for exactly n steps, record every (s,a,r,s', done) to replay buffer. \n",
        "    Whenever game ends, add record with done=True and reset the game.\n",
        "    It is guaranteed that env has done=False when passed to this function.\n",
        "\n",
        "    PLEASE DO NOT RESET ENV UNLESS IT IS \"DONE\"\n",
        "\n",
        "    :returns: return sum of rewards over time and the state in which the env stays\n",
        "    \"\"\"\n",
        "    s = initial_state\n",
        "    sum_rewards = 0\n",
        "\n",
        "    # Play the game for n_steps as per instructions above\n",
        "    for _ in range(n_steps):\n",
        "        qvalues = agent.get_qvalues([s], k)\n",
        "        a = agent.sample_actions(qvalues)[0]\n",
        "        next_s, r, done, _ = env.step(a)\n",
        "        # Play the game for n_steps as per instructions above\n",
        "        if exp_replay is not None:\n",
        "            # store current <s,a,r,s'> transition in buffer\n",
        "            exp_replay.add(s, a, r, next_s, done)\n",
        "        sum_rewards += r\n",
        "        if done:  env.reset()\n",
        "        else: s = next_s \n",
        "\n",
        "\n",
        "    return sum_rewards, s"
      ],
      "execution_count": null,
      "outputs": []
    },
    {
      "cell_type": "code",
      "metadata": {
        "id": "xuHWTBpguFfs"
      },
      "source": [
        "class CoreNet(nn.Module):\n",
        "    def __init__(self, state_shape):\n",
        "        super().__init__()\n",
        "        self.state_shape = state_shape\n",
        "\n",
        "        self.conv0 = nn.Conv2d(self.state_shape[0], 16, kernel_size = (3, 3), stride = (2, 2))\n",
        "        self.conv1 = nn.Conv2d(16, 32, kernel_size = (3, 3), stride = (2, 2))\n",
        "        self.conv2 = nn.Conv2d(32, 64, kernel_size = (3, 3), stride = (2, 2))\n",
        "        self.flatten = nn.Flatten()\n",
        "\n",
        "    def forward(self, state_t):\n",
        "          x = F.relu(self.conv0(state_t))\n",
        "          x = F.relu(self.conv1(x))\n",
        "          x = F.relu(self.conv2(x))\n",
        "          out = self.flatten(x)\n",
        "          return out\n",
        "\n",
        "class DuelingPart(nn.Module):\n",
        "    def __init__(self, input_shape, n_actions):\n",
        "        super().__init__()\n",
        "        self.n_actions = n_actions\n",
        "        w = conv2d_size_out(conv2d_size_out(conv2d_size_out(input_shape)))\n",
        "        h = conv2d_size_out(conv2d_size_out(conv2d_size_out(input_shape)))\n",
        "        self.dense1 = nn.Linear(input_shape * h * w, 512)\n",
        "        self.dense2 = nn.Linear(512, 256)\n",
        "\n",
        "        self.logits = nn.Linear(256, self.n_actions)\n",
        "        self.state_value = nn.Linear(256, 1)\n",
        "\n",
        "    def forward(self, emb_t):\n",
        "        x = F.relu(self.dense1(emb_t))\n",
        "        x = F.relu(self.dense2(x))\n",
        "\n",
        "        logits = self.logits(x)\n",
        "        state_value = self.state_value(x)\n",
        "\n",
        "        qvalues = state_value + (logits - logits.mean(dim = 1, keepdim = True))\n",
        "        return qvalues\n",
        "\n",
        "class EnsembleNet(nn.Module):\n",
        "    def __init__(self, n_ensemble, state_shape, n_actions, epsilon = 1.0):\n",
        "        super().__init__()\n",
        "        self.epsilon = epsilon\n",
        "        self.core_net = CoreNet(state_shape)\n",
        "        self.net_list = nn.ModuleList([DuelingPart(64, n_actions) for k in range(n_ensemble)])\n",
        "\n",
        "    def _core(self, state_t):\n",
        "        return self.core_net(state_t)\n",
        "\n",
        "    def _heads(self, state_t):\n",
        "        return [net(state_t) for net in self.net_list]\n",
        "\n",
        "    def forward(self, state_t, k: int):\n",
        "        return self.net_list[k](self._core(state_t))\n",
        "\n",
        "    def get_qvalues(self, states, k: int):\n",
        "        \"\"\"\n",
        "        like forward, but works on numpy arrays, not tensors\n",
        "        \"\"\"\n",
        "        model_device = next(self.parameters()).device\n",
        "        states = torch.tensor(states, device = model_device, dtype = torch.float)\n",
        "        qvalues = self.forward(states, k)\n",
        "        return qvalues.data.cpu().numpy()\n",
        "\n",
        "    def sample_actions(self, qvalues):\n",
        "        \"\"\"pick actions given qvalues. Uses epsilon-greedy exploration strategy. \"\"\"\n",
        "        batch_size, n_actions = qvalues.shape\n",
        "        random_actions = np.random.choice(n_actions, size=batch_size)\n",
        "        best_actions = qvalues.argmax(axis=-1)\n",
        "        should_explore = np.random.choice([0, 1], batch_size, p=[1-self.epsilon, self.epsilon])\n",
        "        return np.where(should_explore, random_actions, best_actions)\n",
        "\n",
        "class NetWithPrior(nn.Module):\n",
        "    def __init__(self, net, prior, prior_scale=1./np.sqrt(2)):\n",
        "        super(NetWithPrior, self).__init__()\n",
        "        self.net = net\n",
        "        self.prior_scale = prior_scale\n",
        "        if self.prior_scale > 0.: self.prior = prior\n",
        "\n",
        "    def forward(self, state_t, k:int):\n",
        "        if k is not None:\n",
        "            if self.prior_scale > 0.: return self.net(state_t, k) + self.prior_scale * self.prior(state_t, k).detach()\n",
        "            else: return self.net(state_t, k)\n",
        "        else:\n",
        "            net_heads = self.net._heads(self.net._core(state_t))\n",
        "            if self.prior_scale <= 0.: return net_heads\n",
        "            else:\n",
        "                prior_heads = self.prior._heads(self.prior._core(state_t))\n",
        "                return [n + self.prior_scale * p.detach() for n, p in zip(net_heads, prior_heads)]\n",
        "\n",
        "    def get_qvalues(self, states, k: int):\n",
        "        states = torch.tensor(states, device = next(self.parameters()).device, dtype = torch.float)\n",
        "        if k is not None:\n",
        "            return self.forward(states, k).data.cpu().numpy()\n",
        "        else: return list(self.forward(states, None))\n",
        "    \n",
        "    def sample_actions(self, qvalues):\n",
        "        if k is not None:\n",
        "            return self.net.sample_actions(qvalues) \n",
        "        else: raise NotImplementedError(\"\")\n",
        "  "
      ],
      "execution_count": null,
      "outputs": []
    },
    {
      "cell_type": "code",
      "metadata": {
        "colab": {
          "base_uri": "https://localhost:8080/"
        },
        "id": "jZkrOSZvprqj",
        "outputId": "a8221754-26a6-4f12-b9c9-819af20a6d91"
      },
      "source": [
        "from tqdm import trange\n",
        "from IPython.display import clear_output\n",
        "import matplotlib.pyplot as plt\n",
        "\n",
        "seed = 42 \n",
        "random.seed(seed)\n",
        "np.random.seed(seed)\n",
        "torch.manual_seed(seed)"
      ],
      "execution_count": null,
      "outputs": [
        {
          "output_type": "execute_result",
          "data": {
            "text/plain": [
              "<torch._C.Generator at 0x7faeaa3de210>"
            ]
          },
          "metadata": {},
          "execution_count": 8
        }
      ]
    },
    {
      "cell_type": "code",
      "metadata": {
        "colab": {
          "base_uri": "https://localhost:8080/"
        },
        "id": "3_T_FTRswRZK",
        "outputId": "344eac3d-b432-48f6-89af-173bbdcfd881"
      },
      "source": [
        "env = make_env(seed)\n",
        "state_shape = env.observation_space.shape\n",
        "n_actions = env.action_space.n\n",
        "state = env.reset()\n",
        "ensemble_size = 10\n",
        "\n",
        "agent = NetWithPrior(EnsembleNet(ensemble_size, state_shape, n_actions, epsilon = 1.0), \n",
        "                     EnsembleNet(ensemble_size, state_shape, n_actions, epsilon = 1.0)).to(device)\n",
        "target_network = NetWithPrior(EnsembleNet(ensemble_size, state_shape, n_actions), \n",
        "                              EnsembleNet(ensemble_size, state_shape, n_actions)).to(device)\n",
        "target_network.load_state_dict(agent.state_dict())"
      ],
      "execution_count": null,
      "outputs": [
        {
          "output_type": "execute_result",
          "data": {
            "text/plain": [
              "<All keys matched successfully>"
            ]
          },
          "metadata": {},
          "execution_count": 9
        }
      ]
    },
    {
      "cell_type": "code",
      "metadata": {
        "id": "5fWr9XeUlBjW"
      },
      "source": [
        "def compute_td_loss(states, actions, rewards, next_states, is_done, masks,\n",
        "                    agent, target_network,\n",
        "                    gamma = 0.99,\n",
        "                    device = device,\n",
        "                    double_DQN = True):\n",
        "    states = torch.tensor(states, device=device, dtype=torch.float)    # shape: [batch_size, *state_shape]\n",
        "\n",
        "    # for some torch reason should not make actions a tensor\n",
        "    batch_size = len(states)\n",
        "    actions = torch.tensor(actions, device=device, dtype=torch.long)    # shape: [batch_size]\n",
        "    rewards = torch.tensor(rewards, device=device, dtype=torch.float)  # shape: [batch_size]\n",
        "    # shape: [batch_size, *state_shape]\n",
        "    next_states = torch.tensor(next_states, device=device, dtype=torch.float)\n",
        "    is_done = torch.tensor(is_done.astype('float32'), device=device, dtype=torch.float)  # shape: [batch_size]\n",
        "    is_not_done = 1 - is_done\n",
        "    masks = torch.tensor(masks, device=device, dtype = torch.float)\n",
        "\n",
        "    ensemble_losses = np.zeros(ensemble_size, dtype = np.float32)\n",
        "    # get q-values for all actions in current states\n",
        "    predicted_qvalues = agent(states, None)\n",
        "    # compute q-values for all actions in next states\n",
        "    predicted_next_target_qvalues = [t.detach() for t in target_network(next_states, None)]\n",
        "    predicted_next_qvalues =[t.detach() for t in agent(next_states, None)]\n",
        "    \n",
        "    current_losses = []\n",
        "    for k in range(ensemble_size):\n",
        "        next_qvalues = predicted_next_target_qvalues[k]\n",
        "        if double_DQN:\n",
        "            prime_actions = predicted_next_qvalues[k].max(1, True)[1]\n",
        "            next_state_values = next_qvalues.gather(1, prime_actions).squeeze(1)\n",
        "        else:\n",
        "            # compute V*(next_states) using predicted next q-values\n",
        "            next_state_values = torch.max(next_qvalues[k], dim = 1)[0]\n",
        "        # select q-values for chosen actions\n",
        "        predicted_qvalues_for_actions =  predicted_qvalues[k].gather(1, actions.unsqueeze(-1)).squeeze(1)\n",
        "\n",
        "        # print(next_state_values.shape, rewards.shape)\n",
        "        target_qvalues_for_actions = rewards + gamma * next_state_values * is_not_done\n",
        "\n",
        "        tmp_loss = torch.sum(masks[:, k] * F.smooth_l1_loss(predicted_qvalues_for_actions, target_qvalues_for_actions, reduction='mean') / (1e-12 + torch.sum(masks[:, k])))\n",
        "        current_losses.append(tmp_loss)\n",
        "        ensemble_losses[k] = tmp_loss.cpu().detach().item()\n",
        "    \n",
        "    loss = np.sum(current_losses) / ensemble_size\n",
        "\n",
        "    return loss, np.mean(ensemble_losses)"
      ],
      "execution_count": null,
      "outputs": []
    },
    {
      "cell_type": "code",
      "metadata": {
        "id": "-ZIaz25ksOA5"
      },
      "source": [
        "timesteps_per_epoch = 1\n",
        "batch_size = 16\n",
        "total_steps = 3 * 10**6\n",
        "decay_steps = 10**6\n",
        "TAU = 1e-2 \n",
        "\n",
        "opt = torch.optim.Adam(agent.parameters(), lr = 1e-4)\n",
        "\n",
        "init_epsilon = 1\n",
        "final_epsilon = 0.1\n",
        "\n",
        "loss_freq = 50\n",
        "refresh_target_network_freq = 5000\n",
        "eval_freq = 5000\n",
        "\n",
        "max_grad_norm = 50\n",
        "\n",
        "n_lives = 5"
      ],
      "execution_count": null,
      "outputs": []
    },
    {
      "cell_type": "code",
      "metadata": {
        "colab": {
          "base_uri": "https://localhost:8080/"
        },
        "id": "ZKf7cTPirhXs",
        "outputId": "6a700a24-eff2-46a1-ed50-fdfa0af38343"
      },
      "source": [
        "exp_replay = ReplayBuffer(10**5, p = .5, heads=ensemble_size)\n",
        "for i in range(100):\n",
        "    if not utils.is_enough_ram(min_available_gb=0.1):\n",
        "        print(\"\"\"\n",
        "            Less than 100 Mb RAM available. \n",
        "            Make sure the buffer size in not too huge.\n",
        "            Also check, maybe other processes consume RAM heavily.\n",
        "            \"\"\"\n",
        "             )\n",
        "        break\n",
        "    for k in range(ensemble_size): play_and_record(state, agent, k, env, exp_replay, n_steps=10**2)\n",
        "    if len(exp_replay) >= 10**5:\n",
        "        break\n",
        "print(len(exp_replay))"
      ],
      "execution_count": null,
      "outputs": [
        {
          "output_type": "stream",
          "name": "stdout",
          "text": [
            "100000\n"
          ]
        }
      ]
    },
    {
      "cell_type": "code",
      "metadata": {
        "colab": {
          "base_uri": "https://localhost:8080/",
          "height": 588
        },
        "id": "dPy70UZyrr9Z",
        "outputId": "aeb07163-6edf-4083-8e3f-94c00a7bacb0"
      },
      "source": [
        "td_loss_history, grad_norm_history, initial_state_v_history, mean_rw_history = [], [], [], []\n",
        "state = env.reset()\n",
        "for step in trange(total_steps + 1):\n",
        "      if not utils.is_enough_ram():\n",
        "          print('less that 100 Mb RAM available, freezing')\n",
        "          print('make sure everything is ok and make KeyboardInterrupt to continue')\n",
        "          try:\n",
        "              while True: pass\n",
        "          except KeyboardInterrupt:\n",
        "              pass\n",
        "\n",
        "      agent.net.epsilon = utils.linear_decay(init_epsilon, final_epsilon, step, decay_steps)\n",
        "      agent.prior.epsilon = utils.linear_decay(init_epsilon, final_epsilon, step, decay_steps)\n",
        "\n",
        "      # play\n",
        "      _, state = play_and_record(state, agent, np.random.randint(0, ensemble_size-1), env, exp_replay, timesteps_per_epoch)\n",
        "\n",
        "      state_, action, reward, next_state, is_done, mask = exp_replay.sample(batch_size)\n",
        "\n",
        "      loss, ensemble_losses = compute_td_loss(state_, action, reward, next_state, is_done, mask,\n",
        "                            agent, target_network, double_DQN = True)\n",
        "      \n",
        "      loss.backward()\n",
        "      grad_norm = nn.utils.clip_grad_norm_(agent.parameters(), max_grad_norm)\n",
        "\n",
        "      for param in agent.net.parameters(): \n",
        "          if param.grad is not None: param.grad.data *= (1.0 / ensemble_size)\n",
        "      \n",
        "      opt.step()\n",
        "      opt.zero_grad()\n",
        "\n",
        "      if step % loss_freq == 0:\n",
        "          td_loss_history.append(ensemble_losses)\n",
        "          grad_norm_history.append(grad_norm)\n",
        "\n",
        "      if step % refresh_target_network_freq == 0:\n",
        "          # Load agent weights into target_network\n",
        "          target_network.load_state_dict(agent.state_dict())\n",
        "\n",
        "\n",
        "      if step % eval_freq == 0:\n",
        "\n",
        "          mean_rw_history.append(\n",
        "              np.mean([evaluate(\n",
        "              make_env(clip_rewards = True, seed = step), agent, k, n_games = 3 * n_lives, greedy = True) \n",
        "              for k in range(ensemble_size)\n",
        "              ]))\n",
        "          \n",
        "          if step > 0:\n",
        "              if mean_rw_history[-1] >= mean_rw_history[-2]:\n",
        "                  torch.save(agent, \"agent.model\")\n",
        "                  torch.save(target_network, \"target_network.model\")\n",
        "              \n",
        "          initial_state_q_values = np.mean([agent.get_qvalues(\n",
        "              [make_env(seed = step).reset()], k) \n",
        "              for k in range(ensemble_size)])\n",
        "          \n",
        "          initial_state_v_history.append(np.max(initial_state_q_values))\n",
        "\n",
        "          clear_output(True)\n",
        "          print(\"buffer size = %i, epsilon = %.5f\" %\n",
        "                (len(exp_replay), agent.net.epsilon))\n",
        "\n",
        "          plt.figure(figsize=[16, 9])\n",
        "\n",
        "          plt.subplot(2, 2, 1)\n",
        "          plt.title(\"Mean reward per life\")\n",
        "          plt.plot(mean_rw_history)\n",
        "          plt.grid()\n",
        "\n",
        "          assert not np.isnan(td_loss_history[-1])\n",
        "          plt.subplot(2, 2, 2)\n",
        "          plt.title(\"TD loss history (smoothened)\")\n",
        "          plt.plot(utils.smoothen(td_loss_history))\n",
        "          plt.grid()\n",
        "\n",
        "          plt.subplot(2, 2, 3)\n",
        "          plt.title(\"Initial state V\")\n",
        "          plt.plot(initial_state_v_history)\n",
        "          plt.grid()\n",
        "\n",
        "          plt.subplot(2, 2, 4)\n",
        "          plt.title(\"Grad norm history (smoothened)\")\n",
        "          plt.plot(utils.smoothen(grad_norm_history))\n",
        "          plt.grid()\n",
        "\n",
        "          plt.show()"
      ],
      "execution_count": null,
      "outputs": [
        {
          "output_type": "stream",
          "name": "stdout",
          "text": [
            "buffer size = 100000, epsilon = 0.85150\n"
          ]
        },
        {
          "output_type": "display_data",
          "data": {
            "image/png": "[encoded data removed]",
            "text/plain": [
              "<Figure size 1152x648 with 4 Axes>"
            ]
          },
          "metadata": {
            "needs_background": "light"
          }
        },
        {
          "output_type": "stream",
          "name": "stderr",
          "text": [
            "  6%|▌         | 168384/3000001 [4:27:13<65:44:36, 11.96it/s]"
          ]
        }
      ]
    },
    {
      "cell_type": "code",
      "metadata": {
        "id": "HTF-J6i-Powh"
      },
      "source": [
        ""
      ],
      "execution_count": null,
      "outputs": []
    }
  ]
}