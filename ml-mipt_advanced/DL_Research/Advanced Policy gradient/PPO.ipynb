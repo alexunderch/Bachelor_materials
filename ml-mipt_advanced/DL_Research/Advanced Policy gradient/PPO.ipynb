{
  "nbformat": 4,
  "nbformat_minor": 0,
  "metadata": {
    "colab": {
      "name": " ppo.ipynb",
      "provenance": [],
      "collapsed_sections": [],
      "include_colab_link": true
    },
    "language_info": {
      "name": "python"
    },
    "kernelspec": {
      "name": "python3",
      "display_name": "Python 3"
    },
    "accelerator": "GPU"
  },
  "cells": [
    {
      "cell_type": "markdown",
      "metadata": {
        "id": "view-in-github",
        "colab_type": "text"
      },
      "source": [
        "<a href=\"https://colab.research.google.com/github/alexunderch/Bachelor_materials/blob/main/ml-mipt_advanced/DL_Research/Advanced%20Policy%20gradient/PPO.ipynb\" target=\"_parent\"><img src=\"https://colab.research.google.com/assets/colab-badge.svg\" alt=\"Open In Colab\"/></a>"
      ]
    },
    {
      "cell_type": "code",
      "metadata": {
        "id": "SORMy7N2ZdsS",
        "colab": {
          "base_uri": "https://localhost:8080/"
        },
        "outputId": "2f975c38-3340-463b-decc-64d3d7e64a44"
      },
      "source": [
        "import sys, os\n",
        "if 'google.colab' in sys.modules and not os.path.exists('.setup_complete'):\n",
        "    !wget -q https://raw.githubusercontent.com/yandexdataschool/Practical_RL/master/setup_colab.sh -O- | bash\n",
        "    \n",
        "    !wget -q https://raw.githubusercontent.com/yandexdataschool/Practical_RL/master/week06_policy_based/runners.py\n",
        "    !wget -q https://raw.githubusercontent.com/yandexdataschool/Practical_RL/master/week09_policy_II/mujoco_wrappers.py\n",
        "    \n",
        "    !touch .setup_complete\n",
        "\n",
        "# This code creates a virtual display to draw game images on.\n",
        "# It will have no effect if your machine has a monitor.\n",
        "if type(os.environ.get(\"DISPLAY\")) is not str or len(os.environ.get(\"DISPLAY\")) == 0:\n",
        "    !bash ../xvfb start\n",
        "    os.environ['DISPLAY'] = ':1'"
      ],
      "execution_count": 2,
      "outputs": [
        {
          "output_type": "stream",
          "name": "stdout",
          "text": [
            "Selecting previously unselected package xvfb.\n",
            "(Reading database ... 155062 files and directories currently installed.)\n",
            "Preparing to unpack .../xvfb_2%3a1.19.6-1ubuntu4.9_amd64.deb ...\n",
            "Unpacking xvfb (2:1.19.6-1ubuntu4.9) ...\n",
            "Setting up xvfb (2:1.19.6-1ubuntu4.9) ...\n",
            "Processing triggers for man-db (2.8.3-2ubuntu0.1) ...\n",
            "Starting virtual X frame buffer: Xvfb.\n"
          ]
        }
      ]
    },
    {
      "cell_type": "markdown",
      "metadata": {
        "id": "mc8qUPBWZdsX"
      },
      "source": [
        "# Implementing Proximal Policy Optimization \n",
        "\n",
        "\n",
        "In this notebook you will be implementing Proximal Policy Optimization algorithm, \n",
        "scaled up version of which was used to train [OpenAI Five](https://openai.com/blog/openai-five/) \n",
        "to [win](https://openai.com/blog/how-to-train-your-openai-five/) against the\n",
        "world champions in Dota 2.\n",
        "You will be solving a continuous control environment on which it may be easier and faster \n",
        "to train an agent, however note that PPO here may not be the best algorithm as, for example,\n",
        "Deep Deterministic Policy Gradient and Soft Actor Critic may be more suited \n",
        "for continuous control environments. To run the environment you will need to install \n",
        "[pybullet-gym](https://github.com/benelot/pybullet-gym) which unlike MuJoCo \n",
        "does not require you to have a license.\n",
        "\n",
        "To install the library:"
      ]
    },
    {
      "cell_type": "code",
      "metadata": {
        "id": "FFgnwoO8Zdsa",
        "colab": {
          "base_uri": "https://localhost:8080/"
        },
        "outputId": "c83611dd-53ec-4f63-b481-330ee187bac5"
      },
      "source": [
        "import os\n",
        "!git clone https://github.com/benelot/pybullet-gym.git\n",
        "os.chdir('/content/pybullet-gym')\n",
        "!pip install -e ."
      ],
      "execution_count": 3,
      "outputs": [
        {
          "output_type": "stream",
          "name": "stdout",
          "text": [
            "Cloning into 'pybullet-gym'...\n",
            "remote: Enumerating objects: 804, done.\u001b[K\n",
            "remote: Counting objects: 100% (54/54), done.\u001b[K\n",
            "remote: Compressing objects: 100% (48/48), done.\u001b[K\n",
            "remote: Total 804 (delta 21), reused 28 (delta 6), pack-reused 750\u001b[K\n",
            "Receiving objects: 100% (804/804), 19.31 MiB | 22.37 MiB/s, done.\n",
            "Resolving deltas: 100% (437/437), done.\n",
            "Obtaining file:///content/pybullet-gym\n",
            "Collecting pybullet>=1.7.8\n",
            "  Downloading pybullet-3.2.0-cp37-cp37m-manylinux1_x86_64.whl (89.3 MB)\n",
            "\u001b[K     |████████████████████████████████| 89.3 MB 35 kB/s \n",
            "\u001b[?25hInstalling collected packages: pybullet, pybulletgym\n",
            "  Running setup.py develop for pybulletgym\n",
            "Successfully installed pybullet-3.2.0 pybulletgym-0.1\n"
          ]
        }
      ]
    },
    {
      "cell_type": "markdown",
      "metadata": {
        "id": "0NwQWMeVZdsa"
      },
      "source": [
        "The overall structure of the code is similar to the one in the A2C optional homework, but don't worry if you haven't done it, it should be relatively easy to figure it out. \n",
        "First, we will create an instance of the environment. \n",
        "We will normalize the observations and rewards, but before that you will need a wrapper that will \n",
        "write summaries, mainly, the total reward during an episode. You can either use one for `TensorFlow` \n",
        "implemented in `atari_wrappers.py` file from the optional A2C homework, or implement your own. "
      ]
    },
    {
      "cell_type": "code",
      "metadata": {
        "id": "F0hxebEvZdsb",
        "colab": {
          "base_uri": "https://localhost:8080/"
        },
        "outputId": "3c039958-5f11-4ec2-9828-83fb22f7f804"
      },
      "source": [
        "import gym \n",
        "import pybulletgym\n",
        "\n",
        "env = gym.make(\"HalfCheetahMuJoCoEnv-v0\")\n",
        "print(\"observation space: \", env.observation_space,\n",
        "      \"\\nobservations:\", env.reset())\n",
        "print(\"action space: \", env.action_space, \n",
        "      \"\\naction_sample: \", env.action_space.sample())"
      ],
      "execution_count": 4,
      "outputs": [
        {
          "output_type": "stream",
          "name": "stdout",
          "text": [
            "WalkerBase::__init__\n",
            "observation space:  Box(-inf, inf, (17,), float32) \n",
            "observations: [ 0.09770291 -0.01340525  0.00735227  0.07979384 -0.07401946  0.01202126\n",
            " -0.08142443  0.05965538  0.          0.          0.          0.\n",
            "  0.          0.          0.          0.          0.        ]\n",
            "action space:  Box(-1.0, 1.0, (6,), float32) \n",
            "action_sample:  [ 0.76114476 -0.4763767   0.18514137  0.590572    0.18258515 -0.4306853 ]\n"
          ]
        },
        {
          "output_type": "stream",
          "name": "stderr",
          "text": [
            "/usr/local/lib/python3.7/dist-packages/gym/logger.py:30: UserWarning: \u001b[33mWARN: Box bound precision lowered by casting to float32\u001b[0m\n",
            "  warnings.warn(colorize('%s: %s'%('WARN', msg % args), 'yellow'))\n"
          ]
        }
      ]
    },
    {
      "cell_type": "code",
      "metadata": {
        "id": "HvO6nmOkVeEC"
      },
      "source": [
        "import torch\n",
        "import numpy as np\n",
        "from collections import deque\n",
        "from torch.utils.tensorboard import SummaryWriter\n",
        "writer = SummaryWriter()"
      ],
      "execution_count": 5,
      "outputs": []
    },
    {
      "cell_type": "code",
      "metadata": {
        "id": "MvXdAPgBZdsc"
      },
      "source": [
        "def torch_steps():\n",
        "    try: stepval = optimizer.state[optimizer.param_groups[0][\"params\"][-1]]\n",
        "    except NameError: stepval = 0\n",
        "    return stepval\n",
        "\n",
        "class Summaries(gym.Wrapper):\n",
        "    \"\"\" Env summaries writer base.\"\"\"\n",
        "\n",
        "    def __init__(self, env, prefix=None, running_mean_size=100, step_var =None):\n",
        "        super().__init__(env)\n",
        "        self.writer = SummaryWriter()\n",
        "        self.episode_counter = 0\n",
        "        self.prefix = prefix or self.env.spec.id\n",
        "        self.step_count =0\n",
        "        self.step_var = (step_var if step_var is not None\n",
        "                         else torch_steps())\n",
        "\n",
        "        nenvs = getattr(self.env.unwrapped, \"nenvs\", 1)\n",
        "        self.rewards = np.zeros(nenvs)\n",
        "        self.had_ended_episodes = np.zeros(nenvs, dtype=np.bool)\n",
        "        self.episode_lengths = np.zeros(nenvs)\n",
        "        self.reward_queues = [deque([], maxlen=running_mean_size)\n",
        "                              for _ in range(nenvs)]\n",
        "        self.rewards_step =0\n",
        "\n",
        "\n",
        "    def should_write_summaries(self):\n",
        "        \"\"\" Returns true if it's time to write summaries. \"\"\"\n",
        "        return np.all(self.had_ended_episodes)\n",
        "\n",
        "    def add_summaries(self):\n",
        "        \"\"\" Writes summaries. \"\"\"\n",
        "        if \"step\" not in torch_steps().keys(): self.step_var = 0\n",
        "        else: self.step_var = torch_steps()[\"step\"]\n",
        "\n",
        "        writer.add_scalar(\n",
        "            f\"{self.prefix}/total_reward\",\n",
        "            np.mean([q[-1] for q in self.reward_queues]),\n",
        "            global_step  = self.step_var)\n",
        "        writer.add_scalar(\n",
        "            f\"{self.prefix}/reward_mean_{self.reward_queues[0].maxlen}\",\n",
        "            np.mean([np.mean(q) for q in self.reward_queues]),\n",
        "            global_step  = self.step_var)\n",
        "        writer.add_scalar(\n",
        "            f\"{self.prefix}/episode_length\",\n",
        "            np.mean(self.episode_lengths),\n",
        "            global_step  = self.step_var)\n",
        "        \n",
        "        if self.had_ended_episodes.size > 1:\n",
        "            writer.add_scalar(\n",
        "                f\"{self.prefix}/min_reward\",\n",
        "                min(q[-1] for q in self.reward_queues),\n",
        "                global_step  = self.step_var)\n",
        "            writer.add_scalar(\n",
        "                f\"{self.prefix}/max_reward\",\n",
        "                max(q[-1] for q in self.reward_queues),\n",
        "                global_step  = self.step_var)\n",
        "        self.episode_lengths.fill(0)\n",
        "        self.had_ended_episodes.fill(False)\n",
        "\n",
        "    def step(self, action):\n",
        "        self.step_count +=1\n",
        "        clipped_action = np.clip(action.tolist(), self.env.action_space.low, self.env.action_space.high)\n",
        "        obs, rew, done, info = self.env.step(action)\n",
        "        self.rewards += rew\n",
        "        self.episode_lengths[~self.had_ended_episodes] += 1\n",
        "\n",
        "        info_collection = [info] if isinstance(info, dict) else info\n",
        "        done_collection = [done] if isinstance(done, bool) else done\n",
        "        done_indices = [i for i, info in enumerate(info_collection)\n",
        "                        if info.get(\"real_done\", done_collection[i])]\n",
        "        for i in done_indices:\n",
        "            if not self.had_ended_episodes[i]:\n",
        "                self.had_ended_episodes[i] = True\n",
        "            self.reward_queues[i].append(self.rewards[i])\n",
        "            self.rewards[i] = 0\n",
        "\n",
        "        if self.should_write_summaries():\n",
        "            self.add_summaries()\n",
        "        return obs, rew, done, info\n",
        "\n",
        "    def reset(self, **kwargs):\n",
        "        self.rewards_step =0\n",
        "        self.rewards.fill(0)\n",
        "        self.episode_lengths.fill(0)\n",
        "        self.had_ended_episodes.fill(False)\n",
        "        return self.env.reset(**kwargs)"
      ],
      "execution_count": 6,
      "outputs": []
    },
    {
      "cell_type": "markdown",
      "metadata": {
        "id": "f7HzpLnCZdsd"
      },
      "source": [
        "The normalization wrapper will subtract running mean from observations and rewards and divide \n",
        "the resulting quantities by the  running variances."
      ]
    },
    {
      "cell_type": "code",
      "metadata": {
        "id": "kL6bQykjZdsd",
        "colab": {
          "base_uri": "https://localhost:8080/"
        },
        "outputId": "93beaef0-7358-44fa-8f5c-4458be76d066"
      },
      "source": [
        "from mujoco_wrappers import Normalize\n",
        "\n",
        "env = Normalize(Summaries(gym.make(\"HalfCheetahMuJoCoEnv-v0\")));\n",
        "env.unwrapped.seed(0);"
      ],
      "execution_count": 7,
      "outputs": [
        {
          "output_type": "stream",
          "name": "stdout",
          "text": [
            "WalkerBase::__init__\n"
          ]
        },
        {
          "output_type": "stream",
          "name": "stderr",
          "text": [
            "/usr/local/lib/python3.7/dist-packages/gym/logger.py:30: UserWarning: \u001b[33mWARN: Box bound precision lowered by casting to float32\u001b[0m\n",
            "  warnings.warn(colorize('%s: %s'%('WARN', msg % args), 'yellow'))\n"
          ]
        }
      ]
    },
    {
      "cell_type": "markdown",
      "metadata": {
        "id": "eIEZjvAeZdse"
      },
      "source": [
        "Next, you will need to define a model for training. We suggest that you use two separate networks: one for policy\n",
        "and another for value function. Each network should be a 3-layer MLP with 64 hidden units, $\\mathrm{tanh}$ \n",
        "activation function, kernel matrices initialized with orthogonal initializer with parameter $\\sqrt{2}$\n",
        "and biases initialized with zeros. \n",
        "\n",
        "Our policy distribution is going to be multivariate normal with diagonal covariance. \n",
        "The network from above will predict the mean, and the covariance should be represented by a single \n",
        "(learned) vector of size 6 (corresponding to the dimensionality of the action space from above). \n",
        "You should initialize this vector to zero and take the exponent of it to always\n",
        "have a non-negative quantity. \n",
        "\n",
        "Overall the model should return three things: predicted mean of the distribution, variance vector, \n",
        "value function. "
      ]
    },
    {
      "cell_type": "code",
      "metadata": {
        "id": "vB4ll0paZdse"
      },
      "source": [
        "import torch.nn as nn\n",
        "import torch.nn.functional as F\n",
        "\n",
        "\n",
        "class Model(nn.Module):\n",
        "    def __init__(self, \n",
        "                 input_dim = np.prod(np.array(env.observation_space.shape), axis = 0),\n",
        "                 n_actions = np.array(env.action_space.shape),\n",
        "                 hidden_dim = 64):\n",
        "        super(type(self), self).__init__()\n",
        "        self.input_layer = self.init_layer(nn.Linear(input_dim, hidden_dim))\n",
        "        self.hidden_layer = self.init_layer(nn.Linear(hidden_dim, hidden_dim))\n",
        "\n",
        "        self.policy = self.init_layer(nn.Linear(hidden_dim, n_actions))\n",
        "        self.value_f = self.init_layer(nn.Linear(hidden_dim, 1))\n",
        "\n",
        "        self.covariance = nn.Parameter(torch.zeros(1, n_actions))\n",
        "\n",
        "    def init_layer(self, layer: torch.nn.Module, std = np.sqrt(2), bias_ = 0.):\n",
        "        torch.nn.init.orthogonal_(layer.weight, std)\n",
        "        if isinstance(layer, torch.nn.Linear): torch.nn.init.constant_(layer.bias, bias_)\n",
        "        return layer \n",
        "\n",
        "    def policy_net(self, x):\n",
        "        out = torch.tanh(self.input_layer(x))\n",
        "        out = torch.tanh(self.hidden_layer(out))\n",
        "        out = self.policy(out)\n",
        "        return out, self.covariance.expand_as(out)\n",
        "    \n",
        "    def V_net(self, x):\n",
        "        out = torch.tanh(self.input_layer(x))\n",
        "        out = torch.tanh(self.hidden_layer(out))\n",
        "        out = self.value_f(out)\n",
        "        return out\n",
        "\n"
      ],
      "execution_count": 23,
      "outputs": []
    },
    {
      "cell_type": "markdown",
      "metadata": {
        "id": "a3uuSt6yZdsf"
      },
      "source": [
        "This model will be wrapped by a `Policy`. The policy can work in two modes, but in either case \n",
        "it is going to return dictionary with string-type keys. The first mode is when the policy is \n",
        "used to sample actions for a trajectory which will later be used for training. In this case \n",
        "the flag `training` passed to `act` method is `False` and the method should return \n",
        "a `dict` with the following keys: \n",
        "\n",
        "* `\"actions\"`: actions to pass to the environment\n",
        "* `\"log_probs\"`: log-probabilities of sampled actions\n",
        "* `\"values\"`: value function $V^\\pi(s)$ predictions.\n",
        "\n",
        "We don't need to use the values under these keys for training, so all of them should be of type `np.ndarray`.\n",
        "\n",
        "When `training` is `True`, the model is training on a given batch of observations. In this\n",
        "case it should return a `dict` with the following keys\n",
        "\n",
        "* `\"distribution\"`: an instance of multivariate normal distribution (`torch.distributions.MultivariateNormal` or `tf.distributions.MultivariateNormalDiag`)\n",
        "* `\"values\"`: value function $V^\\pi(s)$ prediction.\n",
        "\n",
        "The distinction about the modes comes into play depending on where the policy is used: if it is called from `EnvRunner`, \n",
        "the `training` flag is `False`, if it is called from `PPO`, the `training` flag is `True`. These classed \n",
        "will be described below. "
      ]
    },
    {
      "cell_type": "code",
      "metadata": {
        "id": "1TwzAEBtZdsf"
      },
      "source": [
        "from torch.distributions import MultivariateNormal, Normal\n",
        "\n",
        "class Policy:\n",
        "  def __init__(self, model):\n",
        "      self.model = model\n",
        "  def act(self, inputs, training=False) -> dict:\n",
        "      if training:\n",
        "          inputs = torch.Tensor(inputs).to(device)\n",
        "          mean, logstd = self.model.policy_net(inputs)\n",
        "          values = self.model.V_net(inputs)\n",
        "          return {\"distribution\": Normal(mean, torch.exp(logstd)),\n",
        "                  \"values\": values}\n",
        "      else: \n",
        "          with torch.no_grad():\n",
        "              inputs = torch.Tensor(inputs).unsqueeze(0).to(device) #one obs batch\n",
        "              values = self.model.V_net(inputs)\n",
        "              mean, logstd = self.model.policy_net(inputs)\n",
        "              distribution = Normal(mean, torch.exp(logstd))\n",
        "\n",
        "          return {\"actions\": distribution.sample()[0].detach().cpu().numpy(),\n",
        "                  \"log_probs\":distribution.log_prob(distribution.sample()[0]).sum(dim = 1).view(-1).cpu().detach().numpy(),\n",
        "                  \"values\": values.view(-1).cpu().detach().cpu().numpy()}\n"
      ],
      "execution_count": 31,
      "outputs": []
    },
    {
      "cell_type": "markdown",
      "metadata": {
        "id": "_qFY6x94Zdsg"
      },
      "source": [
        "We will use `EnvRunner` to perform interactions with an environment with a policy for a fixed number of timesteps. Calling `.get_next()` on a runner will return a trajectory &mdash; dictionary \n",
        "containing keys\n",
        "\n",
        "* `\"observations\"`\n",
        "* `\"rewards\"` \n",
        "* `\"resets\"`\n",
        "* `\"actions\"`\n",
        "* all other keys that you defined in `Policy`,\n",
        "\n",
        "under each of these keys there is a `np.ndarray` of specified length $T$ &mdash; the size of partial trajectory. \n",
        "\n",
        "Additionally, before returning a trajectory this runner can apply a list of transformations. \n",
        "Each transformation is simply a callable that should modify passed trajectory in-place."
      ]
    },
    {
      "cell_type": "code",
      "metadata": {
        "id": "ASqwXnRPZdsg"
      },
      "source": [
        "class AsArray:\n",
        "  \"\"\" \n",
        "  Converts lists of interactions to ndarray.\n",
        "  \"\"\"\n",
        "  def __call__(self, trajectory):\n",
        "    # Modify trajectory inplace. \n",
        "    for k, v in filter(lambda kv: kv[0] != \"state\",\n",
        "                       trajectory.items()):\n",
        "      trajectory[k] = np.asarray(v)"
      ],
      "execution_count": 10,
      "outputs": []
    },
    {
      "cell_type": "code",
      "metadata": {
        "id": "Gmk59W6tZdsh",
        "colab": {
          "base_uri": "https://localhost:8080/"
        },
        "outputId": "9548acaa-14fc-4ffd-8546-88a0b0c0e96c"
      },
      "source": [
        "import numpy as np\n",
        "from runners import EnvRunner\n",
        "\n",
        "class DummyPolicy:\n",
        "  def act(self, inputs, training=False):\n",
        "    assert not training\n",
        "    return {\"actions\": np.random.randn(6), \"values\": np.nan}\n",
        "  \n",
        "runner = EnvRunner(env, DummyPolicy(), 3,\n",
        "                   transforms=[AsArray()])\n",
        "trajectory = runner.get_next()\n",
        "\n",
        "{k: v.shape for k, v in trajectory.items() if k != \"state\"}"
      ],
      "execution_count": 11,
      "outputs": [
        {
          "output_type": "execute_result",
          "data": {
            "text/plain": [
              "{'actions': (3, 6),\n",
              " 'observations': (3, 17),\n",
              " 'resets': (3,),\n",
              " 'rewards': (3,),\n",
              " 'values': (3,)}"
            ]
          },
          "metadata": {},
          "execution_count": 11
        }
      ]
    },
    {
      "cell_type": "markdown",
      "metadata": {
        "id": "srFvwDLBZdsi"
      },
      "source": [
        "You will need to implement the following two transformations. \n",
        "\n",
        "The first is `GAE` that implements [Generalized Advantage Estimator](https://arxiv.org/abs/1506.02438).\n",
        "In it you should add two keys to the trajectory: `\"advantages\"` and `\"value_targets\"`. In GAE the advantages\n",
        "$A_t^{\\mathrm{GAE}(\\gamma,\\lambda)}$ are essentially defined as the exponential \n",
        "moving average with parameter $\\lambda$ of the regular advantages \n",
        "$\\hat{A}^{(T)}(s_t) = \\sum_{l=0}^{T-1-t} \\gamma^l r_{t+l} + \\gamma^{T} V^\\pi(s_{T}) - V^\\pi(s_t)$. \n",
        "The exact formula for the computation is the following\n",
        "\n",
        "$$\n",
        "A_{t}^{\\mathrm{GAE}(\\gamma,\\lambda)} = \\sum_{l=0}^{T-1-t} (\\gamma\\lambda)^l\\delta_{t + l}^V, \\, t \\in [0, T)\n",
        "$$\n",
        "where $\\delta_{t+l}^V = r_{t+l} + \\gamma V^\\pi(s_{t+l+1}) - V^\\pi(s_{t+l})$. You can look at the \n",
        "derivation (formulas 11-16) in the paper. Don't forget to reset the summation on terminal\n",
        "states as determined by the flags `trajectory[\"resets\"]`. You can use `trajectory[\"values\"]`\n",
        "to get values of all observations except the most recent which is stored under \n",
        " `trajectory[\"state\"][\"latest_observation\"]`. For this observation you will need to call the policy \n",
        " to get the value prediction.\n",
        "\n",
        "Once you computed the advantages, you can get the targets for training the value function by adding \n",
        "back values:\n",
        "$$\n",
        "\\hat{V}(s_{t+l}) = A_{t+l}^{\\mathrm{GAE}(\\gamma,\\lambda)} + V(s_{t + l}),\n",
        "$$\n",
        "where $\\hat{V}$ is a tensor of value targets that are used to train the value function. "
      ]
    },
    {
      "cell_type": "code",
      "metadata": {
        "id": "qxEcHOUbZdsj"
      },
      "source": [
        "class GAE:\n",
        "  \"\"\" Generalized Advantage Estimator. \"\"\"\n",
        "  def __init__(self, policy, gamma=0.99, lambda_=0.95):\n",
        "    self.policy = policy\n",
        "    self.gamma = gamma\n",
        "    self.lambda_ = lambda_\n",
        "    \n",
        "  def __call__(self, trajectory):\n",
        "      advantages = deque()\n",
        "      next_values = deque()\n",
        "\n",
        "      rewards = trajectory[\"rewards\"]\n",
        "      values = list(trajectory[\"values\"])\n",
        "      resets = 1 - trajectory[\"resets\"] \n",
        "      acted_policy = self.policy.act(trajectory[\"state\"][\"latest_observation\"], training = False)\n",
        "      values.append(acted_policy[\"values\"])\n",
        "\n",
        "      prev_gae = 0\n",
        "      for step in reversed(range(len(rewards))):\n",
        "          TD_delta = rewards[step] + self.gamma * values[step + 1] * resets[step] - values[step] \n",
        "          advantage = prev_gae =  TD_delta + self.gamma * self.lambda_ * prev_gae * resets[step]\n",
        "          advantages.appendleft(advantage)\n",
        "          next_values.appendleft(advantage + values[step])\n",
        "      \n",
        "      trajectory['advantages'] = np.array(advantages)\n",
        "      trajectory[\"value_targets\"] = np.array(advantages)\n",
        "      values = np.array(values)\n",
        "\n"
      ],
      "execution_count": 12,
      "outputs": []
    },
    {
      "cell_type": "markdown",
      "metadata": {
        "id": "uNLMgLf4Zdsj"
      },
      "source": [
        "The main advantage of PPO over simpler policy based methods like A2C is that it is possible\n",
        "to train on the same trajectory for multiple gradient steps. The following class wraps \n",
        "an `EnvRunner`. It should call the runner to get a trajectory, then return minibatches \n",
        "from it for a number of epochs, shuffling the data before each epoch."
      ]
    },
    {
      "cell_type": "code",
      "metadata": {
        "id": "ihBT_aftZdsk"
      },
      "source": [
        "class TrajectorySampler:\n",
        "  \"\"\" Samples minibatches from trajectory for a number of epochs. \"\"\"\n",
        "  def __init__(self, runner, num_epochs, num_minibatches, transforms=None):\n",
        "    self.runner = runner\n",
        "    self.num_epochs = num_epochs\n",
        "    self.num_minibatches = num_minibatches\n",
        "    self.transforms = transforms or []\n",
        "    self.minibatch_count = 0\n",
        "    self.epoch_count = 0\n",
        "    self.trajectory = None\n",
        "\n",
        "    self.elements_per_minibatch = self.num_epochs // self.num_minibatches\n",
        "    self.indicies = []\n",
        "    \n",
        "  def shuffle_trajectory(self):\n",
        "    \"\"\" Shuffles all elements in trajectory.\n",
        "    \n",
        "    Should be called at the beginning of each epoch.\n",
        "    \"\"\"\n",
        "    self.indices  = np.arange(len(self.trajectory[\"values\"]))\n",
        "    np.random.shuffle(self.indices)\n",
        "    for k,v in self.trajectory.items():\n",
        "        if k != \"state\" : self.trajectory[k] = np.array(v)[self.indices.astype(int)]\n",
        "    \n",
        "  def get_next(self):\n",
        "    \"\"\" Returns next minibatch.  \"\"\"\n",
        "    trajectory_minibatch = dict()\n",
        "    if self.epoch_count > self.num_epochs: return trajectory_minibatch\n",
        "    if self.epoch_count ==0 and self.minibatch_count == 0:\n",
        "        \n",
        "        self.trajectory = self.runner.get_next()\n",
        "        self.shuffle_trajectory()\n",
        "        start = 0\n",
        "        end = start + self.minibatchsize-1       \n",
        "        \n",
        "    elif self.minibatch_count == self.num_minibatches:\n",
        "        \n",
        "        self.minibatch_count=0\n",
        "        self.epoch_count += 1\n",
        "        self.trajectory = self.runner.get_next()\n",
        "        self.shuffle_trajectory()\n",
        "        start = 0\n",
        "        end = start + self.minibatchsize-1\n",
        "    else:\n",
        "        \n",
        "        start = self.minibatch_count*self.minibatchsize\n",
        "        end = start + self.minibatchsize-1\n",
        "    \n",
        "    for k,v in self.trajectory.items():\n",
        "        if k != \"state\": \n",
        "            trajectory_minibatch[k] = v[self.indices [start:end]]\n",
        "    \n",
        "    self.minibatch_count+=1\n",
        "    \n",
        "    return trajectory_minibatch"
      ],
      "execution_count": 13,
      "outputs": []
    },
    {
      "cell_type": "markdown",
      "metadata": {
        "id": "8dSBzAjjZdsk"
      },
      "source": [
        "A common trick to use with GAE is to normalize advantages, the following transformation does that. "
      ]
    },
    {
      "cell_type": "code",
      "metadata": {
        "id": "OBDx25mlZdsl"
      },
      "source": [
        "class NormalizeAdvantages:\n",
        "  \"\"\" Normalizes advantages to have zero mean and variance 1. \"\"\"\n",
        "  def __call__(self, trajectory):\n",
        "    adv = trajectory[\"advantages\"]\n",
        "    adv = (adv - adv.mean()) / (adv.std() + 1e-8)\n",
        "    trajectory[\"advantages\"] = adv"
      ],
      "execution_count": 14,
      "outputs": []
    },
    {
      "cell_type": "markdown",
      "metadata": {
        "id": "FcRjNeUpZdsl"
      },
      "source": [
        "Finally, we can create our PPO runner. "
      ]
    },
    {
      "cell_type": "code",
      "metadata": {
        "id": "Awe1Sr4UZdsl"
      },
      "source": [
        "def make_ppo_runner(env, policy, num_runner_steps=2048,\n",
        "                    gamma=0.99, lambda_=0.95, \n",
        "                    num_epochs=10, num_minibatches=32):\n",
        "  \"\"\" Creates runner for PPO algorithm. \"\"\"\n",
        "  runner_transforms = [AsArray(),\n",
        "                       GAE(policy, gamma=gamma, lambda_=lambda_)]\n",
        "  runner = EnvRunner(env, policy, num_runner_steps, \n",
        "                     transforms=runner_transforms)\n",
        "  \n",
        "  sampler_transforms = [NormalizeAdvantages()]\n",
        "  sampler = TrajectorySampler(runner, num_epochs=num_epochs, \n",
        "                              num_minibatches=num_minibatches,\n",
        "                              transforms=sampler_transforms)\n",
        "  return sampler"
      ],
      "execution_count": 15,
      "outputs": []
    },
    {
      "cell_type": "markdown",
      "metadata": {
        "id": "TkoNi1nqZdsl"
      },
      "source": [
        "In the next cell you will need to implement Proximal Policy Optimization algorithm itself. The algorithm\n",
        "modifies the typical policy gradient loss in the following way:\n",
        "\n",
        "$$\n",
        "J_{\\pi}(s, a) = \\frac{\\pi_\\theta(a|s)}{\\pi_\\theta^{\\text{old}}(a|s)} \\cdot A^{\\mathrm{GAE}(\\gamma,\\lambda)}(s, a)\n",
        "$$\n",
        "\n",
        "$$\n",
        "J_{\\pi}^{\\text{clipped}}(s, a) = \\mathrm{clip}\\left(\n",
        "\\frac{\\pi_\\theta(a|s)}{\\pi_{\\theta^{\\text{old}}}(a|s)},\n",
        "1 - \\text{cliprange}, 1 + \\text{cliprange}\\right)\\cdot A^{\\mathrm{GAE(\\gamma, \\lambda)}}(s)\\\\\n",
        "$$\n",
        "\n",
        "$$\n",
        "L_{\\text{policy}} = -\\frac{1}{T}\\sum_{l=0}^{T-1}\\min\\left(J_\\pi(s_{t + l}, a_{t + l}), J_{\\pi}^{\\text{clipped}}(s_{t + l}, a_{t + l})\\right).\n",
        "$$\n",
        "\n",
        "The value loss is also modified:\n",
        "\n",
        "$$\n",
        "L_{V}^{\\text{clipped}} = \\frac{1}{T}\\sum_{l=0}^{T-1} \\max(l^{simple}(s_{t + l}), l^{clipped}(s_{t + l}))\n",
        "$$\n",
        ", where $l^{simple}$ is your standard critic loss\n",
        "$$\n",
        "l^{simple}(s_{t + l}) = [V_\\theta(s_{t+l}) - G(s_{t + l})]^2\n",
        "$$\n",
        "\n",
        "and $l^{clipped}$ is a clipped version that limits large changes of the value function:\n",
        "$$\n",
        "l^{clipped}(s_{t + l}) = [\n",
        "V_{\\theta^{\\text{old}}}(s_{t+l}) +\n",
        "\\text{clip}\\left(\n",
        "V_\\theta(s_{t+l}) - V_{\\theta^\\text{old}}(s_{t+l}),\n",
        "-\\text{cliprange}, \\text{cliprange}\n",
        "\\right) - G(s_{t + l})] ^ 2\n",
        "$$"
      ]
    },
    {
      "cell_type": "code",
      "metadata": {
        "id": "2Qm-NrCPZdsm"
      },
      "source": [
        "class PPO:\n",
        "    def __init__(self, policy, optimizer,\n",
        "                cliprange = 0.2,\n",
        "                value_loss_coef = 0.25,\n",
        "                max_grad_norm = 0.5):\n",
        "      self.policy = policy\n",
        "      self.optimizer = optimizer\n",
        "      self.cliprange = cliprange\n",
        "      self.value_loss_coef = value_loss_coef\n",
        "      # Note that we don't need entropy regularization for this env.\n",
        "      self.max_grad_norm = max_grad_norm\n",
        "      self._policy_loss = None\n",
        "      self._value_loss = None\n",
        "      self.total_loss = None\n",
        "      \n",
        "    def policy_loss(self, trajectory, act):\n",
        "        \"\"\" Computes and returns policy loss on a given trajectory. \"\"\"\n",
        "        \n",
        "        actions = torch.tensor(trajectory[\"actions\"]).to(device) \n",
        "        old_log_probs = torch.tensor(trajectory[\"log_probs\"]).to(device).flatten() \n",
        "        new_logprobs = act[\"distribution\"].log_prob(actions).sum(1)\n",
        "\n",
        "        \n",
        "        ratio = torch.exp(new_logprobs - old_log_probs)\n",
        "        self._policy_loss = torch.mean(torch.max(- ratio * torch.Tensor(trajectory[\"advantages\"]).to(device), \n",
        "                                                - torch.clamp(ratio, 1 - self.cliprange, 1 + self.cliprange) * torch.Tensor(trajectory[\"advantages\"]).to(device) ))\n",
        "        \n",
        "        return self._policy_loss\n",
        "          \n",
        "        \n",
        "    def value_loss(self, trajectory, act):\n",
        "        \"\"\" Computes and returns value loss on a given trajectory. \"\"\"\n",
        "        new_values = act[\"values\"].flatten() \n",
        "        returns = torch.tensor(trajectory[\"value_targets\"]).to(device)\n",
        "        values = torch.tensor(trajectory[\"values\"]).to(device).flatten()\n",
        "\n",
        "        v_loss1  =(returns - new_values).pow(2)\n",
        "        clipped_values = values + torch.clamp(new_values - values,\n",
        "                                              -self.cliprange,\n",
        "                                              self.cliprange)\n",
        "        v_loss2 = (clipped_values - returns ).pow(2)\n",
        "        \n",
        "        self._value_loss = 0.5 * (torch.max(v_loss1,v_loss2)).mean()\n",
        "        return self._value_loss\n",
        "\n",
        "    def loss(self, trajectory):\n",
        "        act = self.policy.act(trajectory[\"observations\"], training=True)\n",
        "        policy_loss = self.policy_loss(trajectory, act)\n",
        "        value_loss = self.value_loss(trajectory, act)\n",
        "        total_loss = policy_loss + self.value_loss_coef * value_loss\n",
        "        self.total_loss = total_loss # just for monitoring\n",
        "        return total_loss\n",
        "\n",
        "    def get_info(self):\n",
        "          return {'policy_loss': self._policy_loss,\n",
        "                  'value_loss': self._value_loss,\n",
        "                  'total_loss': self.total_loss}\n",
        "        \n",
        "    def step(self, trajectory):\n",
        "        \"\"\" Computes the loss function and performs a single gradient step. \"\"\"\n",
        "        loss = self.loss(trajectory)\n",
        "        optimizer.zero_grad()\n",
        "        loss.backward()\n",
        "        nn.utils.clip_grad_norm_(self.policy.model.parameters(), self.max_grad_norm)\n",
        "        optimizer.step()"
      ],
      "execution_count": 35,
      "outputs": []
    },
    {
      "cell_type": "markdown",
      "metadata": {
        "id": "uUXGjhYUZdsm"
      },
      "source": [
        "Now everything is ready to do training. In one million of interactions it should be possible to \n",
        "achieve the total raw reward of about 1500. You should plot this quantity with respect to \n",
        "`runner.step_var` &mdash; the number of interactions with the environment. It is highly \n",
        "encouraged to also provide plots of the following quantities (these are useful for debugging as well):\n",
        "\n",
        "* [Coefficient of Determination](https://en.wikipedia.org/wiki/Coefficient_of_determination) between \n",
        "value targets and value predictions\n",
        "* Entropy of the policy $\\pi$\n",
        "* Value loss\n",
        "* Policy loss\n",
        "* Value targets\n",
        "* Value predictions\n",
        "* Gradient norm\n",
        "* Advantages\n",
        "\n",
        "For optimization it is suggested to use Adam optimizer with linearly annealing learning rate \n",
        "from 3e-4 to 0 and epsilon 1e-5."
      ]
    },
    {
      "cell_type": "code",
      "metadata": {
        "id": "MNsRrNFOZdsn",
        "colab": {
          "base_uri": "https://localhost:8080/"
        },
        "outputId": "9f38506c-2463-4b5b-813e-332a35e759ca"
      },
      "source": [
        "hidden_units =64\n",
        "input_shape = np.array(env.observation_space.shape).prod()\n",
        "n_actions = np.prod(env.action_space.shape)\n",
        "\n",
        "lr = lambda f: f * learning_rate\n",
        "anneal_lr = True\n",
        "\n",
        "learning_rate = 3e-4\n",
        "cliprange=0.2\n",
        "value_loss_coef=0.25\n",
        "max_grad_norm=0.5\n",
        "\n",
        "nenvs =1\n",
        "nsteps = num_runner_steps=2048 \n",
        "num_batch = nsteps * nenvs\n",
        "\n",
        "gamma=0.99\n",
        "lambda_=0.95\n",
        "num_epochs=100\n",
        "num_minibatches=32\n",
        "\n",
        "total_timesteps = 5000\n",
        "train_mini_batch = num_batch//num_minibatches\n",
        "num_updates = total_timesteps//num_minibatches\n",
        "\n",
        "print(f\"#Steps = {total_timesteps}, minibatchsize = {train_mini_batch}, #Updates = {num_updates}\")\n",
        "\n",
        "device = torch.device(\"cuda\" if torch.cuda.is_available() else \"cpu\")\n",
        "ppo_agent = Model(input_shape,n_actions).to(device)\n",
        "policy = Policy(ppo_agent)\n",
        "optimizer = torch.optim.Adam(policy.model.parameters(),lr = learning_rate, eps = 1e-5 )\n",
        "ppo = PPO(policy, optimizer, cliprange = cliprange,\n",
        "                             value_loss_coef = value_loss_coef,\n",
        "                             max_grad_norm = max_grad_norm)\n",
        "\n",
        "\n",
        "minibatcher = make_ppo_runner(env, policy, num_runner_steps,\n",
        "                              gamma, lambda_, \n",
        "                              num_epochs, num_minibatches)\n",
        "\n",
        "minibatcher.minibatchsize = train_mini_batch"
      ],
      "execution_count": 39,
      "outputs": [
        {
          "output_type": "stream",
          "name": "stdout",
          "text": [
            "#Steps = 5000, minibatchsize = 64, #Updates = 156\n"
          ]
        }
      ]
    },
    {
      "cell_type": "code",
      "metadata": {
        "colab": {
          "base_uri": "https://localhost:8080/"
        },
        "id": "Ljq8yFZXZq40",
        "outputId": "436b5c87-17a9-4475-9638-614e68c37141"
      },
      "source": [
        "from tqdm import tqdm\n",
        "for update in tqdm(range(1, int(num_updates//10) + 1), total = int(num_updates//10) ):\n",
        "    minibatcher.epoch_count = 0\n",
        "    minibatcher.minibatch_count = 0\n",
        "    total_loss =[]\n",
        "    value_loss =[]\n",
        "    policy_loss =[]\n",
        "    if anneal_lr:\n",
        "        frac = 1.0 - (update - 1.0) / num_updates\n",
        "        lrnow = lr(frac)\n",
        "        ppo.optimizer.param_groups[0]['lr'] = lrnow\n",
        "    for _ in range (num_epochs):\n",
        "        for _ in range(num_minibatches):\n",
        "            trajectory_mbatch = minibatcher.get_next()\n",
        "            ppo.step(trajectory_mbatch)\n",
        "            step = optimizer.state[optimizer.param_groups[0][\"params\"][-1]][\"step\"]\n",
        "\n",
        "            total_loss.append(ppo.total_loss.detach().cpu().numpy())\n",
        "            value_loss.append(ppo._value_loss.detach().cpu().numpy())\n",
        "            policy_loss.append(ppo._policy_loss.detach().cpu().numpy())\n",
        "        \n",
        "        writer.add_scalar(\n",
        "            f\"{env.spec.id}/total_loss\",\n",
        "            np.mean(total_loss),\n",
        "            global_step=step)\n",
        "        writer.add_scalar(\n",
        "            f\"{env.spec.id}/value_loss\",\n",
        "            np.mean(value_loss),\n",
        "            global_step=step)\n",
        "        writer.add_scalar(\n",
        "            f\"{env.spec.id}/policy_loss\",\n",
        "            np.mean(policy_loss),\n",
        "            global_step=step)"
      ],
      "execution_count": null,
      "outputs": [
        {
          "output_type": "stream",
          "name": "stderr",
          "text": [
            "\r  0%|          | 0/15 [00:00<?, ?it/s]"
          ]
        }
      ]
    },
    {
      "cell_type": "code",
      "metadata": {
        "id": "T9KNKG5PaiR0"
      },
      "source": [
        "%load_ext tensorboard\n",
        "%tensorboard --logdir runs"
      ],
      "execution_count": null,
      "outputs": []
    }
  ]
}