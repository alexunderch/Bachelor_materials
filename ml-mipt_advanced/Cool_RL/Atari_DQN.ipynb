{
 "cells": [
  {
   "cell_type": "markdown",
   "metadata": {
    "id": "vLmWzGKhZ0pE"
   },
   "source": [
    "# Lab 2: Deep Q-Network implementation\n",
    "\n",
    "This homework shamelessly demands you to implement a DQN - an approximate q-learning algorithm with experience replay and target networks - and see if it works any better this way.\n",
    "\n",
    "Original paper:\n",
    "https://arxiv.org/pdf/1312.5602.pdf"
   ]
  },
  {
   "cell_type": "markdown",
   "metadata": {
    "id": "4oZJBt_AZ0pH"
   },
   "source": [
    "**This notebook is the main notebook.** Another notebook is given for debug. The tasks are similar and share most of the code. The main difference is in environments. In main notebook it can take some 2 hours for the agent to start improving so it seems reasonable to launch the algorithm on a simpler env first. Here it is CartPole and it will train in several minutes.\n",
    "\n",
    "**We suggest the following pipeline:** First implement debug notebook then implement the main one."
   ]
  },
  {
   "cell_type": "code",
   "execution_count": 1,
   "metadata": {
    "colab": {
     "base_uri": "https://localhost:8080/"
    },
    "executionInfo": {
     "elapsed": 12352,
     "status": "ok",
     "timestamp": 1621158792858,
     "user": {
      "displayName": "Александр Сергеевич Чернявский",
      "photoUrl": "https://lh3.googleusercontent.com/a-/AOh14Gjfde4jD6kZAd2KHSZWkMk63eF8NAzhqhSkasLVqg=s64",
      "userId": "07399096020997671028"
     },
     "user_tz": -180
    },
    "id": "9m7x2y_bZ0pJ",
    "outputId": "4321e618-a571-4b85-a855-f83d0ff2c53e"
   },
   "outputs": [
    {
     "name": "stdout",
     "output_type": "stream",
     "text": [
      "Selecting previously unselected package xvfb.\n",
      "(Reading database ... 160706 files and directories currently installed.)\n",
      "Preparing to unpack .../xvfb_2%3a1.19.6-1ubuntu4.9_amd64.deb ...\n",
      "Unpacking xvfb (2:1.19.6-1ubuntu4.9) ...\n",
      "Setting up xvfb (2:1.19.6-1ubuntu4.9) ...\n",
      "Processing triggers for man-db (2.8.3-2ubuntu0.1) ...\n",
      "Starting virtual X frame buffer: Xvfb.\n"
     ]
    }
   ],
   "source": [
    "import sys, os\n",
    "if 'google.colab' in sys.modules and not os.path.exists('.setup_complete'):\n",
    "    !wget -q https://raw.githubusercontent.com/yandexdataschool/Practical_RL/master/setup_colab.sh -O- | bash\n",
    "    !touch .setup_complete\n",
    "\n",
    "# This code creates a virtual display to draw game images on.\n",
    "# It will have no effect if your machine has a monitor.\n",
    "if type(os.environ.get(\"DISPLAY\")) is not str or len(os.environ.get(\"DISPLAY\")) == 0:\n",
    "    !bash ../xvfb start\n",
    "    os.environ['DISPLAY'] = ':1'"
   ]
  },
  {
   "cell_type": "code",
   "execution_count": 2,
   "metadata": {
    "colab": {
     "base_uri": "https://localhost:8080/"
    },
    "executionInfo": {
     "elapsed": 12698,
     "status": "ok",
     "timestamp": 1621158793215,
     "user": {
      "displayName": "Александр Сергеевич Чернявский",
      "photoUrl": "https://lh3.googleusercontent.com/a-/AOh14Gjfde4jD6kZAd2KHSZWkMk63eF8NAzhqhSkasLVqg=s64",
      "userId": "07399096020997671028"
     },
     "user_tz": -180
    },
    "id": "O9dODlU9Z0pL",
    "outputId": "c37bf9eb-78bd-4446-8f03-b177f01004bd"
   },
   "outputs": [
    {
     "name": "stdout",
     "output_type": "stream",
     "text": [
      "setup complete\n"
     ]
    }
   ],
   "source": [
    "# # in google colab uncomment this\n",
    "\n",
    "prefix = 'https://raw.githubusercontent.com/yandexdataschool/Practical_RL/spring19/week04_approx_rl/'\n",
    "\n",
    "os.system('wget ' + prefix + 'atari_wrappers.py')\n",
    "os.system('wget ' + prefix + 'utils.py')\n",
    "os.system('wget ' + prefix + 'replay_buffer.py')\n",
    "os.system('wget ' + prefix + 'framebuffer.py')\n",
    "\n",
    "print('setup complete')"
   ]
  },
  {
   "cell_type": "markdown",
   "metadata": {
    "id": "L0nsFrKDZ0pM"
   },
   "source": [
    "__Frameworks__ - we'll accept this homework in any deep learning framework. This particular notebook was designed for pytoch, but you find it easy to adapt it to almost any python-based deep learning framework."
   ]
  },
  {
   "cell_type": "code",
   "execution_count": 3,
   "metadata": {
    "executionInfo": {
     "elapsed": 17128,
     "status": "ok",
     "timestamp": 1621158797649,
     "user": {
      "displayName": "Александр Сергеевич Чернявский",
      "photoUrl": "https://lh3.googleusercontent.com/a-/AOh14Gjfde4jD6kZAd2KHSZWkMk63eF8NAzhqhSkasLVqg=s64",
      "userId": "07399096020997671028"
     },
     "user_tz": -180
    },
    "id": "c7DNW4vhZ0pO"
   },
   "outputs": [],
   "source": [
    "import random\n",
    "import numpy as np\n",
    "import torch\n",
    "import utils"
   ]
  },
  {
   "cell_type": "code",
   "execution_count": 4,
   "metadata": {
    "executionInfo": {
     "elapsed": 18106,
     "status": "ok",
     "timestamp": 1621158798630,
     "user": {
      "displayName": "Александр Сергеевич Чернявский",
      "photoUrl": "https://lh3.googleusercontent.com/a-/AOh14Gjfde4jD6kZAd2KHSZWkMk63eF8NAzhqhSkasLVqg=s64",
      "userId": "07399096020997671028"
     },
     "user_tz": -180
    },
    "id": "FM2miF05Z0pP"
   },
   "outputs": [],
   "source": [
    "import gym\n",
    "import numpy as np\n",
    "import matplotlib.pyplot as plt"
   ]
  },
  {
   "cell_type": "markdown",
   "metadata": {
    "id": "SZyPaGA1Z0pP"
   },
   "source": [
    "### Let's play some old videogames\n",
    "![img](https://github.com/yandexdataschool/Practical_RL/raw/master/yet_another_week/_resource/nerd.png)\n",
    "\n",
    "This time we're gonna apply approximate q-learning to an atari game called Breakout. It's not the hardest thing out there, but it's definitely way more complex than anything we tried before.\n"
   ]
  },
  {
   "cell_type": "code",
   "execution_count": 5,
   "metadata": {
    "executionInfo": {
     "elapsed": 18104,
     "status": "ok",
     "timestamp": 1621158798632,
     "user": {
      "displayName": "Александр Сергеевич Чернявский",
      "photoUrl": "https://lh3.googleusercontent.com/a-/AOh14Gjfde4jD6kZAd2KHSZWkMk63eF8NAzhqhSkasLVqg=s64",
      "userId": "07399096020997671028"
     },
     "user_tz": -180
    },
    "id": "WESj3yE5Z0pQ"
   },
   "outputs": [],
   "source": [
    "ENV_NAME = \"BreakoutNoFrameskip-v4\""
   ]
  },
  {
   "cell_type": "markdown",
   "metadata": {
    "id": "2EWVq9IXZ0pR"
   },
   "source": [
    "## 1. Preprocessing "
   ]
  },
  {
   "cell_type": "markdown",
   "metadata": {
    "id": "Dk3jwdLaZ0pS"
   },
   "source": [
    "Let's see what observations look like."
   ]
  },
  {
   "cell_type": "code",
   "execution_count": 6,
   "metadata": {
    "colab": {
     "base_uri": "https://localhost:8080/",
     "height": 520
    },
    "executionInfo": {
     "elapsed": 19248,
     "status": "ok",
     "timestamp": 1621158799787,
     "user": {
      "displayName": "Александр Сергеевич Чернявский",
      "photoUrl": "https://lh3.googleusercontent.com/a-/AOh14Gjfde4jD6kZAd2KHSZWkMk63eF8NAzhqhSkasLVqg=s64",
      "userId": "07399096020997671028"
     },
     "user_tz": -180
    },
    "id": "jNqWqnrtZ0pU",
    "outputId": "9e12eff9-81bb-488e-cd96-8775b76bfaf2"
   },
   "outputs": [
    {
     "data": {
      "image/png": "[encoded data removed]",
      "text/plain": [
       "<Figure size 1152x648 with 10 Axes>"
      ]
     },
     "metadata": {
      "needs_background": "light",
      "tags": []
     },
     "output_type": "display_data"
    }
   ],
   "source": [
    "env = gym.make(ENV_NAME)\n",
    "env.reset()\n",
    "\n",
    "n_cols = 5\n",
    "n_rows = 2\n",
    "fig = plt.figure(figsize=(16, 9))\n",
    "\n",
    "for row in range(n_rows):\n",
    "    for col in range(n_cols):\n",
    "        ax = fig.add_subplot(n_rows, n_cols, row * n_cols + col + 1)\n",
    "        ax.imshow(env.render('rgb_array'))\n",
    "        env.step(env.action_space.sample())\n",
    "plt.show()"
   ]
  },
  {
   "cell_type": "markdown",
   "metadata": {
    "id": "cbNSj6NKZ0pV"
   },
   "source": [
    "**Let's play a little.**\n",
    "\n",
    "Pay attention to zoom and fps args of play function. Control: A, D, space."
   ]
  },
  {
   "cell_type": "code",
   "execution_count": 7,
   "metadata": {
    "executionInfo": {
     "elapsed": 19246,
     "status": "ok",
     "timestamp": 1621158799789,
     "user": {
      "displayName": "Александр Сергеевич Чернявский",
      "photoUrl": "https://lh3.googleusercontent.com/a-/AOh14Gjfde4jD6kZAd2KHSZWkMk63eF8NAzhqhSkasLVqg=s64",
      "userId": "07399096020997671028"
     },
     "user_tz": -180
    },
    "id": "VSNrIAYTZ0pV"
   },
   "outputs": [],
   "source": [
    "# does not work in colab.\n",
    "# make keyboard interrupt to continue\n",
    "\n",
    "# from gym.utils.play import play\n",
    "# play(env = gym.make(ENV_NAME), zoom=5, fps=30)"
   ]
  },
  {
   "cell_type": "markdown",
   "metadata": {
    "id": "RjrTITWoZ0pW"
   },
   "source": [
    "### Processing game image \n",
    "\n",
    "Raw atari images are large, 210x160x3 by default. However, we don't need that level of detail in order to learn them.\n",
    "\n",
    "We can thus save a lot of time by preprocessing game image, including\n",
    "* Resizing to a smaller shape, 64 x 64\n",
    "* Converting to grayscale\n",
    "* Cropping irrelevant image parts (top, bottom and edges)\n",
    "\n",
    "Also please keep one dimension for channel so that final shape would be 1 x 64 x 64.\n",
    "\n",
    "Tip: You can implement your own grayscale converter and assign a huge weight to the red channel. This dirty trick is not necessary but it will speed up learning."
   ]
  },
  {
   "cell_type": "code",
   "execution_count": 8,
   "metadata": {
    "executionInfo": {
     "elapsed": 19246,
     "status": "ok",
     "timestamp": 1621158799792,
     "user": {
      "displayName": "Александр Сергеевич Чернявский",
      "photoUrl": "https://lh3.googleusercontent.com/a-/AOh14Gjfde4jD6kZAd2KHSZWkMk63eF8NAzhqhSkasLVqg=s64",
      "userId": "07399096020997671028"
     },
     "user_tz": -180
    },
    "id": "iGU_btt8Z0pW"
   },
   "outputs": [],
   "source": [
    "from gym.core import ObservationWrapper\n",
    "from gym.spaces import Box\n",
    "from PIL import Image\n",
    "class PreprocessAtariObs(ObservationWrapper):\n",
    "    def __init__(self, env):\n",
    "        \"\"\"A gym wrapper that crops, scales image into the desired shapes and grayscales it.\"\"\"\n",
    "        ObservationWrapper.__init__(self, env)\n",
    "\n",
    "        self.img_size = (1, 64, 64)\n",
    "        self.img_c, self.img_h, self.img_w = self.img_size \n",
    "        self.observation_space = Box(0.0, 1.0, self.img_size)\n",
    "\n",
    "    #[0.2989, 0.5870, 0.1140]\n",
    "    def _to_gray_scale(self, rgb, channel_weights = np.array([.8, .1, .1])):\n",
    "        return np.dot(rgb[..., :3], channel_weights)[..., None]\n",
    "\n",
    "\n",
    "    def _crop_centre(self, img, cropH, cropW):\n",
    "      h, w, c = img.shape\n",
    "      startH = h // 2 - (cropH // 2)\n",
    "      startW = w // 2 - (cropW // 2)    \n",
    "      return img[startH : startH + cropH,\n",
    "                 startW : startW + cropW]\n",
    "\n",
    "    def observation(self, img):\n",
    "        \"\"\"what happens to each observation\"\"\"\n",
    "\n",
    "        # Here's what you need to do:\n",
    "        #  * crop image, remove irrelevant parts\n",
    "        #  * resize image to self.img_size\n",
    "        #     (use imresize from any library you want,\n",
    "        #      e.g. opencv, skimage, PIL, keras)\n",
    "        #  * cast image to grayscale\n",
    "        #  * convert image pixels to (0,1) range, float32 type\n",
    "        cropped_img = self._crop_centre(img, 180, 150)\n",
    "        resized_img = np.array(Image.fromarray(cropped_img).resize((self.img_h, self.img_w)))\n",
    "        greyscaled_img = self._to_gray_scale(resized_img).reshape(self.img_size)\n",
    "        return greyscaled_img.astype(np.float32) / 255"
   ]
  },
  {
   "cell_type": "code",
   "execution_count": 9,
   "metadata": {
    "colab": {
     "base_uri": "https://localhost:8080/",
     "height": 488
    },
    "executionInfo": {
     "elapsed": 20588,
     "status": "ok",
     "timestamp": 1621158801142,
     "user": {
      "displayName": "Александр Сергеевич Чернявский",
      "photoUrl": "https://lh3.googleusercontent.com/a-/AOh14Gjfde4jD6kZAd2KHSZWkMk63eF8NAzhqhSkasLVqg=s64",
      "userId": "07399096020997671028"
     },
     "user_tz": -180
    },
    "id": "alJcqLVqZ0pX",
    "outputId": "89880886-d6d8-42a3-cba2-d15a7a46e4c9"
   },
   "outputs": [
    {
     "name": "stdout",
     "output_type": "stream",
     "text": [
      "Formal tests seem fine. Here's an example of what you'll get.\n"
     ]
    },
    {
     "data": {
      "image/png": "[encoded data removed]",
      "text/plain": [
       "<Figure size 1152x648 with 10 Axes>"
      ]
     },
     "metadata": {
      "needs_background": "light",
      "tags": []
     },
     "output_type": "display_data"
    }
   ],
   "source": [
    "import gym\n",
    "# spawn game instance for tests\n",
    "env = gym.make(ENV_NAME)  # create raw env\n",
    "env = PreprocessAtariObs(env)\n",
    "observation_shape = env.observation_space.shape\n",
    "n_actions = env.action_space.n\n",
    "env.reset()\n",
    "obs, _, _, _ = env.step(env.action_space.sample())\n",
    "\n",
    "# test observation\n",
    "assert obs.ndim == 3, \"observation must be [channel, h, w] even if there's just one channel\"\n",
    "assert obs.shape == observation_shape\n",
    "assert obs.dtype == 'float32'\n",
    "assert len(np.unique(obs)) > 2, \"your image must not be binary\"\n",
    "assert 0 <= np.min(obs) and np.max(\n",
    "    obs) <= 1, \"convert image pixels to [0,1] range\"\n",
    "\n",
    "print(\"Formal tests seem fine. Here's an example of what you'll get.\")\n",
    "\n",
    "n_cols = 5\n",
    "n_rows = 2\n",
    "fig = plt.figure(figsize=(16, 9))\n",
    "obs = env.reset()\n",
    "for row in range(n_rows):\n",
    "    for col in range(n_cols):\n",
    "        ax = fig.add_subplot(n_rows, n_cols, row * n_cols + col + 1)\n",
    "        ax.imshow(obs[0, :, :], interpolation='none', cmap='gray')\n",
    "        obs, _, _, _ = env.step(env.action_space.sample())\n",
    "plt.show()"
   ]
  },
  {
   "cell_type": "markdown",
   "metadata": {
    "id": "Eow7GyYaZ0pX"
   },
   "source": [
    "### Wrapping."
   ]
  },
  {
   "cell_type": "markdown",
   "metadata": {
    "id": "MmQi--GmZ0pY"
   },
   "source": [
    "**About the game:** You have 5 lives and get points for breaking the wall. Higher bricks cost more than the lower ones. There are 4 actions: start game (should be called at the beginning and after each life is lost), move left, move right and do nothing. There are some common wrappers used for Atari environments."
   ]
  },
  {
   "cell_type": "code",
   "execution_count": 10,
   "metadata": {
    "executionInfo": {
     "elapsed": 20585,
     "status": "ok",
     "timestamp": 1621158801143,
     "user": {
      "displayName": "Александр Сергеевич Чернявский",
      "photoUrl": "https://lh3.googleusercontent.com/a-/AOh14Gjfde4jD6kZAd2KHSZWkMk63eF8NAzhqhSkasLVqg=s64",
      "userId": "07399096020997671028"
     },
     "user_tz": -180
    },
    "id": "_SfCjAyPZ0pa"
   },
   "outputs": [],
   "source": [
    "%load_ext autoreload\n",
    "%autoreload 2\n",
    "import atari_wrappers\n",
    "\n",
    "def PrimaryAtariWrap(env, clip_rewards=True):\n",
    "    assert 'NoFrameskip' in env.spec.id\n",
    "\n",
    "    # This wrapper holds the same action for <skip> frames and outputs\n",
    "    # the maximal pixel value of 2 last frames (to handle blinking\n",
    "    # in some envs)\n",
    "    env = atari_wrappers.MaxAndSkipEnv(env, skip=4)\n",
    "\n",
    "    # This wrapper sends done=True when each life is lost\n",
    "    # (not all the 5 lives that are givern by the game rules).\n",
    "    # It should make easier for the agent to understand that losing is bad.\n",
    "    env = atari_wrappers.EpisodicLifeEnv(env)\n",
    "\n",
    "    # This wrapper laucnhes the ball when an episode starts.\n",
    "    # Without it the agent has to learn this action, too.\n",
    "    # Actually it can but learning would take longer.\n",
    "    env = atari_wrappers.FireResetEnv(env)\n",
    "\n",
    "    # This wrapper transforms rewards to {-1, 0, 1} according to their sign\n",
    "    if clip_rewards:\n",
    "        env = atari_wrappers.ClipRewardEnv(env)\n",
    "\n",
    "    # This wrapper is yours :)\n",
    "    env = PreprocessAtariObs(env)\n",
    "    return env"
   ]
  },
  {
   "cell_type": "markdown",
   "metadata": {
    "id": "jSRc9y6OZ0pe"
   },
   "source": [
    "**Let's see if the game is still playable after applying the wrappers.**\n",
    "At playing the EpisodicLifeEnv wrapper seems not to work but actually it does (because after when life finishes a new ball is dropped automatically - it means that FireResetEnv wrapper understands that a new episode began)."
   ]
  },
  {
   "cell_type": "code",
   "execution_count": 11,
   "metadata": {
    "executionInfo": {
     "elapsed": 20584,
     "status": "ok",
     "timestamp": 1621158801145,
     "user": {
      "displayName": "Александр Сергеевич Чернявский",
      "photoUrl": "https://lh3.googleusercontent.com/a-/AOh14Gjfde4jD6kZAd2KHSZWkMk63eF8NAzhqhSkasLVqg=s64",
      "userId": "07399096020997671028"
     },
     "user_tz": -180
    },
    "id": "nlMuDIEkZ0pg"
   },
   "outputs": [],
   "source": [
    "# does not work in colab.\n",
    "# make keyboard interrupt to continue\n",
    "\n",
    "# from gym.utils.play import play\n",
    "\n",
    "# def make_play_env():\n",
    "#     env = gym.make(ENV_NAME)\n",
    "#     env = PrimaryAtariWrap(env)\n",
    "# # in torch imgs have shape [c, h, w] instead of common [h, w, c]\n",
    "#     env = atari_wrappers.AntiTorchWrapper(env)\n",
    "#     return env\n",
    "\n",
    "# play(make_play_env(), zoom=10, fps=3)"
   ]
  },
  {
   "cell_type": "markdown",
   "metadata": {
    "id": "U2CTyJKdZ0ph"
   },
   "source": [
    "### Frame buffer\n",
    "\n",
    "Our agent can only process one observation at a time, so we gotta make sure it contains enough information to find optimal actions. For instance, agent has to react to moving objects so he must be able to measure object's velocity.\n",
    "\n",
    "To do so, we introduce a buffer that stores 4 last images. This time everything is pre-implemented for you, not really by the staff of the course :)"
   ]
  },
  {
   "cell_type": "code",
   "execution_count": 12,
   "metadata": {
    "colab": {
     "base_uri": "https://localhost:8080/",
     "height": 1000
    },
    "executionInfo": {
     "elapsed": 21337,
     "status": "ok",
     "timestamp": 1621158801907,
     "user": {
      "displayName": "Александр Сергеевич Чернявский",
      "photoUrl": "https://lh3.googleusercontent.com/a-/AOh14Gjfde4jD6kZAd2KHSZWkMk63eF8NAzhqhSkasLVqg=s64",
      "userId": "07399096020997671028"
     },
     "user_tz": -180
    },
    "id": "su8qSojZZ0pi",
    "outputId": "ede72eab-0475-4acd-d696-f8ade9d00b7c"
   },
   "outputs": [
    {
     "data": {
      "image/png": "[encoded data removed]",
      "text/plain": [
       "<Figure size 864x720 with 1 Axes>"
      ]
     },
     "metadata": {
      "needs_background": "light",
      "tags": []
     },
     "output_type": "display_data"
    },
    {
     "data": {
      "image/png": "[encoded data removed]",
      "text/plain": [
       "<Figure size 1080x1080 with 1 Axes>"
      ]
     },
     "metadata": {
      "needs_background": "light",
      "tags": []
     },
     "output_type": "display_data"
    }
   ],
   "source": [
    "from framebuffer import FrameBuffer\n",
    "\n",
    "def make_env(clip_rewards=True, seed=None):\n",
    "    env = gym.make(ENV_NAME)  # create raw env\n",
    "    if seed is not None:\n",
    "        env.seed(seed)\n",
    "    env = PrimaryAtariWrap(env, clip_rewards)\n",
    "    env = FrameBuffer(env, n_frames=4, dim_order='pytorch')\n",
    "    return env\n",
    "\n",
    "env = make_env()\n",
    "env.reset()\n",
    "n_actions = env.action_space.n\n",
    "state_shape = env.observation_space.shape\n",
    "\n",
    "for _ in range(12):\n",
    "    obs, _, _, _ = env.step(env.action_space.sample())\n",
    "\n",
    "plt.figure(figsize=[12,10])\n",
    "plt.title(\"Game image\")\n",
    "plt.imshow(env.render(\"rgb_array\"))\n",
    "plt.show()\n",
    "\n",
    "plt.figure(figsize=[15,15])\n",
    "plt.title(\"Agent observation (4 frames top to bottom)\")\n",
    "plt.imshow(utils.img_by_obs(obs, state_shape), cmap='gray')\n",
    "plt.show()"
   ]
  },
  {
   "cell_type": "markdown",
   "metadata": {
    "id": "7C7Hs2e7Z0pk"
   },
   "source": [
    "## 2. DQN as it is"
   ]
  },
  {
   "cell_type": "markdown",
   "metadata": {
    "id": "p7zmDq4nZ0pk"
   },
   "source": [
    "### Building a network\n",
    "\n",
    "We now need to build a neural network that can map images to state q-values. This network will be called on every agent's step so it better not be resnet-152 unless you have an array of GPUs. Instead, you can use strided convolutions with a small number of features to save time and memory.\n",
    "\n",
    "You can build any architecture you want, but for reference, here's something that will more or less work:"
   ]
  },
  {
   "cell_type": "markdown",
   "metadata": {
    "id": "xNo1p4JsZ0pk"
   },
   "source": [
    "![img](https://github.com/yandexdataschool/Practical_RL/raw/master/yet_another_week/_resource/dqn_arch.png)"
   ]
  },
  {
   "cell_type": "code",
   "execution_count": 13,
   "metadata": {
    "colab": {
     "base_uri": "https://localhost:8080/"
    },
    "executionInfo": {
     "elapsed": 21331,
     "status": "ok",
     "timestamp": 1621158801908,
     "user": {
      "displayName": "Александр Сергеевич Чернявский",
      "photoUrl": "https://lh3.googleusercontent.com/a-/AOh14Gjfde4jD6kZAd2KHSZWkMk63eF8NAzhqhSkasLVqg=s64",
      "userId": "07399096020997671028"
     },
     "user_tz": -180
    },
    "id": "OD5wPRPkZ0pl",
    "outputId": "410fb41e-17af-4c5a-c930-4959c6b2c28b"
   },
   "outputs": [
    {
     "data": {
      "text/plain": [
       "device(type='cuda')"
      ]
     },
     "execution_count": 13,
     "metadata": {
      "tags": []
     },
     "output_type": "execute_result"
    }
   ],
   "source": [
    "import torch\n",
    "import torch.nn as nn\n",
    "from torch.nn import functional as F\n",
    "\n",
    "device = torch.device('cuda' if torch.cuda.is_available() else 'cpu')\n",
    "# those who have a GPU but feel unfair to use it can uncomment:\n",
    "# device = torch.device('cpu')\n",
    "device"
   ]
  },
  {
   "cell_type": "code",
   "execution_count": 14,
   "metadata": {
    "executionInfo": {
     "elapsed": 21329,
     "status": "ok",
     "timestamp": 1621158801909,
     "user": {
      "displayName": "Александр Сергеевич Чернявский",
      "photoUrl": "https://lh3.googleusercontent.com/a-/AOh14Gjfde4jD6kZAd2KHSZWkMk63eF8NAzhqhSkasLVqg=s64",
      "userId": "07399096020997671028"
     },
     "user_tz": -180
    },
    "id": "TG9GMMfEZ0pl"
   },
   "outputs": [],
   "source": [
    "def conv2d_size_out(size, kernel_size = 3, stride = 2):\n",
    "    \"\"\"\n",
    "    common use case:\n",
    "    cur_layer_img_w = conv2d_size_out(cur_layer_img_w, kernel_size, stride)\n",
    "    cur_layer_img_h = conv2d_size_out(cur_layer_img_h, kernel_size, stride)\n",
    "    to understand the shape for dense layer's input\n",
    "    \"\"\"\n",
    "    return (size - (kernel_size - 1) - 1) // stride  + 1\n",
    "\n",
    "\n",
    "class Flatten(nn.Module):\n",
    "    def __init__(self):\n",
    "        super().__init__()\n",
    "        \n",
    "    def forward(self, x):\n",
    "        return x.view(x.size(0), -1)"
   ]
  },
  {
   "cell_type": "code",
   "execution_count": 15,
   "metadata": {
    "executionInfo": {
     "elapsed": 21685,
     "status": "ok",
     "timestamp": 1621158802268,
     "user": {
      "displayName": "Александр Сергеевич Чернявский",
      "photoUrl": "https://lh3.googleusercontent.com/a-/AOh14Gjfde4jD6kZAd2KHSZWkMk63eF8NAzhqhSkasLVqg=s64",
      "userId": "07399096020997671028"
     },
     "user_tz": -180
    },
    "id": "s_fyuFwcZ0pl"
   },
   "outputs": [],
   "source": [
    "class DQNAgent(nn.Module):\n",
    "    def __init__(self, state_shape, n_actions, epsilon=0):\n",
    "\n",
    "        super().__init__()\n",
    "        self.epsilon = epsilon\n",
    "        self.n_actions = n_actions\n",
    "        self.state_shape = state_shape\n",
    "\n",
    "        # Define your network body here. Please make sure agent is fully contained here\n",
    "        self.conv0 = nn.Conv2d(self.state_shape[0], 16, kernel_size = (3, 3), stride = (2, 2))\n",
    "        self.conv1 = nn.Conv2d(16, 32, kernel_size = (3, 3), stride = (2, 2))\n",
    "        self.conv2 = nn.Conv2d(32, 64, kernel_size = (3, 3), stride = (2, 2))\n",
    "        self.flatten = Flatten()\n",
    "        \n",
    "        w = conv2d_size_out(conv2d_size_out(conv2d_size_out(64)))\n",
    "        h = conv2d_size_out(conv2d_size_out(conv2d_size_out(64)))\n",
    "        self.dense = nn.Linear(64 * h * w, 256)\n",
    "        self.out_layer = nn.Linear(256, self.n_actions)\n",
    "      \n",
    "\n",
    "    def forward(self, state_t):\n",
    "        \"\"\"\n",
    "        takes agent's observation (tensor), returns qvalues (tensor)\n",
    "        :param state_t: a batch of 4-frame buffers, shape = [batch_size, 4, h, w]\n",
    "        \"\"\"\n",
    "        # Use your network to compute qvalues for given state\n",
    "        x = F.relu(self.conv0(state_t))\n",
    "        x = F.relu(self.conv1(x))\n",
    "        x = F.relu(self.conv2(x))\n",
    "        x = F.relu(self.dense(self.flatten(x)))\n",
    "        qvalues = self.out_layer(x)\n",
    "\n",
    "        assert qvalues.requires_grad, \"qvalues must be a torch tensor with grad\"\n",
    "        assert len(\n",
    "            qvalues.shape) == 2 and qvalues.shape[0] == state_t.shape[0] and qvalues.shape[1] == n_actions\n",
    "\n",
    "        return qvalues\n",
    "\n",
    "    def get_qvalues(self, states):\n",
    "        \"\"\"\n",
    "        like forward, but works on numpy arrays, not tensors\n",
    "        \"\"\"\n",
    "        model_device = next(self.parameters()).device\n",
    "        states = torch.tensor(states, device=model_device, dtype=torch.float)\n",
    "        qvalues = self.forward(states)\n",
    "        return qvalues.data.cpu().numpy()\n",
    "\n",
    "    def sample_actions(self, qvalues):\n",
    "        \"\"\"pick actions given qvalues. Uses epsilon-greedy exploration strategy. \"\"\"\n",
    "        epsilon = self.epsilon\n",
    "        batch_size, n_actions = qvalues.shape\n",
    "\n",
    "        random_actions = np.random.choice(n_actions, size=batch_size)\n",
    "        best_actions = qvalues.argmax(axis=-1)\n",
    "\n",
    "        should_explore = np.random.choice(\n",
    "            [0, 1], batch_size, p=[1-epsilon, epsilon])\n",
    "        return np.where(should_explore, random_actions, best_actions)\n",
    "\n",
    "\n",
    "class DuelingDQNAgent(nn.Module):\n",
    "    def __init__(self, state_shape, n_actions, epsilon=0):\n",
    "\n",
    "        super().__init__()\n",
    "        self.epsilon = epsilon\n",
    "        self.n_actions = n_actions\n",
    "        self.state_shape = state_shape\n",
    "\n",
    "        # Define your network body here. Please make sure agent is fully contained here\n",
    "        self.conv0 = nn.Conv2d(self.state_shape[0], 16, kernel_size = (3, 3), stride = (2, 2))\n",
    "    \n",
    "        self.conv1 = nn.Conv2d(16, 32, kernel_size = (3, 3), stride = (2, 2))\n",
    "        self.conv2 = nn.Conv2d(32, 64, kernel_size = (3, 3), stride = (2, 2))\n",
    "        self.flatten = Flatten()\n",
    "\n",
    "        self.dense = nn.Linear(64 * 7 * 7, 256)\n",
    "        self.logits = nn.Linear(256, self.n_actions)\n",
    "        self.state_value = nn.Linear(256, 1)\n",
    "\n",
    "    def forward(self, state_t):\n",
    "        \"\"\"\n",
    "        takes agent's observation (tensor), returns qvalues (tensor)\n",
    "        :param state_t: a batch of 4-frame buffers, shape = [batch_size, 4, h, w]\n",
    "        \"\"\"\n",
    "        # Use your network to compute qvalues for given state\n",
    "        x = F.relu(self.conv0(state_t))\n",
    "        x = F.relu(self.conv1(x))\n",
    "        x = F.relu(self.conv2(x))\n",
    "        x = F.relu(self.dense(self.flatten(x)))\n",
    "        logits = self.logits(x)\n",
    "        state_value = self.state_value(x)\n",
    "        #duelling\n",
    "        qvalues =  state_value + (logits - logits.mean())\n",
    "\n",
    "        assert qvalues.requires_grad, \"qvalues must be a torch tensor with grad\"\n",
    "        assert len(\n",
    "            qvalues.shape) == 2 and qvalues.shape[0] == state_t.shape[0] and qvalues.shape[1] == n_actions\n",
    "\n",
    "        return qvalues\n",
    "\n",
    "    def get_qvalues(self, states):\n",
    "        \"\"\"\n",
    "        like forward, but works on numpy arrays, not tensors\n",
    "        \"\"\"\n",
    "        model_device = next(self.parameters()).device\n",
    "        states = torch.tensor(states, device=model_device, dtype=torch.float)\n",
    "        qvalues = self.forward(states)\n",
    "        return qvalues.data.cpu().numpy()\n",
    "\n",
    "    def sample_actions(self, qvalues):\n",
    "        \"\"\"pick actions given qvalues. Uses epsilon-greedy exploration strategy. \"\"\"\n",
    "        epsilon = self.epsilon\n",
    "        batch_size, n_actions = qvalues.shape\n",
    "\n",
    "        random_actions = np.random.choice(n_actions, size=batch_size)\n",
    "        best_actions = qvalues.argmax(axis=-1)\n",
    "\n",
    "        should_explore = np.random.choice(\n",
    "            [0, 1], batch_size, p=[1-epsilon, epsilon])\n",
    "        return np.where(should_explore, random_actions, best_actions)\n",
    "\n",
    "class CategoricalDQNAgent(nn.Module):\n",
    "    def __init__(self, state_shape, n_actions, epsilon=0):\n",
    "\n",
    "        super().__init__()\n",
    "        #like in original paper\n",
    "        self.atoms = 101\n",
    "        self.v_max = 50\n",
    "        self.v_min = -50\n",
    "        model_device = device\n",
    "        self.delta = float(self.v_max - self.v_min) / (self.atoms - 1)\n",
    "        self.support = torch.linspace(self.v_min, self.v_max, self.atoms).to(model_device)\n",
    "\n",
    "        self.epsilon = epsilon\n",
    "        self.n_actions = n_actions\n",
    "        self.state_shape = state_shape\n",
    "\n",
    "        # Define your network body here. Please make sure agent is fully contained here\n",
    "        self.conv0 = nn.Conv2d(self.state_shape[0], 16, kernel_size = (3, 3), stride = (2, 2))\n",
    "        self.conv1 = nn.Conv2d(16, 32, kernel_size = (3, 3), stride = (2, 2))\n",
    "        self.conv2 = nn.Conv2d(32, 64, kernel_size = (3, 3), stride = (2, 2))\n",
    "        self.flatten = Flatten()\n",
    "\n",
    "        w = conv2d_size_out(conv2d_size_out(conv2d_size_out(64)))\n",
    "        h = conv2d_size_out(conv2d_size_out(conv2d_size_out(64)))\n",
    "        self.dense = nn.Linear(64 * h * w, 256)\n",
    "        self.logits = nn.Linear(256, self.n_actions * self.atoms)\n",
    "        \n",
    "\n",
    "    def forward(self, state_t):\n",
    "        \"\"\"\n",
    "        takes agent's observation (tensor), returns qvalues (tensor)\n",
    "        :param state_t: a batch of 4-frame buffers, shape = [batch_size, 4, h, w]\n",
    "        \"\"\"\n",
    "        x = F.relu(self.conv0(state_t))\n",
    "        x = F.relu(self.conv1(x))\n",
    "        x = F.relu(self.conv2(x))\n",
    "        x = F.relu(self.dense(self.flatten(x)))\n",
    "        x = self.logits(x).view(-1, self.n_actions, self.atoms)\n",
    "        prob_dist = F.softmax(x, dim = 2)\n",
    "        return prob_dist\n",
    "\n",
    "\n",
    "        return qvalues\n",
    "    def get_qvalues(self, states, return_probs = False):\n",
    "        \"\"\"\n",
    "        like forward, but works on numpy arrays, not tensors\n",
    "        \"\"\"\n",
    "        model_device = next(self.parameters()).device\n",
    "        states = torch.tensor(states, device = model_device, dtype=torch.float)\n",
    "        probs = self.forward(states) \n",
    "        qvalues = (probs * self.support).sum(-1)\n",
    "        if return_probs: return qvalues.detach().data.cpu().numpy(), probs.detach()\n",
    "        return qvalues.detach().data.cpu().numpy()\n",
    "\n",
    "    def proj_distribution(self, states, actions):\n",
    "        probs = self.forward(states)\n",
    "        distr_actions = probs[torch.arange(len(probs)), actions]\n",
    "        return distr_actions\n",
    "    \n",
    "    def sample_actions(self, qvalues):\n",
    "        \"\"\"pick actions given qvalues. Uses epsilon-greedy exploration strategy. \"\"\"\n",
    "        epsilon = self.epsilon\n",
    "        batch_size, n_actions = qvalues.shape\n",
    "\n",
    "        random_actions = np.random.choice(n_actions, size = batch_size)\n",
    "        best_actions = qvalues.argmax(axis = -1)\n",
    "\n",
    "        should_explore = np.random.choice(\n",
    "            [0, 1], batch_size, p=[1-epsilon, epsilon])\n",
    "        return np.where(should_explore, random_actions, best_actions)"
   ]
  },
  {
   "cell_type": "code",
   "execution_count": 16,
   "metadata": {
    "executionInfo": {
     "elapsed": 32455,
     "status": "ok",
     "timestamp": 1621158813042,
     "user": {
      "displayName": "Александр Сергеевич Чернявский",
      "photoUrl": "https://lh3.googleusercontent.com/a-/AOh14Gjfde4jD6kZAd2KHSZWkMk63eF8NAzhqhSkasLVqg=s64",
      "userId": "07399096020997671028"
     },
     "user_tz": -180
    },
    "id": "lx_Pq-5uZ0pl"
   },
   "outputs": [],
   "source": [
    "# agent = DQNAgent(state_shape, n_actions, epsilon = 0.5).to(device)\n",
    "agent = DuelingDQNAgent(state_shape, n_actions, epsilon = 0.5).to(device)\n",
    "# agent = CategoricalDQNAgent(state_shape, n_actions, epsilon = 0.5).to(device)"
   ]
  },
  {
   "cell_type": "markdown",
   "metadata": {
    "id": "qKMkPwLQZ0pm"
   },
   "source": [
    "Now let's try out our agent to see if it raises any errors."
   ]
  },
  {
   "cell_type": "code",
   "execution_count": 17,
   "metadata": {
    "executionInfo": {
     "elapsed": 32456,
     "status": "ok",
     "timestamp": 1621158813045,
     "user": {
      "displayName": "Александр Сергеевич Чернявский",
      "photoUrl": "https://lh3.googleusercontent.com/a-/AOh14Gjfde4jD6kZAd2KHSZWkMk63eF8NAzhqhSkasLVqg=s64",
      "userId": "07399096020997671028"
     },
     "user_tz": -180
    },
    "id": "4H4QUEskZ0pm"
   },
   "outputs": [],
   "source": [
    "def evaluate(env, agent, n_games=1, greedy=False, t_max=10000):\n",
    "    \"\"\" Plays n_games full games. If greedy, picks actions as argmax(qvalues). Returns mean reward. \"\"\"\n",
    "    rewards = []\n",
    "    for _ in range(n_games):\n",
    "        s = env.reset()\n",
    "        reward = 0\n",
    "        for _ in range(t_max):\n",
    "            qvalues = agent.get_qvalues([s])\n",
    "            action = qvalues.argmax(axis=-1)[0] if greedy else agent.sample_actions(qvalues)[0]\n",
    "            s, r, done, _ = env.step(action)\n",
    "            reward += r\n",
    "            if done:\n",
    "                break\n",
    "\n",
    "        rewards.append(reward)\n",
    "    return np.mean(rewards)"
   ]
  },
  {
   "cell_type": "code",
   "execution_count": 18,
   "metadata": {
    "colab": {
     "base_uri": "https://localhost:8080/"
    },
    "executionInfo": {
     "elapsed": 32449,
     "status": "ok",
     "timestamp": 1621158813046,
     "user": {
      "displayName": "Александр Сергеевич Чернявский",
      "photoUrl": "https://lh3.googleusercontent.com/a-/AOh14Gjfde4jD6kZAd2KHSZWkMk63eF8NAzhqhSkasLVqg=s64",
      "userId": "07399096020997671028"
     },
     "user_tz": -180
    },
    "id": "YBblra8OZ0pm",
    "outputId": "610b2ba5-f2e1-4fe0-d53d-a154f5ef5dc8"
   },
   "outputs": [
    {
     "data": {
      "text/plain": [
       "0.0"
      ]
     },
     "execution_count": 18,
     "metadata": {
      "tags": []
     },
     "output_type": "execute_result"
    }
   ],
   "source": [
    "evaluate(env, agent, n_games=1)"
   ]
  },
  {
   "cell_type": "markdown",
   "metadata": {
    "id": "cRd_EjOIZ0pn"
   },
   "source": [
    "### Experience replay\n",
    "For this assignment, we provide you with experience replay buffer. If you implemented experience replay buffer in previous assignment, you can copy-paste it here.\n",
    "\n",
    "![img](https://github.com/yandexdataschool/Practical_RL/raw/master/yet_another_week/_resource/exp_replay.png)"
   ]
  },
  {
   "cell_type": "markdown",
   "metadata": {
    "id": "zas3twObZ0pn"
   },
   "source": [
    "#### The interface is fairly simple:\n",
    "* `exp_replay.add(obs, act, rw, next_obs, done)` - saves (s,a,r,s',done) tuple into the buffer\n",
    "* `exp_replay.sample(batch_size)` - returns observations, actions, rewards, next_observations and is_done for `batch_size` random samples.\n",
    "* `len(exp_replay)` - returns number of elements stored in replay buffer."
   ]
  },
  {
   "cell_type": "code",
   "execution_count": 19,
   "metadata": {
    "executionInfo": {
     "elapsed": 32781,
     "status": "ok",
     "timestamp": 1621158813381,
     "user": {
      "displayName": "Александр Сергеевич Чернявский",
      "photoUrl": "https://lh3.googleusercontent.com/a-/AOh14Gjfde4jD6kZAd2KHSZWkMk63eF8NAzhqhSkasLVqg=s64",
      "userId": "07399096020997671028"
     },
     "user_tz": -180
    },
    "id": "pvf8jcjJZ0po"
   },
   "outputs": [],
   "source": [
    "from replay_buffer import ReplayBuffer\n",
    "exp_replay = ReplayBuffer(10)\n",
    "\n",
    "for _ in range(30):\n",
    "    exp_replay.add(env.reset(), env.action_space.sample(),\n",
    "                   1.0, env.reset(), done=False)\n",
    "\n",
    "obs_batch, act_batch, reward_batch, next_obs_batch, is_done_batch = exp_replay.sample(\n",
    "    5)\n",
    "\n",
    "assert len(exp_replay) == 10, \"experience replay size should be 10 because that's what maximum capacity is\""
   ]
  },
  {
   "cell_type": "code",
   "execution_count": 20,
   "metadata": {
    "executionInfo": {
     "elapsed": 32780,
     "status": "ok",
     "timestamp": 1621158813383,
     "user": {
      "displayName": "Александр Сергеевич Чернявский",
      "photoUrl": "https://lh3.googleusercontent.com/a-/AOh14Gjfde4jD6kZAd2KHSZWkMk63eF8NAzhqhSkasLVqg=s64",
      "userId": "07399096020997671028"
     },
     "user_tz": -180
    },
    "id": "jkKdyih-Z0po"
   },
   "outputs": [],
   "source": [
    "def play_and_record(initial_state, agent, env, exp_replay, n_steps=1):\n",
    "    \"\"\"\n",
    "    Play the game for exactly n steps, record every (s,a,r,s', done) to replay buffer. \n",
    "    Whenever game ends, add record with done=True and reset the game.\n",
    "    It is guaranteed that env has done=False when passed to this function.\n",
    "\n",
    "    PLEASE DO NOT RESET ENV UNLESS IT IS \"DONE\"\n",
    "\n",
    "    :returns: return sum of rewards over time and the state in which the env stays\n",
    "    \"\"\"\n",
    "    s = initial_state\n",
    "    sum_rewards = 0\n",
    "\n",
    "    # Play the game for n_steps as per instructions above\n",
    "    for _ in range(n_steps):\n",
    "        qvalues = agent.get_qvalues([s])\n",
    "        a = agent.sample_actions(qvalues)[0]\n",
    "        next_s, r, done, _ = env.step(a)\n",
    "        # Play the game for n_steps as per instructions above\n",
    "        if exp_replay is not None:\n",
    "            # store current <s,a,r,s'> transition in buffer\n",
    "            exp_replay.add(s, a, r, next_s, done)\n",
    "        sum_rewards += r\n",
    "        if done:  env.reset()\n",
    "        else: s = next_s \n",
    "\n",
    "\n",
    "    return sum_rewards, s"
   ]
  },
  {
   "cell_type": "code",
   "execution_count": 21,
   "metadata": {
    "colab": {
     "base_uri": "https://localhost:8080/"
    },
    "executionInfo": {
     "elapsed": 37800,
     "status": "ok",
     "timestamp": 1621158818410,
     "user": {
      "displayName": "Александр Сергеевич Чернявский",
      "photoUrl": "https://lh3.googleusercontent.com/a-/AOh14Gjfde4jD6kZAd2KHSZWkMk63eF8NAzhqhSkasLVqg=s64",
      "userId": "07399096020997671028"
     },
     "user_tz": -180
    },
    "id": "YemBYhR-Z0po",
    "outputId": "b4a24746-2fc0-4811-dbf5-0a843f5d9270"
   },
   "outputs": [
    {
     "name": "stdout",
     "output_type": "stream",
     "text": [
      "Well done!\n"
     ]
    }
   ],
   "source": [
    "# testing your code.\n",
    "exp_replay = ReplayBuffer(2000)\n",
    "\n",
    "state = env.reset()\n",
    "play_and_record(state, agent, env, exp_replay, n_steps=1000)\n",
    "\n",
    "# if you're using your own experience replay buffer, some of those tests may need correction.\n",
    "# just make sure you know what your code does\n",
    "assert len(exp_replay) == 1000, \"play_and_record should have added exactly 1000 steps, \"\\\n",
    "                                 \"but instead added %i\" % len(exp_replay)\n",
    "is_dones = list(zip(*exp_replay._storage))[-1]\n",
    "\n",
    "assert 0 < np.mean(is_dones) < 0.1, \"Please make sure you restart the game whenever it is 'done' and record the is_done correctly into the buffer.\"\\\n",
    "                                    \"Got %f is_done rate over %i steps. [If you think it's your tough luck, just re-run the test]\" % (\n",
    "                                        np.mean(is_dones), len(exp_replay))\n",
    "\n",
    "for _ in range(100):\n",
    "    obs_batch, act_batch, reward_batch, next_obs_batch, is_done_batch = exp_replay.sample(\n",
    "        10)\n",
    "    assert obs_batch.shape == next_obs_batch.shape == (10,) + state_shape\n",
    "    assert act_batch.shape == (\n",
    "        10,), \"actions batch should have shape (10,) but is instead %s\" % str(act_batch.shape)\n",
    "    assert reward_batch.shape == (\n",
    "        10,), \"rewards batch should have shape (10,) but is instead %s\" % str(reward_batch.shape)\n",
    "    assert is_done_batch.shape == (\n",
    "        10,), \"is_done batch should have shape (10,) but is instead %s\" % str(is_done_batch.shape)\n",
    "    assert [int(i) in (0, 1)\n",
    "            for i in is_dones], \"is_done should be strictly True or False\"\n",
    "    assert [\n",
    "        0 <= a < n_actions for a in act_batch], \"actions should be within [0, n_actions)\"\n",
    "\n",
    "print(\"Well done!\")"
   ]
  },
  {
   "cell_type": "markdown",
   "metadata": {
    "id": "L_w-kmhyZ0pp"
   },
   "source": [
    "### Target networks\n",
    "\n",
    "We also employ the so called \"target network\" - a copy of neural network weights to be used for reference Q-values:\n",
    "\n",
    "The network itself is an exact copy of agent network, but it's parameters are not trained. Instead, they are moved here from agent's actual network every so often.\n",
    "\n",
    "$$ Q_{reference}(s,a) = r + \\gamma \\cdot \\max _{a'} Q_{target}(s',a') $$\n",
    "\n",
    "![img](https://github.com/yandexdataschool/Practical_RL/raw/master/yet_another_week/_resource/target_net.png)"
   ]
  },
  {
   "cell_type": "code",
   "execution_count": 22,
   "metadata": {
    "colab": {
     "base_uri": "https://localhost:8080/"
    },
    "executionInfo": {
     "elapsed": 37795,
     "status": "ok",
     "timestamp": 1621158818413,
     "user": {
      "displayName": "Александр Сергеевич Чернявский",
      "photoUrl": "https://lh3.googleusercontent.com/a-/AOh14Gjfde4jD6kZAd2KHSZWkMk63eF8NAzhqhSkasLVqg=s64",
      "userId": "07399096020997671028"
     },
     "user_tz": -180
    },
    "id": "x_Blp2CzZ0pp",
    "outputId": "c9f69c71-d78f-4fca-c1e6-af20fd2612d2"
   },
   "outputs": [
    {
     "data": {
      "text/plain": [
       "<All keys matched successfully>"
      ]
     },
     "execution_count": 22,
     "metadata": {
      "tags": []
     },
     "output_type": "execute_result"
    }
   ],
   "source": [
    "# target_network = DQNAgent(agent.state_shape, agent.n_actions, epsilon=0.5).to(device)\n",
    "target_network = DuelingDQNAgent(agent.state_shape, agent.n_actions, epsilon=0.5).to(device)\n",
    "# target_network = CategoricalDQNAgent(state_shape, n_actions, epsilon = 0.5).to(device)\n",
    "\n",
    "# This is how you can load weights from agent into target network\n",
    "target_network.load_state_dict(agent.state_dict())"
   ]
  },
  {
   "cell_type": "markdown",
   "metadata": {
    "id": "MZAU1eQ_Z0pp"
   },
   "source": [
    "### Learning with... Q-learning\n",
    "Here we write a function similar to `agent.update` from tabular q-learning."
   ]
  },
  {
   "cell_type": "markdown",
   "metadata": {
    "id": "JmAAh39lZ0pp"
   },
   "source": [
    "Compute Q-learning TD error:\n",
    "\n",
    "$$ L = { 1 \\over N} \\sum_i [ Q_{\\theta}(s,a) - Q_{reference}(s,a) ] ^2 $$\n",
    "\n",
    "With Q-reference defined as\n",
    "\n",
    "$$ Q_{reference}(s,a) = r(s,a) + \\gamma \\cdot max_{a'} Q_{target}(s', a') $$\n",
    "\n",
    "Where\n",
    "* $Q_{target}(s',a')$ denotes q-value of next state and next action predicted by __target_network__\n",
    "* $s, a, r, s'$ are current state, action, reward and next state respectively\n",
    "* $\\gamma$ is a discount factor defined two cells above.\n",
    "\n",
    "\n",
    "__Note 1:__ there's an example input below. Feel free to experiment with it before you write the function.\n",
    "\n",
    "__Note 2:__ compute_td_loss is a source of 99% of bugs in this homework. If reward doesn't improve, it often helps to go through it line by line [with a rubber duck](https://rubberduckdebugging.com/)."
   ]
  },
  {
   "cell_type": "code",
   "execution_count": 23,
   "metadata": {
    "executionInfo": {
     "elapsed": 37794,
     "status": "ok",
     "timestamp": 1621158818415,
     "user": {
      "displayName": "Александр Сергеевич Чернявский",
      "photoUrl": "https://lh3.googleusercontent.com/a-/AOh14Gjfde4jD6kZAd2KHSZWkMk63eF8NAzhqhSkasLVqg=s64",
      "userId": "07399096020997671028"
     },
     "user_tz": -180
    },
    "id": "902q0YA7Z0pp"
   },
   "outputs": [],
   "source": [
    "def where(cond, x_1, x_2):\n",
    "    \"\"\" helper: like np.where but in pytorch. \"\"\"\n",
    "    return (cond * x_1) + ((1 - cond) * x_2)\n",
    "\n",
    "\n",
    "def compute_td_loss(states, actions, rewards, next_states, is_done,\n",
    "                    agent, target_network,\n",
    "                    gamma = 0.99,\n",
    "                    check_shapes = False,\n",
    "                    device = device,\n",
    "                    double_DQN = False, \n",
    "                    categorical_DQN = False):\n",
    "  \n",
    "    assert (double_DQN and categorical_DQN) == False, \"didn't implement these 2 simultaneously\"\n",
    "    \"\"\" Compute td loss using torch operations only. Use the formulae above. \"\"\"\n",
    "    states = torch.tensor(states, device=device, dtype=torch.float)    # shape: [batch_size, *state_shape]\n",
    "\n",
    "    # for some torch reason should not make actions a tensor\n",
    "    batch_size = len(states)\n",
    "    actions = torch.tensor(actions, device=device, dtype=torch.long)    # shape: [batch_size]\n",
    "    rewards = torch.tensor(rewards, device=device, dtype=torch.float)  # shape: [batch_size]\n",
    "    # shape: [batch_size, *state_shape]\n",
    "    next_states = torch.tensor(next_states, device=device, dtype=torch.float)\n",
    "    is_done = torch.tensor(\n",
    "        is_done.astype('float32'),\n",
    "        device=device,\n",
    "        dtype=torch.float\n",
    "    )  # shape: [batch_size]\n",
    "    is_not_done = 1 - is_done\n",
    "\n",
    "    if categorical_DQN:\n",
    "      with torch.no_grad():\n",
    "          next_state_qvals, probs = target_network.get_qvalues(next_states, True)\n",
    "          best_actions = next_state_qvals.argmax(axis = -1)\n",
    "          next_state_distr = probs[torch.arange(len(probs)), actions]\n",
    "            \n",
    "          next_state_support = rewards.unsqueeze(-1)  + (gamma * agent.support * is_not_done.unsqueeze(-1))\n",
    "          tz = next_state_support.clamp(agent.v_min, agent.v_max)\n",
    "          b = (tz - agent.v_min) / agent.delta\n",
    "          l = b.floor().clamp(0, agent.atoms - 1)\n",
    "          u = b.ceil().clamp(0, agent.atoms - 1)\n",
    "          d_m_l = (u+(l==u).float() - b) * next_state_distr\n",
    "          d_m_u = (b - l) * next_state_distr\n",
    "\n",
    "          targets = torch.zeros(next_state_distr.shape, device = torch.device('cpu'))\n",
    "          #unstable on gpu\n",
    "          for i in range(targets.shape[0]):\n",
    "            targets[i].index_add_(0, l[i].cpu().long(), d_m_l[i].cpu())\n",
    "            targets[i].index_add_(0, u[i].cpu().long(), d_m_u[i].cpu())\n",
    "                \n",
    "      loss = (-1 * (targets.to(device).detach() * (agent.proj_distribution(states, actions)).log()).sum(-1)).mean()\n",
    "      return loss\n",
    "\n",
    "\n",
    "    # get q-values for all actions in current states\n",
    "    predicted_qvalues = agent(states)\n",
    "    # compute q-values for all actions in next states\n",
    "    predicted_next_qvalues = target_network(next_states).detach() \n",
    "     # select q-values for chosen actions\n",
    "    predicted_qvalues_for_actions = predicted_qvalues[range(\n",
    "        len(actions)), actions]\n",
    "\n",
    "    if double_DQN:\n",
    "        predicted_qvalues_prime =  agent(states).detach()\n",
    "        prime_actions = predicted_qvalues_prime.max(1)[1]\n",
    "                  \n",
    "        # predicted_next_qvalues_prime = target_network(next_states).detach() \n",
    "        next_state_values = predicted_next_qvalues.gather(1, prime_actions.unsqueeze(1)).squeeze()\n",
    "    else:\n",
    "        # compute V*(next_states) using predicted next q-values\n",
    "        next_state_values = torch.max(predicted_next_qvalues, dim = 1)[0]  \n",
    "\n",
    "        assert next_state_values.dim(\n",
    "        ) == 1 and next_state_values.shape[0] == states.shape[0], \"must predict one value per state\"  \n",
    "        # compute \"target q-values\" for loss - it's what's inside square parentheses in the above formula.\n",
    "        # at the last state use the simplified formula: Q(s,a) = r(s,a) since s' doesn't exist\n",
    "        # you can multiply next state values by is_not_done to achieve this.\n",
    "\n",
    "    # print(next_state_values.shape, rewards.shape)\n",
    "    target_qvalues_for_actions = rewards + gamma * next_state_values * is_not_done\n",
    "  \n",
    "    # target_qvalues_for_actions = where(is_done, rewards, target_qvalues_for_actions)\n",
    "    # mean squared error loss to minimize\n",
    "    loss = torch.mean((predicted_qvalues_for_actions -\n",
    "                      target_qvalues_for_actions) ** 2)\n",
    "\n",
    "    if check_shapes:\n",
    "        assert predicted_next_qvalues.data.dim(\n",
    "        ) == 2, \"make sure you predicted q-values for all actions in next state\"\n",
    "        assert next_state_values.data.dim(\n",
    "        ) == 1, \"make sure you computed V(s') as maximum over just the actions axis and not all axes\"\n",
    "        assert target_qvalues_for_actions.data.dim(\n",
    "        ) == 1, \"there's something wrong with target q-values, they must be a vector\"\n",
    "\n",
    "    return loss"
   ]
  },
  {
   "cell_type": "markdown",
   "metadata": {
    "id": "yh4IVqYIZ0pp"
   },
   "source": [
    "Sanity checks"
   ]
  },
  {
   "cell_type": "code",
   "execution_count": 24,
   "metadata": {
    "executionInfo": {
     "elapsed": 38162,
     "status": "ok",
     "timestamp": 1621158818786,
     "user": {
      "displayName": "Александр Сергеевич Чернявский",
      "photoUrl": "https://lh3.googleusercontent.com/a-/AOh14Gjfde4jD6kZAd2KHSZWkMk63eF8NAzhqhSkasLVqg=s64",
      "userId": "07399096020997671028"
     },
     "user_tz": -180
    },
    "id": "RP4sFBdVZ0pq"
   },
   "outputs": [],
   "source": [
    "obs_batch, act_batch, reward_batch, next_obs_batch, is_done_batch = exp_replay.sample(\n",
    "    10)\n",
    "\n",
    "loss = compute_td_loss(obs_batch, act_batch, reward_batch, next_obs_batch, is_done_batch,\n",
    "                       agent, target_network,\n",
    "                       gamma = 0.99, check_shapes = True)\n",
    "loss.backward()\n",
    "\n",
    "assert loss.requires_grad and tuple(loss.data.size()) == (\n",
    "    ), \"you must return scalar loss - mean over batch\"\n",
    "assert np.any(next(agent.parameters()).grad.data.cpu().numpy() !=\n",
    "              0), \"loss must be differentiable w.r.t. network weights\"\n",
    "assert np.all(next(target_network.parameters()).grad is None), \"target network should not have grads\""
   ]
  },
  {
   "cell_type": "markdown",
   "metadata": {
    "id": "IXaor5uQZ0pq"
   },
   "source": [
    "## 3. Main loop\n",
    "\n",
    "**If deadline is tonight and it has not converged:** It is ok. Send the notebook today and when it converges send it again.\n",
    "\n",
    "It's time to put everything together and see if it learns anything."
   ]
  },
  {
   "cell_type": "code",
   "execution_count": 25,
   "metadata": {
    "executionInfo": {
     "elapsed": 38162,
     "status": "ok",
     "timestamp": 1621158818789,
     "user": {
      "displayName": "Александр Сергеевич Чернявский",
      "photoUrl": "https://lh3.googleusercontent.com/a-/AOh14Gjfde4jD6kZAd2KHSZWkMk63eF8NAzhqhSkasLVqg=s64",
      "userId": "07399096020997671028"
     },
     "user_tz": -180
    },
    "id": "uXtU0icvZ0pq"
   },
   "outputs": [],
   "source": [
    "from tqdm import trange\n",
    "from IPython.display import clear_output\n",
    "import matplotlib.pyplot as plt"
   ]
  },
  {
   "cell_type": "code",
   "execution_count": 26,
   "metadata": {
    "colab": {
     "base_uri": "https://localhost:8080/"
    },
    "executionInfo": {
     "elapsed": 38157,
     "status": "ok",
     "timestamp": 1621158818792,
     "user": {
      "displayName": "Александр Сергеевич Чернявский",
      "photoUrl": "https://lh3.googleusercontent.com/a-/AOh14Gjfde4jD6kZAd2KHSZWkMk63eF8NAzhqhSkasLVqg=s64",
      "userId": "07399096020997671028"
     },
     "user_tz": -180
    },
    "id": "WclmCQRMZ0pr",
    "outputId": "639b7ee3-998d-4c89-9d89-bbcff91f0b5f"
   },
   "outputs": [
    {
     "data": {
      "text/plain": [
       "<torch._C.Generator at 0x7fd6f0a44cd0>"
      ]
     },
     "execution_count": 26,
     "metadata": {
      "tags": []
     },
     "output_type": "execute_result"
    }
   ],
   "source": [
    "seed = 42 #<your favourite random seed>\n",
    "random.seed(seed)\n",
    "np.random.seed(seed)\n",
    "torch.manual_seed(seed)"
   ]
  },
  {
   "cell_type": "code",
   "execution_count": 27,
   "metadata": {
    "colab": {
     "base_uri": "https://localhost:8080/"
    },
    "executionInfo": {
     "elapsed": 38152,
     "status": "ok",
     "timestamp": 1621158818794,
     "user": {
      "displayName": "Александр Сергеевич Чернявский",
      "photoUrl": "https://lh3.googleusercontent.com/a-/AOh14Gjfde4jD6kZAd2KHSZWkMk63eF8NAzhqhSkasLVqg=s64",
      "userId": "07399096020997671028"
     },
     "user_tz": -180
    },
    "id": "4kRY5MDoZ0ps",
    "outputId": "43188a23-6f1a-40c4-ef18-634ec97de52c"
   },
   "outputs": [
    {
     "data": {
      "text/plain": [
       "<All keys matched successfully>"
      ]
     },
     "execution_count": 27,
     "metadata": {
      "tags": []
     },
     "output_type": "execute_result"
    }
   ],
   "source": [
    "env = make_env(seed)\n",
    "state_shape = env.observation_space.shape\n",
    "n_actions = env.action_space.n\n",
    "state = env.reset()\n",
    "\n",
    "agent = DuelingDQNAgent(state_shape, n_actions, epsilon=1).to(device)\n",
    "target_network = DuelingDQNAgent(state_shape, n_actions).to(device)\n",
    "target_network.load_state_dict(agent.state_dict())"
   ]
  },
  {
   "cell_type": "markdown",
   "metadata": {
    "id": "4Bh04wo_Z0ps"
   },
   "source": [
    "Buffer of size $10^4$ fits into 5 Gb RAM.\n",
    "\n",
    "Larger sizes ($10^5$ and $10^6$ are common) can be used. It can improve the learning, but $10^4$ is quiet enough. $10^2$ will probably fail learning."
   ]
  },
  {
   "cell_type": "code",
   "execution_count": 28,
   "metadata": {
    "colab": {
     "base_uri": "https://localhost:8080/"
    },
    "executionInfo": {
     "elapsed": 85195,
     "status": "ok",
     "timestamp": 1621158865844,
     "user": {
      "displayName": "Александр Сергеевич Чернявский",
      "photoUrl": "https://lh3.googleusercontent.com/a-/AOh14Gjfde4jD6kZAd2KHSZWkMk63eF8NAzhqhSkasLVqg=s64",
      "userId": "07399096020997671028"
     },
     "user_tz": -180
    },
    "id": "DEmJoSXtZ0pt",
    "outputId": "1fa4d69b-e4b9-4eeb-c76e-fc6ccae9fbd6"
   },
   "outputs": [
    {
     "name": "stdout",
     "output_type": "stream",
     "text": [
      "10000\n"
     ]
    }
   ],
   "source": [
    "exp_replay = ReplayBuffer(10**5)\n",
    "for i in range(100):\n",
    "    if not utils.is_enough_ram(min_available_gb=0.1):\n",
    "        print(\"\"\"\n",
    "            Less than 100 Mb RAM available. \n",
    "            Make sure the buffer size in not too huge.\n",
    "            Also check, maybe other processes consume RAM heavily.\n",
    "            \"\"\"\n",
    "             )\n",
    "        break\n",
    "    play_and_record(state, agent, env, exp_replay, n_steps=10**2)\n",
    "    if len(exp_replay) == 10**5:\n",
    "        break\n",
    "print(len(exp_replay))"
   ]
  },
  {
   "cell_type": "code",
   "execution_count": 29,
   "metadata": {
    "executionInfo": {
     "elapsed": 85196,
     "status": "ok",
     "timestamp": 1621158865847,
     "user": {
      "displayName": "Александр Сергеевич Чернявский",
      "photoUrl": "https://lh3.googleusercontent.com/a-/AOh14Gjfde4jD6kZAd2KHSZWkMk63eF8NAzhqhSkasLVqg=s64",
      "userId": "07399096020997671028"
     },
     "user_tz": -180
    },
    "id": "9vXbu5tMZ0pt"
   },
   "outputs": [],
   "source": [
    "timesteps_per_epoch = 1\n",
    "batch_size = 12\n",
    "total_steps = 3 * 10**6\n",
    "decay_steps = 10**6\n",
    "TAU = 1e-2 \n",
    "\n",
    "opt = torch.optim.Adam(agent.parameters(), lr = 1e-4)\n",
    "\n",
    "init_epsilon = 1\n",
    "final_epsilon = 0.1\n",
    "\n",
    "loss_freq = 50\n",
    "refresh_target_network_freq = 5000\n",
    "eval_freq = 5000\n",
    "\n",
    "max_grad_norm = 50\n",
    "\n",
    "n_lives = 5"
   ]
  },
  {
   "cell_type": "code",
   "execution_count": 30,
   "metadata": {
    "executionInfo": {
     "elapsed": 85194,
     "status": "ok",
     "timestamp": 1621158865848,
     "user": {
      "displayName": "Александр Сергеевич Чернявский",
      "photoUrl": "https://lh3.googleusercontent.com/a-/AOh14Gjfde4jD6kZAd2KHSZWkMk63eF8NAzhqhSkasLVqg=s64",
      "userId": "07399096020997671028"
     },
     "user_tz": -180
    },
    "id": "2tpfVI_NZ0pu"
   },
   "outputs": [],
   "source": [
    "mean_rw_history = []\n",
    "td_loss_history = []\n",
    "grad_norm_history = []\n",
    "initial_state_v_history = []"
   ]
  },
  {
   "cell_type": "code",
   "execution_count": 31,
   "metadata": {
    "colab": {
     "base_uri": "https://localhost:8080/",
     "height": 605
    },
    "executionInfo": {
     "elapsed": 4569949,
     "status": "ok",
     "timestamp": 1621163350610,
     "user": {
      "displayName": "Александр Сергеевич Чернявский",
      "photoUrl": "https://lh3.googleusercontent.com/a-/AOh14Gjfde4jD6kZAd2KHSZWkMk63eF8NAzhqhSkasLVqg=s64",
      "userId": "07399096020997671028"
     },
     "user_tz": -180
    },
    "id": "BBjBOwzdZ0pu",
    "outputId": "9dd91f90-94bb-4b82-ff55-8e59c8e967b5",
    "scrolled": false
   },
   "outputs": [
    {
     "name": "stdout",
     "output_type": "stream",
     "text": [
      "buffer size = 100000, epsilon = 0.68950\n"
     ]
    },
    {
     "name": "stderr",
     "output_type": "stream",
     "text": [
      "\r",
      " 11%|█▏        | 344995/3000001 [1:13:30<8:13:12, 89.72it/s]"
     ]
    },
    {
     "data": {
      "image/png": "[encoded data removed]",
      "text/plain": [
       "<Figure size 1152x648 with 4 Axes>"
      ]
     },
     "metadata": {
      "needs_background": "light",
      "tags": []
     },
     "output_type": "display_data"
    },
    {
     "name": "stderr",
     "output_type": "stream",
     "text": [
      " 12%|█▏        | 350000/3000001 [1:14:40<8:08:07, 90.48it/s]"
     ]
    }
   ],
   "source": [
    "state = env.reset()\n",
    "for step in trange(total_steps + 1):\n",
    "    if not utils.is_enough_ram():\n",
    "        print('less that 100 Mb RAM available, freezing')\n",
    "        print('make sure everything is ok and make KeyboardInterrupt to continue')\n",
    "        try:\n",
    "            while True:\n",
    "                pass\n",
    "        except KeyboardInterrupt:\n",
    "            pass\n",
    "\n",
    "    agent.epsilon = utils.linear_decay(init_epsilon, final_epsilon, step, decay_steps)\n",
    "\n",
    "    # play\n",
    "    _, state = play_and_record(state, agent, env, exp_replay, timesteps_per_epoch)\n",
    "\n",
    "    # train\n",
    "    #< sample batch_size of data from experience replay >\n",
    "    state_, action, reward, next_state, is_done = exp_replay.sample(batch_size)\n",
    "\n",
    "    loss = compute_td_loss(state_, action, reward, next_state, is_done,\n",
    "                           agent, target_network)\n",
    "    \n",
    "    loss.backward()\n",
    "    grad_norm = nn.utils.clip_grad_norm_(agent.parameters(), max_grad_norm)\n",
    "    opt.step()\n",
    "    opt.zero_grad()\n",
    "\n",
    "    if step % loss_freq == 0:\n",
    "        td_loss_history.append(loss.data.cpu().item())\n",
    "        grad_norm_history.append(grad_norm)\n",
    "\n",
    "    if step % refresh_target_network_freq == 0:\n",
    "        # Load agent weights into target_network\n",
    "        # for target_param, agent_param in zip(target_network.parameters(), agent.parameters()):\n",
    "        #     target_param.data.copy_(TAU * agent_param.data + (1.0 - TAU) * target_param.data)\n",
    "        target_network.load_state_dict(agent.state_dict())\n",
    "\n",
    "\n",
    "    if step % eval_freq == 0:\n",
    "\n",
    "        mean_rw_history.append(evaluate(\n",
    "            make_env(clip_rewards = True, seed = step), agent, n_games = 3 * n_lives, greedy = True))\n",
    "        \n",
    "        if step > 0:\n",
    "            if mean_rw_history[-1] >= mean_rw_history[-2]:\n",
    "                torch.save(agent, \"agent.model\")\n",
    "                torch.save(target_network, \"target_network.model\")\n",
    "            #stopping criterium\n",
    "            if mean_rw_history[-1] >= 4: break\n",
    "\n",
    "        initial_state_q_values = agent.get_qvalues(\n",
    "            [make_env(seed=step).reset()])\n",
    "        initial_state_v_history.append(np.max(initial_state_q_values))\n",
    "\n",
    "        clear_output(True)\n",
    "        print(\"buffer size = %i, epsilon = %.5f\" %\n",
    "              (len(exp_replay), agent.epsilon))\n",
    "\n",
    "        plt.figure(figsize=[16, 9])\n",
    "\n",
    "        plt.subplot(2, 2, 1)\n",
    "        plt.title(\"Mean reward per life\")\n",
    "        plt.plot(mean_rw_history)\n",
    "        plt.grid()\n",
    "\n",
    "        assert not np.isnan(td_loss_history[-1])\n",
    "        plt.subplot(2, 2, 2)\n",
    "        plt.title(\"TD loss history (smoothened)\")\n",
    "        plt.plot(utils.smoothen(td_loss_history))\n",
    "        plt.grid()\n",
    "\n",
    "        plt.subplot(2, 2, 3)\n",
    "        plt.title(\"Initial state V\")\n",
    "        plt.plot(initial_state_v_history)\n",
    "        plt.grid()\n",
    "\n",
    "        plt.subplot(2, 2, 4)\n",
    "        plt.title(\"Grad norm history (smoothened)\")\n",
    "        plt.plot(utils.smoothen(grad_norm_history))\n",
    "        plt.grid()\n",
    "\n",
    "        plt.show()"
   ]
  },
  {
   "cell_type": "markdown",
   "metadata": {
    "id": "35UI-SNAZ0pu"
   },
   "source": [
    "Agent is evaluated for 1 life, not for a whole episode of 5 lives. Rewards in evaluation are also truncated. Cuz this is what environment the agent is learning in and in this way mean rewards per life can be compared with initial state value\n",
    "\n",
    "The goal is to get 10 points in the real env. So 2 or better 3 points in the preprocessed one will probably be enough. You can interrupt learning then."
   ]
  },
  {
   "cell_type": "markdown",
   "metadata": {
    "id": "x515ANshZ0pu"
   },
   "source": [
    "Final scoring is done on a whole episode with all 5 lives."
   ]
  },
  {
   "cell_type": "code",
   "execution_count": 32,
   "metadata": {
    "colab": {
     "base_uri": "https://localhost:8080/"
    },
    "executionInfo": {
     "elapsed": 4599227,
     "status": "ok",
     "timestamp": 1621163379895,
     "user": {
      "displayName": "Александр Сергеевич Чернявский",
      "photoUrl": "https://lh3.googleusercontent.com/a-/AOh14Gjfde4jD6kZAd2KHSZWkMk63eF8NAzhqhSkasLVqg=s64",
      "userId": "07399096020997671028"
     },
     "user_tz": -180
    },
    "id": "Ycue9EVyZ0pu",
    "outputId": "5006787a-b47a-49ce-fa76-8bdc8a6cf0af"
   },
   "outputs": [
    {
     "name": "stdout",
     "output_type": "stream",
     "text": [
      "final score: 35.0\n",
      "Cool!\n"
     ]
    }
   ],
   "source": [
    "final_score = evaluate(\n",
    "  make_env(clip_rewards=False, seed=9),\n",
    "    agent, n_games=30, greedy=True, t_max=10 * 1000\n",
    ") * n_lives\n",
    "print('final score:', final_score)\n",
    "assert final_score >= 10, 'not as cool as DQN can'\n",
    "print('Cool!')"
   ]
  },
  {
   "cell_type": "markdown",
   "metadata": {
    "id": "9a3hK7cbZ0pv"
   },
   "source": [
    "## How to interpret plots:\n",
    "\n",
    "This aint no supervised learning so don't expect anything to improve monotonously. \n",
    "* **TD loss** is the MSE between agent's current Q-values and target Q-values. It may slowly increase or decrease, it's ok. The \"not ok\" behavior includes going NaN or stayng at exactly zero before agent has perfect performance.\n",
    "* **grad norm** just shows the intensivity of training. Not ok is growing to values of about 100 (or maybe even 50) though it depends on network architecture.\n",
    "* **mean reward** is the expected sum of r(s,a) agent gets over the full game session. It will oscillate, but on average it should get higher over time (after a few thousand iterations...). \n",
    " * In basic q-learning implementation it takes about 40k steps to \"warm up\" agent before it starts to get better.\n",
    "* **Initial state V** is the expected discounted reward for episode in the oppinion of the agent. It should behave more smoothly than **mean reward**. It should get higher over time but sometimes can experience drawdowns because of the agaent's overestimates.\n",
    "* **buffer size** - this one is simple. It should go up and cap at max size.\n",
    "* **epsilon** - agent's willingness to explore. If you see that agent's already at 0.01 epsilon before it's average reward is above 0 - it means you need to increase epsilon. Set it back to some 0.2 - 0.5 and decrease the pace at which it goes down.\n",
    "* Smoothing of plots is done with a gaussian kernel\n",
    "\n",
    "At first your agent will lose quickly. Then it will learn to suck less and at least hit the ball a few times before it loses. Finally it will learn to actually score points.\n",
    "\n",
    "**Training will take time.** A lot of it actually. Probably you will not see any improvment during first **150k** time steps (note that by default in this notebook agent is evaluated every 5000 time steps).\n",
    "\n",
    "But hey, long training time isn't _that_ bad:\n",
    "![img](https://github.com/yandexdataschool/Practical_RL/raw/master/yet_another_week/_resource/training.png)"
   ]
  },
  {
   "cell_type": "markdown",
   "metadata": {
    "id": "Osz-FAMxZ0pw"
   },
   "source": [
    "## About hyperparameters:\n",
    "\n",
    "The task has something in common with supervised learning: loss is optimized through the buffer (instead of Train dataset). But the distribution of states and actions in the buffer **is not stationary** and depends on the policy that generated it. It can even happen that the mean TD error across the buffer is very low but the performance is extremely poor (imagine the agent collecting data to the buffer always manages to avoid the ball).\n",
    "\n",
    "* Total timesteps and training time: It seems to be so huge, but actually it is normal for RL.\n",
    "\n",
    "* $\\epsilon$ decay shedule was taken from the original paper and is like traditional for epsilon-greedy policies. At the beginning of the training the agent's greedy policy is poor so many random actions should be taken.\n",
    "\n",
    "* Optimizer: In the original paper RMSProp was used (they did not have Adam in 2013) and it can work not worse than Adam. For us Adam was default and it worked.\n",
    "\n",
    "* lr: $10^{-3}$ would probably be too huge\n",
    "\n",
    "* batch size: This one can be very important: if it is too small the agent can fail to learn. Huge batch takes more time to process. If batch of size 8 can not be processed on the hardware you use take 2 (or even 4) batches of size 4, divide the loss on them by 2 (or 4) and make optimization step after both backward() calls in torch.\n",
    "\n",
    "* target network update frequency: has something in common with learning rate. Too frequent updates can lead to divergence. Too rare can lead to slow leraning. For millions of total timesteps thousands of inner steps seem ok. One iteration of target network updating is an iteration of the (this time approximate) $\\gamma$-compression that stands behind Q-learning. The more inner steps it makes the more accurate is the compression.\n",
    "* max_grad_norm - just huge enough. In torch clip_grad_norm also evaluates the norm before clipping and it can be convenient for logging."
   ]
  },
  {
   "cell_type": "markdown",
   "metadata": {
    "id": "qkjLjFifZ0pw"
   },
   "source": [
    "### Video"
   ]
  },
  {
   "cell_type": "code",
   "execution_count": 33,
   "metadata": {
    "executionInfo": {
     "elapsed": 4650198,
     "status": "ok",
     "timestamp": 1621163430869,
     "user": {
      "displayName": "Александр Сергеевич Чернявский",
      "photoUrl": "https://lh3.googleusercontent.com/a-/AOh14Gjfde4jD6kZAd2KHSZWkMk63eF8NAzhqhSkasLVqg=s64",
      "userId": "07399096020997671028"
     },
     "user_tz": -180
    },
    "id": "Lm2iaLwAZ0px",
    "scrolled": false
   },
   "outputs": [],
   "source": [
    "# record sessions\n",
    "import gym.wrappers\n",
    "env_monitor = gym.wrappers.Monitor(make_env(), directory=\"videos\", force=True)\n",
    "sessions = [evaluate(env_monitor, agent, n_games=n_lives, greedy=True) for _ in range(10)]\n",
    "env_monitor.close()"
   ]
  },
  {
   "cell_type": "code",
   "execution_count": 34,
   "metadata": {
    "colab": {
     "base_uri": "https://localhost:8080/",
     "height": 501,
     "resources": {
      "http://localhost:8080/videos/openaigym.video.0.58.video000008.mp4": {
       "data": "CjwhRE9DVFlQRSBodG1sPgo8aHRtbCBsYW5nPWVuPgogIDxtZXRhIGNoYXJzZXQ9dXRmLTg+CiAgPG1ldGEgbmFtZT12aWV3cG9ydCBjb250ZW50PSJpbml0aWFsLXNjYWxlPTEsIG1pbmltdW0tc2NhbGU9MSwgd2lkdGg9ZGV2aWNlLXdpZHRoIj4KICA8dGl0bGU+RXJyb3IgNDA0IChOb3QgRm91bmQpISExPC90aXRsZT4KICA8c3R5bGU+CiAgICAqe21hcmdpbjowO3BhZGRpbmc6MH1odG1sLGNvZGV7Zm9udDoxNXB4LzIycHggYXJpYWwsc2Fucy1zZXJpZn1odG1se2JhY2tncm91bmQ6I2ZmZjtjb2xvcjojMjIyO3BhZGRpbmc6MTVweH1ib2R5e21hcmdpbjo3JSBhdXRvIDA7bWF4LXdpZHRoOjM5MHB4O21pbi1oZWlnaHQ6MTgwcHg7cGFkZGluZzozMHB4IDAgMTVweH0qID4gYm9keXtiYWNrZ3JvdW5kOnVybCgvL3d3dy5nb29nbGUuY29tL2ltYWdlcy9lcnJvcnMvcm9ib3QucG5nKSAxMDAlIDVweCBuby1yZXBlYXQ7cGFkZGluZy1yaWdodDoyMDVweH1we21hcmdpbjoxMXB4IDAgMjJweDtvdmVyZmxvdzpoaWRkZW59aW5ze2NvbG9yOiM3Nzc7dGV4dC1kZWNvcmF0aW9uOm5vbmV9YSBpbWd7Ym9yZGVyOjB9QG1lZGlhIHNjcmVlbiBhbmQgKG1heC13aWR0aDo3NzJweCl7Ym9keXtiYWNrZ3JvdW5kOm5vbmU7bWFyZ2luLXRvcDowO21heC13aWR0aDpub25lO3BhZGRpbmctcmlnaHQ6MH19I2xvZ297YmFja2dyb3VuZDp1cmwoLy93d3cuZ29vZ2xlLmNvbS9pbWFnZXMvbG9nb3MvZXJyb3JwYWdlL2Vycm9yX2xvZ28tMTUweDU0LnBuZykgbm8tcmVwZWF0O21hcmdpbi1sZWZ0Oi01cHh9QG1lZGlhIG9ubHkgc2NyZWVuIGFuZCAobWluLXJlc29sdXRpb246MTkyZHBpKXsjbG9nb3tiYWNrZ3JvdW5kOnVybCgvL3d3dy5nb29nbGUuY29tL2ltYWdlcy9sb2dvcy9lcnJvcnBhZ2UvZXJyb3JfbG9nby0xNTB4NTQtMngucG5nKSBuby1yZXBlYXQgMCUgMCUvMTAwJSAxMDAlOy1tb3otYm9yZGVyLWltYWdlOnVybCgvL3d3dy5nb29nbGUuY29tL2ltYWdlcy9sb2dvcy9lcnJvcnBhZ2UvZXJyb3JfbG9nby0xNTB4NTQtMngucG5nKSAwfX1AbWVkaWEgb25seSBzY3JlZW4gYW5kICgtd2Via2l0LW1pbi1kZXZpY2UtcGl4ZWwtcmF0aW86Mil7I2xvZ297YmFja2dyb3VuZDp1cmwoLy93d3cuZ29vZ2xlLmNvbS9pbWFnZXMvbG9nb3MvZXJyb3JwYWdlL2Vycm9yX2xvZ28tMTUweDU0LTJ4LnBuZykgbm8tcmVwZWF0Oy13ZWJraXQtYmFja2dyb3VuZC1zaXplOjEwMCUgMTAwJX19I2xvZ297ZGlzcGxheTppbmxpbmUtYmxvY2s7aGVpZ2h0OjU0cHg7d2lkdGg6MTUwcHh9CiAgPC9zdHlsZT4KICA8YSBocmVmPS8vd3d3Lmdvb2dsZS5jb20vPjxzcGFuIGlkPWxvZ28gYXJpYS1sYWJlbD1Hb29nbGU+PC9zcGFuPjwvYT4KICA8cD48Yj40MDQuPC9iPiA8aW5zPlRoYXTigJlzIGFuIGVycm9yLjwvaW5zPgogIDxwPiAgPGlucz5UaGF04oCZcyBhbGwgd2Uga25vdy48L2lucz4K",
       "headers": [
        [
         "content-length",
         "1449"
        ],
        [
         "content-type",
         "text/html; charset=utf-8"
        ]
       ],
       "ok": false,
       "status": 404,
       "status_text": "Not Found"
      }
     }
    },
    "executionInfo": {
     "elapsed": 4650197,
     "status": "ok",
     "timestamp": 1621163430871,
     "user": {
      "displayName": "Александр Сергеевич Чернявский",
      "photoUrl": "https://lh3.googleusercontent.com/a-/AOh14Gjfde4jD6kZAd2KHSZWkMk63eF8NAzhqhSkasLVqg=s64",
      "userId": "07399096020997671028"
     },
     "user_tz": -180
    },
    "id": "xlGZrvAGZ0px",
    "outputId": "652afcc9-e3bf-46de-a3f6-4771e9b219d3"
   },
   "outputs": [
    {
     "data": {
      "text/html": [
       "\n",
       "<video width=\"640\" height=\"480\" controls>\n",
       "  <source src=\"./videos/openaigym.video.0.58.video000008.mp4\" type=\"video/mp4\">\n",
       "</video>\n"
      ],
      "text/plain": [
       "<IPython.core.display.HTML object>"
      ]
     },
     "execution_count": 34,
     "metadata": {
      "tags": []
     },
     "output_type": "execute_result"
    }
   ],
   "source": [
    "# show video\n",
    "from IPython.display import HTML\n",
    "import os\n",
    "\n",
    "video_names = list(\n",
    "    filter(lambda s: s.endswith(\".mp4\"), os.listdir(\"./videos/\")))\n",
    "\n",
    "HTML(\"\"\"\n",
    "<video width=\"640\" height=\"480\" controls>\n",
    "  <source src=\"{}\" type=\"video/mp4\">\n",
    "</video>\n",
    "\"\"\".format(\"./videos/\"+video_names[-1]))  # this may or may not be _last_ video. Try other indices"
   ]
  },
  {
   "cell_type": "markdown",
   "metadata": {
    "id": "NgXA7_g5Z0px"
   },
   "source": [
    "## Let's have a closer look at this.\n",
    "\n",
    "If average episode score is below 200 using all 5 lives, then probably DQN has not converged fully. But anyway let's make a more complete record of an episode."
   ]
  },
  {
   "cell_type": "code",
   "execution_count": 35,
   "metadata": {
    "colab": {
     "base_uri": "https://localhost:8080/"
    },
    "executionInfo": {
     "elapsed": 4651206,
     "status": "ok",
     "timestamp": 1621163431887,
     "user": {
      "displayName": "Александр Сергеевич Чернявский",
      "photoUrl": "https://lh3.googleusercontent.com/a-/AOh14Gjfde4jD6kZAd2KHSZWkMk63eF8NAzhqhSkasLVqg=s64",
      "userId": "07399096020997671028"
     },
     "user_tz": -180
    },
    "id": "U-iGNsaiZ0px",
    "outputId": "2fd188d5-97d8-4d51-fe31-1a93b89ff43e"
   },
   "outputs": [
    {
     "name": "stdout",
     "output_type": "stream",
     "text": [
      "total reward for life: 5.0\n",
      "states\n",
      "v_mc\n",
      "v_agent\n",
      "q_spreads\n",
      "td_errors\n",
      "rewards\n",
      "episode_finished\n"
     ]
    }
   ],
   "source": [
    "eval_env = make_env(clip_rewards = False)\n",
    "record = utils.play_and_log_episode(eval_env, agent)\n",
    "print('total reward for life:', np.sum(record['rewards']))\n",
    "for key in record:\n",
    "    print(key)"
   ]
  },
  {
   "cell_type": "code",
   "execution_count": 36,
   "metadata": {
    "colab": {
     "base_uri": "https://localhost:8080/",
     "height": 350
    },
    "executionInfo": {
     "elapsed": 4651715,
     "status": "ok",
     "timestamp": 1621163432403,
     "user": {
      "displayName": "Александр Сергеевич Чернявский",
      "photoUrl": "https://lh3.googleusercontent.com/a-/AOh14Gjfde4jD6kZAd2KHSZWkMk63eF8NAzhqhSkasLVqg=s64",
      "userId": "07399096020997671028"
     },
     "user_tz": -180
    },
    "id": "rYhtsRl3Z0py",
    "outputId": "62210fff-c170-4ee8-f6d6-52e23e29d216"
   },
   "outputs": [
    {
     "data": {
      "image/png": "[encoded data removed]",
      "text/plain": [
       "<Figure size 360x360 with 1 Axes>"
      ]
     },
     "metadata": {
      "needs_background": "light",
      "tags": []
     },
     "output_type": "display_data"
    }
   ],
   "source": [
    "fig = plt.figure(figsize=(5, 5))\n",
    "ax = fig.add_subplot(1, 1, 1)\n",
    "\n",
    "ax.scatter(record['v_mc'], record['v_agent'])\n",
    "ax.plot(sorted(record['v_mc']), sorted(record['v_mc']),\n",
    "       'black', linestyle='--', label='x=y')\n",
    "\n",
    "ax.grid()\n",
    "ax.legend()\n",
    "ax.set_title('State Value Estimates')\n",
    "ax.set_xlabel('Monte-Carlo')\n",
    "ax.set_ylabel('Agent')\n",
    "\n",
    "plt.show()"
   ]
  },
  {
   "cell_type": "markdown",
   "metadata": {
    "id": "5FeogOulZ0py"
   },
   "source": [
    "$\\hat V_{Monte-Carlo}(s_t) = \\sum_{\\tau=0}^{episode~end} \\gamma^{\\tau-t}r_t$"
   ]
  },
  {
   "cell_type": "markdown",
   "metadata": {
    "id": "3z8MNDKQZ0pz"
   },
   "source": [
    "Is there a big bias? It's ok, anyway it works."
   ]
  },
  {
   "cell_type": "markdown",
   "metadata": {
    "id": "iJ_-jsV6Z0pz"
   },
   "source": [
    "## Bonus I"
   ]
  },
  {
   "cell_type": "markdown",
   "metadata": {
    "id": "0X0hp8fpZ0p0"
   },
   "source": [
    "**1.** Plot several (say 3) states with high and low spreads of Q estimate by actions i.e.\n",
    "$$\\max_a \\hat Q(s,a) - \\min_a \\hat Q(s,a)\\$$\n",
    "Please take those states from different episodes to make sure that the states are really different.\n",
    "\n",
    "What should high and low spread mean at least in the world of perfect Q-fucntions?\n",
    "\n",
    "Comment the states you like most.\n",
    "\n",
    "**2.** Plot several (say 3) states with high td-error and several states with high values of\n",
    "$$| \\hat V_{Monte-Carlo}(s) - \\hat V_{agent}(s)|,$$ \n",
    "$$\\hat V_{agent}(s)=\\max_a \\hat Q(s,a).$$ Please take those states from different episodes to make sure that the states are really different. From what part (i.e. beginning, middle, end) of an episode did these states come from?\n",
    "\n",
    "Comment the states you like most."
   ]
  },
  {
   "cell_type": "code",
   "execution_count": 37,
   "metadata": {
    "executionInfo": {
     "elapsed": 4653410,
     "status": "ok",
     "timestamp": 1621163434100,
     "user": {
      "displayName": "Александр Сергеевич Чернявский",
      "photoUrl": "https://lh3.googleusercontent.com/a-/AOh14Gjfde4jD6kZAd2KHSZWkMk63eF8NAzhqhSkasLVqg=s64",
      "userId": "07399096020997671028"
     },
     "user_tz": -180
    },
    "id": "CPZevW6EZ0p0"
   },
   "outputs": [],
   "source": [
    "records = [utils.play_and_log_episode(eval_env, agent) for _ in range(3)] \n",
    "q_spreads, td_errors, dvs = [], [], []\n",
    "top_n = 2\n",
    "for record in records:\n",
    "    q_spreads.append([ np.argmax(record['q_spreads']), np.argmin(record['q_spreads']) ]) \n",
    "    td_errors.append((-record['td_errors']).argsort()[:top_n])\n",
    "    dvs.append((-np.abs(record['v_mc'] - record['v_agent'])).argsort()[:top_n])\n",
    "\n"
   ]
  },
  {
   "cell_type": "code",
   "execution_count": 38,
   "metadata": {
    "colab": {
     "base_uri": "https://localhost:8080/",
     "height": 1000
    },
    "executionInfo": {
     "elapsed": 4654369,
     "status": "ok",
     "timestamp": 1621163435066,
     "user": {
      "displayName": "Александр Сергеевич Чернявский",
      "photoUrl": "https://lh3.googleusercontent.com/a-/AOh14Gjfde4jD6kZAd2KHSZWkMk63eF8NAzhqhSkasLVqg=s64",
      "userId": "07399096020997671028"
     },
     "user_tz": -180
    },
    "id": "r7Vaxj6_Kqzd",
    "outputId": "e4eeda1d-f4ff-45a9-82ea-b778df1d67eb"
   },
   "outputs": [
    {
     "data": {
      "image/png": "[encoded data removed]",
      "text/plain": [
       "<Figure size 1440x720 with 1 Axes>"
      ]
     },
     "metadata": {
      "needs_background": "light",
      "tags": []
     },
     "output_type": "display_data"
    },
    {
     "data": {
      "image/png": "[encoded data removed]",
      "text/plain": [
       "<Figure size 1440x720 with 1 Axes>"
      ]
     },
     "metadata": {
      "needs_background": "light",
      "tags": []
     },
     "output_type": "display_data"
    },
    {
     "data": {
      "image/png": "[encoded data removed]",
      "text/plain": [
       "<Figure size 1440x720 with 1 Axes>"
      ]
     },
     "metadata": {
      "needs_background": "light",
      "tags": []
     },
     "output_type": "display_data"
    },
    {
     "data": {
      "image/png": "[encoded data removed]",
      "text/plain": [
       "<Figure size 1440x720 with 1 Axes>"
      ]
     },
     "metadata": {
      "needs_background": "light",
      "tags": []
     },
     "output_type": "display_data"
    },
    {
     "data": {
      "image/png": "[encoded data removed]",
      "text/plain": [
       "<Figure size 1440x720 with 1 Axes>"
      ]
     },
     "metadata": {
      "needs_background": "light",
      "tags": []
     },
     "output_type": "display_data"
    },
    {
     "data": {
      "image/png": "[encoded data removed]",
      "text/plain": [
       "<Figure size 1440x720 with 1 Axes>"
      ]
     },
     "metadata": {
      "needs_background": "light",
      "tags": []
     },
     "output_type": "display_data"
    }
   ],
   "source": [
    "plt.rcParams[\"figure.figsize\"] = (20, 10)\n",
    "for i, record in enumerate(records):\n",
    "    plt.imshow(utils.img_by_obs(record['states'][q_spreads[i][0]], state_shape))\n",
    "    plt.show()\n",
    "    plt.imshow(utils.img_by_obs(record['states'][q_spreads[i][1]], state_shape))   \n",
    "    plt.show()\n"
   ]
  },
  {
   "cell_type": "code",
   "execution_count": 39,
   "metadata": {
    "colab": {
     "base_uri": "https://localhost:8080/",
     "height": 1000
    },
    "executionInfo": {
     "elapsed": 4655126,
     "status": "ok",
     "timestamp": 1621163435830,
     "user": {
      "displayName": "Александр Сергеевич Чернявский",
      "photoUrl": "https://lh3.googleusercontent.com/a-/AOh14Gjfde4jD6kZAd2KHSZWkMk63eF8NAzhqhSkasLVqg=s64",
      "userId": "07399096020997671028"
     },
     "user_tz": -180
    },
    "id": "u7wiS8KTM9RF",
    "outputId": "80f4df56-c41a-4ce7-8a0f-4275875878eb"
   },
   "outputs": [
    {
     "data": {
      "image/png": "[encoded data removed]",
      "text/plain": [
       "<Figure size 1440x720 with 1 Axes>"
      ]
     },
     "metadata": {
      "needs_background": "light",
      "tags": []
     },
     "output_type": "display_data"
    },
    {
     "data": {
      "image/png": "[encoded data removed]",
      "text/plain": [
       "<Figure size 1440x720 with 1 Axes>"
      ]
     },
     "metadata": {
      "needs_background": "light",
      "tags": []
     },
     "output_type": "display_data"
    },
    {
     "data": {
      "image/png": "[encoded data removed]",
      "text/plain": [
       "<Figure size 1440x720 with 1 Axes>"
      ]
     },
     "metadata": {
      "needs_background": "light",
      "tags": []
     },
     "output_type": "display_data"
    },
    {
     "data": {
      "image/png": "[encoded data removed]",
      "text/plain": [
       "<Figure size 1440x720 with 1 Axes>"
      ]
     },
     "metadata": {
      "needs_background": "light",
      "tags": []
     },
     "output_type": "display_data"
    },
    {
     "data": {
      "image/png": "[encoded data removed]",
      "text/plain": [
       "<Figure size 1440x720 with 1 Axes>"
      ]
     },
     "metadata": {
      "needs_background": "light",
      "tags": []
     },
     "output_type": "display_data"
    },
    {
     "data": {
      "image/png": "[encoded data removed]",
      "text/plain": [
       "<Figure size 1440x720 with 1 Axes>"
      ]
     },
     "metadata": {
      "needs_background": "light",
      "tags": []
     },
     "output_type": "display_data"
    }
   ],
   "source": [
    "for i, record in enumerate(records):\n",
    "    plt.imshow(utils.img_by_obs(record['states'][td_errors[i][0]], state_shape))\n",
    "    plt.show()\n",
    "    plt.imshow(utils.img_by_obs(record['states'][td_errors[i][1]], state_shape))\n",
    "    plt.show()"
   ]
  },
  {
   "cell_type": "code",
   "execution_count": 40,
   "metadata": {
    "colab": {
     "base_uri": "https://localhost:8080/",
     "height": 1000
    },
    "executionInfo": {
     "elapsed": 4656530,
     "status": "ok",
     "timestamp": 1621163437241,
     "user": {
      "displayName": "Александр Сергеевич Чернявский",
      "photoUrl": "https://lh3.googleusercontent.com/a-/AOh14Gjfde4jD6kZAd2KHSZWkMk63eF8NAzhqhSkasLVqg=s64",
      "userId": "07399096020997671028"
     },
     "user_tz": -180
    },
    "id": "gNXEoNmwNCnB",
    "outputId": "344db46b-039c-4f73-b44b-7ea9a0782ee9"
   },
   "outputs": [
    {
     "data": {
      "image/png": "[encoded data removed]",
      "text/plain": [
       "<Figure size 1440x720 with 1 Axes>"
      ]
     },
     "metadata": {
      "needs_background": "light",
      "tags": []
     },
     "output_type": "display_data"
    },
    {
     "data": {
      "image/png": "[encoded data removed]",
      "text/plain": [
       "<Figure size 1440x720 with 1 Axes>"
      ]
     },
     "metadata": {
      "needs_background": "light",
      "tags": []
     },
     "output_type": "display_data"
    },
    {
     "data": {
      "image/png": "[encoded data removed]",
      "text/plain": [
       "<Figure size 1440x720 with 1 Axes>"
      ]
     },
     "metadata": {
      "needs_background": "light",
      "tags": []
     },
     "output_type": "display_data"
    },
    {
     "data": {
      "image/png": "[encoded data removed]",
      "text/plain": [
       "<Figure size 1440x720 with 1 Axes>"
      ]
     },
     "metadata": {
      "needs_background": "light",
      "tags": []
     },
     "output_type": "display_data"
    },
    {
     "data": {
      "image/png": "[encoded data removed]",
      "text/plain": [
       "<Figure size 1440x720 with 1 Axes>"
      ]
     },
     "metadata": {
      "needs_background": "light",
      "tags": []
     },
     "output_type": "display_data"
    },
    {
     "data": {
      "image/png": "[encoded data removed]",
      "text/plain": [
       "<Figure size 1440x720 with 1 Axes>"
      ]
     },
     "metadata": {
      "needs_background": "light",
      "tags": []
     },
     "output_type": "display_data"
    }
   ],
   "source": [
    "for i, record in enumerate(records):\n",
    "    plt.imshow(utils.img_by_obs(record['states'][dvs[i][0]], state_shape))\n",
    "    plt.show()\n",
    "    plt.imshow(utils.img_by_obs(record['states'][dvs[i][1]], state_shape))\n",
    "    plt.show()"
   ]
  },
  {
   "cell_type": "markdown",
   "metadata": {
    "id": "Gkh2n5UCZ0p1"
   },
   "source": [
    "## Bonus II. Get High Score!\n",
    "\n",
    "One way is to train for several days and use a big GPU (why not actually).\n",
    "\n",
    "Another way is to apply modifications (see **Bonus III**)."
   ]
  },
  {
   "cell_type": "markdown",
   "metadata": {
    "id": "4XeHVJCdZ0p1"
   },
   "source": [
    "## Bonus III. Apply modifications to DQN.\n",
    "\n",
    "For inspiration see [Rainbow](https://arxiv.org/abs/1710.02298) - a version of q-learning that combines lots of them.\n",
    "\n",
    "Some modifications:\n",
    "* [Prioritized experience replay](https://arxiv.org/abs/1511.05952)\n",
    "* [double q-learning](https://arxiv.org/abs/1509.06461)\n",
    "* [dueling q-learning](https://arxiv.org/abs/1511.06581)\n",
    "* multi-step heuristics (see [Rainbow](https://arxiv.org/abs/1710.02298))\n",
    "* [distributional RL](https://arxiv.org/abs/1707.06887)(distributional and distributed stand for different things here) \n",
    "* Other modifications "
   ]
  },
  {
   "cell_type": "markdown",
   "metadata": {
    "id": "IL3qoa74Z0p1"
   },
   "source": [
    "## Bonus IV. Distributed RL.\n",
    "\n",
    "Solve the task in a distributed way. It can strongly speed up learning. See [article](https://arxiv.org/pdf/1602.01783.pdf) or some guides."
   ]
  },
  {
   "cell_type": "code",
   "execution_count": 41,
   "metadata": {
    "executionInfo": {
     "elapsed": 4656530,
     "status": "ok",
     "timestamp": 1621163437245,
     "user": {
      "displayName": "Александр Сергеевич Чернявский",
      "photoUrl": "https://lh3.googleusercontent.com/a-/AOh14Gjfde4jD6kZAd2KHSZWkMk63eF8NAzhqhSkasLVqg=s64",
      "userId": "07399096020997671028"
     },
     "user_tz": -180
    },
    "id": "oJieeRBKZ0p2"
   },
   "outputs": [],
   "source": [
    "import os\n",
    "import torch\n",
    "import torch.distributed as dist\n",
    "from torch.distributed.optim import ZeroRedundancyOptimizer\n",
    "from torch.nn.parallel import DistributedDataParallel as DDP\n",
    "import torch.multiprocessing as mp\n",
    "\n",
    "\n"
   ]
  }
 ],
 "metadata": {
  "accelerator": "GPU",
  "anaconda-cloud": {},
  "colab": {
   "collapsed_sections": [],
   "name": "Atari_DQN.ipynb",
   "provenance": [
    {
     "file_id": "https://github.com/girafe-ai/ml-mipt/blob/advanced_s21/homeworks_advanced/Lab2_RL/Lab2_Atari_DQN.ipynb",
     "timestamp": 1619427869402
    }
   ],
   "toc_visible": true
  },
  "kernelspec": {
   "display_name": "Python 3",
   "language": "python",
   "name": "python3"
  },
  "language_info": {
   "codemirror_mode": {
    "name": "ipython",
    "version": 3
   },
   "file_extension": ".py",
   "mimetype": "text/x-python",
   "name": "python",
   "nbconvert_exporter": "python",
   "pygments_lexer": "ipython3",
   "version": "3.8.3"
  }
 },
 "nbformat": 4,
 "nbformat_minor": 1
}
