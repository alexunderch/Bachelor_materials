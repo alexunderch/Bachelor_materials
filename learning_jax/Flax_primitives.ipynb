{
  "cells": [
    {
      "cell_type": "markdown",
      "metadata": {
        "id": "view-in-github",
        "colab_type": "text"
      },
      "source": [
        "<a href=\"https://colab.research.google.com/github/alexunderch/Bachelor_materials/blob/main/learning_jax/Flax_primitives.ipynb\" target=\"_parent\"><img src=\"https://colab.research.google.com/assets/colab-badge.svg\" alt=\"Open In Colab\"/></a>"
      ]
    },
    {
      "cell_type": "markdown",
      "source": [
        "# Flax basics"
      ],
      "metadata": {
        "id": "weTQU4ukJDmz"
      }
    },
    {
      "cell_type": "code",
      "source": [
        "!pip install --upgrade -q \"jax[cuda11_cudnn805]\" -f https://storage.googleapis.com/jax-releases/jax_releases.html\n",
        "!pip install --upgrade -q git+https://github.com/google/flax.git\n",
        "\n",
        "import jax\n",
        "from jax import lax, random, numpy as jnp\n",
        "\n",
        "# NN lib built on top of JAX developed by Google Research (Brain team)\n",
        "# Flax was \"designed for flexibility\" hence the name (Flexibility + JAX -> Flax)\n",
        "# thanks to https://github.com/gordicaleksa/get-started-with-JAX/blob/main/Tutorial_4_Flax_Zero2Hero_Colab.ipynb for this tutorial\n",
        "# I post it on my own github just to have started!\n",
        "\n",
        "import flax\n",
        "from flax.core import freeze, unfreeze\n",
        "from flax import linen as nn  # nn notation also used in PyTorch and in Flax's older API\n",
        "from flax.training import train_state  # a useful dataclass to keep train state\n",
        "\n",
        "import optax\n",
        "\n",
        "from torchvision.datasets import MNIST\n",
        "from torch.utils.data import DataLoader\n",
        "\n",
        "import functools  # useful utilities for functional programs\n",
        "from typing import Any, Callable, Sequence, Optional\n",
        "\n",
        "import numpy as np\n",
        "import matplotlib.pyplot as plt"
      ],
      "metadata": {
        "colab": {
          "base_uri": "https://localhost:8080/"
        },
        "id": "f-jKQTLb8rxI",
        "outputId": "fc16cd5a-6a21-4758-810c-0b925e20913a"
      },
      "execution_count": 1,
      "outputs": [
        {
          "output_type": "stream",
          "name": "stdout",
          "text": [
            "\u001b[K     |████████████████████████████████| 136 kB 5.4 MB/s \n",
            "\u001b[K     |████████████████████████████████| 70 kB 4.2 MB/s \n",
            "\u001b[?25h  Building wheel for flax (setup.py) ... \u001b[?25l\u001b[?25hdone\n"
          ]
        }
      ]
    },
    {
      "cell_type": "markdown",
      "source": [
        "## How it works:"
      ],
      "metadata": {
        "id": "g836xk58I7vb"
      }
    },
    {
      "cell_type": "code",
      "source": [
        "#just a simple layer like logistic regression\n",
        "model = nn.Dense(features = 5, use_bias = True)\n",
        "\n",
        "#### init function ####\n",
        "seed = 42\n",
        "key1, key2 = jax.random.split(jax.random.PRNGKey(seed))\n",
        "x = jax.random.normal(key1, (10,)) #dummy input\n",
        "\n",
        "y, params = model.init_with_output(key2, x)\n",
        "print(y)\n",
        "#or\n",
        "params = model.init(key2, x)\n",
        "\n",
        "# 1) automatic shape inference\n",
        "# 2) immutable data structures\n",
        "# 3) ... \n",
        "print(jax.tree_map(lambda x: x.shape, params))\n",
        "\n",
        "#### apply function ####\n",
        "y = model.apply(params, x) ##even prediction id stateful (a state is external!)\n",
        "print(y)\n"
      ],
      "metadata": {
        "colab": {
          "base_uri": "https://localhost:8080/"
        },
        "id": "XIA5WBZjCS86",
        "outputId": "34ff2c66-acd2-489c-caac-36551437e815"
      },
      "execution_count": 13,
      "outputs": [
        {
          "output_type": "stream",
          "name": "stdout",
          "text": [
            "[-0.06848565  0.7341108  -0.10687529  0.59046155  0.6236681 ]\n",
            "FrozenDict({\n",
            "    params: {\n",
            "        bias: (5,),\n",
            "        kernel: (10, 5),\n",
            "    },\n",
            "})\n",
            "[-0.06848565  0.7341108  -0.10687529  0.59046155  0.6236681 ]\n"
          ]
        }
      ]
    },
    {
      "cell_type": "markdown",
      "source": [
        "## A Simple Linear Regression Model "
      ],
      "metadata": {
        "id": "6u5BTj13I-xQ"
      }
    },
    {
      "cell_type": "code",
      "source": [
        "#creating a toy dataset\n",
        "n_samples = 150\n",
        "x_dim = 2; y_dim = 1\n",
        "noise_ratio = .1\n",
        "\n",
        "key, w_key, b_key = jax.random.split(jax.random.PRNGKey(seed), num = 3)\n",
        "\n",
        "W = jax.random.normal(key = w_key, shape = (x_dim, y_dim))\n",
        "b = jax.random.normal(key = b_key, shape = (y_dim, ))\n",
        "\n",
        "#params tree model will predict\n",
        "true_params = freeze({\"params\": {\n",
        "                                  \"bias\": b,\n",
        "                                  \"weight\": W\n",
        "                                }    \n",
        "                      })\n",
        "\n",
        "#generating samples\n",
        "key, x_key, noise_key = jax.random.split(jax.random.PRNGKey(seed), num =3)\n",
        "xs = jax.random.normal(key = x_key, shape = (n_samples, x_dim))\n",
        "ys = jnp.dot(xs, W) + b +\\\n",
        "      noise_ratio * jax.random.normal(noise_key, (n_samples, y_dim))\n",
        "\n",
        "print(f\"Created dataset has {n_samples} samples \\nwith the data xs shape = {xs.shape} and labels ys shape = {ys.shape}\")\n",
        "\n"
      ],
      "metadata": {
        "colab": {
          "base_uri": "https://localhost:8080/"
        },
        "id": "eVGi9fKQHRAI",
        "outputId": "e169a5e5-f3e8-4532-fb12-602b34859def"
      },
      "execution_count": 14,
      "outputs": [
        {
          "output_type": "stream",
          "name": "stdout",
          "text": [
            "Created dataset has 150 samples \n",
            "with the data xs shape = (150, 2) and labels ys shape = (150, 1)\n"
          ]
        }
      ]
    },
    {
      "cell_type": "code",
      "source": [
        "# Let's visualize our data (becoming one with the data paradigm <3)\n",
        "fig = plt.figure()\n",
        "ax = fig.add_subplot(111, projection='3d')\n",
        "assert xs.shape[-1] == 2 and ys.shape[-1] == 1  # low dimensional data so that we can plot it\n",
        "ax.scatter(xs[:, 0], xs[:, 1], zs=ys)"
      ],
      "metadata": {
        "colab": {
          "base_uri": "https://localhost:8080/",
          "height": 265
        },
        "id": "6s1yaCWkLRBS",
        "outputId": "09b13424-6b05-4c39-b4d9-36e3622191a2"
      },
      "execution_count": 15,
      "outputs": [
        {
          "output_type": "execute_result",
          "data": {
            "text/plain": [
              "<mpl_toolkits.mplot3d.art3d.Path3DCollection at 0x7f427c1af650>"
            ]
          },
          "metadata": {},
          "execution_count": 15
        },
        {
          "output_type": "display_data",
          "data": {
            "text/plain": [
              "<Figure size 432x288 with 1 Axes>"
            ],
            "image/png": "[encoded data removed]"
          },
          "metadata": {
            "needs_background": "light"
          }
        }
      ]
    },
    {
      "cell_type": "code",
      "source": [
        "def make_mse_loss(xs, ys):\n",
        "    def mse_loss(params):\n",
        "        def squared_error(x, y):\n",
        "            pred = model.apply(params, x)\n",
        "            return jnp.inner(y - pred, y - pred) * .5\n",
        "        # batching with `vmap` and averaging\n",
        "        return jnp.mean(jax.vmap(squared_error)(xs, ys), axis = 0)\n",
        "    return jax.jit(mse_loss) #pure function as the result\n",
        "\n",
        "mse_loss = make_mse_loss(xs, ys)\n",
        "value_and_grad_fn = jax.value_and_grad(mse_loss)"
      ],
      "metadata": {
        "id": "4dNNpX_xLxi-"
      },
      "execution_count": 21,
      "outputs": []
    },
    {
      "cell_type": "code",
      "source": [
        "#a simple model\n",
        "model = nn.Dense(features = y_dim)\n",
        "params = model.init(key, xs)\n",
        "print(f\"Initial model params: {params}\")\n",
        "\n",
        "#a simple training loop\n",
        "lr = 0.3\n",
        "epochs = 20\n",
        "log_period_epoch = 5\n",
        "\n",
        "print('-' * 50)\n",
        "for epoch in range(epochs):\n",
        "    loss, grads = value_and_grad_fn(params)\n",
        "    # SGD \n",
        "    params = jax.tree_multimap(lambda p, g: p - lr * g, params, grads)\n",
        "    if epoch % log_period_epoch == 0: print(f'epoch {epoch}, loss = {loss}')\n",
        "\n",
        "print('-' * 50)\n",
        "print(f'Learned params = {params}')\n",
        "print(f'Gt params = {true_params}')"
      ],
      "metadata": {
        "colab": {
          "base_uri": "https://localhost:8080/"
        },
        "id": "Uuhevd9zNBCL",
        "outputId": "6052c207-c21c-4203-ee0c-30248cfc209f"
      },
      "execution_count": 22,
      "outputs": [
        {
          "output_type": "stream",
          "name": "stdout",
          "text": [
            "Initial model params: FrozenDict({\n",
            "    params: {\n",
            "        kernel: DeviceArray([[0.08270834],\n",
            "                     [1.2298492 ]], dtype=float32),\n",
            "        bias: DeviceArray([0.], dtype=float32),\n",
            "    },\n",
            "})\n",
            "--------------------------------------------------\n",
            "epoch 0, loss = 1.5225977897644043\n",
            "epoch 5, loss = 0.05163402855396271\n",
            "epoch 10, loss = 0.007201272062957287\n",
            "epoch 15, loss = 0.005720613058656454\n",
            "--------------------------------------------------\n",
            "Learned params = FrozenDict({\n",
            "    params: {\n",
            "        bias: DeviceArray([-1.2147812], dtype=float32),\n",
            "        kernel: DeviceArray([[-0.20982888],\n",
            "                     [ 0.00534452]], dtype=float32),\n",
            "    },\n",
            "})\n",
            "Gt params = FrozenDict({\n",
            "    params: {\n",
            "        bias: DeviceArray([-1.2226542], dtype=float32),\n",
            "        weight: DeviceArray([[-0.21746705],\n",
            "                     [ 0.0102447 ]], dtype=float32),\n",
            "    },\n",
            "})\n"
          ]
        }
      ]
    },
    {
      "cell_type": "code",
      "source": [
        "from jax._src.lax.lax import le\n",
        "opt_sgd = optax.sgd(learning_rate = lr, nesterov = True)\n",
        "opt_state = opt_sgd.init(params)\n",
        "print(opt_state) #doesn't have a state\n",
        "\n",
        "\n",
        "opt_adam = optax.adam(learning_rate=lr)\n",
        "opt_state_adam = opt_adam.init(params)\n",
        "print(opt_state_adam)"
      ],
      "metadata": {
        "colab": {
          "base_uri": "https://localhost:8080/"
        },
        "id": "gdoepr1SNtul",
        "outputId": "e8c19332-5de8-469a-b301-e591c0db0df8"
      },
      "execution_count": 23,
      "outputs": [
        {
          "output_type": "stream",
          "name": "stdout",
          "text": [
            "(EmptyState(), EmptyState())\n",
            "(ScaleByAdamState(count=DeviceArray(0, dtype=int32), mu=FrozenDict({\n",
            "    params: {\n",
            "        bias: DeviceArray([0.], dtype=float32),\n",
            "        kernel: DeviceArray([[0.],\n",
            "                     [0.]], dtype=float32),\n",
            "    },\n",
            "}), nu=FrozenDict({\n",
            "    params: {\n",
            "        bias: DeviceArray([0.], dtype=float32),\n",
            "        kernel: DeviceArray([[0.],\n",
            "                     [0.]], dtype=float32),\n",
            "    },\n",
            "})), EmptyState())\n"
          ]
        }
      ]
    },
    {
      "cell_type": "code",
      "source": [
        "params = model.init(key, xs)  # let's start with fresh params again\n",
        "\n",
        "for epoch in range(epochs):\n",
        "    loss, grads = value_and_grad_fn(params)\n",
        "    updates, opt_state_adam = opt_adam.update(grads, opt_state_adam)  # arbitrary optim logic\n",
        "    params = optax.apply_updates(params, updates)\n",
        "\n",
        "    if epoch % log_period_epoch == 0:\n",
        "        print(f'epoch {epoch}, loss = {loss}')"
      ],
      "metadata": {
        "colab": {
          "base_uri": "https://localhost:8080/"
        },
        "id": "68EvfGbqOrR2",
        "outputId": "00a19496-aff5-4000-d41d-51682ad96b02"
      },
      "execution_count": 27,
      "outputs": [
        {
          "output_type": "stream",
          "name": "stdout",
          "text": [
            "epoch 0, loss = 1.5225977897644043\n",
            "epoch 5, loss = 0.04835254326462746\n",
            "epoch 10, loss = 0.2879025340080261\n",
            "epoch 15, loss = 0.012076061218976974\n"
          ]
        }
      ]
    },
    {
      "cell_type": "markdown",
      "source": [
        "Example from Flax (ImageNet example)\n",
        "https://github.com/google/flax/blob/main/examples/imagenet/train.py#L88\n",
        "```Python\n",
        "def create_learning_rate_fn(\n",
        "    config: ml_collections.ConfigDict,\n",
        "    base_learning_rate: float,\n",
        "    steps_per_epoch: int):\n",
        "  \"\"\"Create learning rate schedule.\"\"\"\n",
        "  warmup_fn = optax.linear_schedule(\n",
        "      init_value=0., end_value=base_learning_rate,\n",
        "      transition_steps=config.warmup_epochs * steps_per_epoch)\n",
        "  cosine_epochs = max(config.num_epochs - config.warmup_epochs, 1)\n",
        "  cosine_fn = optax.cosine_decay_schedule(\n",
        "      init_value=base_learning_rate,\n",
        "      decay_steps=cosine_epochs * steps_per_epoch)\n",
        "  schedule_fn = optax.join_schedules(\n",
        "      schedules=[warmup_fn, cosine_fn],\n",
        "      boundaries=[config.warmup_epochs * steps_per_epoch])\n",
        "  return schedule_fn\n",
        "\n",
        "tx = optax.sgd(\n",
        "      learning_rate=learning_rate_fn,\n",
        "      momentum=config.momentum,\n",
        "      nesterov=True)\n",
        "\n",
        "# Example from Haiku (ImageNet example)\n",
        "# https://github.com/deepmind/dm-haiku/blob/main/examples/imagenet/train.py#L116\n",
        "def make_optimizer() -> optax.GradientTransformation:\n",
        "  \"\"\"SGD with nesterov momentum and a custom lr schedule.\"\"\"\n",
        "  return optax.chain(\n",
        "      optax.trace(\n",
        "          decay=FLAGS.optimizer_momentum,\n",
        "          nesterov=FLAGS.optimizer_use_nesterov),\n",
        "      optax.scale_by_schedule(lr_schedule), optax.scale(-1))\n",
        "```"
      ],
      "metadata": {
        "id": "TGUZZJJFPkgS"
      }
    },
    {
      "cell_type": "markdown",
      "source": [
        "## Creating own MLP"
      ],
      "metadata": {
        "id": "TZGrEz_PPzVl"
      }
    },
    {
      "cell_type": "code",
      "source": [
        "class MLP(nn.Module):\n",
        "  num_neurons_per_layer: Sequence[int] \n",
        "  #check out https://realpython.com/python-data-classes/\n",
        "  def setup(self):\n",
        "      \"\"\"new __init__()\"\"\"\n",
        "      self.layers = [nn.Dense(n) for n in self.num_neurons_per_layer]\n",
        "      \n",
        "  def __call1__(self, x):\n",
        "    act = x\n",
        "    for i, layer in enumerate(self.layers):\n",
        "        act = layer(act)\n",
        "        if i != len(self.layers) - 1: act = nn.relu(act)\n",
        "    return act\n",
        "\n",
        "  @nn.compact #more concise way\n",
        "  def __call__(self, x):\n",
        "    act = x\n",
        "    for i, neurons in enumerate(self.num_neurons_per_layer):\n",
        "        act = nn.Dense(neurons)(act)\n",
        "        if i != len(self.num_neurons_per_layer) - 1: act = nn.relu(act)\n",
        "    return act\n",
        "\n",
        "x_key, init_key = jax.random.split(jax.random.PRNGKey(seed))\n",
        "\n",
        "model = MLP(num_neurons_per_layer = [16, 8, 1])\n",
        "x = jax.random.uniform(x_key, (4, 4))\n",
        "params = model.init(init_key, x)\n",
        "y = model.apply(params, x)\n",
        "print(jax.tree_map(jnp.shape, params))"
      ],
      "metadata": {
        "colab": {
          "base_uri": "https://localhost:8080/"
        },
        "id": "MVT6lHA6PyfP",
        "outputId": "27ab4881-7748-415a-d84a-10db2d07d362"
      },
      "execution_count": 29,
      "outputs": [
        {
          "output_type": "stream",
          "name": "stdout",
          "text": [
            "FrozenDict({\n",
            "    params: {\n",
            "        Dense_0: {\n",
            "            bias: (16,),\n",
            "            kernel: (4, 16),\n",
            "        },\n",
            "        Dense_1: {\n",
            "            bias: (8,),\n",
            "            kernel: (16, 8),\n",
            "        },\n",
            "        Dense_2: {\n",
            "            bias: (1,),\n",
            "            kernel: (8, 1),\n",
            "        },\n",
            "    },\n",
            "})\n"
          ]
        }
      ]
    },
    {
      "cell_type": "markdown",
      "source": [
        "## Designing a `module` (flax param — \"trainable parameter\")"
      ],
      "metadata": {
        "id": "8imTEmhAVgbk"
      }
    },
    {
      "cell_type": "code",
      "source": [
        "class MyDenseModule(nn.Module):\n",
        "    num_neurons: int\n",
        "    weight_init: Callable = nn.initializers.kaiming_normal()\n",
        "    bias_init: Callable = nn.initializers.zeros\n",
        "\n",
        "    @nn.compact\n",
        "    def __call__(self, x):\n",
        "        weight = self.param(\n",
        "                            \"WeIgHt\", #name in model params dict\n",
        "                            self.weight_init, #initialization function (implicit)\n",
        "                            (x.shape[-1], self.num_neurons)#shape info\n",
        "                            )\n",
        "        bias = self.param(\"BiAs\", self.bias_init, (self.num_neurons,))\n",
        "        return jnp.dot(x, weight) + bias\n",
        "\n",
        "x_key, init_key = random.split(random.PRNGKey(seed))\n",
        "\n",
        "model = MyDenseModule(num_neurons=3)  # initialize the model\n",
        "x = random.uniform(x_key, (4,4))  # dummy input\n",
        "params = model.init(init_key, x)  # initialize via init\n",
        "y = model.apply(params, x)  # do a forward pass via apply\n",
        "\n",
        "print(jax.tree_map(jnp.shape, params))      \n",
        "    "
      ],
      "metadata": {
        "colab": {
          "base_uri": "https://localhost:8080/"
        },
        "id": "I3pSj9wRPEBX",
        "outputId": "f2f42b21-e049-49e0-bf20-34d564733008"
      },
      "execution_count": 30,
      "outputs": [
        {
          "output_type": "stream",
          "name": "stdout",
          "text": [
            "FrozenDict({\n",
            "    params: {\n",
            "        BiAs: (3,),\n",
            "        WeIgHt: (4, 3),\n",
            "    },\n",
            "})\n"
          ]
        }
      ]
    },
    {
      "cell_type": "code",
      "source": [
        "from inspect import signature\n",
        "print(signature(nn.initializers.lecun_normal()))"
      ],
      "metadata": {
        "colab": {
          "base_uri": "https://localhost:8080/"
        },
        "id": "vlyWAZlFW89I",
        "outputId": "3f212bdd-737a-486f-f2e3-3f85d972991f"
      },
      "execution_count": 31,
      "outputs": [
        {
          "output_type": "stream",
          "name": "stdout",
          "text": [
            "(key, shape, dtype=<class 'jax._src.numpy.lax_numpy.float64'>)\n"
          ]
        }
      ]
    },
    {
      "cell_type": "markdown",
      "source": [
        "### Variable\n",
        "It is the broader concept of trainable or non-trainable params"
      ],
      "metadata": {
        "id": "F3W051QlX1Ef"
      }
    },
    {
      "cell_type": "code",
      "source": [
        "class BiasAdderWithRunningMean(nn.Module): \n",
        "    decay: float  = .99\n",
        "    \n",
        "    @nn.compact\n",
        "    def __call__(self, x):\n",
        "        is_initialized = self.has_variable(\"batch_stats\", \"ema\")\n",
        "        # 'batch_stats' is not an arbitrary name (non-trainable params collection)\n",
        "        ema = self.variable(\"batch_stats\", #name of collection\n",
        "                            \"ema\",\n",
        "                            lambda shape: jnp.zeros(shape), x.shape[1:])\n",
        "\n",
        "        bias = self.param(\"bias\", lambda key, shape: jnp.zeros(shape), x.shape[1:])\n",
        "\n",
        "        if is_initialized: \n",
        "            ema.value = self.decay * ema.value + (1. - self.decay) * jnp.mean(x, axis = 0, keepdims = True)\n",
        "\n",
        "        return x - ema.value + bias\n",
        "\n",
        "x_key, init_key = random.split(random.PRNGKey(seed))\n",
        "\n",
        "model = BiasAdderWithRunningMean()\n",
        "x = random.uniform(x_key, (10,4))  # dummy input\n",
        "variables = model.init(init_key, x)\n",
        "print(f'Multiple collections = {variables}') \n",
        "\n",
        "# We have to use mutable since regular params are not modified during the forward\n",
        "# pass, but these variables are. We can't keep state internally (because JAX) so we have to return it.\n",
        "y, updated_non_trainable_params = model.apply(variables, x, mutable = ['batch_stats'])\n",
        "print(updated_non_trainable_params)"
      ],
      "metadata": {
        "colab": {
          "base_uri": "https://localhost:8080/"
        },
        "id": "Oe9QrhX5XuYM",
        "outputId": "03531698-7d92-47ae-ea84-2cddf9be092c"
      },
      "execution_count": 34,
      "outputs": [
        {
          "output_type": "stream",
          "name": "stdout",
          "text": [
            "Multiple collections = FrozenDict({\n",
            "    batch_stats: {\n",
            "        ema: DeviceArray([0., 0., 0., 0.], dtype=float32),\n",
            "    },\n",
            "    params: {\n",
            "        bias: DeviceArray([0., 0., 0., 0.], dtype=float32),\n",
            "    },\n",
            "})\n",
            "FrozenDict({\n",
            "    batch_stats: {\n",
            "        ema: DeviceArray([[0.00382814, 0.005208  , 0.00427174, 0.00396865]], dtype=float32),\n",
            "    },\n",
            "})\n"
          ]
        }
      ]
    },
    {
      "cell_type": "code",
      "source": [
        "def update_step(opt, apply_fn, x, opt_state, params, non_trainable_params):\n",
        "\n",
        "    def loss_fn(params):\n",
        "        y, updated_non_trainable_params = apply_fn(\n",
        "            {'params': params, **non_trainable_params}, \n",
        "            x, mutable = list(non_trainable_params.keys()))\n",
        "        \n",
        "        loss = ((x - y) ** 2).mean()  \n",
        "\n",
        "        return loss, updated_non_trainable_params #making these parammeters explicitly mutable\n",
        "\n",
        "    (loss, non_trainable_params), grads = jax.value_and_grad(loss_fn, has_aux=True)(params)\n",
        "    updates, opt_state = opt.update(grads, opt_state)\n",
        "    params = optax.apply_updates(params, updates)\n",
        "    \n",
        "    return opt_state, params, non_trainable_params\n",
        "\n",
        "model = BiasAdderWithRunningMean()\n",
        "x = jnp.ones((10, 4))\n",
        "\n",
        "variables = model.init(random.PRNGKey(seed), x)\n",
        "non_trainable_params, params = variables.pop('params') ###!!!!!!!!!!!!\n",
        "del variables  \n",
        "\n",
        "sgd_opt = optax.sgd(learning_rate=0.1)\n",
        "opt_state = sgd_opt.init(params)\n",
        "\n",
        "for _ in range(3):\n",
        "    opt_state, params, non_trainable_params = update_step(sgd_opt, model.apply, x, opt_state, params, non_trainable_params)\n",
        "    print(non_trainable_params)"
      ],
      "metadata": {
        "colab": {
          "base_uri": "https://localhost:8080/"
        },
        "id": "lhyjAagpcJe8",
        "outputId": "037d4f95-4121-4b23-f17a-3ee90019150f"
      },
      "execution_count": 35,
      "outputs": [
        {
          "output_type": "stream",
          "name": "stdout",
          "text": [
            "FrozenDict({\n",
            "    batch_stats: {\n",
            "        ema: DeviceArray([[0.01, 0.01, 0.01, 0.01]], dtype=float32),\n",
            "    },\n",
            "})\n",
            "FrozenDict({\n",
            "    batch_stats: {\n",
            "        ema: DeviceArray([[0.0199, 0.0199, 0.0199, 0.0199]], dtype=float32),\n",
            "    },\n",
            "})\n",
            "FrozenDict({\n",
            "    batch_stats: {\n",
            "        ema: DeviceArray([[0.029701, 0.029701, 0.029701, 0.029701]], dtype=float32),\n",
            "    },\n",
            "})\n"
          ]
        }
      ]
    },
    {
      "cell_type": "markdown",
      "source": [
        "### Own block"
      ],
      "metadata": {
        "id": "zxNAJjh5eJ4Y"
      }
    },
    {
      "cell_type": "code",
      "source": [
        "class DDNBlock(nn.Module):\n",
        "    \"\"\"Dense + dropout + batchnorm\"\"\"\n",
        "    num_neurons: int\n",
        "    training: bool\n",
        "\n",
        "    @nn.compact\n",
        "    def __call__(self, x):\n",
        "        x = nn.Dense(self.num_neurons)(x)\n",
        "        x = nn.Dropout(rate = .5, deterministic = not self.training)(x)\n",
        "        x = nn.BatchNorm(use_running_average = not self.training)(x)\n",
        "        return x_dim\n",
        "\n",
        "\n",
        "keys = jax.random.split(jax.random.PRNGKey(seed), num = 4)\n",
        "model = DDNBlock(num_neurons = 6, training = True)\n",
        "x = jax.random.uniform(keys[0], (6, 4, 4))\n",
        "\n",
        "\n",
        "#explicitly having the separate keys for trainable and not trainable params\n",
        "variables = model.init({'params': keys[1], 'dropout': keys[2]}, x)\n",
        "print(variables)\n",
        "\n",
        "y, non_trainable_params = model.apply(variables, x, \n",
        "                                      rngs = {'dropout': keys[3]}, #own rng for dropout!\n",
        "                                      mutable = ['batch_stats'])\n",
        "print(non_trainable_params)\n",
        "#evaluation\n",
        "eval_model = DDNBlock(num_neurons = 6, training = False)\n",
        "y = eval_model.apply(variables, x)"
      ],
      "metadata": {
        "colab": {
          "base_uri": "https://localhost:8080/"
        },
        "id": "gZRNgS1NdiXh",
        "outputId": "45b0c847-cdee-4692-bfb3-05730b911ae9"
      },
      "execution_count": 40,
      "outputs": [
        {
          "output_type": "stream",
          "name": "stdout",
          "text": [
            "FrozenDict({\n",
            "    params: {\n",
            "        Dense_0: {\n",
            "            kernel: DeviceArray([[-0.18759   , -0.20207207,  0.484642  ,  0.1962698 ,\n",
            "                           0.5483289 ,  0.6080119 ],\n",
            "                         [ 0.11092687,  0.69150513, -0.5264836 ,  0.12288465,\n",
            "                          -0.36953643, -0.14075957],\n",
            "                         [-0.3233332 , -0.6288916 , -0.24624613,  0.1258726 ,\n",
            "                          -0.40691987, -0.57214624],\n",
            "                         [ 0.21232925, -0.25992277, -0.24564597,  0.3040609 ,\n",
            "                          -0.3224999 ,  0.37073085]], dtype=float32),\n",
            "            bias: DeviceArray([0., 0., 0., 0., 0., 0.], dtype=float32),\n",
            "        },\n",
            "        BatchNorm_0: {\n",
            "            scale: DeviceArray([1., 1., 1., 1., 1., 1.], dtype=float32),\n",
            "            bias: DeviceArray([0., 0., 0., 0., 0., 0.], dtype=float32),\n",
            "        },\n",
            "    },\n",
            "    batch_stats: {\n",
            "        BatchNorm_0: {\n",
            "            mean: DeviceArray([0., 0., 0., 0., 0., 0.], dtype=float32),\n",
            "            var: DeviceArray([1., 1., 1., 1., 1., 1.], dtype=float32),\n",
            "        },\n",
            "    },\n",
            "})\n",
            "FrozenDict({\n",
            "    batch_stats: {\n",
            "        BatchNorm_0: {\n",
            "            mean: DeviceArray([-0.00061192, -0.00241231, -0.00247445,  0.00478702,\n",
            "                         -0.0039534 ,  0.00165752], dtype=float32),\n",
            "            var: DeviceArray([0.99016666, 0.99166894, 0.9917932 , 0.99171644, 0.9923738 ,\n",
            "                         0.9913638 ], dtype=float32),\n",
            "        },\n",
            "    },\n",
            "})\n"
          ]
        }
      ]
    },
    {
      "cell_type": "markdown",
      "source": [
        "## A MNIST easy-peasy example (+ some `Dropout` and `BatchNorm`) !"
      ],
      "metadata": {
        "id": "VQ2JIy8kgWYL"
      }
    },
    {
      "cell_type": "code",
      "source": [
        "%tensorflow_version 2.x\n",
        "import tensorflow as tf\n",
        "print(\"Tensorflow version \" + tf.__version__)\n",
        "\n",
        "try:\n",
        "  tpu = tf.distribute.cluster_resolver.TPUClusterResolver()  # TPU detection\n",
        "  print('Running on TPU ', tpu.cluster_spec().as_dict()['worker'])\n",
        "except ValueError:\n",
        "  raise BaseException('ERROR: Not connected to a TPU runtime; please see the previous cell in this notebook for instructions!')\n",
        "\n",
        "tf.config.experimental_connect_to_cluster(tpu)\n",
        "tf.tpu.experimental.initialize_tpu_system(tpu)\n",
        "tpu_strategy = tf.distribute.experimental.TPUStrategy(tpu)"
      ],
      "metadata": {
        "colab": {
          "base_uri": "https://localhost:8080/"
        },
        "id": "6aQRncQHuZ7X",
        "outputId": "6db4c0e5-f170-4eb6-9e19-fcc5e4135a41"
      },
      "execution_count": 4,
      "outputs": [
        {
          "output_type": "stream",
          "name": "stdout",
          "text": [
            "Tensorflow version 2.8.0\n",
            "Running on TPU  ['10.115.243.114:8470']\n"
          ]
        },
        {
          "output_type": "stream",
          "name": "stderr",
          "text": [
            "WARNING:absl:`tf.distribute.experimental.TPUStrategy` is deprecated, please use  the non experimental symbol `tf.distribute.TPUStrategy` instead.\n"
          ]
        }
      ]
    },
    {
      "cell_type": "code",
      "source": [
        "###training loop is actually logical but still in debugging!\n",
        "class CNN(nn.Module):  # lots of hardcoding, but it serves a purpose for a simple demo\n",
        "    training: bool\n",
        "    dropout_rate: float = 0.5\n",
        "    \n",
        "    @nn.compact\n",
        "    def __call__(self, x):\n",
        "        x = nn.Conv(features=32, kernel_size=(3, 3))(x)\n",
        "        x = nn.Dropout(rate = self.dropout_rate, deterministic = not self.training)(x)\n",
        "        x = nn.BatchNorm(use_running_average = not self.training)(x)\n",
        "        x = nn.relu(x)\n",
        "        x = nn.avg_pool(x, window_shape=(2, 2), strides=(2, 2))\n",
        "        x = nn.Conv(features=64, kernel_size=(3, 3))(x)\n",
        "        x = nn.Dropout(rate = self.dropout_rate, deterministic = not self.training)(x)\n",
        "        x = nn.BatchNorm(use_running_average = not self.training)(x)\n",
        "        x = nn.relu(x)\n",
        "        x = nn.avg_pool(x, window_shape=(2, 2), strides=(2, 2))\n",
        "        x = x.reshape((x.shape[0], -1))  # flatten\n",
        "        x = nn.Dense(features=256)(x)\n",
        "        x = nn.relu(x)\n",
        "        x = nn.Dense(features=10)(x)\n",
        "        x = nn.log_softmax(x)\n",
        "        return x\n",
        "\n",
        "def custom_transform(x):\n",
        "    # A couple of modifications here compared to tutorial #3 since we're using a CNN\n",
        "    # Input: (28, 28) uint8 [0, 255] torch.Tensor, Output: (28, 28, 1) float32 [0, 1] np array\n",
        "    return np.expand_dims(np.array(x, dtype=np.float32), axis=2) / 255.\n",
        "\n",
        "def custom_collate_fn(batch):\n",
        "    \"\"\"Provides us with batches of numpy arrays and not PyTorch's tensors.\"\"\"\n",
        "    transposed_data = list(zip(*batch))\n",
        "\n",
        "    labels = np.array(transposed_data[1])\n",
        "    imgs = np.stack(transposed_data[0])\n",
        "\n",
        "    return imgs, labels\n",
        "\n",
        "mnist_img_size = (28, 28, 1)\n",
        "batch_size = 128\n",
        "\n",
        "train_dataset = MNIST(root='train_mnist', train=True, download=True, transform=custom_transform)\n",
        "test_dataset = MNIST(root='test_mnist', train=False, download=True, transform=custom_transform)\n",
        "\n",
        "train_loader = DataLoader(train_dataset, batch_size, shuffle=True, collate_fn=custom_collate_fn, drop_last=True)\n",
        "test_loader = DataLoader(test_dataset, batch_size, shuffle=False, collate_fn=custom_collate_fn, drop_last=True)\n",
        "\n",
        "# optimization - loading the whole dataset into memory\n",
        "train_images = jnp.array(train_dataset.data)\n",
        "train_lbls = jnp.array(train_dataset.targets)\n",
        "\n",
        "test_images = np.expand_dims(jnp.array(test_dataset.data), axis=3)\n",
        "test_lbls = jnp.array(test_dataset.targets)\n",
        "\n",
        "def compute_metrics(*, logits, gt_labels):\n",
        "    one_hot_gt_labels = jax.nn.one_hot(gt_labels, num_classes=10)\n",
        "\n",
        "    loss = -jnp.mean(jnp.sum(one_hot_gt_labels * logits, axis=-1))\n",
        "    accuracy = jnp.mean(jnp.argmax(logits, -1) == gt_labels)\n",
        "\n",
        "    metrics = {\n",
        "        'loss': loss,\n",
        "        'accuracy': accuracy,\n",
        "    }\n",
        "    return metrics\n",
        "\n",
        "@jax.jit\n",
        "def train_step(state, imgs, gt_labels, dropout_key):\n",
        "    def loss_fn(params):\n",
        "        _, key = jax.random.split(dropout_key)\n",
        "        \n",
        "        logits, _ = CNN(training = True).apply(state.params, \n",
        "                                            imgs,\n",
        "                                            rngs = {\"dropout\": key},\n",
        "                                            mutable = ['batch_stats'])\n",
        "  \n",
        "        one_hot_gt_labels = jax.nn.one_hot(gt_labels, num_classes=10)\n",
        "        loss = -jnp.mean(jnp.sum(one_hot_gt_labels * logits, axis=-1))\n",
        "        return loss, logits\n",
        "  \n",
        "    (_, logits), grads = jax.value_and_grad(loss_fn, has_aux=True)(state.params)\n",
        "    state = state.apply_gradients(grads=grads)  # this is the whole update now! concise!\n",
        "    metrics = compute_metrics(logits=logits, gt_labels=gt_labels)  # duplicating loss calculation but it's a bit cleaner\n",
        "    return state, metrics\n",
        "\n",
        "@jax.jit\n",
        "def eval_step(state, imgs, gt_labels):\n",
        "    logits = CNN(training = False).apply(state.params, imgs)\n",
        "    return compute_metrics(logits=logits, gt_labels=gt_labels)\n",
        "\n",
        "def create_train_state(key, learning_rate, momentum):\n",
        "    cnn = CNN(training = True)\n",
        "    keys = jax.random.split(key, num = 3)\n",
        "    \n",
        "    \n",
        "    params = cnn.init({'params': keys[0], 'dropout': keys[1]}, jnp.ones([1, *mnist_img_size]))\n",
        "\n",
        "    opt = optax.sgd(learning_rate, momentum)\n",
        "    # TrainState is a simple built-in wrapper class that makes things a bit cleaner\n",
        "    return train_state.TrainState.create(apply_fn = cnn.apply,\n",
        "                                         params = params,\n",
        "                                         tx = opt)\n",
        "\n",
        "def train_one_epoch(state, dataloader, epoch, dropout_key):\n",
        "    \"\"\"Train for 1 epoch on the training set.\"\"\"\n",
        "    batch_metrics = []\n",
        "    for cnt, (imgs, labels) in enumerate(dataloader):\n",
        "        state, metrics = train_step(state, imgs, labels, dropout_key)\n",
        "        batch_metrics.append(metrics)\n",
        "\n",
        "    # Aggregate the metrics\n",
        "    batch_metrics_np = jax.device_get(batch_metrics)  # pull from the accelerator onto host (CPU)\n",
        "    epoch_metrics_np = {\n",
        "        k: np.mean([metrics[k] for metrics in batch_metrics_np])\n",
        "        for k in batch_metrics_np[0]\n",
        "    }\n",
        "\n",
        "    return state, epoch_metrics_np\n",
        "\n",
        "def evaluate_model(state, test_imgs, test_lbls):\n",
        "    \"\"\"Evaluate on the validation set.\"\"\"\n",
        "    metrics = eval_step(state, test_imgs, test_lbls)\n",
        "    metrics = jax.device_get(metrics)  # pull from the accelerator onto host (CPU)\n",
        "    metrics = jax.tree_map(lambda x: x.item(), metrics)  # np.ndarray -> scalar\n",
        "    return metrics\n",
        "\n",
        "seed = 0  # needless to say these should be in a config or defined like flags\n",
        "learning_rate = 0.1\n",
        "momentum = 0.9\n",
        "num_epochs = 5\n",
        "batch_size = 32\n",
        "\n",
        "key, dropout_key = jax.random.split(jax.random.PRNGKey(seed))\n",
        "train_state_ = create_train_state(key, learning_rate, momentum)\n",
        "\n",
        "for epoch in range(1, num_epochs + 1):\n",
        "    \n",
        "    train_state_, train_metrics = train_one_epoch(train_state_, train_loader, epoch,  jax.random.split(dropout_key)[-1])\n",
        "    print(f\"Train epoch: {epoch}, loss: {train_metrics['loss']}, accuracy: {train_metrics['accuracy'] * 100}\")\n",
        "\n",
        "    test_metrics = evaluate_model(train_state_, test_images, test_lbls)\n",
        "    print(f\"Test epoch: {epoch}, loss: {train_metrics['loss']}: {test_metrics['loss']}, accuracy: {test_metrics['accuracy'] * 100}\")\n"
      ],
      "metadata": {
        "colab": {
          "base_uri": "https://localhost:8080/"
        },
        "id": "29v4qyIxgVon",
        "outputId": "6c324fc9-5807-466f-cb08-9cd41117b375"
      },
      "execution_count": null,
      "outputs": [
        {
          "output_type": "stream",
          "name": "stdout",
          "text": [
            "Train epoch: 1, loss: 2.4606423377990723, accuracy: 7.698985189199448\n",
            "Test epoch: 1, loss: 2.4606423377990723: 40.507041931152344, accuracy: 3.439999744296074\n"
          ]
        }
      ]
    },
    {
      "cell_type": "markdown",
      "source": [
        "✅ Flax notebook (do follow along!): https://github.com/gordicaleksa/get-started-with-JAX/blob/main/Tutorial_4_Flax_Zero2Hero_Colab.ipynb \n",
        "\n",
        "✅ Flax GitHub: https://github.com/google/flax \n",
        "\n",
        "✅ Flax docs: https://flax.readthedocs.io/en/latest/ "
      ],
      "metadata": {
        "id": "NNuPXRH1ifNK"
      }
    },
    {
      "cell_type": "code",
      "source": [
        ""
      ],
      "metadata": {
        "id": "O_6GqeMlfs2i"
      },
      "execution_count": null,
      "outputs": []
    }
  ],
  "metadata": {
    "colab": {
      "collapsed_sections": [],
      "name": "Flax_primitives",
      "provenance": [],
      "authorship_tag": "ABX9TyOfGF1zEH00+LiaCMAd2vtJ",
      "include_colab_link": true
    },
    "kernelspec": {
      "display_name": "Python 3",
      "name": "python3"
    },
    "language_info": {
      "name": "python"
    },
    "accelerator": "TPU"
  },
  "nbformat": 4,
  "nbformat_minor": 0
}