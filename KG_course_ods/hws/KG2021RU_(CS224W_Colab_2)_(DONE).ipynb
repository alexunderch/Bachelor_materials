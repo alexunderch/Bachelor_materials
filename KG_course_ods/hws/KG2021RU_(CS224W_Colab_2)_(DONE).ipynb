{
  "nbformat": 4,
  "nbformat_minor": 0,
  "metadata": {
    "kernelspec": {
      "display_name": "Python 3",
      "language": "python",
      "name": "python3"
    },
    "language_info": {
      "codemirror_mode": {
        "name": "ipython",
        "version": 3
      },
      "file_extension": ".py",
      "mimetype": "text/x-python",
      "name": "python",
      "nbconvert_exporter": "python",
      "pygments_lexer": "ipython3",
      "version": "3.7.3"
    },
    "colab": {
      "name": "KG2021RU_(CS224W_Colab_2) (DONE).ipynb",
      "provenance": [],
      "collapsed_sections": [],
      "toc_visible": true,
      "machine_shape": "hm",
      "include_colab_link": true
    },
    "accelerator": "GPU",
    "widgets": {
      "application/vnd.jupyter.widget-state+json": {
        "4a2fb7934cdc46268fa1cfdbe00fa1bc": {
          "model_module": "@jupyter-widgets/controls",
          "model_name": "HBoxModel",
          "model_module_version": "1.5.0",
          "state": {
            "_dom_classes": [],
            "_model_module": "@jupyter-widgets/controls",
            "_model_module_version": "1.5.0",
            "_model_name": "HBoxModel",
            "_view_count": null,
            "_view_module": "@jupyter-widgets/controls",
            "_view_module_version": "1.5.0",
            "_view_name": "HBoxView",
            "box_style": "",
            "children": [
              "IPY_MODEL_11cb7cb01cce4713b64956df0557c1a6",
              "IPY_MODEL_79b77e05881f44c6b8a6f778694af3cf",
              "IPY_MODEL_5c0c81ab16254b198a85de020e207bfb"
            ],
            "layout": "IPY_MODEL_04bb5f2c8b9d4050a6afcca4d4eb29cf"
          }
        },
        "11cb7cb01cce4713b64956df0557c1a6": {
          "model_module": "@jupyter-widgets/controls",
          "model_name": "HTMLModel",
          "model_module_version": "1.5.0",
          "state": {
            "_dom_classes": [],
            "_model_module": "@jupyter-widgets/controls",
            "_model_module_version": "1.5.0",
            "_model_name": "HTMLModel",
            "_view_count": null,
            "_view_module": "@jupyter-widgets/controls",
            "_view_module_version": "1.5.0",
            "_view_name": "HTMLView",
            "description": "",
            "description_tooltip": null,
            "layout": "IPY_MODEL_b3d6270e1ceb4f908321cc1fa33837a6",
            "placeholder": "​",
            "style": "IPY_MODEL_6091b42645ae4dfd85df319aceeaa638",
            "value": "Iteration: 100%"
          }
        },
        "79b77e05881f44c6b8a6f778694af3cf": {
          "model_module": "@jupyter-widgets/controls",
          "model_name": "FloatProgressModel",
          "model_module_version": "1.5.0",
          "state": {
            "_dom_classes": [],
            "_model_module": "@jupyter-widgets/controls",
            "_model_module_version": "1.5.0",
            "_model_name": "FloatProgressModel",
            "_view_count": null,
            "_view_module": "@jupyter-widgets/controls",
            "_view_module_version": "1.5.0",
            "_view_name": "ProgressView",
            "bar_style": "success",
            "description": "",
            "description_tooltip": null,
            "layout": "IPY_MODEL_6d52197f4947408ea5090265b1cd5cd1",
            "max": 1029,
            "min": 0,
            "orientation": "horizontal",
            "style": "IPY_MODEL_9a9608630ecc410db6d58b67d8b143ed",
            "value": 1029
          }
        },
        "5c0c81ab16254b198a85de020e207bfb": {
          "model_module": "@jupyter-widgets/controls",
          "model_name": "HTMLModel",
          "model_module_version": "1.5.0",
          "state": {
            "_dom_classes": [],
            "_model_module": "@jupyter-widgets/controls",
            "_model_module_version": "1.5.0",
            "_model_name": "HTMLModel",
            "_view_count": null,
            "_view_module": "@jupyter-widgets/controls",
            "_view_module_version": "1.5.0",
            "_view_name": "HTMLView",
            "description": "",
            "description_tooltip": null,
            "layout": "IPY_MODEL_3a89a067810c4c7d9e6b94d11537e61d",
            "placeholder": "​",
            "style": "IPY_MODEL_b9f98f711f3c4071b4addf01748fb396",
            "value": " 1029/1029 [00:11&lt;00:00, 88.09it/s]"
          }
        },
        "04bb5f2c8b9d4050a6afcca4d4eb29cf": {
          "model_module": "@jupyter-widgets/base",
          "model_name": "LayoutModel",
          "model_module_version": "1.2.0",
          "state": {
            "_model_module": "@jupyter-widgets/base",
            "_model_module_version": "1.2.0",
            "_model_name": "LayoutModel",
            "_view_count": null,
            "_view_module": "@jupyter-widgets/base",
            "_view_module_version": "1.2.0",
            "_view_name": "LayoutView",
            "align_content": null,
            "align_items": null,
            "align_self": null,
            "border": null,
            "bottom": null,
            "display": null,
            "flex": null,
            "flex_flow": null,
            "grid_area": null,
            "grid_auto_columns": null,
            "grid_auto_flow": null,
            "grid_auto_rows": null,
            "grid_column": null,
            "grid_gap": null,
            "grid_row": null,
            "grid_template_areas": null,
            "grid_template_columns": null,
            "grid_template_rows": null,
            "height": null,
            "justify_content": null,
            "justify_items": null,
            "left": null,
            "margin": null,
            "max_height": null,
            "max_width": null,
            "min_height": null,
            "min_width": null,
            "object_fit": null,
            "object_position": null,
            "order": null,
            "overflow": null,
            "overflow_x": null,
            "overflow_y": null,
            "padding": null,
            "right": null,
            "top": null,
            "visibility": null,
            "width": null
          }
        },
        "b3d6270e1ceb4f908321cc1fa33837a6": {
          "model_module": "@jupyter-widgets/base",
          "model_name": "LayoutModel",
          "model_module_version": "1.2.0",
          "state": {
            "_model_module": "@jupyter-widgets/base",
            "_model_module_version": "1.2.0",
            "_model_name": "LayoutModel",
            "_view_count": null,
            "_view_module": "@jupyter-widgets/base",
            "_view_module_version": "1.2.0",
            "_view_name": "LayoutView",
            "align_content": null,
            "align_items": null,
            "align_self": null,
            "border": null,
            "bottom": null,
            "display": null,
            "flex": null,
            "flex_flow": null,
            "grid_area": null,
            "grid_auto_columns": null,
            "grid_auto_flow": null,
            "grid_auto_rows": null,
            "grid_column": null,
            "grid_gap": null,
            "grid_row": null,
            "grid_template_areas": null,
            "grid_template_columns": null,
            "grid_template_rows": null,
            "height": null,
            "justify_content": null,
            "justify_items": null,
            "left": null,
            "margin": null,
            "max_height": null,
            "max_width": null,
            "min_height": null,
            "min_width": null,
            "object_fit": null,
            "object_position": null,
            "order": null,
            "overflow": null,
            "overflow_x": null,
            "overflow_y": null,
            "padding": null,
            "right": null,
            "top": null,
            "visibility": null,
            "width": null
          }
        },
        "6091b42645ae4dfd85df319aceeaa638": {
          "model_module": "@jupyter-widgets/controls",
          "model_name": "DescriptionStyleModel",
          "model_module_version": "1.5.0",
          "state": {
            "_model_module": "@jupyter-widgets/controls",
            "_model_module_version": "1.5.0",
            "_model_name": "DescriptionStyleModel",
            "_view_count": null,
            "_view_module": "@jupyter-widgets/base",
            "_view_module_version": "1.2.0",
            "_view_name": "StyleView",
            "description_width": ""
          }
        },
        "6d52197f4947408ea5090265b1cd5cd1": {
          "model_module": "@jupyter-widgets/base",
          "model_name": "LayoutModel",
          "model_module_version": "1.2.0",
          "state": {
            "_model_module": "@jupyter-widgets/base",
            "_model_module_version": "1.2.0",
            "_model_name": "LayoutModel",
            "_view_count": null,
            "_view_module": "@jupyter-widgets/base",
            "_view_module_version": "1.2.0",
            "_view_name": "LayoutView",
            "align_content": null,
            "align_items": null,
            "align_self": null,
            "border": null,
            "bottom": null,
            "display": null,
            "flex": null,
            "flex_flow": null,
            "grid_area": null,
            "grid_auto_columns": null,
            "grid_auto_flow": null,
            "grid_auto_rows": null,
            "grid_column": null,
            "grid_gap": null,
            "grid_row": null,
            "grid_template_areas": null,
            "grid_template_columns": null,
            "grid_template_rows": null,
            "height": null,
            "justify_content": null,
            "justify_items": null,
            "left": null,
            "margin": null,
            "max_height": null,
            "max_width": null,
            "min_height": null,
            "min_width": null,
            "object_fit": null,
            "object_position": null,
            "order": null,
            "overflow": null,
            "overflow_x": null,
            "overflow_y": null,
            "padding": null,
            "right": null,
            "top": null,
            "visibility": null,
            "width": null
          }
        },
        "9a9608630ecc410db6d58b67d8b143ed": {
          "model_module": "@jupyter-widgets/controls",
          "model_name": "ProgressStyleModel",
          "model_module_version": "1.5.0",
          "state": {
            "_model_module": "@jupyter-widgets/controls",
            "_model_module_version": "1.5.0",
            "_model_name": "ProgressStyleModel",
            "_view_count": null,
            "_view_module": "@jupyter-widgets/base",
            "_view_module_version": "1.2.0",
            "_view_name": "StyleView",
            "bar_color": null,
            "description_width": ""
          }
        },
        "3a89a067810c4c7d9e6b94d11537e61d": {
          "model_module": "@jupyter-widgets/base",
          "model_name": "LayoutModel",
          "model_module_version": "1.2.0",
          "state": {
            "_model_module": "@jupyter-widgets/base",
            "_model_module_version": "1.2.0",
            "_model_name": "LayoutModel",
            "_view_count": null,
            "_view_module": "@jupyter-widgets/base",
            "_view_module_version": "1.2.0",
            "_view_name": "LayoutView",
            "align_content": null,
            "align_items": null,
            "align_self": null,
            "border": null,
            "bottom": null,
            "display": null,
            "flex": null,
            "flex_flow": null,
            "grid_area": null,
            "grid_auto_columns": null,
            "grid_auto_flow": null,
            "grid_auto_rows": null,
            "grid_column": null,
            "grid_gap": null,
            "grid_row": null,
            "grid_template_areas": null,
            "grid_template_columns": null,
            "grid_template_rows": null,
            "height": null,
            "justify_content": null,
            "justify_items": null,
            "left": null,
            "margin": null,
            "max_height": null,
            "max_width": null,
            "min_height": null,
            "min_width": null,
            "object_fit": null,
            "object_position": null,
            "order": null,
            "overflow": null,
            "overflow_x": null,
            "overflow_y": null,
            "padding": null,
            "right": null,
            "top": null,
            "visibility": null,
            "width": null
          }
        },
        "b9f98f711f3c4071b4addf01748fb396": {
          "model_module": "@jupyter-widgets/controls",
          "model_name": "DescriptionStyleModel",
          "model_module_version": "1.5.0",
          "state": {
            "_model_module": "@jupyter-widgets/controls",
            "_model_module_version": "1.5.0",
            "_model_name": "DescriptionStyleModel",
            "_view_count": null,
            "_view_module": "@jupyter-widgets/base",
            "_view_module_version": "1.2.0",
            "_view_name": "StyleView",
            "description_width": ""
          }
        },
        "6fe2d9971c2e48a3be560cd8356fba3e": {
          "model_module": "@jupyter-widgets/controls",
          "model_name": "HBoxModel",
          "model_module_version": "1.5.0",
          "state": {
            "_dom_classes": [],
            "_model_module": "@jupyter-widgets/controls",
            "_model_module_version": "1.5.0",
            "_model_name": "HBoxModel",
            "_view_count": null,
            "_view_module": "@jupyter-widgets/controls",
            "_view_module_version": "1.5.0",
            "_view_name": "HBoxView",
            "box_style": "",
            "children": [
              "IPY_MODEL_5569b04f2c2f429f97c50d64424201c7",
              "IPY_MODEL_b36d31a332bf43f78bc4be88af2dc083",
              "IPY_MODEL_8903b0aa264e4325b38c306a51332e7d"
            ],
            "layout": "IPY_MODEL_f922985ba5ba43188214cb7284ade771"
          }
        },
        "5569b04f2c2f429f97c50d64424201c7": {
          "model_module": "@jupyter-widgets/controls",
          "model_name": "HTMLModel",
          "model_module_version": "1.5.0",
          "state": {
            "_dom_classes": [],
            "_model_module": "@jupyter-widgets/controls",
            "_model_module_version": "1.5.0",
            "_model_name": "HTMLModel",
            "_view_count": null,
            "_view_module": "@jupyter-widgets/controls",
            "_view_module_version": "1.5.0",
            "_view_name": "HTMLView",
            "description": "",
            "description_tooltip": null,
            "layout": "IPY_MODEL_7d9bd2b9ba3b4478aeaf1064ccc24bc7",
            "placeholder": "​",
            "style": "IPY_MODEL_1483af74c86344eab76f0a6e86a67769",
            "value": "Iteration: 100%"
          }
        },
        "b36d31a332bf43f78bc4be88af2dc083": {
          "model_module": "@jupyter-widgets/controls",
          "model_name": "FloatProgressModel",
          "model_module_version": "1.5.0",
          "state": {
            "_dom_classes": [],
            "_model_module": "@jupyter-widgets/controls",
            "_model_module_version": "1.5.0",
            "_model_name": "FloatProgressModel",
            "_view_count": null,
            "_view_module": "@jupyter-widgets/controls",
            "_view_module_version": "1.5.0",
            "_view_name": "ProgressView",
            "bar_style": "success",
            "description": "",
            "description_tooltip": null,
            "layout": "IPY_MODEL_4c0269049f074521a6d3a5981742279f",
            "max": 129,
            "min": 0,
            "orientation": "horizontal",
            "style": "IPY_MODEL_9487863ad83a4df28941fe1ae7be71e0",
            "value": 129
          }
        },
        "8903b0aa264e4325b38c306a51332e7d": {
          "model_module": "@jupyter-widgets/controls",
          "model_name": "HTMLModel",
          "model_module_version": "1.5.0",
          "state": {
            "_dom_classes": [],
            "_model_module": "@jupyter-widgets/controls",
            "_model_module_version": "1.5.0",
            "_model_name": "HTMLModel",
            "_view_count": null,
            "_view_module": "@jupyter-widgets/controls",
            "_view_module_version": "1.5.0",
            "_view_name": "HTMLView",
            "description": "",
            "description_tooltip": null,
            "layout": "IPY_MODEL_40bc878366c14812b4056c3f5bc60668",
            "placeholder": "​",
            "style": "IPY_MODEL_dc69ba32b22244b8bffb62e4872e15bd",
            "value": " 129/129 [00:01&lt;00:00, 84.16it/s]"
          }
        },
        "f922985ba5ba43188214cb7284ade771": {
          "model_module": "@jupyter-widgets/base",
          "model_name": "LayoutModel",
          "model_module_version": "1.2.0",
          "state": {
            "_model_module": "@jupyter-widgets/base",
            "_model_module_version": "1.2.0",
            "_model_name": "LayoutModel",
            "_view_count": null,
            "_view_module": "@jupyter-widgets/base",
            "_view_module_version": "1.2.0",
            "_view_name": "LayoutView",
            "align_content": null,
            "align_items": null,
            "align_self": null,
            "border": null,
            "bottom": null,
            "display": null,
            "flex": null,
            "flex_flow": null,
            "grid_area": null,
            "grid_auto_columns": null,
            "grid_auto_flow": null,
            "grid_auto_rows": null,
            "grid_column": null,
            "grid_gap": null,
            "grid_row": null,
            "grid_template_areas": null,
            "grid_template_columns": null,
            "grid_template_rows": null,
            "height": null,
            "justify_content": null,
            "justify_items": null,
            "left": null,
            "margin": null,
            "max_height": null,
            "max_width": null,
            "min_height": null,
            "min_width": null,
            "object_fit": null,
            "object_position": null,
            "order": null,
            "overflow": null,
            "overflow_x": null,
            "overflow_y": null,
            "padding": null,
            "right": null,
            "top": null,
            "visibility": null,
            "width": null
          }
        },
        "7d9bd2b9ba3b4478aeaf1064ccc24bc7": {
          "model_module": "@jupyter-widgets/base",
          "model_name": "LayoutModel",
          "model_module_version": "1.2.0",
          "state": {
            "_model_module": "@jupyter-widgets/base",
            "_model_module_version": "1.2.0",
            "_model_name": "LayoutModel",
            "_view_count": null,
            "_view_module": "@jupyter-widgets/base",
            "_view_module_version": "1.2.0",
            "_view_name": "LayoutView",
            "align_content": null,
            "align_items": null,
            "align_self": null,
            "border": null,
            "bottom": null,
            "display": null,
            "flex": null,
            "flex_flow": null,
            "grid_area": null,
            "grid_auto_columns": null,
            "grid_auto_flow": null,
            "grid_auto_rows": null,
            "grid_column": null,
            "grid_gap": null,
            "grid_row": null,
            "grid_template_areas": null,
            "grid_template_columns": null,
            "grid_template_rows": null,
            "height": null,
            "justify_content": null,
            "justify_items": null,
            "left": null,
            "margin": null,
            "max_height": null,
            "max_width": null,
            "min_height": null,
            "min_width": null,
            "object_fit": null,
            "object_position": null,
            "order": null,
            "overflow": null,
            "overflow_x": null,
            "overflow_y": null,
            "padding": null,
            "right": null,
            "top": null,
            "visibility": null,
            "width": null
          }
        },
        "1483af74c86344eab76f0a6e86a67769": {
          "model_module": "@jupyter-widgets/controls",
          "model_name": "DescriptionStyleModel",
          "model_module_version": "1.5.0",
          "state": {
            "_model_module": "@jupyter-widgets/controls",
            "_model_module_version": "1.5.0",
            "_model_name": "DescriptionStyleModel",
            "_view_count": null,
            "_view_module": "@jupyter-widgets/base",
            "_view_module_version": "1.2.0",
            "_view_name": "StyleView",
            "description_width": ""
          }
        },
        "4c0269049f074521a6d3a5981742279f": {
          "model_module": "@jupyter-widgets/base",
          "model_name": "LayoutModel",
          "model_module_version": "1.2.0",
          "state": {
            "_model_module": "@jupyter-widgets/base",
            "_model_module_version": "1.2.0",
            "_model_name": "LayoutModel",
            "_view_count": null,
            "_view_module": "@jupyter-widgets/base",
            "_view_module_version": "1.2.0",
            "_view_name": "LayoutView",
            "align_content": null,
            "align_items": null,
            "align_self": null,
            "border": null,
            "bottom": null,
            "display": null,
            "flex": null,
            "flex_flow": null,
            "grid_area": null,
            "grid_auto_columns": null,
            "grid_auto_flow": null,
            "grid_auto_rows": null,
            "grid_column": null,
            "grid_gap": null,
            "grid_row": null,
            "grid_template_areas": null,
            "grid_template_columns": null,
            "grid_template_rows": null,
            "height": null,
            "justify_content": null,
            "justify_items": null,
            "left": null,
            "margin": null,
            "max_height": null,
            "max_width": null,
            "min_height": null,
            "min_width": null,
            "object_fit": null,
            "object_position": null,
            "order": null,
            "overflow": null,
            "overflow_x": null,
            "overflow_y": null,
            "padding": null,
            "right": null,
            "top": null,
            "visibility": null,
            "width": null
          }
        },
        "9487863ad83a4df28941fe1ae7be71e0": {
          "model_module": "@jupyter-widgets/controls",
          "model_name": "ProgressStyleModel",
          "model_module_version": "1.5.0",
          "state": {
            "_model_module": "@jupyter-widgets/controls",
            "_model_module_version": "1.5.0",
            "_model_name": "ProgressStyleModel",
            "_view_count": null,
            "_view_module": "@jupyter-widgets/base",
            "_view_module_version": "1.2.0",
            "_view_name": "StyleView",
            "bar_color": null,
            "description_width": ""
          }
        },
        "40bc878366c14812b4056c3f5bc60668": {
          "model_module": "@jupyter-widgets/base",
          "model_name": "LayoutModel",
          "model_module_version": "1.2.0",
          "state": {
            "_model_module": "@jupyter-widgets/base",
            "_model_module_version": "1.2.0",
            "_model_name": "LayoutModel",
            "_view_count": null,
            "_view_module": "@jupyter-widgets/base",
            "_view_module_version": "1.2.0",
            "_view_name": "LayoutView",
            "align_content": null,
            "align_items": null,
            "align_self": null,
            "border": null,
            "bottom": null,
            "display": null,
            "flex": null,
            "flex_flow": null,
            "grid_area": null,
            "grid_auto_columns": null,
            "grid_auto_flow": null,
            "grid_auto_rows": null,
            "grid_column": null,
            "grid_gap": null,
            "grid_row": null,
            "grid_template_areas": null,
            "grid_template_columns": null,
            "grid_template_rows": null,
            "height": null,
            "justify_content": null,
            "justify_items": null,
            "left": null,
            "margin": null,
            "max_height": null,
            "max_width": null,
            "min_height": null,
            "min_width": null,
            "object_fit": null,
            "object_position": null,
            "order": null,
            "overflow": null,
            "overflow_x": null,
            "overflow_y": null,
            "padding": null,
            "right": null,
            "top": null,
            "visibility": null,
            "width": null
          }
        },
        "dc69ba32b22244b8bffb62e4872e15bd": {
          "model_module": "@jupyter-widgets/controls",
          "model_name": "DescriptionStyleModel",
          "model_module_version": "1.5.0",
          "state": {
            "_model_module": "@jupyter-widgets/controls",
            "_model_module_version": "1.5.0",
            "_model_name": "DescriptionStyleModel",
            "_view_count": null,
            "_view_module": "@jupyter-widgets/base",
            "_view_module_version": "1.2.0",
            "_view_name": "StyleView",
            "description_width": ""
          }
        },
        "c6ac422cf56c4653a8a97d4fc54ba8d2": {
          "model_module": "@jupyter-widgets/controls",
          "model_name": "HBoxModel",
          "model_module_version": "1.5.0",
          "state": {
            "_dom_classes": [],
            "_model_module": "@jupyter-widgets/controls",
            "_model_module_version": "1.5.0",
            "_model_name": "HBoxModel",
            "_view_count": null,
            "_view_module": "@jupyter-widgets/controls",
            "_view_module_version": "1.5.0",
            "_view_name": "HBoxView",
            "box_style": "",
            "children": [
              "IPY_MODEL_2364aec5c82a4a4bbb95a374b5c6b106",
              "IPY_MODEL_4518e26584d04b528756b60287211cd7",
              "IPY_MODEL_bbb2ad245c254e6995320f2236f8f6b5"
            ],
            "layout": "IPY_MODEL_54555da157b944288085dba07ff4c257"
          }
        },
        "2364aec5c82a4a4bbb95a374b5c6b106": {
          "model_module": "@jupyter-widgets/controls",
          "model_name": "HTMLModel",
          "model_module_version": "1.5.0",
          "state": {
            "_dom_classes": [],
            "_model_module": "@jupyter-widgets/controls",
            "_model_module_version": "1.5.0",
            "_model_name": "HTMLModel",
            "_view_count": null,
            "_view_module": "@jupyter-widgets/controls",
            "_view_module_version": "1.5.0",
            "_view_name": "HTMLView",
            "description": "",
            "description_tooltip": null,
            "layout": "IPY_MODEL_9261b168c7cb4e22ad23d872dde3cc5c",
            "placeholder": "​",
            "style": "IPY_MODEL_4e1cd87442234f2ba3b68c51dd7bc91d",
            "value": "Iteration: 100%"
          }
        },
        "4518e26584d04b528756b60287211cd7": {
          "model_module": "@jupyter-widgets/controls",
          "model_name": "FloatProgressModel",
          "model_module_version": "1.5.0",
          "state": {
            "_dom_classes": [],
            "_model_module": "@jupyter-widgets/controls",
            "_model_module_version": "1.5.0",
            "_model_name": "FloatProgressModel",
            "_view_count": null,
            "_view_module": "@jupyter-widgets/controls",
            "_view_module_version": "1.5.0",
            "_view_name": "ProgressView",
            "bar_style": "success",
            "description": "",
            "description_tooltip": null,
            "layout": "IPY_MODEL_7b47101d9bb94760a97d67c53b1868ae",
            "max": 129,
            "min": 0,
            "orientation": "horizontal",
            "style": "IPY_MODEL_b192a5b853394d779b6842abc44c277e",
            "value": 129
          }
        },
        "bbb2ad245c254e6995320f2236f8f6b5": {
          "model_module": "@jupyter-widgets/controls",
          "model_name": "HTMLModel",
          "model_module_version": "1.5.0",
          "state": {
            "_dom_classes": [],
            "_model_module": "@jupyter-widgets/controls",
            "_model_module_version": "1.5.0",
            "_model_name": "HTMLModel",
            "_view_count": null,
            "_view_module": "@jupyter-widgets/controls",
            "_view_module_version": "1.5.0",
            "_view_name": "HTMLView",
            "description": "",
            "description_tooltip": null,
            "layout": "IPY_MODEL_23154b7cd52c4a67bdbd20767801d538",
            "placeholder": "​",
            "style": "IPY_MODEL_e0124ff37c094f9e9dd9d10bffd31a3b",
            "value": " 129/129 [00:01&lt;00:00, 87.61it/s]"
          }
        },
        "54555da157b944288085dba07ff4c257": {
          "model_module": "@jupyter-widgets/base",
          "model_name": "LayoutModel",
          "model_module_version": "1.2.0",
          "state": {
            "_model_module": "@jupyter-widgets/base",
            "_model_module_version": "1.2.0",
            "_model_name": "LayoutModel",
            "_view_count": null,
            "_view_module": "@jupyter-widgets/base",
            "_view_module_version": "1.2.0",
            "_view_name": "LayoutView",
            "align_content": null,
            "align_items": null,
            "align_self": null,
            "border": null,
            "bottom": null,
            "display": null,
            "flex": null,
            "flex_flow": null,
            "grid_area": null,
            "grid_auto_columns": null,
            "grid_auto_flow": null,
            "grid_auto_rows": null,
            "grid_column": null,
            "grid_gap": null,
            "grid_row": null,
            "grid_template_areas": null,
            "grid_template_columns": null,
            "grid_template_rows": null,
            "height": null,
            "justify_content": null,
            "justify_items": null,
            "left": null,
            "margin": null,
            "max_height": null,
            "max_width": null,
            "min_height": null,
            "min_width": null,
            "object_fit": null,
            "object_position": null,
            "order": null,
            "overflow": null,
            "overflow_x": null,
            "overflow_y": null,
            "padding": null,
            "right": null,
            "top": null,
            "visibility": null,
            "width": null
          }
        },
        "9261b168c7cb4e22ad23d872dde3cc5c": {
          "model_module": "@jupyter-widgets/base",
          "model_name": "LayoutModel",
          "model_module_version": "1.2.0",
          "state": {
            "_model_module": "@jupyter-widgets/base",
            "_model_module_version": "1.2.0",
            "_model_name": "LayoutModel",
            "_view_count": null,
            "_view_module": "@jupyter-widgets/base",
            "_view_module_version": "1.2.0",
            "_view_name": "LayoutView",
            "align_content": null,
            "align_items": null,
            "align_self": null,
            "border": null,
            "bottom": null,
            "display": null,
            "flex": null,
            "flex_flow": null,
            "grid_area": null,
            "grid_auto_columns": null,
            "grid_auto_flow": null,
            "grid_auto_rows": null,
            "grid_column": null,
            "grid_gap": null,
            "grid_row": null,
            "grid_template_areas": null,
            "grid_template_columns": null,
            "grid_template_rows": null,
            "height": null,
            "justify_content": null,
            "justify_items": null,
            "left": null,
            "margin": null,
            "max_height": null,
            "max_width": null,
            "min_height": null,
            "min_width": null,
            "object_fit": null,
            "object_position": null,
            "order": null,
            "overflow": null,
            "overflow_x": null,
            "overflow_y": null,
            "padding": null,
            "right": null,
            "top": null,
            "visibility": null,
            "width": null
          }
        },
        "4e1cd87442234f2ba3b68c51dd7bc91d": {
          "model_module": "@jupyter-widgets/controls",
          "model_name": "DescriptionStyleModel",
          "model_module_version": "1.5.0",
          "state": {
            "_model_module": "@jupyter-widgets/controls",
            "_model_module_version": "1.5.0",
            "_model_name": "DescriptionStyleModel",
            "_view_count": null,
            "_view_module": "@jupyter-widgets/base",
            "_view_module_version": "1.2.0",
            "_view_name": "StyleView",
            "description_width": ""
          }
        },
        "7b47101d9bb94760a97d67c53b1868ae": {
          "model_module": "@jupyter-widgets/base",
          "model_name": "LayoutModel",
          "model_module_version": "1.2.0",
          "state": {
            "_model_module": "@jupyter-widgets/base",
            "_model_module_version": "1.2.0",
            "_model_name": "LayoutModel",
            "_view_count": null,
            "_view_module": "@jupyter-widgets/base",
            "_view_module_version": "1.2.0",
            "_view_name": "LayoutView",
            "align_content": null,
            "align_items": null,
            "align_self": null,
            "border": null,
            "bottom": null,
            "display": null,
            "flex": null,
            "flex_flow": null,
            "grid_area": null,
            "grid_auto_columns": null,
            "grid_auto_flow": null,
            "grid_auto_rows": null,
            "grid_column": null,
            "grid_gap": null,
            "grid_row": null,
            "grid_template_areas": null,
            "grid_template_columns": null,
            "grid_template_rows": null,
            "height": null,
            "justify_content": null,
            "justify_items": null,
            "left": null,
            "margin": null,
            "max_height": null,
            "max_width": null,
            "min_height": null,
            "min_width": null,
            "object_fit": null,
            "object_position": null,
            "order": null,
            "overflow": null,
            "overflow_x": null,
            "overflow_y": null,
            "padding": null,
            "right": null,
            "top": null,
            "visibility": null,
            "width": null
          }
        },
        "b192a5b853394d779b6842abc44c277e": {
          "model_module": "@jupyter-widgets/controls",
          "model_name": "ProgressStyleModel",
          "model_module_version": "1.5.0",
          "state": {
            "_model_module": "@jupyter-widgets/controls",
            "_model_module_version": "1.5.0",
            "_model_name": "ProgressStyleModel",
            "_view_count": null,
            "_view_module": "@jupyter-widgets/base",
            "_view_module_version": "1.2.0",
            "_view_name": "StyleView",
            "bar_color": null,
            "description_width": ""
          }
        },
        "23154b7cd52c4a67bdbd20767801d538": {
          "model_module": "@jupyter-widgets/base",
          "model_name": "LayoutModel",
          "model_module_version": "1.2.0",
          "state": {
            "_model_module": "@jupyter-widgets/base",
            "_model_module_version": "1.2.0",
            "_model_name": "LayoutModel",
            "_view_count": null,
            "_view_module": "@jupyter-widgets/base",
            "_view_module_version": "1.2.0",
            "_view_name": "LayoutView",
            "align_content": null,
            "align_items": null,
            "align_self": null,
            "border": null,
            "bottom": null,
            "display": null,
            "flex": null,
            "flex_flow": null,
            "grid_area": null,
            "grid_auto_columns": null,
            "grid_auto_flow": null,
            "grid_auto_rows": null,
            "grid_column": null,
            "grid_gap": null,
            "grid_row": null,
            "grid_template_areas": null,
            "grid_template_columns": null,
            "grid_template_rows": null,
            "height": null,
            "justify_content": null,
            "justify_items": null,
            "left": null,
            "margin": null,
            "max_height": null,
            "max_width": null,
            "min_height": null,
            "min_width": null,
            "object_fit": null,
            "object_position": null,
            "order": null,
            "overflow": null,
            "overflow_x": null,
            "overflow_y": null,
            "padding": null,
            "right": null,
            "top": null,
            "visibility": null,
            "width": null
          }
        },
        "e0124ff37c094f9e9dd9d10bffd31a3b": {
          "model_module": "@jupyter-widgets/controls",
          "model_name": "DescriptionStyleModel",
          "model_module_version": "1.5.0",
          "state": {
            "_model_module": "@jupyter-widgets/controls",
            "_model_module_version": "1.5.0",
            "_model_name": "DescriptionStyleModel",
            "_view_count": null,
            "_view_module": "@jupyter-widgets/base",
            "_view_module_version": "1.2.0",
            "_view_name": "StyleView",
            "description_width": ""
          }
        }
      }
    }
  },
  "cells": [
    {
      "cell_type": "markdown",
      "metadata": {
        "id": "view-in-github",
        "colab_type": "text"
      },
      "source": [
        "<a href=\"https://colab.research.google.com/github/alexunderch/Bachelor_materials/blob/main/KG_course_ods/hws/KG2021RU_(CS224W_Colab_2)_(DONE).ipynb\" target=\"_parent\"><img src=\"https://colab.research.google.com/assets/colab-badge.svg\" alt=\"Open In Colab\"/></a>"
      ]
    },
    {
      "cell_type": "markdown",
      "metadata": {
        "id": "XuXWJLEm2UWS"
      },
      "source": [
        "![](https://habrastorage.org/webt/wm/bs/md/wmbsmdxsduiamoki0tpt8vgfvvq.png)\n",
        "\n",
        "# Заимствовано с гордостью!\n",
        "перевод публично доступных [материалов](https://colab.research.google.com/drive/1Aa0eKSmyYef1gORvlHv7EeQzSVRb30eL?usp=sharing) курса [cs224w](http://web.stanford.edu/class/cs224w/)\n",
        "\n",
        "# **CS224W - Colab 2**"
      ]
    },
    {
      "cell_type": "markdown",
      "metadata": {
        "id": "8gzsP50bF6Gb"
      },
      "source": [
        "В этом блокноте мы сконструируем графовую нейронную сеть, используя PyTorch Geometric (PyG) и применим модель к двум наборам данных из Open Graph Benchmark (OGB). Эти два набора данных используются для сравнения производительности моделей на двух различных задачах машинного обучения на графах. Одна из них - предсказание свойств вершины, относящаяся к отдельным вершинам. Другая - предсказание свойств графа, относящаяся к графам и их (частям) суб-графам.\n",
        "\n",
        "Для начала мы ознакомимся с тем, каким образом PyTorch Geometric хранит графы в тензорах PyTorch.\n",
        "\n",
        "Затем - загрузим один из наборов данных Open Graph Benchmark (OGB) с помощью пакета `ogb`. OGB - это коллекция реалистичных больших и разнообразных эталонных наборов данных для машинного обучения на графах. Пакет `ogb` предоставляет не только загрузчик данных, но и средства оценки моделей.\n",
        "\n",
        "Наконец, мы построим нашу собственную графовую нейронную сеть с помощью PyTorch Geometric. Затем - применим и оценим качество работы моделей в задаче предсказания свойств вершин и графов.\n",
        "\n",
        "**Обратите внимание**:  \n",
        "Убедитесь в том, чтобы **последовательно запускать все ячейки с кодом в рамках каждой секции**, таким образом промежуточные переменные будут переданы в последующую ячейку.\n",
        "\n",
        "Развлекайтесь с Colab 2 :)"
      ]
    },
    {
      "cell_type": "markdown",
      "metadata": {
        "id": "ZGKqVEbbMEzf"
      },
      "source": [
        "# Устройство\n",
        "Вам может потребоваться графический ускоритель для этого блокнота.\n",
        "\n",
        "Пожалуйста выберите `Среда выполенения (Runtime)` и затем `Сменить среду выполенения (Change runtime type)`. Выберите **GPU** для `Аппаратный ускоритель (hardware accelerator)`."
      ]
    },
    {
      "cell_type": "code",
      "source": [
        "import torch\n",
        "print(torch.__version__)"
      ],
      "metadata": {
        "colab": {
          "base_uri": "https://localhost:8080/"
        },
        "id": "1FC6dFf85dWr",
        "outputId": "75765c41-f306-48a3-98bf-20cd1709dbd0"
      },
      "execution_count": 1,
      "outputs": [
        {
          "output_type": "stream",
          "name": "stdout",
          "text": [
            "1.11.0+cu113\n"
          ]
        }
      ]
    },
    {
      "cell_type": "markdown",
      "metadata": {
        "id": "B0NiFL6OLpaJ"
      },
      "source": [
        "# Установка"
      ]
    },
    {
      "cell_type": "code",
      "metadata": {
        "id": "By2oyBw7Lrh5",
        "colab": {
          "base_uri": "https://localhost:8080/"
        },
        "outputId": "b3ebbdf8-710d-4f0d-d080-aadd6dfd93e1"
      },
      "source": [
        "#!pip install -q torch-scatter -f https://pytorch-geometric.com/whl/torch-1.7.0+cu101.html\n",
        "# #!pip install -q torch-sparse -f https://pytorch-geometric.com/whl/torch-1.7.0+cu101.html\n",
        "# !pip install -q torch-scatter -f https://pytorch-geometric.com/whl/torch-1.8.0+cu101.html\n",
        "# !pip install -q torch-sparse -f https://pytorch-geometric.com/whl/torch-1.8.0+cu101.html\n",
        "# !pip install -q torch-geometric\n",
        "!pip install torch-scatter torch-sparse torch-cluster torch-spline-conv torch-geometric -f https://data.pyg.org/whl/torch-1.11.0+cu113.html\n",
        "!pip install ogb"
      ],
      "execution_count": 2,
      "outputs": [
        {
          "output_type": "stream",
          "name": "stdout",
          "text": [
            "Looking in links: https://data.pyg.org/whl/torch-1.11.0+cu113.html\n",
            "Collecting torch-scatter\n",
            "  Downloading https://data.pyg.org/whl/torch-1.11.0%2Bcu113/torch_scatter-2.0.9-cp37-cp37m-linux_x86_64.whl (7.9 MB)\n",
            "\u001b[K     |████████████████████████████████| 7.9 MB 3.5 MB/s \n",
            "\u001b[?25hCollecting torch-sparse\n",
            "  Downloading https://data.pyg.org/whl/torch-1.11.0%2Bcu113/torch_sparse-0.6.13-cp37-cp37m-linux_x86_64.whl (3.5 MB)\n",
            "\u001b[K     |████████████████████████████████| 3.5 MB 29.1 MB/s \n",
            "\u001b[?25hCollecting torch-cluster\n",
            "  Downloading https://data.pyg.org/whl/torch-1.11.0%2Bcu113/torch_cluster-1.6.0-cp37-cp37m-linux_x86_64.whl (2.5 MB)\n",
            "\u001b[K     |████████████████████████████████| 2.5 MB 32.1 MB/s \n",
            "\u001b[?25hCollecting torch-spline-conv\n",
            "  Downloading https://data.pyg.org/whl/torch-1.11.0%2Bcu113/torch_spline_conv-1.2.1-cp37-cp37m-linux_x86_64.whl (750 kB)\n",
            "\u001b[K     |████████████████████████████████| 750 kB 34.5 MB/s \n",
            "\u001b[?25hCollecting torch-geometric\n",
            "  Downloading torch_geometric-2.0.4.tar.gz (407 kB)\n",
            "\u001b[K     |████████████████████████████████| 407 kB 7.0 MB/s \n",
            "\u001b[?25hRequirement already satisfied: scipy in /usr/local/lib/python3.7/dist-packages (from torch-sparse) (1.4.1)\n",
            "Requirement already satisfied: tqdm in /usr/local/lib/python3.7/dist-packages (from torch-geometric) (4.64.0)\n",
            "Requirement already satisfied: numpy in /usr/local/lib/python3.7/dist-packages (from torch-geometric) (1.21.6)\n",
            "Requirement already satisfied: pandas in /usr/local/lib/python3.7/dist-packages (from torch-geometric) (1.3.5)\n",
            "Requirement already satisfied: jinja2 in /usr/local/lib/python3.7/dist-packages (from torch-geometric) (2.11.3)\n",
            "Requirement already satisfied: requests in /usr/local/lib/python3.7/dist-packages (from torch-geometric) (2.23.0)\n",
            "Requirement already satisfied: pyparsing in /usr/local/lib/python3.7/dist-packages (from torch-geometric) (3.0.8)\n",
            "Requirement already satisfied: scikit-learn in /usr/local/lib/python3.7/dist-packages (from torch-geometric) (1.0.2)\n",
            "Requirement already satisfied: MarkupSafe>=0.23 in /usr/local/lib/python3.7/dist-packages (from jinja2->torch-geometric) (2.0.1)\n",
            "Requirement already satisfied: python-dateutil>=2.7.3 in /usr/local/lib/python3.7/dist-packages (from pandas->torch-geometric) (2.8.2)\n",
            "Requirement already satisfied: pytz>=2017.3 in /usr/local/lib/python3.7/dist-packages (from pandas->torch-geometric) (2022.1)\n",
            "Requirement already satisfied: six>=1.5 in /usr/local/lib/python3.7/dist-packages (from python-dateutil>=2.7.3->pandas->torch-geometric) (1.15.0)\n",
            "Requirement already satisfied: urllib3!=1.25.0,!=1.25.1,<1.26,>=1.21.1 in /usr/local/lib/python3.7/dist-packages (from requests->torch-geometric) (1.24.3)\n",
            "Requirement already satisfied: idna<3,>=2.5 in /usr/local/lib/python3.7/dist-packages (from requests->torch-geometric) (2.10)\n",
            "Requirement already satisfied: certifi>=2017.4.17 in /usr/local/lib/python3.7/dist-packages (from requests->torch-geometric) (2021.10.8)\n",
            "Requirement already satisfied: chardet<4,>=3.0.2 in /usr/local/lib/python3.7/dist-packages (from requests->torch-geometric) (3.0.4)\n",
            "Requirement already satisfied: joblib>=0.11 in /usr/local/lib/python3.7/dist-packages (from scikit-learn->torch-geometric) (1.1.0)\n",
            "Requirement already satisfied: threadpoolctl>=2.0.0 in /usr/local/lib/python3.7/dist-packages (from scikit-learn->torch-geometric) (3.1.0)\n",
            "Building wheels for collected packages: torch-geometric\n",
            "  Building wheel for torch-geometric (setup.py) ... \u001b[?25l\u001b[?25hdone\n",
            "  Created wheel for torch-geometric: filename=torch_geometric-2.0.4-py3-none-any.whl size=616603 sha256=0f84eeeea8a2f382ff34b0e6e17f1fca788d449e1704c9b9c70388cf2e87ce2e\n",
            "  Stored in directory: /root/.cache/pip/wheels/18/a6/a4/ca18c3051fcead866fe7b85700ee2240d883562a1bc70ce421\n",
            "Successfully built torch-geometric\n",
            "Installing collected packages: torch-spline-conv, torch-sparse, torch-scatter, torch-geometric, torch-cluster\n",
            "Successfully installed torch-cluster-1.6.0 torch-geometric-2.0.4 torch-scatter-2.0.9 torch-sparse-0.6.13 torch-spline-conv-1.2.1\n",
            "Collecting ogb\n",
            "  Downloading ogb-1.3.3-py3-none-any.whl (78 kB)\n",
            "\u001b[K     |████████████████████████████████| 78 kB 4.5 MB/s \n",
            "\u001b[?25hRequirement already satisfied: tqdm>=4.29.0 in /usr/local/lib/python3.7/dist-packages (from ogb) (4.64.0)\n",
            "Requirement already satisfied: urllib3>=1.24.0 in /usr/local/lib/python3.7/dist-packages (from ogb) (1.24.3)\n",
            "Requirement already satisfied: six>=1.12.0 in /usr/local/lib/python3.7/dist-packages (from ogb) (1.15.0)\n",
            "Collecting outdated>=0.2.0\n",
            "  Downloading outdated-0.2.1-py3-none-any.whl (7.5 kB)\n",
            "Requirement already satisfied: torch>=1.6.0 in /usr/local/lib/python3.7/dist-packages (from ogb) (1.11.0+cu113)\n",
            "Requirement already satisfied: pandas>=0.24.0 in /usr/local/lib/python3.7/dist-packages (from ogb) (1.3.5)\n",
            "Requirement already satisfied: scikit-learn>=0.20.0 in /usr/local/lib/python3.7/dist-packages (from ogb) (1.0.2)\n",
            "Requirement already satisfied: numpy>=1.16.0 in /usr/local/lib/python3.7/dist-packages (from ogb) (1.21.6)\n",
            "Requirement already satisfied: requests in /usr/local/lib/python3.7/dist-packages (from outdated>=0.2.0->ogb) (2.23.0)\n",
            "Collecting littleutils\n",
            "  Downloading littleutils-0.2.2.tar.gz (6.6 kB)\n",
            "Requirement already satisfied: python-dateutil>=2.7.3 in /usr/local/lib/python3.7/dist-packages (from pandas>=0.24.0->ogb) (2.8.2)\n",
            "Requirement already satisfied: pytz>=2017.3 in /usr/local/lib/python3.7/dist-packages (from pandas>=0.24.0->ogb) (2022.1)\n",
            "Requirement already satisfied: joblib>=0.11 in /usr/local/lib/python3.7/dist-packages (from scikit-learn>=0.20.0->ogb) (1.1.0)\n",
            "Requirement already satisfied: scipy>=1.1.0 in /usr/local/lib/python3.7/dist-packages (from scikit-learn>=0.20.0->ogb) (1.4.1)\n",
            "Requirement already satisfied: threadpoolctl>=2.0.0 in /usr/local/lib/python3.7/dist-packages (from scikit-learn>=0.20.0->ogb) (3.1.0)\n",
            "Requirement already satisfied: typing-extensions in /usr/local/lib/python3.7/dist-packages (from torch>=1.6.0->ogb) (4.2.0)\n",
            "Requirement already satisfied: idna<3,>=2.5 in /usr/local/lib/python3.7/dist-packages (from requests->outdated>=0.2.0->ogb) (2.10)\n",
            "Requirement already satisfied: chardet<4,>=3.0.2 in /usr/local/lib/python3.7/dist-packages (from requests->outdated>=0.2.0->ogb) (3.0.4)\n",
            "Requirement already satisfied: certifi>=2017.4.17 in /usr/local/lib/python3.7/dist-packages (from requests->outdated>=0.2.0->ogb) (2021.10.8)\n",
            "Building wheels for collected packages: littleutils\n",
            "  Building wheel for littleutils (setup.py) ... \u001b[?25l\u001b[?25hdone\n",
            "  Created wheel for littleutils: filename=littleutils-0.2.2-py3-none-any.whl size=7048 sha256=3f476a10014dfe2a2fd27a561e5d7801320b80858853c09f1d0d929b222a9cb6\n",
            "  Stored in directory: /root/.cache/pip/wheels/d6/64/cd/32819b511a488e4993f2fab909a95330289c3f4e0f6ef4676d\n",
            "Successfully built littleutils\n",
            "Installing collected packages: littleutils, outdated, ogb\n",
            "Successfully installed littleutils-0.2.2 ogb-1.3.3 outdated-0.2.1\n"
          ]
        }
      ]
    },
    {
      "cell_type": "markdown",
      "metadata": {
        "id": "Nwwq0nSdmsOL"
      },
      "source": [
        "# 1 PyTorch Geometric (наборы и формат данных)\n"
      ]
    },
    {
      "cell_type": "markdown",
      "metadata": {
        "id": "Sf7vUmdNKCjA"
      },
      "source": [
        "PyTorch Geometric содержит два класса для хранения и трансформации графов в формат тензоров. Один, `torch_geometric.datasets`, содержит набор общеизвестных наборов графовых данных. Другой - это `torch_geometric.data`, позволяющий работать с графами в тензорах PyTorch.\n",
        "\n",
        "В данной секции мы разберёмся с тем, как использовать `torch_geometric.datasets` и `torch_geometric.data`."
      ]
    },
    {
      "cell_type": "markdown",
      "metadata": {
        "id": "ic-o1P3r6hr2"
      },
      "source": [
        "## Наборы данных PyG\n",
        "\n",
        "Модуль `torch_geometric.datasets` содержит множество общеизвестных наборов графовых данных. Здесь мы ознакомимся с функциональностью на примере данных об энзимах."
      ]
    },
    {
      "cell_type": "code",
      "metadata": {
        "id": "zT5qca3x6XpG",
        "colab": {
          "base_uri": "https://localhost:8080/"
        },
        "outputId": "2fa740ee-09e8-4af1-c666-d395dc0132c2"
      },
      "source": [
        "from torch_geometric.datasets import TUDataset\n",
        "\n",
        "root = './enzymes'\n",
        "name = 'ENZYMES'\n",
        "\n",
        "# Набор данных ENZYMES\n",
        "pyg_dataset= TUDataset('./enzymes', 'ENZYMES')\n",
        "\n",
        "# Как видим, в данном наборе 600 графов\n",
        "print(pyg_dataset)"
      ],
      "execution_count": 3,
      "outputs": [
        {
          "output_type": "stream",
          "name": "stderr",
          "text": [
            "Downloading https://www.chrsmrrs.com/graphkerneldatasets/ENZYMES.zip\n",
            "Extracting enzymes/ENZYMES/ENZYMES.zip\n",
            "Processing...\n"
          ]
        },
        {
          "output_type": "stream",
          "name": "stdout",
          "text": [
            "ENZYMES(600)\n"
          ]
        },
        {
          "output_type": "stream",
          "name": "stderr",
          "text": [
            "Done!\n"
          ]
        }
      ]
    },
    {
      "cell_type": "markdown",
      "metadata": {
        "id": "NLm5vVYMAP2x"
      },
      "source": [
        "## Вопрос 1: Чему равны количество классов и количество свойств набора данных в ENZYMES? (5 баллов)"
      ]
    },
    {
      "cell_type": "code",
      "metadata": {
        "id": "8iF_Kyqr_JbY",
        "colab": {
          "base_uri": "https://localhost:8080/"
        },
        "outputId": "b7f6aff7-6497-466d-b5df-daf39a62abb0"
      },
      "source": [
        "def get_num_classes(pyg_dataset):\n",
        "  # ЗАДАЧА: Реализуйте функцию, принимающую объект набора данных PyG\n",
        "  # и возвращающую количество классов для этого набора данных.\n",
        "\n",
        "  num_classes = 0\n",
        "\n",
        "  ############# Ваш код здесь #############\n",
        "  ## (~1 строчка кода)\n",
        "  ## Обратите внимание\n",
        "  ## (1) Вам может пригодиться функция автодополнения Colab.\n",
        "  num_classes = pyg_dataset.num_classes\n",
        "  #########################################\n",
        "\n",
        "  return num_classes\n",
        "\n",
        "def get_num_features(pyg_dataset):\n",
        "  # ЗАДАЧА: Реализуйте функцию, принимающую объект набора данных PyG\n",
        "  # и возвращающую количество свойств для этого набора данных.\n",
        "\n",
        "  num_features = 0\n",
        "\n",
        "  ############# Ваш код здесь #############\n",
        "  ## (~1 строчка кода)\n",
        "  ## Обратите внимание\n",
        "  ## (1) Вам может пригодиться функция автодополнения Colab.\n",
        "  num_features = pyg_dataset.num_features\n",
        "  #########################################\n",
        "\n",
        "  return num_features\n",
        "\n",
        "# Вы можете обнаружить, что некоторая информация должна храниться на уровне\n",
        "# набора данных, особенно в случаях когда в одном наборе несколько графов\n",
        "\n",
        "num_classes = get_num_classes(pyg_dataset)\n",
        "num_features = get_num_features(pyg_dataset)\n",
        "print(\"{} dataset has {} classes\".format(name, num_classes))\n",
        "print(\"{} dataset has {} features\".format(name, num_features))"
      ],
      "execution_count": 4,
      "outputs": [
        {
          "output_type": "stream",
          "name": "stdout",
          "text": [
            "ENZYMES dataset has 6 classes\n",
            "ENZYMES dataset has 3 features\n"
          ]
        }
      ]
    },
    {
      "cell_type": "markdown",
      "metadata": {
        "id": "rwKbzhHUAckZ"
      },
      "source": [
        "## Данные в PyG\n",
        "\n",
        "Каждый набор данных в PyG обычно содержит список объектов `torch_geometric.data.Data`. Каждый объект `torch_geometric.data.Data` обычно представляет собой граф. Вы можете легко получить объект `Data`, проиндексировав набор данных.\n",
        "\n",
        "Для более подробной информации о том, что может содержать объект `Data`, пожалуйста обратитесь к [документации](https://pytorch-geometric.readthedocs.io/en/latest/modules/data.html#torch_geometric.data.Data)."
      ]
    },
    {
      "cell_type": "markdown",
      "metadata": {
        "id": "7sCV3xJWCddX"
      },
      "source": [
        "## Вопрос 2: Какова метка (label) графа (с индексом 100 в наборе данных ENZYMES)? (5 баллов)"
      ]
    },
    {
      "cell_type": "code",
      "metadata": {
        "id": "LIis9oTZAfs3",
        "colab": {
          "base_uri": "https://localhost:8080/"
        },
        "outputId": "99101948-8612-4746-d58b-639f60a45597"
      },
      "source": [
        "def get_graph_class(pyg_dataset, idx):\n",
        "  # ЗАДАЧА: Реализуйте функцию, принимающую объект набора данных PyG и\n",
        "  # индекс графа в нём, и возвращающую класс/метку графа (целое число).\n",
        "\n",
        "  label = -1\n",
        "\n",
        "  ############# Ваш код здесь #############\n",
        "  ## (~1 строчка кода)\n",
        "  label = pyg_dataset[idx].y.item()\n",
        "  #########################################\n",
        "\n",
        "  return label\n",
        "\n",
        "# Здесь pyg_dataset - набор для классификации графов\n",
        "graph_0 = pyg_dataset[0]\n",
        "print(graph_0)\n",
        "idx = 100\n",
        "label = get_graph_class(pyg_dataset, idx)\n",
        "print('Graph with index {} has label {}'.format(idx, label))"
      ],
      "execution_count": 5,
      "outputs": [
        {
          "output_type": "stream",
          "name": "stdout",
          "text": [
            "Data(edge_index=[2, 168], x=[37, 3], y=[1])\n",
            "Graph with index 100 has label 4\n"
          ]
        }
      ]
    },
    {
      "cell_type": "markdown",
      "metadata": {
        "id": "fKhcVeAhCwoY"
      },
      "source": [
        "## Вопрос 3: Чему равно количество рёбер графа (индекс 200 в наборе данных ENZYMES)? (5 баллов)"
      ]
    },
    {
      "cell_type": "code",
      "metadata": {
        "id": "f5m2DOfhBtWv",
        "colab": {
          "base_uri": "https://localhost:8080/"
        },
        "outputId": "027567cb-7699-4ea8-b4fb-7d748ea064be"
      },
      "source": [
        "def get_graph_num_edges(pyg_dataset, idx):\n",
        "  # ЗАДАЧА: Реализуйте функцию, принимающую объект набора данных PyG и\n",
        "  # индекс графа в нём, и возвращающую количество рёбер графа (целое число).\n",
        "  # Вы не должны считать рёбра дважды для неориентированных графов. Например,\n",
        "  # в неориентированном графе G, если две вершины v и u соединены ребром, \n",
        "  # его должно посчитать лишь раз.\n",
        "\n",
        "  num_edges = 0\n",
        "\n",
        "  ############# Ваш код здесь #############\n",
        "  ## Обратите внимание:\n",
        "  ## (1) Вы не можете вернуть data.num_edges непосредственно\n",
        "  ## (2) Мы полагаем, что граф - неориентированный\n",
        "  ## (~4 строчки кода)\n",
        "  num_edges = pyg_dataset[idx].num_edges // 2\n",
        "  #########################################\n",
        "\n",
        "  return num_edges\n",
        "\n",
        "idx = 200\n",
        "num_edges = get_graph_num_edges(pyg_dataset, idx)\n",
        "print('Graph with index {} has {} edges'.format(idx, num_edges))"
      ],
      "execution_count": 6,
      "outputs": [
        {
          "output_type": "stream",
          "name": "stdout",
          "text": [
            "Graph with index 200 has 53 edges\n"
          ]
        }
      ]
    },
    {
      "cell_type": "markdown",
      "metadata": {
        "id": "AXa7yIG4E0Fp"
      },
      "source": [
        "# 2 Open Graph Benchmark (OGB)\n",
        "\n",
        "Open Graph Benchmark (OGB) - это коллекция реалистичных, масштабных и разнообразных канонических наборов данных для машинного обучения на графах. Наборы данных из неё автоматически загружаются, обрабатываются и разбиваются с помощью OGB Data Loader. Качество модели также может быть оценено с помощью OGB Evaluator унифицированным образом."
      ]
    },
    {
      "cell_type": "markdown",
      "metadata": {
        "id": "HnazPGGAJAZN"
      },
      "source": [
        "## Наборы и формат данных\n",
        "\n",
        "OGB также поддерживает наборы и формат данных PyG. Ознакомимся с содержимым набора данных `ogbn-arxiv`."
      ]
    },
    {
      "cell_type": "code",
      "metadata": {
        "id": "Gpc6bTm3GF02",
        "colab": {
          "base_uri": "https://localhost:8080/"
        },
        "outputId": "db6e2f64-f32c-45df-af7d-99549b6f4e7a"
      },
      "source": [
        "import torch_geometric.transforms as T\n",
        "from ogb.nodeproppred import PygNodePropPredDataset\n",
        "\n",
        "dataset_name = 'ogbn-arxiv'\n",
        "# Загрузим данные и транфсормируем в разреженный тензор\n",
        "dataset = PygNodePropPredDataset(name=dataset_name,\n",
        "                                 transform=T.ToSparseTensor())\n",
        "print('The {} dataset has {} graph'.format(dataset_name, len(dataset)))\n",
        "\n",
        "# Добудем граф\n",
        "data = dataset[0]\n",
        "print(data)"
      ],
      "execution_count": 7,
      "outputs": [
        {
          "output_type": "stream",
          "name": "stdout",
          "text": [
            "Downloading http://snap.stanford.edu/ogb/data/nodeproppred/arxiv.zip\n"
          ]
        },
        {
          "output_type": "stream",
          "name": "stderr",
          "text": [
            "Downloaded 0.08 GB: 100%|██████████| 81/81 [00:09<00:00,  8.65it/s]\n"
          ]
        },
        {
          "output_type": "stream",
          "name": "stdout",
          "text": [
            "Extracting dataset/arxiv.zip\n"
          ]
        },
        {
          "output_type": "stream",
          "name": "stderr",
          "text": [
            "Processing...\n"
          ]
        },
        {
          "output_type": "stream",
          "name": "stdout",
          "text": [
            "Loading necessary files...\n",
            "This might take a while.\n",
            "Processing graphs...\n"
          ]
        },
        {
          "output_type": "stream",
          "name": "stderr",
          "text": [
            "100%|██████████| 1/1 [00:00<00:00, 2247.75it/s]\n"
          ]
        },
        {
          "output_type": "stream",
          "name": "stdout",
          "text": [
            "Converting graphs into PyG objects...\n"
          ]
        },
        {
          "output_type": "stream",
          "name": "stderr",
          "text": [
            "100%|██████████| 1/1 [00:00<00:00, 4871.43it/s]"
          ]
        },
        {
          "output_type": "stream",
          "name": "stdout",
          "text": [
            "Saving...\n"
          ]
        },
        {
          "output_type": "stream",
          "name": "stderr",
          "text": [
            "\n",
            "Done!\n"
          ]
        },
        {
          "output_type": "stream",
          "name": "stdout",
          "text": [
            "The ogbn-arxiv dataset has 1 graph\n",
            "Data(num_nodes=169343, x=[169343, 128], node_year=[169343, 1], y=[169343, 1], adj_t=[169343, 169343, nnz=1166243])\n"
          ]
        }
      ]
    },
    {
      "cell_type": "markdown",
      "metadata": {
        "id": "Cw0xZJKZI-n3"
      },
      "source": [
        "## Вопрос 4: Каково количество свойств в графе ogbn-arxiv? (5 баллов)"
      ]
    },
    {
      "cell_type": "code",
      "metadata": {
        "id": "ZP844_nT2ZJl",
        "colab": {
          "base_uri": "https://localhost:8080/"
        },
        "outputId": "1e424e05-ea7a-4874-8ce8-a2eafde71140"
      },
      "source": [
        "def graph_num_features(data):\n",
        "  # ЗАДАЧА: Реализуйте функцию, принимающую объект набора данных PyG и\n",
        "  # индекс графа в нём, и возвращающую количество свойств графа (целое число).\n",
        "\n",
        "  num_features = 0\n",
        "\n",
        "  ############# Ваш код здесь #############\n",
        "  ## (~1 строчка кода)\n",
        "  num_features = data.num_features\n",
        "  #########################################\n",
        "\n",
        "  return num_features\n",
        "\n",
        "num_features = graph_num_features(data)\n",
        "print('The graph has {} features'.format(num_features))"
      ],
      "execution_count": 8,
      "outputs": [
        {
          "output_type": "stream",
          "name": "stdout",
          "text": [
            "The graph has 128 features\n"
          ]
        }
      ]
    },
    {
      "cell_type": "markdown",
      "metadata": {
        "id": "9DP_yEQZ0NVW"
      },
      "source": [
        "# 3 GNN: Предскажем свойства вершин\n",
        "\n",
        "В данной секции мы построим нашу первую графовую нейронную сеть, используя PyTorch Geometric и применим её к задаче предсказания свойств вершин (node classification).\n",
        "\n",
        "Мы построим эту графовую нейронную сеть, используя оператор свёртки (GCN) ([Kipf et al. (2017)](https://arxiv.org/pdf/1609.02907.pdf)).\n",
        "\n",
        "Вы должны непосредственно использовать встроенный в PyG слой `GCNConv`. "
      ]
    },
    {
      "cell_type": "markdown",
      "metadata": {
        "id": "O4CcOUEoInjD"
      },
      "source": [
        "## Установка"
      ]
    },
    {
      "cell_type": "code",
      "metadata": {
        "id": "-DCtgcHpGIpd",
        "colab": {
          "base_uri": "https://localhost:8080/"
        },
        "outputId": "df2c5805-ebfb-4505-844d-7adb22d199f3"
      },
      "source": [
        "import torch\n",
        "import torch.nn.functional as F\n",
        "print(torch.__version__)\n",
        "\n",
        "# The PyG built-in GCNConv\n",
        "from torch_geometric.nn import GCNConv\n",
        "\n",
        "import torch_geometric.transforms as T\n",
        "from ogb.nodeproppred import PygNodePropPredDataset, Evaluator"
      ],
      "execution_count": 9,
      "outputs": [
        {
          "output_type": "stream",
          "name": "stdout",
          "text": [
            "1.11.0+cu113\n"
          ]
        }
      ]
    },
    {
      "cell_type": "markdown",
      "metadata": {
        "id": "0IK9z0wQIwzQ"
      },
      "source": [
        "## Загрузим и предобработаем набор данных"
      ]
    },
    {
      "cell_type": "code",
      "metadata": {
        "id": "0ibJ0ieoIwQM",
        "colab": {
          "base_uri": "https://localhost:8080/"
        },
        "outputId": "d6d2cb3c-115b-4de0-ba98-77267d6cffc6"
      },
      "source": [
        "dataset_name = 'ogbn-arxiv'\n",
        "dataset = PygNodePropPredDataset(name=dataset_name,\n",
        "                                 transform=T.ToSparseTensor())\n",
        "data = dataset[0]\n",
        "\n",
        "# Сделаем матрицу связности симметричной\n",
        "data.adj_t = data.adj_t.to_symmetric()\n",
        "\n",
        "device = 'cuda' if torch.cuda.is_available() else 'cpu'\n",
        "\n",
        "# Если вы используете GPU, device должен быть cuda\n",
        "print('Device: {}'.format(device))\n",
        "\n",
        "data = data.to(device)\n",
        "split_idx = dataset.get_idx_split()\n",
        "train_idx = split_idx['train'].to(device)"
      ],
      "execution_count": 10,
      "outputs": [
        {
          "output_type": "stream",
          "name": "stdout",
          "text": [
            "Device: cuda\n"
          ]
        }
      ]
    },
    {
      "cell_type": "code",
      "source": [
        "split_idx"
      ],
      "metadata": {
        "colab": {
          "base_uri": "https://localhost:8080/"
        },
        "id": "47t_6wN4DeWI",
        "outputId": "c39a28b5-7c2c-490e-8ff0-c8b33a854b36"
      },
      "execution_count": 11,
      "outputs": [
        {
          "output_type": "execute_result",
          "data": {
            "text/plain": [
              "{'test': tensor([   346,    398,    451,  ..., 169340, 169341, 169342]),\n",
              " 'train': tensor([     0,      1,      2,  ..., 169145, 169148, 169251]),\n",
              " 'valid': tensor([   349,    357,    366,  ..., 169185, 169261, 169296])}"
            ]
          },
          "metadata": {},
          "execution_count": 11
        }
      ]
    },
    {
      "cell_type": "markdown",
      "metadata": {
        "id": "OgUA815bNJ8w"
      },
      "source": [
        "## GCN - графовая свёрточная сеть\n",
        "\n",
        "Теперь мы реализуем нашу модель GCN!\n",
        "\n",
        "Пожалуйста, реализуйте функцию прямого прохода согласно схеме на рисунке.\n",
        "\n",
        "\n",
        "![test](https://drive.google.com/uc?id=128AuYAXNXGg7PIhJJ7e420DoPWKb-RtL)"
      ]
    },
    {
      "cell_type": "code",
      "metadata": {
        "id": "IgspXTYpNJLA"
      },
      "source": [
        "import torch_geometric\n",
        "class GCN(torch.nn.Module):\n",
        "    def __init__(self, input_dim, hidden_dim, output_dim, num_layers,\n",
        "                 dropout, return_embeds=False):\n",
        "        # ЗАДАЧА: Реализуйте функцию, инициализирующую self.convs, \n",
        "        # self.bns и self.softmax.\n",
        "\n",
        "        super(GCN, self).__init__()\n",
        "\n",
        "        # Список слоёв GCNConv\n",
        "        self.convs = None\n",
        "\n",
        "        # Список слоёв 1D batch normalization\n",
        "        self.bns = None\n",
        "\n",
        "        # Слой softmax\n",
        "        self.softmax = None\n",
        "\n",
        "        ############# Ваш код здесь #############\n",
        "        ## Обратите внимание:\n",
        "        ## (1) Вы должны использовать torch.nn.ModuleList для self.convs и self.bns\n",
        "        ## (2) Для self.convs положено num_layers слоёв GCNConv\n",
        "        ## (3) Для self.bns положено num_layers - 1 слоёв BatchNorm1d\n",
        "        ## (4) Вы должны использовать torch.nn.LogSoftmax для self.softmax\n",
        "        ## (5) Параметры, которые вы можете установить для GCNConv, включают\n",
        "        ## 'in_channels' и 'out_channels'. Более подробно можно узнать в документации:\n",
        "        ## https://pytorch-geometric.readthedocs.io/en/latest/modules/nn.html#torch_geometric.nn.conv.GCNConv\n",
        "        ## (6) Единственный параметр, который вам нужно установить для BatchNorm1d - это 'num_features'\n",
        "        ## За более подробной информацией обратитесь к документации:\n",
        "        ## https://pytorch.org/docs/stable/generated/torch.nn.BatchNorm1d.html\n",
        "        ## (~10 строчек кода)\n",
        "        self.convs = torch.nn.ModuleList([GCNConv(input_dim, hidden_dim)] + \\\n",
        "                                         [GCNConv(hidden_dim, hidden_dim) for i in range(num_layers - 2)] +\\\n",
        "                                         [GCNConv(hidden_dim, output_dim)])\n",
        "        self.bns = torch.nn.ModuleList([torch.nn.BatchNorm1d(hidden_dim) for i in range(num_layers - 1)])\n",
        "        self.softmax = torch.nn.LogSoftmax(dim = -1)\n",
        "        #########################################\n",
        "\n",
        "        # Вероятность обнуления элемента\n",
        "        self.dropout = dropout\n",
        "\n",
        "        # Возвращаем эмбеддинги в обход слоя классификатора\n",
        "        self.return_embeds = return_embeds\n",
        "\n",
        "    def reset_parameters(self):\n",
        "        for conv in self.convs:\n",
        "            conv.reset_parameters()\n",
        "        for bn in self.bns:\n",
        "            bn.reset_parameters()\n",
        "\n",
        "    def forward(self, x, adj_t):\n",
        "        # ЗАДАЧА: Реализуйте функцию, принимающую тензор свойств x,\n",
        "        # edge_index тензор adj_t и возвращает выходной тензор как \n",
        "        # показано на рисунке\n",
        "        #\n",
        "        # TODO: Implement this function that takes the feature tensor x,\n",
        "        # edge_index tensor adj_t and returns the output tensor as\n",
        "        # shown in the figure.\n",
        "\n",
        "        out = None\n",
        "\n",
        "        ############# Ваш код здесь #############\n",
        "        ## Обратите внимание:\n",
        "        ## (1) Сконструируйте сеть как показано на рисунке\n",
        "        ## (2) Вам могут пригодиться torch.nn.functional.relu и torch.nn.functional.dropout\n",
        "        ## За подробностями обратитесь к документации:\n",
        "        ## https://pytorch.org/docs/stable/nn.functional.html\n",
        "        ## (3) Не забудьте установить F.dropout training to self.training\n",
        "        ## (4) Если return_embeds - True, тогда пропустите последний слой softmax\n",
        "        ## (~7 строк кода)\n",
        "        for i in range(len(self.bns)):\n",
        "            x = self.convs[i](x, adj_t)\n",
        "            x = self.bns[i](x)\n",
        "            x = F.relu(x)\n",
        "            x = F.dropout(x, p = self.dropout, training = self.training)\n",
        "        x = self.convs[-1](x, adj_t)\n",
        "        if not self.return_embeds: x = self.softmax(x)\n",
        "        out = x\n",
        "        #########################################\n",
        "\n",
        "        return out"
      ],
      "execution_count": 12,
      "outputs": []
    },
    {
      "cell_type": "code",
      "metadata": {
        "id": "FF1hnHUhO81e"
      },
      "source": [
        "def train(model, data, train_idx, optimizer, loss_fn):\n",
        "    # ЗАДАЧА: Реализуйте функцию для обучения модели, использующую  \n",
        "    # заданный оптимизатор optimizer и функцию потерь loss_fn.\n",
        "    model.train()\n",
        "    loss = 0\n",
        "\n",
        "    ############# Ваш код здесь #############\n",
        "    ## Обратите внимание:\n",
        "    ## (1) Обнулите градиенты оптимизатора / Zero grad the optimizer\n",
        "    ## (2) Подайте данные в модель /  Feed the data into the model\n",
        "    ## (3) Разделите выход модели и метки классов / Slicing the model output and label by train_idx\n",
        "    ## (4) Подайте раздельно выход и метки в функцию потерь / Feed the sliced output and label to loss_fn\n",
        "    ## (~4 строчки кода)\n",
        "\n",
        "    #########################################\n",
        "    optimizer.zero_grad()\n",
        "    out = model(data.x, data.adj_t)\n",
        "    out, y = out[train_idx], torch.flatten(data.y[train_idx])\n",
        "    loss = loss_fn(out, y)\n",
        "    loss.backward()\n",
        "    optimizer.step()\n",
        "\n",
        "    return loss.item()"
      ],
      "execution_count": 18,
      "outputs": []
    },
    {
      "cell_type": "code",
      "metadata": {
        "id": "aJdlrJQhPBsK"
      },
      "source": [
        "# Протестируем функцию\n",
        "@torch.no_grad()\n",
        "def test(model, data, split_idx, evaluator):\n",
        "    # ЗАДАЧА: Реализуйте функцию тестирования модели, использующую\n",
        "    # заданные split_idx и evaluator.\n",
        "    model.eval()\n",
        "\n",
        "    # Выход модели на всех данных\n",
        "    out = None\n",
        "\n",
        "    ############# Ваш код здесь #############\n",
        "    ## (~1 строчка кода)\n",
        "    ## Обратите внимание:\n",
        "    ## (1) Не нужно разделять индексы / No index slicing here\n",
        "    out = model(data.x, data.adj_t)\n",
        "\n",
        "    #########################################\n",
        "    y_pred = out.argmax(dim=-1, keepdim=True)\n",
        "\n",
        "    train_acc = evaluator.eval({\n",
        "        'y_true': data.y[split_idx['train']],\n",
        "        'y_pred': y_pred[split_idx['train']],\n",
        "    })['acc']\n",
        "    valid_acc = evaluator.eval({\n",
        "        'y_true': data.y[split_idx['valid']],\n",
        "        'y_pred': y_pred[split_idx['valid']],\n",
        "    })['acc']\n",
        "    test_acc = evaluator.eval({\n",
        "        'y_true': data.y[split_idx['test']],\n",
        "        'y_pred': y_pred[split_idx['test']],\n",
        "    })['acc']\n",
        "\n",
        "    return train_acc, valid_acc, test_acc"
      ],
      "execution_count": 14,
      "outputs": []
    },
    {
      "cell_type": "code",
      "metadata": {
        "id": "o7F46xkuLiOL",
        "colab": {
          "base_uri": "https://localhost:8080/"
        },
        "outputId": "47e58fda-03e9-4d23-a49d-4367e7a64ed7"
      },
      "source": [
        "# Пожалуйста, не меняйте параметры args\n",
        "args = {\n",
        "    'device': device,\n",
        "    'num_layers': 3,\n",
        "    'hidden_dim': 256,\n",
        "    'dropout': 0.5,\n",
        "    'lr': 0.01,\n",
        "    'epochs': 100,\n",
        "}\n",
        "args"
      ],
      "execution_count": 15,
      "outputs": [
        {
          "output_type": "execute_result",
          "data": {
            "text/plain": [
              "{'device': 'cuda',\n",
              " 'dropout': 0.5,\n",
              " 'epochs': 100,\n",
              " 'hidden_dim': 256,\n",
              " 'lr': 0.01,\n",
              " 'num_layers': 3}"
            ]
          },
          "metadata": {},
          "execution_count": 15
        }
      ]
    },
    {
      "cell_type": "code",
      "metadata": {
        "id": "dT8RyM2cPGxM"
      },
      "source": [
        "model = GCN(data.num_features, args['hidden_dim'],\n",
        "            dataset.num_classes, args['num_layers'],\n",
        "            args['dropout']).to(device)\n",
        "evaluator = Evaluator(name='ogbn-arxiv')"
      ],
      "execution_count": 19,
      "outputs": []
    },
    {
      "cell_type": "code",
      "metadata": {
        "id": "qd5O5cnPPdVF"
      },
      "source": [
        "import copy\n",
        "\n",
        "# Сбросим параметры к изначальным псевдослучайным значениям\n",
        "model.reset_parameters()\n",
        "\n",
        "optimizer = torch.optim.Adam(model.parameters(), lr=args['lr'])\n",
        "loss_fn = F.nll_loss\n",
        "\n",
        "best_model = None\n",
        "best_valid_acc = 0\n",
        "\n",
        "for epoch in range(1, 1 + args[\"epochs\"]):\n",
        "  loss = train(model, data, train_idx, optimizer, loss_fn)\n",
        "  result = test(model, data, split_idx, evaluator)\n",
        "  train_acc, valid_acc, test_acc = result\n",
        "  if valid_acc > best_valid_acc:\n",
        "      best_valid_acc = valid_acc\n",
        "      best_model = copy.deepcopy(model)\n",
        "  print(f'Epoch: {epoch:02d}, '\n",
        "        f'Loss: {loss:.4f}, '\n",
        "        f'Train: {100 * train_acc:.2f}%, '\n",
        "        f'Valid: {100 * valid_acc:.2f}% '\n",
        "        f'Test: {100 * test_acc:.2f}%')"
      ],
      "execution_count": null,
      "outputs": []
    },
    {
      "cell_type": "code",
      "metadata": {
        "id": "EqcextqOL2FX",
        "colab": {
          "base_uri": "https://localhost:8080/"
        },
        "outputId": "c3e77b29-669b-478c-c2bc-7a88c2d4e849"
      },
      "source": [
        "best_result = test(best_model, data, split_idx, evaluator)\n",
        "train_acc, valid_acc, test_acc = best_result\n",
        "print(f'Best model: '\n",
        "      f'Train: {100 * train_acc:.2f}%, '\n",
        "      f'Valid: {100 * valid_acc:.2f}% '\n",
        "      f'Test: {100 * test_acc:.2f}%')"
      ],
      "execution_count": 21,
      "outputs": [
        {
          "output_type": "stream",
          "name": "stdout",
          "text": [
            "Best model: Train: 73.25%, Valid: 71.77% Test: 70.72%\n"
          ]
        }
      ]
    },
    {
      "cell_type": "markdown",
      "metadata": {
        "id": "R8pOD6y80TyI"
      },
      "source": [
        "# 4 GNN: Предскажем свойства графа\n",
        "\n",
        "В этой секции мы создадим графовую нейронную сеть для предсказания свойств граф (graph classification)\n"
      ]
    },
    {
      "cell_type": "markdown",
      "metadata": {
        "id": "vRg5VOEdQTa4"
      },
      "source": [
        "## Загрузим и предобработаем набор данных"
      ]
    },
    {
      "cell_type": "code",
      "metadata": {
        "id": "LXb-O5QUIgTH",
        "colab": {
          "base_uri": "https://localhost:8080/"
        },
        "outputId": "d3579ddd-9968-46af-e18c-7689d755fb27"
      },
      "source": [
        "from ogb.graphproppred import PygGraphPropPredDataset, Evaluator\n",
        "from torch_geometric.data import DataLoader\n",
        "from tqdm.notebook import tqdm\n",
        "\n",
        "# Загрузим набор данных \n",
        "dataset = PygGraphPropPredDataset(name='ogbg-molhiv')\n",
        "\n",
        "device = 'cuda' if torch.cuda.is_available() else 'cpu'\n",
        "print('Device: {}'.format(device))\n",
        "\n",
        "split_idx = dataset.get_idx_split()\n",
        "\n",
        "# Проверим тип задачи\n",
        "print('Task type: {}'.format(dataset.task_type))"
      ],
      "execution_count": 22,
      "outputs": [
        {
          "output_type": "stream",
          "name": "stdout",
          "text": [
            "Downloading http://snap.stanford.edu/ogb/data/graphproppred/csv_mol_download/hiv.zip\n"
          ]
        },
        {
          "output_type": "stream",
          "name": "stderr",
          "text": [
            "Downloaded 0.00 GB: 100%|██████████| 3/3 [00:03<00:00,  1.03s/it]\n",
            "Processing...\n"
          ]
        },
        {
          "output_type": "stream",
          "name": "stdout",
          "text": [
            "Extracting dataset/hiv.zip\n",
            "Loading necessary files...\n",
            "This might take a while.\n",
            "Processing graphs...\n"
          ]
        },
        {
          "output_type": "stream",
          "name": "stderr",
          "text": [
            "100%|██████████| 41127/41127 [00:00<00:00, 70287.41it/s]\n"
          ]
        },
        {
          "output_type": "stream",
          "name": "stdout",
          "text": [
            "Converting graphs into PyG objects...\n"
          ]
        },
        {
          "output_type": "stream",
          "name": "stderr",
          "text": [
            "100%|██████████| 41127/41127 [00:01<00:00, 36815.27it/s]\n"
          ]
        },
        {
          "output_type": "stream",
          "name": "stdout",
          "text": [
            "Saving...\n",
            "Device: cuda\n",
            "Task type: binary classification\n"
          ]
        },
        {
          "output_type": "stream",
          "name": "stderr",
          "text": [
            "Done!\n"
          ]
        }
      ]
    },
    {
      "cell_type": "code",
      "metadata": {
        "id": "7cHHbgW1c5hi",
        "colab": {
          "base_uri": "https://localhost:8080/"
        },
        "outputId": "7cf87d8e-03f2-46ae-cd95-63972d501b46"
      },
      "source": [
        "# Загрузим наборы данных в загрузчик\n",
        "# Мы проведём тренировку классификации графов на партии (batch) из 32 графов\n",
        "# Перемешаем порядок графов для обучающей выборки\n",
        "train_loader = DataLoader(dataset[split_idx[\"train\"]], batch_size=32, shuffle=True, num_workers=0)\n",
        "valid_loader = DataLoader(dataset[split_idx[\"valid\"]], batch_size=32, shuffle=False, num_workers=0)\n",
        "test_loader = DataLoader(dataset[split_idx[\"test\"]], batch_size=32, shuffle=False, num_workers=0)"
      ],
      "execution_count": 23,
      "outputs": [
        {
          "output_type": "stream",
          "name": "stderr",
          "text": [
            "/usr/local/lib/python3.7/dist-packages/torch_geometric/deprecation.py:12: UserWarning: 'data.DataLoader' is deprecated, use 'loader.DataLoader' instead\n",
            "  warnings.warn(out)\n"
          ]
        }
      ]
    },
    {
      "cell_type": "code",
      "metadata": {
        "id": "AYrSnOj0Y4DK",
        "colab": {
          "base_uri": "https://localhost:8080/"
        },
        "outputId": "d100e055-0e8d-4696-fea9-819c63b2ae99"
      },
      "source": [
        "# Пожалуйста, не меняйте параметры args\n",
        "args = {\n",
        "    'device': device,\n",
        "    'num_layers': 5,\n",
        "    'hidden_dim': 256,\n",
        "    'dropout': 0.5,\n",
        "    'lr': 0.001,\n",
        "    'epochs': 30,\n",
        "}\n",
        "args"
      ],
      "execution_count": 24,
      "outputs": [
        {
          "output_type": "execute_result",
          "data": {
            "text/plain": [
              "{'device': 'cuda',\n",
              " 'dropout': 0.5,\n",
              " 'epochs': 30,\n",
              " 'hidden_dim': 256,\n",
              " 'lr': 0.001,\n",
              " 'num_layers': 5}"
            ]
          },
          "metadata": {},
          "execution_count": 24
        }
      ]
    },
    {
      "cell_type": "markdown",
      "metadata": {
        "id": "7WLhguSTeazy"
      },
      "source": [
        "## Graph Prediction Model"
      ]
    },
    {
      "cell_type": "markdown",
      "metadata": {
        "id": "u05Z14TRYPGn"
      },
      "source": [
        "Теперь мы реализуем нашу модель, предсказывающую свойства графа!\n",
        "\n",
        "Мы задействуем уже реализованную GCN для производства векторных представлений вершин `node_embeddings` и воспользуемся Global Pooling свойств вершин для предсказания свойств графа."
      ]
    },
    {
      "cell_type": "code",
      "metadata": {
        "id": "3_Kq3zyjeZ22"
      },
      "source": [
        "from ogb.graphproppred.mol_encoder import AtomEncoder\n",
        "from torch_geometric.nn import global_add_pool, global_mean_pool\n",
        "\n",
        "### GCN для предсказания свойств графа\n",
        "class GCN_Graph(torch.nn.Module):\n",
        "    def __init__(self, hidden_dim, output_dim, num_layers, dropout):\n",
        "        super(GCN_Graph, self).__init__()\n",
        "\n",
        "        # Загрузим кодировщики для атомов в графах молекул\n",
        "        self.node_encoder = AtomEncoder(hidden_dim)\n",
        "\n",
        "        # Модель эмбеддингов вершин\n",
        "        # Обратите внимание: input_dim и output_dim установлены как hidden_dim\n",
        "        self.gnn_node = GCN(hidden_dim, hidden_dim,\n",
        "            hidden_dim, num_layers, dropout, return_embeds=True)\n",
        "\n",
        "        self.pool = None\n",
        "\n",
        "        ############# Ваш код здесь #############\n",
        "        ## Обратите внимание:\n",
        "        ## (1) Инициализируйте self.pool как глобальное усреднение / Initialize the self.pool to global mean pooling layer\n",
        "        ## За подробностями обратитесь к документации:\n",
        "        ## https://pytorch-geometric.readthedocs.io/en/latest/modules/nn.html#global-pooling-layers\n",
        "        ## (~1 строчка кода)\n",
        "        self.pool = global_mean_pool\n",
        "        #########################################\n",
        "\n",
        "        # Выходной слой\n",
        "        self.linear = torch.nn.Linear(hidden_dim, output_dim)\n",
        "\n",
        "\n",
        "    def reset_parameters(self):\n",
        "      self.gnn_node.reset_parameters()\n",
        "      self.linear.reset_parameters()\n",
        "\n",
        "    def forward(self, batched_data):\n",
        "        # ЗАДАЧА: Реализуйте функцию, принимающую тензор batched_data,\n",
        "        # возвращающую a batched output tensor для каждого графа.\n",
        "        x, edge_index, batch = batched_data.x, batched_data.edge_index, batched_data.batch\n",
        "        embed = self.node_encoder(x)\n",
        "\n",
        "        out = None\n",
        "\n",
        "        ############# Ваш код здесь #############\n",
        "        ## Обратите внимание:\n",
        "        ## (1) Постройте эмбеддирнги вершин, искользуя существующую модель GCN\n",
        "        ## (2) Используйте слой global pooling для создания свойств графа\n",
        "        ## За подробностями обратитесь к документации:\n",
        "        ## https://pytorch-geometric.readthedocs.io/en/latest/modules/nn.html#global-pooling-layers\n",
        "        ## (3) Используйте линейный слой для предсказания свойств графа \n",
        "        ## (~3 строчки кода)\n",
        "        embed = self.gnn_node(embed, edge_index)\n",
        "        embed = self.pool(embed, batch)\n",
        "        out = self.linear(embed)\n",
        "        #########################################\n",
        "\n",
        "        return out"
      ],
      "execution_count": 29,
      "outputs": []
    },
    {
      "cell_type": "code",
      "metadata": {
        "id": "FJjnGuMSbjX0"
      },
      "source": [
        "def train(model, device, data_loader, optimizer, loss_fn):\n",
        "    # ЗАДАЧА: Реализуйте функцию, обучающую модель,\n",
        "    # используя заданные optimizer и loss_fn.\n",
        "    model.train()\n",
        "    loss = 0\n",
        "\n",
        "    for step, batch in enumerate(tqdm(data_loader, desc=\"Iteration\")):\n",
        "      batch = batch.to(device)\n",
        "\n",
        "      if batch.x.shape[0] == 1 or batch.batch[-1] == 0:\n",
        "          pass\n",
        "      else:\n",
        "        ## игнорирурем nan метки классов (неразмеченные) для вычисления функции потерь (training loss)\n",
        "        is_labeled = batch.y == batch.y\n",
        "\n",
        "        ############# Ваш код здесь #############\n",
        "        ## Обратите внимание:\n",
        "        ## (1) Обнулите градиенты оптимизатора / Zero grad the optimizer\n",
        "        ## (2) Загрузите данные в модель / Feed the data into the model\n",
        "        ## (3) Используйте маску `is_labeled` для фильтрации выхода и меток / Use `is_labeled` mask to filter output and labels\n",
        "        ## (4) Вы можете изменить тип мметок / You might change the type of label\n",
        "        ## (5) Отправьте выход и метки в функцию потерь / Feed the output and label to loss_fn\n",
        "        ## (~3 строчки кода)\n",
        "        optimizer.zero_grad()\n",
        "        out = model(batch)\n",
        "        loss = loss_fn(out[is_labeled], batch.y[is_labeled].float())\n",
        "        #########################################\n",
        "\n",
        "        loss.backward()\n",
        "        optimizer.step()\n",
        "\n",
        "    return loss.item()"
      ],
      "execution_count": 25,
      "outputs": []
    },
    {
      "cell_type": "code",
      "metadata": {
        "id": "ztPHXq_Gzn7U"
      },
      "source": [
        "# The evaluation function\n",
        "def eval(model, device, loader, evaluator):\n",
        "    model.eval()\n",
        "    y_true = []\n",
        "    y_pred = []\n",
        "\n",
        "    for step, batch in enumerate(tqdm(loader, desc=\"Iteration\")):\n",
        "        batch = batch.to(device)\n",
        "\n",
        "        if batch.x.shape[0] == 1:\n",
        "            pass\n",
        "        else:\n",
        "            with torch.no_grad():\n",
        "                pred = model(batch)\n",
        "\n",
        "            y_true.append(batch.y.view(pred.shape).detach().cpu())\n",
        "            y_pred.append(pred.detach().cpu())\n",
        "\n",
        "    y_true = torch.cat(y_true, dim = 0).numpy()\n",
        "    y_pred = torch.cat(y_pred, dim = 0).numpy()\n",
        "\n",
        "    input_dict = {\"y_true\": y_true, \"y_pred\": y_pred}\n",
        "\n",
        "    return evaluator.eval(input_dict)"
      ],
      "execution_count": 26,
      "outputs": []
    },
    {
      "cell_type": "code",
      "metadata": {
        "id": "MR1wQ4hMZeMw"
      },
      "source": [
        "model = GCN_Graph(args['hidden_dim'],\n",
        "            dataset.num_tasks, args['num_layers'],\n",
        "            args['dropout']).to(device)\n",
        "evaluator = Evaluator(name='ogbg-molhiv')"
      ],
      "execution_count": 30,
      "outputs": []
    },
    {
      "cell_type": "code",
      "metadata": {
        "id": "qJGTNZiuZy0A"
      },
      "source": [
        "import copy\n",
        "\n",
        "model.reset_parameters()\n",
        "\n",
        "optimizer = torch.optim.Adam(model.parameters(), lr=args['lr'])\n",
        "loss_fn = torch.nn.BCEWithLogitsLoss()\n",
        "\n",
        "best_model = None\n",
        "best_valid_acc = 0\n",
        "\n",
        "for epoch in range(1, 1 + args[\"epochs\"]):\n",
        "  print('Training...')\n",
        "  loss = train(model, device, train_loader, optimizer, loss_fn)\n",
        "\n",
        "  print('Evaluating...')\n",
        "  train_result = eval(model, device, train_loader, evaluator)\n",
        "  val_result = eval(model, device, valid_loader, evaluator)\n",
        "  test_result = eval(model, device, test_loader, evaluator)\n",
        "\n",
        "  train_acc, valid_acc, test_acc = train_result[dataset.eval_metric], val_result[dataset.eval_metric], test_result[dataset.eval_metric]\n",
        "  if valid_acc > best_valid_acc:\n",
        "      best_valid_acc = valid_acc\n",
        "      best_model = copy.deepcopy(model)\n",
        "  print(f'Epoch: {epoch:02d}, '\n",
        "        f'Loss: {loss:.4f}, '\n",
        "        f'Train: {100 * train_acc:.2f}%, '\n",
        "        f'Valid: {100 * valid_acc:.2f}% '\n",
        "        f'Test: {100 * test_acc:.2f}%')"
      ],
      "execution_count": null,
      "outputs": []
    },
    {
      "cell_type": "code",
      "metadata": {
        "id": "Oq5QaG21dOOO",
        "colab": {
          "base_uri": "https://localhost:8080/",
          "height": 130,
          "referenced_widgets": [
            "4a2fb7934cdc46268fa1cfdbe00fa1bc",
            "11cb7cb01cce4713b64956df0557c1a6",
            "79b77e05881f44c6b8a6f778694af3cf",
            "5c0c81ab16254b198a85de020e207bfb",
            "04bb5f2c8b9d4050a6afcca4d4eb29cf",
            "b3d6270e1ceb4f908321cc1fa33837a6",
            "6091b42645ae4dfd85df319aceeaa638",
            "6d52197f4947408ea5090265b1cd5cd1",
            "9a9608630ecc410db6d58b67d8b143ed",
            "3a89a067810c4c7d9e6b94d11537e61d",
            "b9f98f711f3c4071b4addf01748fb396",
            "6fe2d9971c2e48a3be560cd8356fba3e",
            "5569b04f2c2f429f97c50d64424201c7",
            "b36d31a332bf43f78bc4be88af2dc083",
            "8903b0aa264e4325b38c306a51332e7d",
            "f922985ba5ba43188214cb7284ade771",
            "7d9bd2b9ba3b4478aeaf1064ccc24bc7",
            "1483af74c86344eab76f0a6e86a67769",
            "4c0269049f074521a6d3a5981742279f",
            "9487863ad83a4df28941fe1ae7be71e0",
            "40bc878366c14812b4056c3f5bc60668",
            "dc69ba32b22244b8bffb62e4872e15bd",
            "c6ac422cf56c4653a8a97d4fc54ba8d2",
            "2364aec5c82a4a4bbb95a374b5c6b106",
            "4518e26584d04b528756b60287211cd7",
            "bbb2ad245c254e6995320f2236f8f6b5",
            "54555da157b944288085dba07ff4c257",
            "9261b168c7cb4e22ad23d872dde3cc5c",
            "4e1cd87442234f2ba3b68c51dd7bc91d",
            "7b47101d9bb94760a97d67c53b1868ae",
            "b192a5b853394d779b6842abc44c277e",
            "23154b7cd52c4a67bdbd20767801d538",
            "e0124ff37c094f9e9dd9d10bffd31a3b"
          ]
        },
        "outputId": "88cb4974-4bb2-4050-c39a-a5e2a70a126d"
      },
      "source": [
        "train_acc = eval(best_model, device, train_loader, evaluator)[dataset.eval_metric]\n",
        "valid_acc = eval(best_model, device, valid_loader, evaluator)[dataset.eval_metric]\n",
        "test_acc = eval(best_model, device, test_loader, evaluator)[dataset.eval_metric]\n",
        "\n",
        "print(f'Best model: '\n",
        "      f'Train: {100 * train_acc:.2f}%, '\n",
        "      f'Valid: {100 * valid_acc:.2f}% '\n",
        "      f'Test: {100 * test_acc:.2f}%')"
      ],
      "execution_count": 32,
      "outputs": [
        {
          "output_type": "display_data",
          "data": {
            "text/plain": [
              "Iteration:   0%|          | 0/1029 [00:00<?, ?it/s]"
            ],
            "application/vnd.jupyter.widget-view+json": {
              "version_major": 2,
              "version_minor": 0,
              "model_id": "4a2fb7934cdc46268fa1cfdbe00fa1bc"
            }
          },
          "metadata": {}
        },
        {
          "output_type": "display_data",
          "data": {
            "text/plain": [
              "Iteration:   0%|          | 0/129 [00:00<?, ?it/s]"
            ],
            "application/vnd.jupyter.widget-view+json": {
              "version_major": 2,
              "version_minor": 0,
              "model_id": "6fe2d9971c2e48a3be560cd8356fba3e"
            }
          },
          "metadata": {}
        },
        {
          "output_type": "display_data",
          "data": {
            "text/plain": [
              "Iteration:   0%|          | 0/129 [00:00<?, ?it/s]"
            ],
            "application/vnd.jupyter.widget-view+json": {
              "version_major": 2,
              "version_minor": 0,
              "model_id": "c6ac422cf56c4653a8a97d4fc54ba8d2"
            }
          },
          "metadata": {}
        },
        {
          "output_type": "stream",
          "name": "stdout",
          "text": [
            "Best model: Train: 81.98%, Valid: 79.38% Test: 73.29%\n"
          ]
        }
      ]
    }
  ]
}