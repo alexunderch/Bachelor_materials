{
  "nbformat": 4,
  "nbformat_minor": 0,
  "metadata": {
    "accelerator": "GPU",
    "colab": {
      "name": "KG2021RU_(CS224W_Colab_3) (DONE).ipynb",
      "provenance": [],
      "collapsed_sections": [],
      "machine_shape": "hm",
      "include_colab_link": true
    },
    "kernelspec": {
      "display_name": "Python 3",
      "language": "python",
      "name": "python3"
    },
    "language_info": {
      "codemirror_mode": {
        "name": "ipython",
        "version": 3
      },
      "file_extension": ".py",
      "mimetype": "text/x-python",
      "name": "python",
      "nbconvert_exporter": "python",
      "pygments_lexer": "ipython3",
      "version": "3.7.3"
    }
  },
  "cells": [
    {
      "cell_type": "markdown",
      "metadata": {
        "id": "view-in-github",
        "colab_type": "text"
      },
      "source": [
        "<a href=\"https://colab.research.google.com/github/alexunderch/Bachelor_materials/blob/main/KG_course_ods/hws/KG2021RU_(CS224W_Colab_3)_(DONE).ipynb\" target=\"_parent\"><img src=\"https://colab.research.google.com/assets/colab-badge.svg\" alt=\"Open In Colab\"/></a>"
      ]
    },
    {
      "cell_type": "markdown",
      "metadata": {
        "id": "XuXWJLEm2UWS"
      },
      "source": [
        "![](https://habrastorage.org/webt/wm/bs/md/wmbsmdxsduiamoki0tpt8vgfvvq.png)\n",
        "\n",
        "# Заимствовано с гордостью!\n",
        "перевод публично доступных [материалов](https://colab.research.google.com/drive/1AjLbfuz9qXE5yglPOifUKhOHkzAuHmOF?usp=sharing#scrollTo=8gzsP50bF6Gb) курса [cs224w](http://web.stanford.edu/class/cs224w/)\n",
        "\n",
        "# **CS224W - Colab 3**"
      ]
    },
    {
      "cell_type": "markdown",
      "metadata": {
        "id": "8gzsP50bF6Gb"
      },
      "source": [
        "В предыдущем блокнотике мы сконструировали графовую нейронную сеть с помощью встроенного в PyTorch Geometric слоя GCN - `GCNConv`. В этом блокнотике мы реализуем архитектуры **GraphSAGE** ([Hamilton et al. (2017)](https://arxiv.org/abs/1706.02216)) и **GAT** ([Veličković et al. (2018)](https://arxiv.org/abs/1710.10903)). Затем скормим нашим сетям набор данных CORA, стандартный тест для сетей цитирования.\n",
        "\n",
        "Затем воспользуемся [DeepSNAP](https://snap.stanford.edu/deepsnap/), библиотекой Python, помогающей эффективно обучать глубокие модели на графах в разнообразных условиях и применять трансформации к данным.\n",
        "\n",
        "Наконец, с помощью функционала DeepSNAP для трансдуктивного разбиения рёбер, сконструируем простую графовую нейронную сеть для предсказания свойств рёбер(задача предсказания связей или link prediction).\n",
        "\n",
        "**Обратите внимание**:  \n",
        "Убедитесь в том, чтобы **последовательно запускать все ячейки с кодом в рамках каждой секции**, таким образом промежуточные переменные будут переданы в последующую ячейку.\n",
        "\n",
        "Развлекайтесь с Colab 3 :)"
      ]
    },
    {
      "cell_type": "markdown",
      "metadata": {
        "id": "MSaetj53YnT6"
      },
      "source": [
        "# Устройство\n",
        "Вам может потребоваться графический ускоритель для этого блокнота.\n",
        "\n",
        "Пожалуйста выберите `Среда выполенения (Runtime)` и затем `Сменить среду выполенения (Change runtime type)`. Выберите **GPU** для `Аппаратный ускоритель (hardware accelerator)`."
      ]
    },
    {
      "cell_type": "markdown",
      "metadata": {
        "id": "67gOQITlCNQi"
      },
      "source": [
        "# Установка"
      ]
    },
    {
      "cell_type": "code",
      "metadata": {
        "id": "J_m9l6OYCQZP",
        "colab": {
          "base_uri": "https://localhost:8080/"
        },
        "outputId": "3627e2cd-7a38-4793-8e3f-61456af65fe8"
      },
      "source": [
        "# !pip install -q torch-scatter -f https://pytorch-geometric.com/whl/torch-1.7.0+cu101.html\n",
        "# !pip install -q torch-sparse -f https://pytorch-geometric.com/whl/torch-1.7.0+cu101.html\n",
        "# !pip install -q torch-geometric\n",
        "!pip install torch-scatter torch-sparse torch-cluster torch-spline-conv torch-geometric -f https://data.pyg.org/whl/torch-1.11.0+cu113.html\n",
        "!pip install -q git+https://github.com/snap-stanford/deepsnap.git"
      ],
      "execution_count": 1,
      "outputs": [
        {
          "output_type": "stream",
          "name": "stdout",
          "text": [
            "Looking in links: https://data.pyg.org/whl/torch-1.11.0+cu113.html\n",
            "Collecting torch-scatter\n",
            "  Downloading https://data.pyg.org/whl/torch-1.11.0%2Bcu113/torch_scatter-2.0.9-cp37-cp37m-linux_x86_64.whl (7.9 MB)\n",
            "\u001b[K     |████████████████████████████████| 7.9 MB 12.4 MB/s \n",
            "\u001b[?25hCollecting torch-sparse\n",
            "  Downloading https://data.pyg.org/whl/torch-1.11.0%2Bcu113/torch_sparse-0.6.13-cp37-cp37m-linux_x86_64.whl (3.5 MB)\n",
            "\u001b[K     |████████████████████████████████| 3.5 MB 43.7 MB/s \n",
            "\u001b[?25hCollecting torch-cluster\n",
            "  Downloading https://data.pyg.org/whl/torch-1.11.0%2Bcu113/torch_cluster-1.6.0-cp37-cp37m-linux_x86_64.whl (2.5 MB)\n",
            "\u001b[K     |████████████████████████████████| 2.5 MB 35.3 MB/s \n",
            "\u001b[?25hCollecting torch-spline-conv\n",
            "  Downloading https://data.pyg.org/whl/torch-1.11.0%2Bcu113/torch_spline_conv-1.2.1-cp37-cp37m-linux_x86_64.whl (750 kB)\n",
            "\u001b[K     |████████████████████████████████| 750 kB 40.6 MB/s \n",
            "\u001b[?25hCollecting torch-geometric\n",
            "  Downloading torch_geometric-2.0.4.tar.gz (407 kB)\n",
            "\u001b[K     |████████████████████████████████| 407 kB 12.2 MB/s \n",
            "\u001b[?25hRequirement already satisfied: scipy in /usr/local/lib/python3.7/dist-packages (from torch-sparse) (1.4.1)\n",
            "Requirement already satisfied: tqdm in /usr/local/lib/python3.7/dist-packages (from torch-geometric) (4.64.0)\n",
            "Requirement already satisfied: numpy in /usr/local/lib/python3.7/dist-packages (from torch-geometric) (1.21.6)\n",
            "Requirement already satisfied: pandas in /usr/local/lib/python3.7/dist-packages (from torch-geometric) (1.3.5)\n",
            "Requirement already satisfied: jinja2 in /usr/local/lib/python3.7/dist-packages (from torch-geometric) (2.11.3)\n",
            "Requirement already satisfied: requests in /usr/local/lib/python3.7/dist-packages (from torch-geometric) (2.23.0)\n",
            "Requirement already satisfied: pyparsing in /usr/local/lib/python3.7/dist-packages (from torch-geometric) (3.0.8)\n",
            "Requirement already satisfied: scikit-learn in /usr/local/lib/python3.7/dist-packages (from torch-geometric) (1.0.2)\n",
            "Requirement already satisfied: MarkupSafe>=0.23 in /usr/local/lib/python3.7/dist-packages (from jinja2->torch-geometric) (2.0.1)\n",
            "Requirement already satisfied: python-dateutil>=2.7.3 in /usr/local/lib/python3.7/dist-packages (from pandas->torch-geometric) (2.8.2)\n",
            "Requirement already satisfied: pytz>=2017.3 in /usr/local/lib/python3.7/dist-packages (from pandas->torch-geometric) (2022.1)\n",
            "Requirement already satisfied: six>=1.5 in /usr/local/lib/python3.7/dist-packages (from python-dateutil>=2.7.3->pandas->torch-geometric) (1.15.0)\n",
            "Requirement already satisfied: certifi>=2017.4.17 in /usr/local/lib/python3.7/dist-packages (from requests->torch-geometric) (2021.10.8)\n",
            "Requirement already satisfied: urllib3!=1.25.0,!=1.25.1,<1.26,>=1.21.1 in /usr/local/lib/python3.7/dist-packages (from requests->torch-geometric) (1.24.3)\n",
            "Requirement already satisfied: idna<3,>=2.5 in /usr/local/lib/python3.7/dist-packages (from requests->torch-geometric) (2.10)\n",
            "Requirement already satisfied: chardet<4,>=3.0.2 in /usr/local/lib/python3.7/dist-packages (from requests->torch-geometric) (3.0.4)\n",
            "Requirement already satisfied: threadpoolctl>=2.0.0 in /usr/local/lib/python3.7/dist-packages (from scikit-learn->torch-geometric) (3.1.0)\n",
            "Requirement already satisfied: joblib>=0.11 in /usr/local/lib/python3.7/dist-packages (from scikit-learn->torch-geometric) (1.1.0)\n",
            "Building wheels for collected packages: torch-geometric\n",
            "  Building wheel for torch-geometric (setup.py) ... \u001b[?25l\u001b[?25hdone\n",
            "  Created wheel for torch-geometric: filename=torch_geometric-2.0.4-py3-none-any.whl size=616603 sha256=bfc1e92cbb4d45e4d9f7cbf2490f6d1aac74a27ecd647d81d04483c14f31b45c\n",
            "  Stored in directory: /root/.cache/pip/wheels/18/a6/a4/ca18c3051fcead866fe7b85700ee2240d883562a1bc70ce421\n",
            "Successfully built torch-geometric\n",
            "Installing collected packages: torch-spline-conv, torch-sparse, torch-scatter, torch-geometric, torch-cluster\n",
            "Successfully installed torch-cluster-1.6.0 torch-geometric-2.0.4 torch-scatter-2.0.9 torch-sparse-0.6.13 torch-spline-conv-1.2.1\n",
            "  Building wheel for deepsnap (setup.py) ... \u001b[?25l\u001b[?25hdone\n"
          ]
        }
      ]
    },
    {
      "cell_type": "code",
      "metadata": {
        "id": "PRfgbfTjCRD_",
        "colab": {
          "base_uri": "https://localhost:8080/",
          "height": 35
        },
        "outputId": "0f17733c-91a7-4463-ac6d-60910ec66b8c"
      },
      "source": [
        "import torch_geometric\n",
        "torch_geometric.__version__"
      ],
      "execution_count": 2,
      "outputs": [
        {
          "output_type": "execute_result",
          "data": {
            "text/plain": [
              "'2.0.4'"
            ],
            "application/vnd.google.colaboratory.intrinsic+json": {
              "type": "string"
            }
          },
          "metadata": {},
          "execution_count": 2
        }
      ]
    },
    {
      "cell_type": "markdown",
      "metadata": {
        "id": "ZoXlf4MtYrbz"
      },
      "source": [
        "# 1 Слои GNN"
      ]
    },
    {
      "cell_type": "markdown",
      "metadata": {
        "id": "TQy2RBfgYut4"
      },
      "source": [
        "## Реализация модулей слоёв\n",
        "\n",
        "В colab 2 мы реализовали сеть, использовав GCN для задач классификации вершин и графов. Однако, сам модуль GCN - часть официальной библиотеки. Для данной задачи мы предоставим вам конструкцию общего назначения - Graph Neural Network Stack, в которую можно подключить ваши собственные модули GraphSAGE и GAT. Мы применим нашу реализацию к классификации вершин на стандартном наборе данных цитирования CORA. В этом наборе данных вершины соответствуют документам и рёбра отражают неориентированные цитаты. Каждой вершине назначена метка класса. Свойства вершины - представление содержимого в виде мешка слов (bag-or-words). В наборе данных CORA 2708 вершин, 5429 рёбер, 7 классов для вершин и 1433 признака на вершину."
      ]
    },
    {
      "cell_type": "markdown",
      "metadata": {
        "id": "H4ne6Gw-CT5G"
      },
      "source": [
        "## GNN Stack Module\n",
        "\n",
        "Ниже представлена реализация обобщённого модуля графовой нейронной сети, в который можно подключать любые слои, включая **GraphSage**, **GAT**, и пр. Данный модуль предоставлен для вашего удобства и ваша реализация слоёв **GraphSage** и **GAT** будет работать как подключаемые компоненты в GNNStack Module."
      ]
    },
    {
      "cell_type": "code",
      "metadata": {
        "id": "Ys8vZAFPCWWe"
      },
      "source": [
        "import torch\n",
        "import torch_scatter\n",
        "import torch.nn as nn\n",
        "import torch.nn.functional as F\n",
        "\n",
        "import torch_geometric.nn as pyg_nn\n",
        "import torch_geometric.utils as pyg_utils\n",
        "\n",
        "from torch import Tensor\n",
        "from typing import Union, Tuple, Optional\n",
        "from torch_geometric.typing import (OptPairTensor, Adj, Size, NoneType,\n",
        "                                    OptTensor)\n",
        "\n",
        "from torch.nn import Parameter, Linear\n",
        "from torch_sparse import SparseTensor, set_diag\n",
        "from torch_geometric.nn.conv import MessagePassing\n",
        "from torch_geometric.utils import remove_self_loops, add_self_loops, softmax\n",
        "\n",
        "class GNNStack(torch.nn.Module):\n",
        "    def __init__(self, input_dim, hidden_dim, output_dim, args, emb=False):\n",
        "        super(GNNStack, self).__init__()\n",
        "        conv_model = self.build_conv_model(args.model_type)\n",
        "        self.convs = nn.ModuleList()\n",
        "        self.convs.append(conv_model(input_dim, hidden_dim))\n",
        "        assert (args.num_layers >= 1), 'Number of layers is not >=1'\n",
        "        for l in range(args.num_layers-1):\n",
        "            self.convs.append(conv_model(args.heads * hidden_dim, hidden_dim))\n",
        "\n",
        "        # post-message-passing\n",
        "        self.post_mp = nn.Sequential(\n",
        "            nn.Linear(args.heads * hidden_dim, hidden_dim), nn.Dropout(args.dropout), \n",
        "            nn.Linear(hidden_dim, output_dim))\n",
        "\n",
        "        self.dropout = args.dropout\n",
        "        self.num_layers = args.num_layers\n",
        "\n",
        "        self.emb = emb\n",
        "\n",
        "    def build_conv_model(self, model_type):\n",
        "        if model_type == 'GraphSage': return GraphSage\n",
        "        elif model_type == 'GAT':\n",
        "            # When applying GAT with num heads > 1, one needs to modify the \n",
        "            # input and output dimension of the conv layers (self.convs),\n",
        "            # to ensure that the input dim of the next layer is num heads\n",
        "            # multiplied by the output dim of the previous layer.\n",
        "            # HINT: In case you want to play with multiheads, you need to change the for-loop when builds up self.convs to be\n",
        "            # self.convs.append(conv_model(hidden_dim * num_heads, hidden_dim)), \n",
        "            # and also the first nn.Linear(hidden_dim * num_heads, hidden_dim) in post-message-passing.\n",
        "            return GAT\n",
        "\n",
        "    def forward(self, data):\n",
        "        x, edge_index, batch = data.x, data.edge_index, data.batch\n",
        "          \n",
        "        for i in range(self.num_layers):\n",
        "            x = self.convs[i](x, edge_index)\n",
        "            x = F.relu(x)\n",
        "            x = F.dropout(x, p=self.dropout)\n",
        "\n",
        "        x = self.post_mp(x)\n",
        "\n",
        "        if self.emb == True:\n",
        "            return x\n",
        "\n",
        "        return F.log_softmax(x, dim=1)\n",
        "\n",
        "    def loss(self, pred, label): return F.nll_loss(pred, label)"
      ],
      "execution_count": 3,
      "outputs": []
    },
    {
      "cell_type": "markdown",
      "metadata": {
        "id": "syDtxjxoCZgq"
      },
      "source": [
        "## GraphSage - реализация\n",
        "\n",
        "Приступим к реализации слоёв! В данной части вы ознакомитесь с тем, как реализовать слой в PyTorch, основанный на передаче сообщений (Message Passing). Вы реализуете функции **forward**, **message** и **aggregate**.\n",
        "\n",
        "В общем, функция **forward** - выполняет непосредственно передачу сообщений. Вся логика на каждой итерации происходит в **forward**, в которой вызывается функция **propagate** для передачи информации от соседей центральной вершине. Общая парадигма: pre-processing -> propagate -> post-processing.\n",
        "\n",
        "Вспомните процесс передачи сообщений, рассмотренный в homework 1 (возможно, когда-то будет доступна широкой публике). Затем **propagate** вызывает функции **message**, которая трансформирует информацию от соседей в сообщения, **aggregate**, которая аггрегирует все сообщения от соседних вершин в одну, и  **update**, которая создаёт эмбеддинги вершин в следующей итерации.\n",
        "\n",
        "Наша реализация несколько отличается от описанной и мы не будем явно реализовывать **update**, но вынесем логику обновления вершин в функцию **forward**. Более конкретно, после того, как информация передана, мы можем произвести некоторые операции на выходе из **propagate**. Выход **forward** - это эмбеддинги после текущей итерации.\n",
        "\n",
        "Кроме того, тензоры, отправленные в **propagate()** можно сопоставить с вершинами $i$ и $j$, добавляя _i или _j к имени переменной, например, x_i и x_j. Обратите внимание, мы в общем случае обозначаем $i$ как центральные вершины, аггрегирующие информацию и $j$ - соседние вершины, следуя наиболее распространённой нотации.\n",
        "\n",
        "Пожалуйста, обратитесь к комментариям для более подробных инструкций. Также стоит упомянуть, что мы добавим **skip connections** нашей GraphSage. Фомально, правило обновления примет следующий вид:\n",
        "\n",
        "\\begin{equation}\n",
        "h_v^{(l)} = W_l\\cdot h_v^{(l-1)} + W_r \\cdot AGG(\\{h_u^{(l-1)}, \\forall u \\in N(v) \\})\n",
        "\\end{equation}\n",
        "\n",
        "Для простоты мы используем аггрегацию усреднением (mean aggregations), где:\n",
        "\n",
        "\\begin{equation}\n",
        "AGG(\\{h_u^{(l-1)}, \\forall u \\in N(v) \\}) = \\frac{1}{|N(v)|} \\sum_{u\\in N(v)} h_u^{(l-1)}\n",
        "\\end{equation}\n",
        "\n",
        "Кроме того, после каждой итерации мы применим $\\ell$-2 нормализацию.\n",
        "\n",
        "Для того, чтобы выполнить задание корректно, нам следует понимать как взаимодействуют между собой различные функции. В **propagate** мы можем отправить какие угодно параметры. Например, подадим на вход $x$:\n",
        "\n",
        "... = propagate(..., $x$=($x_{central}$, $x_{neighbor}$), ...)\n",
        "\n",
        "Здесь $x_{central}$ и $x_{neighbor}$ представляют собой свойства **цнтральных** вершин и **соседних** (или инцидентных им) вершин. Если мы будем использовать одинаковое представление от центральных и соседних вершин, тогда $x_{central}$ и $x_{neighbor}$ могут быть идентичны.\n",
        "\n",
        "Предположим, $x_{central}$ и $x_{neighbor}$ одной размерности N * d, где N - количество вершин, а d - размерность вектора свойств вершины.\n",
        "\n",
        "Тогда в функцию сообщений (message function) мы сможем принять параметры $x\\_i$ и $x\\_j$. Обыкновенно $x\\_i$ обозначает \"центральные вершины\", а $x\\_j$ - \"соседние вершины\". Обратите внимание на размерность: $x\\_i$ и $x\\_j$ - одинаковой размерности E * d (**не N!**). $x\\_i$ получается конкатенацией эмбеддингов центральных вершин для всех рёбер через таблицу соответствия (lookup) из $x_{central}$ мы отправили в propagate. Подобным образом, $x\\_j$ получается конкатенацией эмбеддингов соседних вершин всех рёбер сопоставлением из таблицы соответствия (lookup) $x_{neighbor}$, отправленных в propagate.\n",
        "\n",
        "Рассмотрим пример. Пусть у нас 4 вершины, таким образом $x_{central}$ и $x_{neighbor}$ иеют размерность 4 * d. У нас два ребра (1, 2) и (3, 0). Таким образом, $x\\_i$ получается как $[x_{central}[1]^T; x_{central}[3]^T]^T$, и $x\\_j$ получается как $[x_{neighbor}[2]^T; x_{neighbor}[0]^T]^T$\n",
        "\n",
        "<font color='red'>Для последующих вопросов НЕ используйте никакие из публично доступных вариантов реализации.</font>"
      ]
    },
    {
      "cell_type": "code",
      "metadata": {
        "id": "RwG4HqCFCaOD"
      },
      "source": [
        "class GraphSage(MessagePassing):\n",
        "    \n",
        "    def __init__(self, in_channels, out_channels, normalize = True,\n",
        "                 bias = False, **kwargs):  \n",
        "        super(GraphSage, self).__init__(**kwargs)\n",
        "\n",
        "        self.in_channels = in_channels\n",
        "        self.out_channels = out_channels\n",
        "        self.normalize = normalize\n",
        "\n",
        "        self.lin_l = None\n",
        "        self.lin_r = None\n",
        "\n",
        "        ############################################################################\n",
        "        # ЗАДАЧА: Ваш код здесь!\n",
        "        # Реализйте слои, необходимые для функций message и update. \n",
        "        # self.lin_l - это линейная трансформация, которую вы примените к эмбеддингам\n",
        "        #              для центральной вершины.\n",
        "        # self.lin_r - это линейная трансформация, которую вы примените к аггрегированным\n",
        "        #              сообщениям от соседей.\n",
        "        # Наша реализация ~2 строки кода, но не волнуйтесь, если ваша будет отличаться.\n",
        "        self.lin_l = torch.nn.Linear(in_channels, out_channels, bias = bias)\n",
        "        self.lin_r = torch.nn.Linear(in_channels, out_channels, bias = bias) #one dimension\n",
        "        ############################################################################\n",
        "\n",
        "        self.reset_parameters()\n",
        "\n",
        "    def reset_parameters(self):\n",
        "        self.lin_l.reset_parameters()\n",
        "        self.lin_r.reset_parameters()\n",
        "\n",
        "    def forward(self, x, edge_index, size = None):\n",
        "        \"\"\"\"\"\"\n",
        "\n",
        "        out = None\n",
        "\n",
        "        ############################################################################\n",
        "        # ЗАДАЧА: Ваш код здесь!\n",
        "        # Реализуйте прохождение сообщений (message passing) и пост-процессинг (update).\n",
        "        # 1. Сначала вызовите функцию propagate для передачи сообщений.\n",
        "        #    1.1 Здесь вы найдёте более подробную информацию: \n",
        "        #        https://pytorch-geometric.readthedocs.io/en/latest/notes/create_gnn.html\n",
        "        #    1.2 Мы используем одинаковые представления для центральных (x_central) и \n",
        "        #        соседних (x_neighbor) вершин, это означает, что вы передадите x=(x, x) \n",
        "        #        в функцию propagate.\n",
        "        # 2. Обновите эмбеддинги вершин вместе с skip connection.\n",
        "        # 3. Если установлен параметр normalize, проведите L-2 нормализацию (определена в \n",
        "        #    torch.nn.functional)\n",
        "        # Наша реализация ~5 строк кода, но не волнуйтесь, если ваша будет отличаться.\n",
        "\n",
        "        out_message = self.propagate(edge_index, x = (x, x), size = size)\n",
        "        out = self.lin_l(x) + self.lin_r(out_message)\n",
        "        if self.normalize: out = F.normalize(out, p=2., dim=-1)\n",
        "        \n",
        "        ############################################################################\n",
        "\n",
        "        return out\n",
        "\n",
        "    def message(self, x_j):\n",
        "\n",
        "        out = None\n",
        "\n",
        "        ############################################################################\n",
        "        # ЗАДАЧА: Ваш код здесь!\n",
        "        # Реализуйте вашу функцию message здесь.\n",
        "        # Наша реализация ~1 строка кода, но не волнуйтесь, если ваша будет отличаться.\n",
        "        out = x_j\n",
        "\n",
        "        ############################################################################\n",
        "\n",
        "        return out\n",
        "\n",
        "    def aggregate(self, inputs, index, dim_size = None):\n",
        "\n",
        "        out = None\n",
        "\n",
        "        # Ось, по которой индексировать вершины / The axis along which to index number of nodes.\n",
        "        node_dim = self.node_dim\n",
        "\n",
        "        ############################################################################\n",
        "        # ЗАДАЧА: Ваш код здесь! \n",
        "        # Реализуйте вашу функцию aggregate.\n",
        "        # Подробнее о использовании torch_scatter.scatter: \n",
        "        # https://pytorch-scatter.readthedocs.io/en/latest/functions/scatter.html#torch_scatter.scatter\n",
        "        # Наша реализация ~1 строка кода, но не волнуйтесь, если ваша будет отличаться.\n",
        "        out = torch_scatter.scatter(src = inputs, index = index, \n",
        "                                    dim = node_dim, dim_size = dim_size,\n",
        "                                    reduce = 'mean')\n",
        "\n",
        "        ############################################################################\n",
        "\n",
        "        return out\n"
      ],
      "execution_count": 4,
      "outputs": []
    },
    {
      "cell_type": "markdown",
      "metadata": {
        "id": "qjcfF3RACdLD"
      },
      "source": [
        "## GAT - реализация\n",
        "\n",
        "Механизмы внимания (attention) демонстрируют наилучшие (state-of-the-art) результаты во многих задачах, основанных на последовательностях, таких как машинный перевод или векторные представления предложений. Одно из основных преимуществ механизмов внимания - их способность сконцентрироваться на наиболее релевантных частях входной информации для принятия решения. В данной задаче мы посмотрим как использовать механизм внимания для классификации вершин графа с использованием графовых нейронных сетей с вниманием (Graph Attention Networks (GATs)).\n",
        "\n",
        "Строительный блок графовой нейронной сети с вниманием - это слой графового внимания, который представляет собой вариант функции аггрегации. Пусть $N$ - количество вершин и $F$ - размерность вектора признаков для каждой вершины. Входом каждого слоя графового внимания является множество свойств вершин: $\\mathbf{h} = \\{\\overrightarrow{h_1}, \\overrightarrow{h_2}, \\dots, \\overrightarrow{h_N}$\\}, $\\overrightarrow{h_i} \\in R^F$. Выходом каждого слоя графового внимания является новый набор свойств вершин, который может иметь новую размерность $F'$: $\\mathbf{h'} = \\{\\overrightarrow{h_1'}, \\overrightarrow{h_2'}, \\dots, \\overrightarrow{h_N'}\\}$, with $\\overrightarrow{h_i'} \\in \\mathbb{R}^{F'}$.\n",
        "\n",
        "Теперь мы опишем эту трансформацию входных признаков в признаки более высокого уровня, производимые каждым слоем графового внимания. Сначала происходит общее для всех вершин линейное преобразование, параметризованное матрицей весов $\\mathbf{W} \\in \\mathbb{R}^{F' \\times F}$. Далее, запускается самосознание (self-attention) для вершин. Мы используем один на всех механизм внимания:\n",
        "\\begin{equation} \n",
        "a : \\mathbb{R}^{F'} \\times \\mathbb{R}^{F'} \\rightarrow \\mathbb{R}.\n",
        "\\end{equation}\n",
        "\n",
        "Этот механизм вычисляет коэффициенты внимания, которые отражают важность признаков вершины $j$ для вершины $i$:\n",
        "\\begin{equation}\n",
        "e_{ij} = a(\\mathbf{W_l}\\overrightarrow{h_i}, \\mathbf{W_r} \\overrightarrow{h_j})\n",
        "\\end{equation}\n",
        "Наиболее общая формулировка влияния позволяет каждой вершине влиять на все прочие, что исключает всю информацию о структурных связях. Для того, чтобы воспользоваться структурой графа в механизмах внимания, мы можем воспользоваться вниманием с маской (masked attention). Во вниманиии с маской мы вычисляем лишь $e_{ij}$ для вершин $j \\in \\mathcal{N}_i$, где $\\mathcal{N}_i$  является каким-то окружением вершины $i$ в графе.\n",
        "\n",
        "Для простоты сравнения коэффициентов между различными вершинами мы нормализуем коэффициенты между $j$ using с помощью функции softmax:\n",
        "\\begin{equation}\n",
        "\\alpha_{ij} = \\text{softmax}_j(e_{ij}) = \\frac{\\exp(e_{ij})}{\\sum_{k \\in \\mathcal{N}_i} \\exp(e_{ik})}\n",
        "\\end{equation}\n",
        "\n",
        "Для этой задачи наш механизм внимания  $a$ будет однослойный перцептрон, параметризуемый вектором весов $\\overrightarrow{a} \\in \\mathbb{R}^{F'}$,с нелинейной функцией активации вида LeakyReLU (с наклоном 0.2 для отрицательных входных значений). Пусть $\\cdot^T$ обозначает операцию транспонирования и $||$ обозначает конкатенацию. Коэффициенты, вычисляемые нашим механизмом внимания, могут быть записаны как:\n",
        "\n",
        "\\begin{equation}\n",
        "\\alpha_{ij} = \\frac{\\exp\\Big(\\text{LeakyReLU}\\Big(\\overrightarrow{a_l}^T \\mathbf{W_l} \\overrightarrow{h_i} + \\overrightarrow{a_r}^T\\mathbf{W_r}\\overrightarrow{h_j}\\Big)\\Big)}{\\sum_{k\\in \\mathcal{N}_i} \\exp\\Big(\\text{LeakyReLU}\\Big(\\overrightarrow{a_l}^T \\mathbf{W_l} \\overrightarrow{h_i} + \\overrightarrow{a_r}^T\\mathbf{W_r}\\overrightarrow{h_k}\\Big)\\Big)}\n",
        "\\end{equation}\n",
        "\n",
        "Для последующих вопросов, обозначим $\\alpha_l = [...,\\overrightarrow{a_l}^T \\mathbf{W_l} \\overrightarrow{h_i},...]$ и $\\alpha_r = [..., \\overrightarrow{a_r}^T \\mathbf{W_r} \\overrightarrow{h_j}, ...]$.\n",
        "\n",
        "В каждом слое GAT, после вычисления коэффициентов внимания для этого слоя, функция аггрегации может быть вычислена как взвешенная сумма сообщений от соседей, где веса задаются $\\alpha_{ij}$.\n",
        "\n",
        "Теперь мы воспользуемся нормализованными коэффициентами внимания для вычисления линейной комбинации признаков, соответствующих им. Эти аггрегированные признаки будут служить в качестве выходных признаков для каждой вершины.\n",
        "\n",
        "\\begin{equation}\n",
        "h_i' = \\sum_{j \\in \\mathcal{N}_i} \\alpha_{ij} \\mathbf{W_r} \\overrightarrow{h_j}.\n",
        "\\end{equation}\n",
        "\n",
        "Для стабилизации процесса обучения самовнимания (self-attention), мы воспользуемся вниманием с несколькими головами (multi-head attention). Для этого мы используем $K$ независимых механизмов внимания или ``голов'' (heads), производящих выходные признаки, как в показано в уравнениях выше. Затем мы конкатенируем эти выходные представления:\n",
        "\n",
        "\\begin{equation}\n",
        "    \\overrightarrow{h_i}' = ||_{k=1}^K \\Big(\\sum_{j \\in \\mathcal{N}_i} \\alpha_{ij}^{(k)} \\mathbf{W_r}^{(k)} \\overrightarrow{h_j}\\Big)\n",
        "\\end{equation}\n",
        "\n",
        "где $||$ - конкатенация, $\\alpha_{ij}^{(k)}$ - нормализованные коэффициенты внимания, вычисленные $k$-м механизмом внимания $(a^k)$ и $\\mathbf{W}^{(k)}$ - соответствующий вход матрицы весов линейной трансформации. Обратите внимание, что для данных условий $\\mathbf{h'} \\in \\mathbb{R}^{KF'}$."
      ]
    },
    {
      "cell_type": "code",
      "metadata": {
        "id": "w4j45gTpCeXO"
      },
      "source": [
        "class GAT(MessagePassing):\n",
        "    def __init__(self, in_channels, out_channels, heads = 2,\n",
        "                 negative_slope = 0.2, dropout = 0., **kwargs):\n",
        "        super(GAT, self).__init__(node_dim=0, **kwargs)\n",
        "\n",
        "        self.in_channels = in_channels\n",
        "        self.out_channels = out_channels\n",
        "        self.heads = heads\n",
        "        self.negative_slope = negative_slope\n",
        "        self.dropout = dropout\n",
        "\n",
        "        self.lin_l = None\n",
        "        self.lin_r = None\n",
        "        self.att_l = None\n",
        "        self.att_r = None\n",
        "\n",
        "        ############################################################################\n",
        "        # ЗАДАЧА: Ваш код здесь!\n",
        "        # Задайте слои, необходимые для функции message ниже.\n",
        "        # self.lin_l - это линейная трансформация, которую вы применяете к эмбеддингам\n",
        "        # ДО передачи сообщений.\n",
        "        # Обратите внимание на размерность линейных слоёв, поскольку мы используем \n",
        "        # многоголовое внимание.\n",
        "        # Наша реализация ~1 строка кода, но не волнуйтесь, если ваша будет отличаться.\n",
        "        self.lin_l = torch.nn.Linear(in_channels, out_channels * heads)\n",
        "\n",
        "        ############################################################################\n",
        "\n",
        "        self.lin_r = self.lin_l\n",
        "\n",
        "        ############################################################################\n",
        "        # ЗАДАЧА: Ваш код здесь!\n",
        "        # Задайте параметры внимания \\overrightarrow{a_l/r}^T во вступительной части выше.\n",
        "        # Вам придётся иметь дело с многоголовыми сценариями.\n",
        "        # Используйте nn.Parameter вместо nn.Linear\n",
        "        # Наша реализация ~2 строки кода, но не волнуйтесь, если ваша будет отличаться.\n",
        "        self.att_l = torch.nn.Parameter(torch.Tensor(1, heads, out_channels))\n",
        "        self.att_r = torch.nn.Parameter(torch.Tensor(1, heads, out_channels))\n",
        "\n",
        "        ############################################################################\n",
        "\n",
        "        self.reset_parameters()\n",
        "\n",
        "    def reset_parameters(self):\n",
        "        nn.init.xavier_uniform_(self.lin_l.weight)\n",
        "        nn.init.xavier_uniform_(self.lin_r.weight)\n",
        "        nn.init.xavier_uniform_(self.att_l)\n",
        "        nn.init.xavier_uniform_(self.att_r)\n",
        "\n",
        "    def forward(self, x, edge_index, size = None):\n",
        "        \n",
        "        H, C = self.heads, self.out_channels\n",
        "\n",
        "        ############################################################################\n",
        "        # ЗАДАЧА: Ваш код здесь!\n",
        "        # Реализуйте передачу сообщений (message passing), а также пре- и пост-обработку (update).\n",
        "        # 1. Сначала примените линейное преобразование к эмбеддингам вершин, разбейте его\n",
        "        #    между несколькими головами. Мы используем одинаковые представления для \n",
        "        #    начальных и конечных вершин, но применяем различные линейные веса (W_l и W_r)\n",
        "        # 2. Вычислите вектора alpha для центральных (alpha_l) и соседних вершин (alpha_r).\n",
        "        # 3. Вызовите функцию propagate для передачи сообщений.\n",
        "        #    3.1 Припомните передать alpha = (alpha_l, alpha_r) в качестве параметра.\n",
        "        #    3.2 Подробнее здес: https://pytorch-geometric.readthedocs.io/en/latest/notes/create_gnn.html\n",
        "        # 4. Приведите выход обратно к размерности N * d.\n",
        "        # Наша реализация ~5 строк кода, но не волнуйтесь, если ваша будет отличаться.\n",
        "        x_l = self.lin_l(x).view(-1, H, C); x_r = self.lin_r(x).view(-1, H, C)\n",
        "\n",
        "        alpha_l = torch.mul(self.att_l, x_l)\n",
        "        alpha_r = torch.mul(self.att_r, x_r)\n",
        "\n",
        "        out = self.propagate(edge_index, \n",
        "                             x = (x_l, x_r), \n",
        "                             size = size, \n",
        "                             alpha = (alpha_l, alpha_r))\n",
        "        out = out.view(-1, H * C)\n",
        "        ############################################################################\n",
        "\n",
        "        return out\n",
        "\n",
        "\n",
        "    def message(self, x_j, alpha_j, alpha_i, index, ptr, size_i):\n",
        "\n",
        "        ############################################################################\n",
        "        # ЗАДАЧА: Ваш код здесь!\n",
        "        # Реализуйте вашу функцию message. Вставка внимания в сообщение вместо\n",
        "        # обновления слегка нетривиальна.\n",
        "        # 1. Вычислите окончательные веса внимания, используя alpha_i и alpha_j,\n",
        "        #    а затем - примените leaky Relu.\n",
        "        # 2. Вычислите softmax для соседей для всех вершин. Используйте \n",
        "        #    torch_geometric.utils.softmax вместо стандартного из Pytorch.\n",
        "        # 3. Примените dropout к весам внимания (alpha).\n",
        "        # 4. Перемножьте эмбеддинги и веса внимания. Для самоконтроля, размерность\n",
        "        #    результата должна быть E * H * d.\n",
        "        # 5. ptr (LongTensor, optional): Если задан, вычисляет softmax, основываясь\n",
        "        #    на отсортированном входе в формате CSR. Вы можете просто отправить его в softmax.\n",
        "        # Наша реализация ~5 строк кода, но не волнуйтесь, если ваша будет отличаться.\n",
        "\n",
        "        att = alpha_i + alpha_j\n",
        "\n",
        "        att = torch_geometric.utils.softmax(\n",
        "                                            F.leaky_relu(att, negative_slope = self.negative_slope),\n",
        "                                            ptr if ptr else index)\n",
        "        att = F.dropout(att, self.dropout, training = self.training)\n",
        "\n",
        "        out = torch.mul(x_j, att)\n",
        "\n",
        "        ############################################################################\n",
        "\n",
        "        return out\n",
        "\n",
        "\n",
        "    def aggregate(self, inputs, index, dim_size = None):\n",
        "\n",
        "        ############################################################################\n",
        "        # ЗАДАЧА: Ваш код здесь! \n",
        "        # Реализуйте вашу функцию аггрегации здесь.\n",
        "        # Иструкции по использованию torch_scatter.scatter: https://pytorch-scatter.readthedocs.io/en/latest/_modules/torch_scatter/scatter.html\n",
        "        # Обратите внимание, параметр \"reduce\" отличается от такового в GraphSage.\n",
        "        # Наша реализация ~1 строка кода, но не волнуйтесь, если ваша будет отличаться.\n",
        "\n",
        "        out = torch_scatter.scatter(inputs, index = index, \n",
        "                                    dim = self.node_dim, dim_size = dim_size, \n",
        "                                    reduce = \"sum\")\n",
        "        ############################################################################\n",
        "    \n",
        "        return out"
      ],
      "execution_count": 5,
      "outputs": []
    },
    {
      "cell_type": "markdown",
      "metadata": {
        "id": "V2dkgSuWCheU"
      },
      "source": [
        "## Построение оптимизаторов\n",
        "\n",
        "Данная функция предоставлена для вас. **Для оценивания задания, пожалуйста используйте оптимизатор Adam**, но вы, разумеется, вольны экспериментировать с выбором прочих оптимизаторов в образовательных целях."
      ]
    },
    {
      "cell_type": "code",
      "metadata": {
        "id": "f_TIQ8NPCjBP"
      },
      "source": [
        "import torch.optim as optim\n",
        "\n",
        "def build_optimizer(args, params):\n",
        "    weight_decay = args.weight_decay\n",
        "    filter_fn = filter(lambda p : p.requires_grad, params)\n",
        "    if args.opt == 'adam':\n",
        "        optimizer = optim.Adam(filter_fn, lr=args.lr, weight_decay=weight_decay)\n",
        "    elif args.opt == 'sgd':\n",
        "        optimizer = optim.SGD(filter_fn, lr=args.lr, momentum=0.95, weight_decay=weight_decay)\n",
        "    elif args.opt == 'rmsprop':\n",
        "        optimizer = optim.RMSprop(filter_fn, lr=args.lr, weight_decay=weight_decay)\n",
        "    elif args.opt == 'adagrad':\n",
        "        optimizer = optim.Adagrad(filter_fn, lr=args.lr, weight_decay=weight_decay)\n",
        "    if args.opt_scheduler == 'none':\n",
        "        return None, optimizer\n",
        "    elif args.opt_scheduler == 'step':\n",
        "        scheduler = optim.lr_scheduler.StepLR(optimizer, step_size=args.opt_decay_step, gamma=args.opt_decay_rate)\n",
        "    elif args.opt_scheduler == 'cos':\n",
        "        scheduler = optim.lr_scheduler.CosineAnnealingLR(optimizer, T_max=args.opt_restart)\n",
        "    return scheduler, optimizer"
      ],
      "execution_count": 6,
      "outputs": []
    },
    {
      "cell_type": "markdown",
      "metadata": {
        "id": "hBYdWFwYCkwY"
      },
      "source": [
        "## Обучение и тестирование\n",
        "\n",
        "Данная функция предоставлена для вас. **Для оценивания задания, пожалуйста оставьте её в первозданном виде**."
      ]
    },
    {
      "cell_type": "code",
      "metadata": {
        "id": "_tZMWRc8CmGg"
      },
      "source": [
        "import time\n",
        "\n",
        "import networkx as nx\n",
        "import numpy as np\n",
        "import torch\n",
        "import torch.optim as optim\n",
        "\n",
        "from torch_geometric.datasets import TUDataset\n",
        "from torch_geometric.datasets import Planetoid\n",
        "from torch_geometric.data import DataLoader\n",
        "\n",
        "import torch_geometric.nn as pyg_nn\n",
        "\n",
        "import matplotlib.pyplot as plt\n",
        "\n",
        "\n",
        "def train(dataset, args):\n",
        "    \n",
        "    print(\"Node task. test set size:\", np.sum(dataset[0]['train_mask'].numpy()))\n",
        "    test_loader = loader = DataLoader(dataset, batch_size=args.batch_size, shuffle=True)\n",
        "\n",
        "    # build model\n",
        "    model = GNNStack(dataset.num_node_features, args.hidden_dim, dataset.num_classes, \n",
        "                            args)\n",
        "    scheduler, opt = build_optimizer(args, model.parameters())\n",
        "\n",
        "    # train\n",
        "    losses = []\n",
        "    test_accs = []\n",
        "    for epoch in range(args.epochs):\n",
        "        total_loss = 0\n",
        "        model.train()\n",
        "        for batch in loader:\n",
        "            opt.zero_grad()\n",
        "            pred = model(batch)\n",
        "            label = batch.y\n",
        "            pred = pred[batch.train_mask]\n",
        "            label = label[batch.train_mask]\n",
        "            loss = model.loss(pred, label)\n",
        "            loss.backward()\n",
        "            opt.step()\n",
        "            total_loss += loss.item() * batch.num_graphs\n",
        "        total_loss /= len(loader.dataset)\n",
        "        losses.append(total_loss)\n",
        "\n",
        "        if epoch % 10 == 0:\n",
        "          test_acc = test(test_loader, model)\n",
        "          test_accs.append(test_acc)\n",
        "        else:\n",
        "          test_accs.append(test_accs[-1])\n",
        "    return test_accs, losses\n",
        "\n",
        "def test(loader, model, is_validation=True):\n",
        "    model.eval()\n",
        "\n",
        "    correct = 0\n",
        "    for data in loader:\n",
        "        with torch.no_grad():\n",
        "            # max(dim=1) returns values, indices tuple; only need indices\n",
        "            pred = model(data).max(dim=1)[1]\n",
        "            label = data.y\n",
        "\n",
        "        mask = data.val_mask if is_validation else data.test_mask\n",
        "        # node classification: only evaluate on nodes in test set\n",
        "        pred = pred[mask]\n",
        "        label = data.y[mask]\n",
        "            \n",
        "        correct += pred.eq(label).sum().item()\n",
        "\n",
        "    total = 0\n",
        "    for data in loader.dataset:\n",
        "        total += torch.sum(data.val_mask if is_validation else data.test_mask).item()\n",
        "    return correct / total\n",
        "  \n",
        "class objectview(object):\n",
        "    def __init__(self, d):\n",
        "        self.__dict__ = d\n"
      ],
      "execution_count": 7,
      "outputs": []
    },
    {
      "cell_type": "markdown",
      "metadata": {
        "id": "L7-h7jIsCns4"
      },
      "source": [
        "## Приступим же к обучению!\n",
        "\n",
        "Мы будем работать с набором данных CORA над классификацией вершин.\n",
        "\n",
        "Данная функция предоставлена для вас. **Для оценивания задания, пожалуйста не изменяйте параметров, заданных по умолчанию.** Однако, вы, разумеется, вольны экспериментировать с выбором конфигураций в образовательных целях или просто ради забавы!\n",
        "\n",
        "**Сообщите ваши лучшие значения для доли верных ответов и функции потерь.**"
      ]
    },
    {
      "cell_type": "code",
      "metadata": {
        "id": "qe9B45l9Cpz2",
        "colab": {
          "base_uri": "https://localhost:8080/",
          "height": 593
        },
        "outputId": "95a5ee5c-c552-4eec-860e-d865c4b20f2f"
      },
      "source": [
        "def main():\n",
        "    for args in [\n",
        "        {'model_type': 'GraphSage', 'dataset': 'cora', 'num_layers': 2, 'heads': 1, 'batch_size': 32, 'hidden_dim': 32, 'dropout': 0.5, 'epochs': 500, 'opt': 'adam', 'opt_scheduler': 'none', 'opt_restart': 0, 'weight_decay': 5e-3, 'lr': 0.01},\n",
        "    ]:\n",
        "        args = objectview(args)\n",
        "        for model in ['GraphSage', 'GAT']:\n",
        "            args.model_type = model\n",
        "\n",
        "            # Match the dimension.\n",
        "            if model == 'GAT': args.heads = 2\n",
        "            else: args.heads = 1\n",
        "\n",
        "            if args.dataset == 'cora':\n",
        "                dataset = Planetoid(root='/tmp/cora', name='Cora')\n",
        "            else: raise NotImplementedError(\"Unknown dataset\") \n",
        "            test_accs, losses = train(dataset, args) \n",
        "\n",
        "            print(\"Maximum accuracy: {0}\".format(max(test_accs)))\n",
        "            print(\"Minimum loss: {0}\".format(min(losses)))\n",
        "\n",
        "            plt.title(dataset.name)\n",
        "            plt.plot(losses, label=\"training loss\" + \" - \" + args.model_type)\n",
        "            plt.plot(test_accs, label=\"test accuracy\" + \" - \" + args.model_type)\n",
        "        plt.legend()\n",
        "        plt.show()\n",
        "\n",
        "if __name__ == '__main__':\n",
        "    main()"
      ],
      "execution_count": 8,
      "outputs": [
        {
          "output_type": "stream",
          "name": "stderr",
          "text": [
            "Downloading https://github.com/kimiyoung/planetoid/raw/master/data/ind.cora.x\n",
            "Downloading https://github.com/kimiyoung/planetoid/raw/master/data/ind.cora.tx\n",
            "Downloading https://github.com/kimiyoung/planetoid/raw/master/data/ind.cora.allx\n",
            "Downloading https://github.com/kimiyoung/planetoid/raw/master/data/ind.cora.y\n",
            "Downloading https://github.com/kimiyoung/planetoid/raw/master/data/ind.cora.ty\n",
            "Downloading https://github.com/kimiyoung/planetoid/raw/master/data/ind.cora.ally\n",
            "Downloading https://github.com/kimiyoung/planetoid/raw/master/data/ind.cora.graph\n",
            "Downloading https://github.com/kimiyoung/planetoid/raw/master/data/ind.cora.test.index\n",
            "Processing...\n",
            "Done!\n",
            "/usr/local/lib/python3.7/dist-packages/torch_geometric/deprecation.py:12: UserWarning: 'data.DataLoader' is deprecated, use 'loader.DataLoader' instead\n",
            "  warnings.warn(out)\n"
          ]
        },
        {
          "output_type": "stream",
          "name": "stdout",
          "text": [
            "Node task. test set size: 140\n",
            "Maximum accuracy: 0.724\n",
            "Minimum loss: 0.12758198380470276\n",
            "Node task. test set size: 140\n",
            "Maximum accuracy: 0.762\n",
            "Minimum loss: 0.031095759943127632\n"
          ]
        },
        {
          "output_type": "display_data",
          "data": {
            "text/plain": [
              "<Figure size 432x288 with 1 Axes>"
            ],
            "image/png": "[encoded data removed]"
          },
          "metadata": {
            "needs_background": "light"
          }
        }
      ]
    },
    {
      "cell_type": "markdown",
      "metadata": {
        "id": "Nwwq0nSdmsOL"
      },
      "source": [
        "# 2 DeepSNAP - основы\n",
        "\n",
        "В предыдущих блокнотиках мы использовали представления графов в виде классов (NetworkX) и тензоров (PyG) раздельно. Класс `nx.Graph` предоставляет богатый функционал для анализа и манипуляций с графами, таких как вычисления коэффициента кластеризации и PageRank. Для того, чтобы передать граф в модель, нам нужно преобразовать его в тензорное представление, включающее тензор рёбер `edge_index` и тензоры аттрибутов вершин `x` и `y`. Однако использование одних только тензоров (как графы в PyG `datasets` и `data`) делает многие манипуляции с графами и их анализ менее эффективными, а также сложными. В этом блокнотике мы используем DeepSNAP, который совмещает оба представления и предлагает полный функционал для обучения, валидации и тестирования графовых нейронных сетей.\n"
      ]
    },
    {
      "cell_type": "markdown",
      "metadata": {
        "id": "Sf7vUmdNKCjA"
      },
      "source": [
        "В общем, [DeepSNAP](https://github.com/snap-stanford/deepsnap) - это библиотека для Python, помогающая эффективному глубокому обучению на графах. DeepSNAP включает поддержку разнообразных манипуляций с графами, стандартный поток операций обработки (pipeline), работу с гетерогенными графами и простой API.\n",
        "\n",
        "1. DeepSNAP легко использовать для уточённых манипуляций с графами, таких как вычисление признаков, предобучение, экстракция субграфов и т.д. во время/до обучения.\n",
        "2. В большинстве фреймворков стандартные потоки операций для задач на уровне вершин, рёбер (ориентированных и не-), графов в индуктивных или трансдуктивных сценариях - оставлены за рамками функционала и пользователям приходится их реализовывать самостоятельно. На приктике это включает дизайнерские решения (такие как метод разбиения выборки для задачи предсказания связи). DeepSNAP предоставляет стандартный поток операций, который здорово сохраняет усилия и позволяет честное сравнение моделей.\n",
        "3. Многие графы в реальном мире - гетерогенные. Однако наблюдается дефицит пакетов для гетерогенных графов, включая хранение данных и гибкую передачу сообщений. DeepSNAP предоставляет эффективные и гибкие гетерогенные графы, которые поддерживают гетерогенность вершин и рёбер.\n",
        "\n",
        "[DeepSNAP](https://github.com/snap-stanford/deepsnap) - это недавно выпущенный проект и он всё ещё в разработке. Если вы столкнётесь с багами или же если у вас есть предложения по улучшению, поднимайте issues или создавайте pull request непосредственно в репозитории на GitHub :)\n",
        "\n",
        "В этом блокнотике мы сосредоточимся на манипуляции с графами в DeepSNAP и настройках разбиения выборок."
      ]
    },
    {
      "cell_type": "markdown",
      "metadata": {
        "id": "20SvvngpQmmQ"
      },
      "source": [
        "## Установка"
      ]
    },
    {
      "cell_type": "code",
      "metadata": {
        "id": "zfbBVFmAQlwz"
      },
      "source": [
        "import torch\n",
        "import networkx as nx\n",
        "import matplotlib.pyplot as plt\n",
        "\n",
        "from deepsnap.graph import Graph\n",
        "from deepsnap.batch import Batch\n",
        "from deepsnap.dataset import GraphDataset\n",
        "from torch_geometric.datasets import Planetoid, TUDataset\n",
        "\n",
        "from torch.utils.data import DataLoader\n",
        "\n",
        "def visualize(G, color_map=None, seed=123):\n",
        "  if color_map is None:\n",
        "    color_map = '#c92506'\n",
        "  plt.figure(figsize=(8, 8))\n",
        "  nodes = nx.draw_networkx_nodes(G, pos=nx.spring_layout(G, seed=seed), \\\n",
        "                                 label=None, node_color=color_map, node_shape='o', node_size=150)\n",
        "  edges = nx.draw_networkx_edges(G, pos=nx.spring_layout(G, seed=seed), alpha=0.5)\n",
        "  if color_map is not None:\n",
        "    plt.scatter([],[], c='#c92506', label='Nodes with label 0', edgecolors=\"black\", s=140)\n",
        "    plt.scatter([],[], c='#fcec00', label='Nodes with label 1', edgecolors=\"black\", s=140)\n",
        "    plt.legend(prop={'size': 13}, handletextpad=0)\n",
        "  nodes.set_edgecolor('black')\n",
        "  plt.show()"
      ],
      "execution_count": null,
      "outputs": []
    },
    {
      "cell_type": "markdown",
      "metadata": {
        "id": "ic-o1P3r6hr2"
      },
      "source": [
        "## DeepSNAP Graph\n",
        "\n",
        "Класс `deepsnap.graph.Graph` - самое сердце DeepSNAP. В нём граф не только хранится в тензорном формате, но и ссылается на графовый объект в пакете для манипуляций с графами.\n",
        "\n",
        "В данный момент DeepSNAP поддерживает [NetworkX](https://networkx.org/) и [Snap.py](https://snap.stanford.edu/snappy/doc/index.html) в качестве движка для операций на графах.\n",
        "\n",
        "В этом блокнотике мы будем использовать NetworkX."
      ]
    },
    {
      "cell_type": "markdown",
      "metadata": {
        "id": "Ispq_lIoJl_z"
      },
      "source": [
        "Попробуем для начала конвертировать простой случайный граф NetworkX в граф DeepSNAP."
      ]
    },
    {
      "cell_type": "code",
      "metadata": {
        "id": "zT5qca3x6XpG"
      },
      "source": [
        "num_nodes = 100\n",
        "p = 0.05\n",
        "seed = 100\n",
        "\n",
        "# Пусть G - случайный граф networkx (модели Эрдоша-Реньи)\n",
        "G = nx.gnp_random_graph(num_nodes, p, seed=seed)\n",
        "\n",
        "# Сгенерируем какие-то случайные признаки и метки классов для вершин\n",
        "node_feature = {node : torch.rand([5, ]) for node in G.nodes()}\n",
        "node_label = {node : torch.randint(0, 2, ()) for node in G.nodes()}\n",
        "\n",
        "# Присвоим сгенерированные выше признаки и метки графу G\n",
        "nx.set_node_attributes(G, node_feature, name='node_feature')\n",
        "nx.set_node_attributes(G, node_label, name='node_label')\n",
        "\n",
        "# Посмотрим на одну из вершин\n",
        "for node in G.nodes(data=True):\n",
        "  print(node)\n",
        "  break\n",
        "\n",
        "color_map = ['#c92506' if node[1]['node_label'].item() == 0 else '#fcec00' for node in G.nodes(data=True)]\n",
        "\n",
        "# Визуализируем граф\n",
        "visualize(G, color_map=color_map)\n",
        "\n",
        "# Трансформируем граф networkx в граф deepsnap\n",
        "graph = Graph(G)\n",
        "\n",
        "# Выведем общую информацию о графе deepsnap\n",
        "print(graph)\n",
        "\n",
        "# DeepSNAP конвертирует аттрибуты вершин в тензоры\n",
        "# Обратите внимание на тип тензоров\n",
        "print(\"Node feature (node_feature) has shape {} and type {}\".format(graph.node_feature.shape, graph.node_feature.dtype))\n",
        "print(\"Node label (node_label) has shape {} and type {}\".format(graph.node_label.shape, graph.node_label.dtype))\n",
        "\n",
        "# DeepSNAP также сгенерирует тензор edge_index\n",
        "print(\"Edge index (edge_index) has shape {} and type {}\".format(graph.edge_index.shape, graph.edge_index.dtype))\n",
        "\n",
        "# В отличие от простого хранения тензоров, граф deepsnap также ссылается на граф networkx\n",
        "# Мы обсудим почему ссылка будет полезна чуть позже\n",
        "print(\"The DeepSNAP graph has {} as the internal manupulation graph\".format(type(graph.G)))"
      ],
      "execution_count": null,
      "outputs": []
    },
    {
      "cell_type": "markdown",
      "metadata": {
        "id": "PNMbc307KOQD"
      },
      "source": [
        "В DeepSNAP доступны аттрибуты трёх уровней. В этом примере у нас есть аттрибуты **уровня вершин**, включающие `node_feature` и `node_label`. Оставшиеся два уровня аттрибутов - относятся к графам и рёбрам. Использование подобно таковому для уровня вершин за исключением того, что признаки становятся `edge_feature` или `graph_feature` и метка класса становится `edge_label` или `graph_label` и т.д."
      ]
    },
    {
      "cell_type": "markdown",
      "metadata": {
        "id": "G8Xz58_Da0qL"
      },
      "source": [
        "Подобно графу NetworkX, мы можем получить базовые свойства графа непосредственно через свойства класса."
      ]
    },
    {
      "cell_type": "code",
      "metadata": {
        "id": "dLo4zWAoeg6S"
      },
      "source": [
        "# Количество вершин\n",
        "print(\"The random graph has {} nodes\".format(graph.num_nodes))\n",
        "\n",
        "# Количество рёбер\n",
        "print(\"The random graph has {} edges\".format(graph.num_edges))"
      ],
      "execution_count": null,
      "outputs": []
    },
    {
      "cell_type": "markdown",
      "metadata": {
        "id": "Po7IaRmwblI5"
      },
      "source": [
        "DeepSNAP также предоставляет функционал, позволяющий автоматически преобразовывать наборы данных PyG в списки графов DeepSNAP.\n",
        "\n",
        "Здесь мы преобразуем набор данных CORA в список графов DeepSNAP."
      ]
    },
    {
      "cell_type": "code",
      "metadata": {
        "id": "ZFkg2kCgcFwR"
      },
      "source": [
        "root = './tmp/cora'\n",
        "name = 'Cora'\n",
        "\n",
        "# Набор данных Cora\n",
        "pyg_dataset= Planetoid(root, name)\n",
        "\n",
        "# Преобразуем набор данных PyG в сприсок графов deepsnap\n",
        "graphs = GraphDataset.pyg_to_graphs(pyg_dataset)\n",
        "\n",
        "# Получим первый граф deepsnap (CORA содержит лишь один граф)\n",
        "graph = graphs[0]\n",
        "print(graph)"
      ],
      "execution_count": null,
      "outputs": []
    },
    {
      "cell_type": "markdown",
      "metadata": {
        "id": "NLm5vVYMAP2x"
      },
      "source": [
        "## Вопрос 2.1: Чему равно количество классов и количество признаков в графе CORA? (5 баллов)\n",
        "\n",
        "Submit your answers on Gradescope."
      ]
    },
    {
      "cell_type": "code",
      "metadata": {
        "id": "8iF_Kyqr_JbY"
      },
      "source": [
        "def get_num_node_classes(graph):\n",
        "  # ЗАДАЧА: Реализуйте функцию, принимающую объект графа deepsnap\n",
        "  # и возвращающую количество классов вершин для этого графа.\n",
        "\n",
        "  num_node_classes = 0\n",
        "\n",
        "  ############# Ваш код здесь ##############\n",
        "  ## (~1 строчка кода)\n",
        "  ## Обратите внимание\n",
        "  ## (1) Вам может пригодиться функционал автодополнения Colab\n",
        "  ## (2) Также может пригодиться документация DeepSNAP https://snap.stanford.edu/deepsnap/modules/graph.html\n",
        "\n",
        "\n",
        "  ##########################################\n",
        "\n",
        "  return num_node_classes\n",
        "\n",
        "def get_num_node_features(graph):\n",
        "  # ЗАДАЧА: Реализуйте функцию, принимающую объект графа deepsnap\n",
        "  # и возвращающую количество признаков вершин для этого графа.\n",
        "\n",
        "  num_node_features = 0\n",
        "\n",
        "  ############# Ваш код здесь ##############\n",
        "  ## (~1 строчка кода)\n",
        "  ## Обратите внимание\n",
        "  ## (1) Вам может пригодиться функционал автодополнения Colab\n",
        "  ## (2) Также может пригодиться документация DeepSNAP https://snap.stanford.edu/deepsnap/modules/graph.html\n",
        "\n",
        "\n",
        "  ##########################################\n",
        "\n",
        "  return num_node_features\n",
        "\n",
        "num_node_classes = get_num_node_classes(graph)\n",
        "num_node_features = get_num_node_features(graph)\n",
        "print(\"{} has {} classes\".format(name, num_node_classes))\n",
        "print(\"{} has {} features\".format(name, num_node_features))"
      ],
      "execution_count": null,
      "outputs": []
    },
    {
      "cell_type": "markdown",
      "metadata": {
        "id": "rwKbzhHUAckZ"
      },
      "source": [
        "## DeepSNAP Dataset\n",
        "\n",
        "Теперь поговорим о наборах данных в DeepSNAP. Всякий `deepsnap.dataset.GraphDataset` содержит список `deepsnap.graph.Graph` объектов. В дополнение к списку графов, вы также можете определить, для какой задачи предназначен набор данных, таких как задачи уровня вершин (`task=node`), задачи уровня рёбер (`task=link_pred`) и задачи уровня графа (`task=graph`).\n",
        "\n",
        "Он также содержит много прочих полезных параметров инициализации и прочий функционал. Чтобы узнать больше, обратитесь к [документации](https://snap.stanford.edu/deepsnap/modules/dataset.html#deepsnap-graphdataset)."
      ]
    },
    {
      "cell_type": "markdown",
      "metadata": {
        "id": "HSidf9E0hn2s"
      },
      "source": [
        "Теперь воспользуемся набором данных COX2, содержащим список графов и определим задачу как `graph` во время инициализации набора данных DeepSNAP."
      ]
    },
    {
      "cell_type": "code",
      "metadata": {
        "id": "l4kqUldyoaS_"
      },
      "source": [
        "root = './tmp/cox2'\n",
        "name = 'COX2'\n",
        "\n",
        "# Загрузим набор данных посредством PyG\n",
        "pyg_dataset = TUDataset(root, name)\n",
        "\n",
        "# Конвертируем в список графов deepsnap\n",
        "graphs = GraphDataset.pyg_to_graphs(pyg_dataset)\n",
        "\n",
        "# Конвертируем список графов deepsnap в набор данных deepsnap для задачи task=graph\n",
        "dataset = GraphDataset(graphs, task='graph')\n",
        "print(dataset)"
      ],
      "execution_count": null,
      "outputs": []
    },
    {
      "cell_type": "markdown",
      "metadata": {
        "id": "7sCV3xJWCddX"
      },
      "source": [
        "## Вопрос 2.2.: Какова метка графа (номер 100 в наборе данных COX2)? (5 баллов)\n",
        "\n",
        "Submit your answers on Gradescope."
      ]
    },
    {
      "cell_type": "code",
      "metadata": {
        "id": "LIis9oTZAfs3"
      },
      "source": [
        "def get_graph_class(dataset, idx):\n",
        "  # ЗАДАЧА: Реализуйте функцию, принимающую объект набора данных deepsnap, а также\n",
        "  # индекс графа в наборе данных и возвращающую класс/метку (class/label) \n",
        "  # этого графа (как целое число).\n",
        "\n",
        "  label = -1\n",
        "\n",
        "  ############# Ваш код здесь ##############\n",
        "  ## (~1 строчка кода)\n",
        "  ## Обратите внимание\n",
        "  ## 1. Метка относится к аттрибутам уровня графа\n",
        "\n",
        "\n",
        "  #########################################\n",
        "\n",
        "  return label\n",
        "\n",
        "graph_0 = dataset[0]\n",
        "print(graph_0)\n",
        "idx = 100\n",
        "label = get_graph_class(dataset, idx)\n",
        "print('Graph with index {} has label {}'.format(idx, label))"
      ],
      "execution_count": null,
      "outputs": []
    },
    {
      "cell_type": "markdown",
      "metadata": {
        "id": "fKhcVeAhCwoY"
      },
      "source": [
        "## Вопрос 2.3: Чему равно количество вершин графа (номер 200 в наборе данных COX2)? (5 баллов)\n",
        "\n",
        "Submit your answers on Gradescope."
      ]
    },
    {
      "cell_type": "code",
      "metadata": {
        "id": "f5m2DOfhBtWv"
      },
      "source": [
        "def get_graph_num_edges(dataset, idx):\n",
        "  # ЗАДАЧА: Реализуйте функцию, принимающую объект набора данных deepsnap, а также\n",
        "  # индекс графа в наборе данных и возвращающую количество\n",
        "  # рёбер в этом графе (как целое число).\n",
        "\n",
        "  num_edges = 0\n",
        "\n",
        "  ############# Ваш код здесь ##############\n",
        "  ## (~1 строчка кода)\n",
        "  ## Обратите внимание\n",
        "  ## 1. Вы можетет непосредственно использовать свойство класса\n",
        "\n",
        "\n",
        "  #########################################\n",
        "\n",
        "  return num_edges\n",
        "\n",
        "idx = 200\n",
        "num_edges = get_graph_num_edges(dataset, idx)\n",
        "print('Graph with index {} has {} edges'.format(idx, num_edges))"
      ],
      "execution_count": null,
      "outputs": []
    },
    {
      "cell_type": "markdown",
      "metadata": {
        "id": "AXa7yIG4E0Fp"
      },
      "source": [
        "# 3 DeepSNAP Advanced\n",
        "\n",
        "Мы ознакомились с базовыми функциями графов и наборов данных DeepSNAP :)\n",
        "\n",
        "Приступим же к более продвинутому функционалу.\n",
        "\n",
        "В данной секции мы воспользуемся DeepSNAP для вычисления признаков и трансдуктивного/индуктивного разбиения выборки для обучения."
      ]
    },
    {
      "cell_type": "markdown",
      "metadata": {
        "id": "Y5fsGBLY8cxa"
      },
      "source": [
        "## Установка"
      ]
    },
    {
      "cell_type": "code",
      "metadata": {
        "id": "g-jgRLiQ8cSj"
      },
      "source": [
        "import torch\n",
        "import networkx as nx\n",
        "import matplotlib.pyplot as plt\n",
        "\n",
        "from deepsnap.graph import Graph\n",
        "from deepsnap.batch import Batch\n",
        "from deepsnap.dataset import GraphDataset\n",
        "from torch_geometric.datasets import Planetoid, TUDataset\n",
        "\n",
        "from torch.utils.data import DataLoader"
      ],
      "execution_count": null,
      "outputs": []
    },
    {
      "cell_type": "markdown",
      "metadata": {
        "id": "HnazPGGAJAZN"
      },
      "source": [
        "## Разбиение данных в графах\n",
        "\n",
        "Подготовка выборок для обучение и валидации в случае с графами может быть намного сложнее, чем в областях компьютерного зрения или обрработки естественного языка.\n",
        "\n",
        "В общем, можно выделить два сценария разбиения данных - **индуктивный** и **трансдуктивный**."
      ]
    },
    {
      "cell_type": "markdown",
      "metadata": {
        "id": "l9KG_MhqsWBp"
      },
      "source": [
        "## Индуктивное разбиение\n",
        "\n",
        "Как говорилось в лекции (НАЙТИ БЫ КОНКРЕТНУЮ ССЫЛКУ), индуктивный сценарий будет разбивать множество графов на обучающую/валидационные части. \n",
        "\n",
        "Вот пример индуктивного разбиения в DeepSNAP для списка графов в задаче уровня графа (классификация графов и т.п.)"
      ]
    },
    {
      "cell_type": "code",
      "metadata": {
        "id": "Gpc6bTm3GF02"
      },
      "source": [
        "root = './tmp/cox2'\n",
        "name = 'COX2'\n",
        "\n",
        "pyg_dataset = TUDataset(root, name)\n",
        "\n",
        "graphs = GraphDataset.pyg_to_graphs(pyg_dataset)\n",
        "\n",
        "# Здесь мы определяем задачу как задачу уровня графа, например, классификции графов\n",
        "task = 'graph'\n",
        "dataset = GraphDataset(graphs, task=task)\n",
        "\n",
        "# Зададим transductive=False (inductive)\n",
        "dataset_train, dataset_val, dataset_test = dataset.split(transductive=False, split_ratio=[0.8, 0.1, 0.1])\n",
        "\n",
        "print(\"COX2 train dataset: {}\".format(dataset_train))\n",
        "print(\"COX2 validation dataset: {}\".format(dataset_val))\n",
        "print(\"COX2 test dataset: {}\".format(dataset_test))"
      ],
      "execution_count": null,
      "outputs": []
    },
    {
      "cell_type": "markdown",
      "metadata": {
        "id": "yWKQwa4WsgQp"
      },
      "source": [
        "## Трансдуктивное разбиение\n",
        "\n",
        "В трансдуктивном сценарии обучающая/валидационная выборки определяются на одном и том же графе.\n",
        "\n",
        "Здесь мы трансдуктивно разделим граф CORA для задач уровня вершин.\n",
        "\n",
        "(Обратите внимание: по умолчанию DeepSnap настроен разбивать выборки случайным образом, но вы также можете зафиксировать выборки, установив `fixed_split=True` во время загрузки набора данных из PyG или непосредственно изменив `node_label_index`)."
      ]
    },
    {
      "cell_type": "code",
      "metadata": {
        "id": "b5OdxSg4sfyR"
      },
      "source": [
        "root = './tmp/cora'\n",
        "name = 'Cora'\n",
        "\n",
        "pyg_dataset = Planetoid(root, name)\n",
        "\n",
        "graphs = GraphDataset.pyg_to_graphs(pyg_dataset)\n",
        "\n",
        "# Здесь мы определим задачу как задачу уровня вершин, например, классификации вершин\n",
        "task = 'node'\n",
        "\n",
        "dataset = GraphDataset(graphs, task=task)\n",
        "\n",
        "# Укажем, что мы хотим произвести трансдуктивное разбиение\n",
        "dataset_train, dataset_val, dataset_test = dataset.split(transductive=True, split_ratio=[0.8, 0.1, 0.1])\n",
        "\n",
        "print(\"Cora train dataset: {}\".format(dataset_train))\n",
        "print(\"Cora validation dataset: {}\".format(dataset_val))\n",
        "print(\"Cora test dataset: {}\".format(dataset_test))\n",
        "\n",
        "print(\"Original Cora has {} nodes\".format(dataset.num_nodes[0]))\n",
        "\n",
        "# Вершины, оказавшиеся в каждой выборке, можно найти в node_label_index\n",
        "print(\"After the split, Cora has {} training nodes\".format(dataset_train[0].node_label_index.shape[0]))\n",
        "print(\"After the split, Cora has {} validation nodes\".format(dataset_val[0].node_label_index.shape[0]))\n",
        "print(\"After the split, Cora has {} test nodes\".format(dataset_test[0].node_label_index.shape[0]))"
      ],
      "execution_count": null,
      "outputs": []
    },
    {
      "cell_type": "markdown",
      "metadata": {
        "id": "d7ePKgM00lGE"
      },
      "source": [
        "## Разбиение на уровне рёбер\n",
        "\n",
        "По сравнению с разбиением на уровне вершин и графов, разделение на уровне рёбер не так уж и тривиально ;)\n",
        "\n",
        "Обыкновенно в разбиении данных на уровне рёбер, нам требуется подготовить выборку негативных (отсутствующих) рёбер, разбить позитивные (существующие) рёбра в различные выборки (обучающая/валидационная/тестовая), разбить рёбра в обучающей выборке на передающие сообщения и supervision edges, а также проводить resample для негативных рёбер и т.п."
      ]
    },
    {
      "cell_type": "markdown",
      "metadata": {
        "id": "SnzISX5RoiR6"
      },
      "source": [
        "### All Mode\n",
        "\n",
        "Начнём с простого разбиения на уровне рёбер, режимом `edge_train_mode=\"all\"` в DeepSNAP."
      ]
    },
    {
      "cell_type": "code",
      "metadata": {
        "id": "_D104xO6137n"
      },
      "source": [
        "root = './tmp/cora'\n",
        "name = 'Cora'\n",
        "\n",
        "pyg_dataset = Planetoid(root, name)\n",
        "\n",
        "graphs = GraphDataset.pyg_to_graphs(pyg_dataset)\n",
        "\n",
        "# Определим задачу как link_pred задачи уровня рёбер\n",
        "task = 'link_pred'\n",
        "\n",
        "# Определим режим обучения, \"all\" - является стандартным для набора данных deepsnap\n",
        "edge_train_mode = \"all\"\n",
        "\n",
        "dataset = GraphDataset(graphs, task=task, edge_train_mode=edge_train_mode)\n",
        "\n",
        "# Трансдуктивное разбиение для link prediction\n",
        "dataset_train, dataset_val, dataset_test = dataset.split(transductive=True, split_ratio=[0.8, 0.1, 0.1])\n",
        "\n",
        "print(\"Cora train dataset: {}\".format(dataset_train))\n",
        "print(\"Cora validation dataset: {}\".format(dataset_val))\n",
        "print(\"Cora test dataset: {}\".format(dataset_test))"
      ],
      "execution_count": null,
      "outputs": []
    },
    {
      "cell_type": "markdown",
      "metadata": {
        "id": "GscopwOXC_Y7"
      },
      "source": [
        "В DeepSNAP, индексы для supervision edges хранятся в тензоре `edge_label_index` и соответствующие метки рёбер хранятся в тензоре `edge_label`."
      ]
    },
    {
      "cell_type": "code",
      "metadata": {
        "id": "XJF8fZnA2eLR"
      },
      "source": [
        "print(\"Original Cora graph has {} edges\".format(dataset[0].num_edges))\n",
        "print(\"Because Cora graph is undirected, the original edge_index has shape {}\".format(dataset[0].edge_index.shape))\n",
        "\n",
        "print(\"The training set has message passing edge index shape {}\".format(dataset_train[0].edge_index.shape))\n",
        "print(\"The training set has supervision edge index shape {}\".format(dataset_train[0].edge_label_index.shape))\n",
        "\n",
        "print(\"The validation set has message passing edge index shape {}\".format(dataset_val[0].edge_index.shape))\n",
        "print(\"The validation set has supervision edge index shape {}\".format(dataset_val[0].edge_label_index.shape))\n",
        "\n",
        "print(\"The test set has message passing edge index shape {}\".format(dataset_test[0].edge_index.shape))\n",
        "print(\"The test set has supervision edge index shape {}\".format(dataset_test[0].edge_label_index.shape))"
      ],
      "execution_count": null,
      "outputs": []
    },
    {
      "cell_type": "markdown",
      "metadata": {
        "id": "s6BX-I_oEKQX"
      },
      "source": [
        "Как видим, в обучающей и валидационной выборках - одни и те же рёбра для передачи сообщений (message passing edges) (`edge_index`) в режиме `all`. Также, в обучающей выборке, позитивные supervision edges (`edge_label_index`) совпадают с рёбрами для передачи сообщений. Однако, в тестовой выборке рёбра для передачи сообщений являются комбинацией рёбер для передачи сообщений из обучающей и валидационных выборок.\n",
        "\n",
        "Обратите внимание, что`edge_label` и `edge_label_index` включают негативные рёбра (по умолчанию количество отсутствующих рёбер идентично количеству позитивных рёбер).\n",
        "\n",
        "Теперь реализуем функцию, которая проверяет, являются ли два тензора индоксов рёбер непересекающимися(disjoint) и исследуем больше свойств разбиения рёбер, используя эту функцию."
      ]
    },
    {
      "cell_type": "markdown",
      "metadata": {
        "id": "YOZHDskbAKN6"
      },
      "source": [
        "## Вопросы 3.1 - 3.5: Реализуйте функцию, проверяющую, являются ли два тензора edge_index непересекающимися (disjoint). Затем подтвердите либо опровергните утверждения ниже. (5 баллов)\n",
        "\n",
        "Submit your answers on Gradescope."
      ]
    },
    {
      "cell_type": "code",
      "metadata": {
        "id": "wgRYdyPp8EmO"
      },
      "source": [
        "def edge_indices_disjoint(edge_index_1, edge_index_2):\n",
        "  # ЗАДАЧА: Реализуйте функцию, принимающую два тензора индексов рёбер \n",
        "  # и возвращающую суждение о том, являются ли эти тензоры непересекающимися множествами.\n",
        "  # \n",
        "  #TODO: Implement this function that takes two edge index tensors,\n",
        "  # and returns whether these two edge index tensors are disjoint.\n",
        "  disjoint = None\n",
        "\n",
        "  ############# Ваш код здесь ##############\n",
        "  ## (~5 строчек кода)\n",
        "  ## Обратите внимание:\n",
        "  ## (1) Здесь под непересекающимися множествами подразумевается что ни одно ребро не принадлежит обоим тензорам\n",
        "  ## (2) Вам не нужно рассматривать случай неориентированного графа. Например, если edge_index_1 содержит\n",
        "  ##     ребро (a, b) и edge_index_2 содержит ребро (b, a). В данной функции мы будем рассматривать\n",
        "  ##     как непересекающиеся множества.\n",
        "  ##\n",
        "  ## 1. Here disjoint means that there is no single edge belongs to either edge index tensors\n",
        "  ## 2. You do not need to consider the undirected case. For example, if edge_index_1 contains\n",
        "  ## edge (a, b) and edge_index_2 contains edge (b, a). We will treat them as disjoint in this\n",
        "  ## function.\n",
        "\n",
        "\n",
        "  #########################################\n",
        "\n",
        "  return disjoint"
      ],
      "execution_count": null,
      "outputs": []
    },
    {
      "cell_type": "code",
      "metadata": {
        "id": "EL4ASIDDEIUf"
      },
      "source": [
        "num_train_edges = dataset_train[0].edge_label_index.shape[1] // 2\n",
        "train_pos_edge_index = dataset_train[0].edge_label_index[:, :num_train_edges]\n",
        "train_neg_edge_index = dataset_train[0].edge_label_index[:, num_train_edges:]\n",
        "print(\"3.1 Training (supervision) positve and negative edges are disjoint = {}\"\\\n",
        "        .format(edge_indices_disjoint(train_pos_edge_index, train_neg_edge_index)))\n",
        "\n",
        "num_val_edges = dataset_val[0].edge_label_index.shape[1] // 2\n",
        "val_pos_edge_index = dataset_val[0].edge_label_index[:, :num_val_edges]\n",
        "val_neg_edge_index = dataset_val[0].edge_label_index[:, num_val_edges:]\n",
        "print(\"3.2 Validation (supervision) positve and negative edges are disjoint = {}\"\\\n",
        "        .format(edge_indices_disjoint(val_pos_edge_index, val_neg_edge_index)))\n",
        "\n",
        "num_test_edges = dataset_test[0].edge_label_index.shape[1] // 2\n",
        "test_pos_edge_index = dataset_test[0].edge_label_index[:, :num_test_edges]\n",
        "test_neg_edge_index = dataset_test[0].edge_label_index[:, num_test_edges:]\n",
        "print(\"3.3 Test (supervision) positve and negative edges are disjoint = {}\"\\\n",
        "        .format(edge_indices_disjoint(test_pos_edge_index, test_neg_edge_index)))\n",
        "\n",
        "print(\"3.4 Test (supervision) positve and validation (supervision) positve edges are disjoint = {}\"\\\n",
        "        .format(edge_indices_disjoint(test_pos_edge_index, val_pos_edge_index)))\n",
        "print(\"3.5 Validation (supervision) positve and training (supervision) positve edges are disjoint = {}\"\\\n",
        "        .format(edge_indices_disjoint(val_pos_edge_index, train_pos_edge_index)))"
      ],
      "execution_count": null,
      "outputs": []
    },
    {
      "cell_type": "markdown",
      "metadata": {
        "id": "8jLoVN5ZBTuA"
      },
      "source": [
        "### Disjoint Mode\n",
        "\n",
        "Теперь посмотрим на относительно более сложный режим трансдуктивного разбиения рёбер, то есть режим `edge_train_mode=\"disjoint\"` в DeepSNAP (также трансдуктивное разбиение для link prediction обсуждалось в лекции - ХОРОШО БЫ НАЙТИ ТОЧНУЮ ССЫЛКУ)"
      ]
    },
    {
      "cell_type": "code",
      "metadata": {
        "id": "3Rqzfb-0BTBm"
      },
      "source": [
        "edge_train_mode = \"disjoint\"\n",
        "\n",
        "dataset = GraphDataset(graphs, task='link_pred', edge_train_mode=edge_train_mode)\n",
        "orig_edge_index = dataset[0].edge_index\n",
        "dataset_train, dataset_val, dataset_test = dataset.split(\n",
        "    transductive=True, split_ratio=[0.8, 0.1, 0.1])\n",
        "\n",
        "train_message_edge_index = dataset_train[0].edge_index\n",
        "train_sup_edge_index = dataset_train[0].edge_label_index\n",
        "val_sup_edge_index = dataset_val[0].edge_label_index\n",
        "test_sup_edge_index = dataset_test[0].edge_label_index\n",
        "\n",
        "print(\"The edge index of original graph has shape: {}\".format(orig_edge_index.shape))\n",
        "print(\"The edge index of training message edges has shape: {}\".format(train_message_edge_index.shape))\n",
        "print(\"The edge index of training supervision edges has shape: {}\".format(train_sup_edge_index.shape))\n",
        "print(\"The edge index of validation message edges has shape: {}\".format(dataset_val[0].edge_index.shape))\n",
        "print(\"The edge index of validation supervision edges has shape: {}\".format(val_sup_edge_index.shape))\n",
        "print(\"The edge index of test message edges has shape: {}\".format(dataset_test[0].edge_index.shape))\n",
        "print(\"The edge index of test supervision edges has shape: {}\".format(test_sup_edge_index.shape))"
      ],
      "execution_count": null,
      "outputs": []
    },
    {
      "cell_type": "markdown",
      "metadata": {
        "id": "TUkBhiJNciol"
      },
      "source": [
        "You can see that the training / validation message passing edges and training supervision edges are splitted differently in those two modes!"
      ]
    },
    {
      "cell_type": "markdown",
      "metadata": {
        "id": "2WKfRjqAJHtK"
      },
      "source": [
        "### Resample Negative Edges\n",
        "\n",
        "Во время каждой итерации обучения нам обычно требуется ресемплинг негативных рёбер.\n",
        "\n",
        "Ниже мы посмотрим на обучающие и валидационные наборы рёбер для двух итераций обучения.\n",
        "\n",
        "Вы должны обнаружить, что негативные рёбра в обучающей выборке будут изменяться."
      ]
    },
    {
      "cell_type": "code",
      "metadata": {
        "id": "AMEbnx63JHWj"
      },
      "source": [
        "dataset = GraphDataset(graphs, task='link_pred', edge_train_mode=\"disjoint\")\n",
        "datasets = {}\n",
        "follow_batch = []\n",
        "datasets['train'], datasets['val'], datasets['test'] = dataset.split(\n",
        "    transductive=True, split_ratio=[0.8, 0.1, 0.1])\n",
        "dataloaders = {\n",
        "  split: DataLoader(\n",
        "    ds, collate_fn=Batch.collate(follow_batch),\n",
        "    batch_size=1, shuffle=(split=='train')\n",
        "  )\n",
        "  for split, ds in datasets.items()\n",
        "}\n",
        "neg_edges_1 = None\n",
        "for batch in dataloaders['train']:\n",
        "  num_edges = batch.edge_label_index.shape[1] // 2\n",
        "  neg_edges_1 = batch.edge_label_index[:, num_edges:]\n",
        "  print(\"First iteration training negative edges:\")\n",
        "  print(neg_edges_1)\n",
        "  break\n",
        "neg_edges_2 = None\n",
        "for batch in dataloaders['train']:\n",
        "  num_edges = batch.edge_label_index.shape[1] // 2\n",
        "  neg_edges_2 = batch.edge_label_index[:, num_edges:]\n",
        "  print(\"Second iteration training negative edges:\")\n",
        "  print(neg_edges_2)\n",
        "  break\n",
        "\n",
        "neg_edges_1 = None\n",
        "for batch in dataloaders['val']:\n",
        "  num_edges = batch.edge_label_index.shape[1] // 2\n",
        "  neg_edges_1 = batch.edge_label_index[:, num_edges:]\n",
        "  print(\"First iteration validation negative edges:\")\n",
        "  print(neg_edges_1)\n",
        "  break\n",
        "neg_edges_2 = None\n",
        "for batch in dataloaders['val']:\n",
        "  num_edges = batch.edge_label_index.shape[1] // 2\n",
        "  neg_edges_2 = batch.edge_label_index[:, num_edges:]\n",
        "  print(\"Second iteration validation negative edges:\")\n",
        "  print(neg_edges_2)\n",
        "  break"
      ],
      "execution_count": null,
      "outputs": []
    },
    {
      "cell_type": "markdown",
      "metadata": {
        "id": "DEzqh7wEdrh0"
      },
      "source": [
        "Если вас интересуют настройки разбиения графов, обратитесь к [документации](https://snap.stanford.edu/deepsnap/modules/dataset.html) по работе с наборами данных в DeepSNAP."
      ]
    },
    {
      "cell_type": "markdown",
      "metadata": {
        "id": "XkrYyeSUI_9_"
      },
      "source": [
        "## Трансформации графов и вычисление признаков\n",
        "\n",
        "Ещё одна ключевая функциональность DeepSNAP - это трансформации графов и вычисление признаков.\n",
        "\n",
        "В DeepSNAP мы разделяем трансформацию графов / вычисление признаков в два различных типа. Первый - трансформация до обучения (изменяющая весь набор данных непосредственно перед обучением) и второй - трансформация во время обучения (изменяющая партии (batches) графов).\n",
        "\n",
        "Вот пример, который использует NetworkX для вычисления значений PageRank и обновляет значения в тензорах перед обучением (трансформация набора данных)."
      ]
    },
    {
      "cell_type": "code",
      "metadata": {
        "id": "gnAVbZINLZ4I"
      },
      "source": [
        "def pagerank_transform_fn(graph):\n",
        "\n",
        "  # Получим входной граф / Get the referenced networkx graph\n",
        "  G = graph.G\n",
        "\n",
        "  # Вычислим значения PageRank в NetworkX / Calculate the pagerank by using networkx\n",
        "  pr = nx.pagerank(G)\n",
        "\n",
        "  # Трансформируем полученные значения PageRank в тензор\n",
        "  pr_feature = torch.tensor([pr[node] for node in range(graph.num_nodes)], dtype=torch.float32)\n",
        "  pr_feature = pr_feature.view(graph.num_nodes, 1)\n",
        "\n",
        "  # Конкатенируем значения PageRank с признаками вершин\n",
        "  graph.node_feature = torch.cat([graph.node_feature, pr_feature], dim=-1)\n",
        "\n",
        "root = './tmp/cox2'\n",
        "name = 'COX2'\n",
        "pyg_dataset = TUDataset(root, name)\n",
        "graphs = GraphDataset.pyg_to_graphs(pyg_dataset)\n",
        "dataset = GraphDataset(graphs, task='graph')\n",
        "print(\"Number of features before transformation: {}\".format(dataset.num_node_features))\n",
        "dataset.apply_transform(pagerank_transform_fn, update_tensor=False)\n",
        "print(\"Number of features after transformation: {}\".format(dataset.num_node_features))"
      ],
      "execution_count": null,
      "outputs": []
    },
    {
      "cell_type": "markdown",
      "metadata": {
        "id": "LHByE87SQkUw"
      },
      "source": [
        "## Вопрос 3.6: Реализуйте трансформацию ниже и сообщите коэффициент кластеризации для вершины (номер 3) графа (номер 406) в наборе данных COX2. Округлите ответ до двух десятичных знаков. (5 баллов)"
      ]
    },
    {
      "cell_type": "code",
      "metadata": {
        "id": "RNEjfOZRNjYb"
      },
      "source": [
        "def cluster_transform_fn(graph):\n",
        "  # ЗАДАЧА: Реализуйте функцию, принимающую объект графа deepsnap и\n",
        "  # трансформирующую граф путём добавления коэффициента кластеризации\n",
        "  # в graph.node_feature\n",
        "  #\n",
        "  #TODO: Implement this function that takes an deepsnap graph object,\n",
        "  # transform the graph by adding nodes clustering coefficient into the \n",
        "  # graph.node_feature\n",
        "\n",
        "  ############# Ваш код здесь ##############\n",
        "  ## (~5 строчек кода)\n",
        "  ## Обратите внимание:\n",
        "  ## (1) Вычислите коэффициент кластеризации для каждой вершины и \n",
        "  ## конкатенируйте полученные значения справа с вектором признаков\n",
        "  ## (to the last dimension of graph.node_feature)\n",
        "\n",
        "\n",
        "  #########################################\n",
        "\n",
        "root = './cox2'\n",
        "name = 'COX2'\n",
        "pyg_dataset = TUDataset(root, name)\n",
        "graphs = GraphDataset.pyg_to_graphs(pyg_dataset)\n",
        "dataset = GraphDataset(graphs, task='graph')\n",
        "\n",
        "# Трансформируем набор данных\n",
        "dataset.apply_transform(cluster_transform_fn, update_tensor=False)\n",
        "\n",
        "node_idx = 3\n",
        "graph_idx = 406\n",
        "node_feature = dataset[graph_idx].node_feature\n",
        "\n",
        "print(\"The node has clustering coefficient: {}\".format(round(node_feature[node_idx][-1].item(), 2)))"
      ],
      "execution_count": null,
      "outputs": []
    },
    {
      "cell_type": "markdown",
      "metadata": {
        "id": "4P5Ig7XaPYzp"
      },
      "source": [
        "Кроме трансформации набора данных, DeepSNAP также может трансформировать граф (обыкновенно `deepsnap.batch.Batch`) во время каждой итерации обучения.\n",
        "\n",
        "Также DeepSNAP поддерживает синхронизацию трансформации между связанными объектами графов и их тензорными представлениями. Например, вы можете просто обновить граф в NetworkX в трансформирующей функции и, задав `update_tensor=True`, автоматически обновить тензорные представления.\n",
        "\n",
        "За более подробной информацией, пожалуйста обращайтесь к [документации](https://snap.stanford.edu/deepsnap/) DeepSNAP."
      ]
    },
    {
      "cell_type": "markdown",
      "metadata": {
        "id": "s-YLYMLFQYqp"
      },
      "source": [
        "# 4 Edge Level Prediction\n",
        "\n",
        "Из предыдущей секции мы знаем каким образом DeepSNAP производит трансдуктивное разбиение рёбер для задачи предсказания связи (link prediction).\n",
        "\n",
        "Теперь используем DeepSNAP и PyG вместе для реализации задачи предсказания на уровне рёбер (link prediction)!"
      ]
    },
    {
      "cell_type": "code",
      "metadata": {
        "id": "hrKCNtvERypQ"
      },
      "source": [
        "import copy\n",
        "import torch\n",
        "import numpy as np\n",
        "import networkx as nx\n",
        "import matplotlib.pyplot as plt\n",
        "\n",
        "from deepsnap.graph import Graph\n",
        "from deepsnap.batch import Batch\n",
        "from deepsnap.dataset import GraphDataset\n",
        "from torch_geometric.datasets import Planetoid, TUDataset\n",
        "\n",
        "from torch.utils.data import DataLoader\n",
        "\n",
        "import torch.nn.functional as F\n",
        "from torch_geometric.nn import SAGEConv\n",
        "\n",
        "class LinkPredModel(torch.nn.Module):\n",
        "    def __init__(self, input_dim, hidden_dim, num_classes, dropout=0.2):\n",
        "        super(LinkPredModel, self).__init__()\n",
        "\n",
        "        self.conv1 = SAGEConv(input_dim, hidden_dim)\n",
        "        self.conv2 = SAGEConv(hidden_dim, num_classes)\n",
        "\n",
        "        self.loss_fn = None\n",
        "\n",
        "        ############# Ваш код здесь ##############\n",
        "        ## (~1 строчка кода)\n",
        "        ## Обратите внимание:\n",
        "        ## (1) Инициализируйте функцию потерь как BCEWithLogitsLoss\n",
        "\n",
        "\n",
        "        ##########################################\n",
        "\n",
        "        self.dropout = dropout\n",
        "\n",
        "    def reset_parameters(self):\n",
        "        self.conv1.reset_parameters()\n",
        "        self.conv2.reset_parameters()\n",
        "\n",
        "    def forward(self, batch):\n",
        "        node_feature, edge_index, edge_label_index = batch.node_feature, batch.edge_index, batch.edge_label_index\n",
        "        \n",
        "        ############# Ваш код здесь ##############\n",
        "        ## (~6 строчек кода)\n",
        "        ## Обратите внимание:\n",
        "        ## (1) Отправьте признаки вершин в первый слой свёртки (conv layer)\n",
        "        ## (2) Добавьте ReLU после слоя свёртки\n",
        "        ## (3) Добавьте dropout после ReLU (с вероятностью self.dropout)\n",
        "        ## (4) Направьте выход во второй слой свёртки\n",
        "        ## (5) Выберите эмбеддинги для начальных и конечных вершин,\n",
        "        ##     используя edge_label_index и вычислите подобие каждой пары\n",
        "        ##     как скалярное произведение\n",
        "        ##\n",
        "        ##\n",
        "        ##\n",
        "        ## 1. Feed the node feature into the first conv layer\n",
        "        ## 2. Add a ReLU after the first conv layer\n",
        "        ## 3. Add dropout after the ReLU (with probability self.dropout)\n",
        "        ## 4. Feed the output to the second conv layer\n",
        "        ## 5. Select the embeddings of the source nodes and destination nodes\n",
        "        ## by using the edge_label_index and compute the similarity of each pair\n",
        "        ## by dot product\n",
        "\n",
        "        \n",
        "        ##########################################\n",
        "\n",
        "        return pred\n",
        "    \n",
        "    def loss(self, pred, link_label):\n",
        "        return self.loss_fn(pred, link_label)"
      ],
      "execution_count": null,
      "outputs": []
    },
    {
      "cell_type": "code",
      "metadata": {
        "id": "uuKbGFOu1Ka8"
      },
      "source": [
        "from sklearn.metrics import *\n",
        "\n",
        "def train(model, dataloaders, optimizer, args):\n",
        "    val_max = 0\n",
        "    best_model = model\n",
        "\n",
        "    for epoch in range(1, args[\"epochs\"]):\n",
        "        for i, batch in enumerate(dataloaders['train']):\n",
        "            \n",
        "            batch.to(args[\"device\"])\n",
        "\n",
        "            ############# Ваш код здесь ##############\n",
        "            ## (~6 строчек кода)\n",
        "            ## Обратите внимание:\n",
        "            ## (1) Обнулите градиенты оптимизатора\n",
        "            ## (2) Вычислите функцию потерь и проведите обратное распространение\n",
        "            ## (3) Обновите параметры модели\n",
        "            ##\n",
        "            ## 1. Zero grad the optimizer\n",
        "            ## 2. Compute loss and backpropagate\n",
        "            ## 3. Update the model parameters\n",
        "\n",
        "\n",
        "            ##########################################\n",
        "\n",
        "            log = 'Epoch: {:03d}, Train: {:.4f}, Val: {:.4f}, Test: {:.4f}, Loss: {}'\n",
        "            score_train = test(model, dataloaders['train'], args)\n",
        "            score_val = test(model, dataloaders['val'], args)\n",
        "            score_test = test(model, dataloaders['test'], args)\n",
        "\n",
        "            print(log.format(epoch, score_train, score_val, score_test, loss.item()))\n",
        "            if val_max < score_val:\n",
        "                val_max = score_val\n",
        "                best_model = copy.deepcopy(model)\n",
        "    return best_model\n",
        "\n",
        "def test(model, dataloader, args):\n",
        "    model.eval()\n",
        "\n",
        "    score = 0\n",
        "\n",
        "    ############# Ваш код здесь ##############\n",
        "    ## (~6 строчек кода)\n",
        "    ## Обратите внимание:\n",
        "    ## (1) Итерируйте по партиям в загрузчике данных\n",
        "    ## (2) Загрузите партию в модель\n",
        "    ## (3) Направьте выход модели в сигмоид\n",
        "    ## (4) Вычислите ROC-AUC score, используя функцию sklearn roc_auc_score\n",
        "    ## (5) Метки рёбер хранятся в batch.edge_label\n",
        "    ##\n",
        "    ## 1. Loop through batches in the dataloader\n",
        "    ## 2. Feed the batch to the model\n",
        "    ## 3. Feed the model output to sigmoid\n",
        "    ## 4. Compute the ROC-AUC score by using sklearn roc_auc_score function\n",
        "    ## 5. Edge labels are stored in batch.edge_label\n",
        "\n",
        "    \n",
        "    ##########################################\n",
        " \n",
        "    return score"
      ],
      "execution_count": null,
      "outputs": []
    },
    {
      "cell_type": "code",
      "metadata": {
        "id": "JTKWYX1b33V3"
      },
      "source": [
        "# Пожалуйста не изменяйте параметры\n",
        "args = {\n",
        "    \"device\" : 'cuda' if torch.cuda.is_available() else 'cpu',\n",
        "    \"hidden_dim\" : 128,\n",
        "    \"epochs\" : 200,\n",
        "}"
      ],
      "execution_count": null,
      "outputs": []
    },
    {
      "cell_type": "code",
      "metadata": {
        "id": "Klw_xYnE27xQ"
      },
      "source": [
        "pyg_dataset = Planetoid('./tmp/cora', 'Cora')\n",
        "graphs = GraphDataset.pyg_to_graphs(pyg_dataset)\n",
        "\n",
        "dataset = GraphDataset(\n",
        "        graphs,\n",
        "        task='link_pred',\n",
        "        edge_train_mode=\"disjoint\"\n",
        "    )\n",
        "datasets = {}\n",
        "datasets['train'], datasets['val'], datasets['test']= dataset.split(\n",
        "            transductive=True, split_ratio=[0.85, 0.05, 0.1])\n",
        "input_dim = datasets['train'].num_node_features\n",
        "num_classes = datasets['train'].num_edge_labels\n",
        "\n",
        "model = LinkPredModel(input_dim, args[\"hidden_dim\"], num_classes).to(args[\"device\"])\n",
        "model.reset_parameters()\n",
        "\n",
        "optimizer = torch.optim.SGD(model.parameters(), lr=0.1, momentum=0.9, weight_decay=5e-4)\n",
        "\n",
        "dataloaders = {split: DataLoader(\n",
        "            ds, collate_fn=Batch.collate([]),\n",
        "            batch_size=1, shuffle=(split=='train'))\n",
        "            for split, ds in datasets.items()}\n",
        "best_model = train(model, dataloaders, optimizer, args)\n",
        "log = \"Train: {:.4f}, Val: {:.4f}, Test: {:.4f}\"\n",
        "best_train_roc = test(best_model, dataloaders['train'], args)\n",
        "best_val_roc = test(best_model, dataloaders['val'], args)\n",
        "best_test_roc = test(best_model, dataloaders['test'], args)\n",
        "print(log.format(best_train_roc, best_val_roc, best_test_roc))"
      ],
      "execution_count": null,
      "outputs": []
    },
    {
      "cell_type": "markdown",
      "metadata": {
        "id": "j5brlsKElP0_"
      },
      "source": [
        "## Вопрос 4: Каково максимальное значение ROC-AUC score для best_model на тесте? (13 баллов)\n",
        "\n",
        "Submit your answers on Gradescope."
      ]
    },
    {
      "cell_type": "markdown",
      "metadata": {
        "id": "e7JXsMTBgeOI"
      },
      "source": [
        "# Submission\n",
        "\n",
        "In order to get credit, you must go submit your answers on Gradescope.\n",
        "\n",
        "Also, you need to submit the `ipynb` file of Colab 3, by clicking `File` and `Download .ipynb`. Please make sure that your output of each cell is available in your `ipynb` file."
      ]
    }
  ]
}