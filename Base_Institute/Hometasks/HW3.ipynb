{
 "cells": [
  {
   "cell_type": "code",
   "execution_count": 0,
   "metadata": {
    "colab": {},
    "colab_type": "code",
    "id": "TAt9_3fBiJet"
   },
   "outputs": [],
   "source": [
    "import warnings\n",
    "warnings.filterwarnings('ignore')\n",
    "from keras_preprocessing.image import ImageDataGenerator\n",
    "from keras.callbacks import EarlyStopping\n",
    "from keras.utils import to_categorical"
   ]
  },
  {
   "cell_type": "code",
   "execution_count": 225,
   "metadata": {
    "colab": {
     "base_uri": "https://localhost:8080/",
     "height": 34
    },
    "colab_type": "code",
    "executionInfo": {
     "elapsed": 1518,
     "status": "ok",
     "timestamp": 1587549727907,
     "user": {
      "displayName": "Александр Сергеевич Чернявский",
      "photoUrl": "https://lh3.googleusercontent.com/a-/AOh14GiFEOaj6DxQmsDw2un9e0iNjbreJ-wxgrPSXquj=s64",
      "userId": "07399096020997671028"
     },
     "user_tz": -180
    },
    "id": "sRMlYKtfiJey",
    "outputId": "45bbc741-8590-4ded-906c-13f0608838a0"
   },
   "outputs": [
    {
     "name": "stdout",
     "output_type": "stream",
     "text": [
      "TRAIN, VALID and TEST shapes (48000, 28, 28) (12000, 28, 28) (10000, 28, 28)\n"
     ]
    }
   ],
   "source": [
    "X_train, X_test, X_valid,  Y_train, Y_test, Y_valid = open_fashion_mnist('/content/drive/My Drive/C&AI -- Hometasks/fashion-mnist/data/fashion', 0.2)\n",
    "print(\"TRAIN, VALID and TEST shapes\", X_train.shape, X_valid.shape, X_test.shape)\n",
    "img_w, img_h = X_train.shape[1:]"
   ]
  },
  {
   "cell_type": "code",
   "execution_count": 226,
   "metadata": {
    "colab": {
     "base_uri": "https://localhost:8080/",
     "height": 187
    },
    "colab_type": "code",
    "executionInfo": {
     "elapsed": 1510,
     "status": "ok",
     "timestamp": 1587549727908,
     "user": {
      "displayName": "Александр Сергеевич Чернявский",
      "photoUrl": "https://lh3.googleusercontent.com/a-/AOh14GiFEOaj6DxQmsDw2un9e0iNjbreJ-wxgrPSXquj=s64",
      "userId": "07399096020997671028"
     },
     "user_tz": -180
    },
    "id": "nSDHczQFiJe2",
    "outputId": "edeb0561-b528-451d-c180-e8f60bcfa08f"
   },
   "outputs": [
    {
     "data": {
      "text/plain": [
       "{0: \"T-shirt'/'top\",\n",
       " 1: 'Trouser',\n",
       " 2: 'Pullover',\n",
       " 3: 'Dress',\n",
       " 4: 'Coat',\n",
       " 5: 'Sandal',\n",
       " 6: 'Shirt',\n",
       " 7: 'Sneaker',\n",
       " 8: 'Bag',\n",
       " 9: 'Ankle boot'}"
      ]
     },
     "execution_count": 226,
     "metadata": {
      "tags": []
     },
     "output_type": "execute_result"
    }
   ],
   "source": [
    "num_classes = 10\n",
    "batch_size = 512\n",
    "label_dict"
   ]
  },
  {
   "cell_type": "code",
   "execution_count": 0,
   "metadata": {
    "colab": {},
    "colab_type": "code",
    "id": "RgJ18FNtiJe6"
   },
   "outputs": [],
   "source": [
    "Y_train = to_categorical(Y_train, num_classes)\n",
    "Y_valid = to_categorical(Y_valid, num_classes)\n",
    "Y_test = to_categorical(Y_test, num_classes)\n",
    "\n",
    "X_train, input_shape = scale_data(X_train)\n",
    "X_valid, _ = scale_data(X_valid)\n",
    "X_test, _ = scale_data(X_test)"
   ]
  },
  {
   "cell_type": "code",
   "execution_count": 228,
   "metadata": {
    "colab": {
     "base_uri": "https://localhost:8080/",
     "height": 1000
    },
    "colab_type": "code",
    "executionInfo": {
     "elapsed": 1853,
     "status": "ok",
     "timestamp": 1587549728270,
     "user": {
      "displayName": "Александр Сергеевич Чернявский",
      "photoUrl": "https://lh3.googleusercontent.com/a-/AOh14GiFEOaj6DxQmsDw2un9e0iNjbreJ-wxgrPSXquj=s64",
      "userId": "07399096020997671028"
     },
     "user_tz": -180
    },
    "id": "cm-k5TNsiJfA",
    "outputId": "fba33838-690d-4458-aca1-02edffa63285"
   },
   "outputs": [
    {
     "name": "stdout",
     "output_type": "stream",
     "text": [
      "Model: \"sequential_43\"\n",
      "_________________________________________________________________\n",
      "Layer (type)                 Output Shape              Param #   \n",
      "=================================================================\n",
      "conv2d_397 (Conv2D)          (None, 28, 28, 32)        320       \n",
      "_________________________________________________________________\n",
      "conv2d_398 (Conv2D)          (None, 28, 28, 32)        9248      \n",
      "_________________________________________________________________\n",
      "batch_normalization_93 (Batc (None, 28, 28, 32)        128       \n",
      "_________________________________________________________________\n",
      "dropout_266 (Dropout)        (None, 28, 28, 32)        0         \n",
      "_________________________________________________________________\n",
      "conv2d_399 (Conv2D)          (None, 28, 28, 64)        18496     \n",
      "_________________________________________________________________\n",
      "conv2d_400 (Conv2D)          (None, 28, 28, 64)        36928     \n",
      "_________________________________________________________________\n",
      "max_pooling2d_157 (MaxPoolin (None, 14, 14, 64)        0         \n",
      "_________________________________________________________________\n",
      "dropout_267 (Dropout)        (None, 14, 14, 64)        0         \n",
      "_________________________________________________________________\n",
      "conv2d_401 (Conv2D)          (None, 14, 14, 128)       73856     \n",
      "_________________________________________________________________\n",
      "conv2d_402 (Conv2D)          (None, 14, 14, 128)       147584    \n",
      "_________________________________________________________________\n",
      "max_pooling2d_158 (MaxPoolin (None, 7, 7, 128)         0         \n",
      "_________________________________________________________________\n",
      "dropout_268 (Dropout)        (None, 7, 7, 128)         0         \n",
      "_________________________________________________________________\n",
      "conv2d_403 (Conv2D)          (None, 7, 7, 256)         295168    \n",
      "_________________________________________________________________\n",
      "conv2d_404 (Conv2D)          (None, 7, 7, 256)         590080    \n",
      "_________________________________________________________________\n",
      "max_pooling2d_159 (MaxPoolin (None, 3, 3, 256)         0         \n",
      "_________________________________________________________________\n",
      "dropout_269 (Dropout)        (None, 3, 3, 256)         0         \n",
      "_________________________________________________________________\n",
      "conv2d_405 (Conv2D)          (None, 3, 3, 512)         1180160   \n",
      "_________________________________________________________________\n",
      "conv2d_406 (Conv2D)          (None, 3, 3, 512)         2359808   \n",
      "_________________________________________________________________\n",
      "max_pooling2d_160 (MaxPoolin (None, 1, 1, 512)         0         \n",
      "_________________________________________________________________\n",
      "dropout_270 (Dropout)        (None, 1, 1, 512)         0         \n",
      "_________________________________________________________________\n",
      "flatten_43 (Flatten)         (None, 512)               0         \n",
      "_________________________________________________________________\n",
      "dense_111 (Dense)            (None, 512)               262656    \n",
      "_________________________________________________________________\n",
      "batch_normalization_94 (Batc (None, 512)               2048      \n",
      "_________________________________________________________________\n",
      "dropout_271 (Dropout)        (None, 512)               0         \n",
      "_________________________________________________________________\n",
      "dense_112 (Dense)            (None, 512)               262656    \n",
      "_________________________________________________________________\n",
      "batch_normalization_95 (Batc (None, 512)               2048      \n",
      "_________________________________________________________________\n",
      "dropout_272 (Dropout)        (None, 512)               0         \n",
      "_________________________________________________________________\n",
      "dense_113 (Dense)            (None, 10)                5130      \n",
      "=================================================================\n",
      "Total params: 5,246,314\n",
      "Trainable params: 5,244,202\n",
      "Non-trainable params: 2,112\n",
      "_________________________________________________________________\n"
     ]
    }
   ],
   "source": [
    "model_ = _model(input_shape, num_classes)"
   ]
  },
  {
   "cell_type": "code",
   "execution_count": 229,
   "metadata": {
    "colab": {
     "base_uri": "https://localhost:8080/",
     "height": 394
    },
    "colab_type": "code",
    "executionInfo": {
     "elapsed": 751940,
     "status": "ok",
     "timestamp": 1587550478366,
     "user": {
      "displayName": "Александр Сергеевич Чернявский",
      "photoUrl": "https://lh3.googleusercontent.com/a-/AOh14GiFEOaj6DxQmsDw2un9e0iNjbreJ-wxgrPSXquj=s64",
      "userId": "07399096020997671028"
     },
     "user_tz": -180
    },
    "id": "iXZGwwG5iJfE",
    "outputId": "f3931486-4c04-4e27-8d22-794265cdb7b7"
   },
   "outputs": [
    {
     "name": "stdout",
     "output_type": "stream",
     "text": [
      "Epoch 1/50\n",
      "187/187 [==============================] - 77s 414ms/step - loss: 1.3317 - precision_: 0.6210 - recall_: 0.3379 - f1_score: 0.4319 - val_loss: 3.3811 - val_precision_: 0.1531 - val_recall_: 0.1087 - val_f1_score: 0.1271\n",
      "Epoch 2/50\n",
      "187/187 [==============================] - 75s 402ms/step - loss: 0.6776 - precision_: 0.8298 - recall_: 0.6433 - f1_score: 0.7242 - val_loss: 1.0208 - val_precision_: 0.7564 - val_recall_: 0.4793 - val_f1_score: 0.5867\n",
      "Epoch 3/50\n",
      "187/187 [==============================] - 76s 404ms/step - loss: 0.5083 - precision_: 0.8611 - recall_: 0.7632 - f1_score: 0.8090 - val_loss: 0.4126 - val_precision_: 0.8779 - val_recall_: 0.8173 - val_f1_score: 0.8465\n",
      "Epoch 4/50\n",
      "187/187 [==============================] - 75s 400ms/step - loss: 0.4183 - precision_: 0.8829 - recall_: 0.8170 - f1_score: 0.8486 - val_loss: 0.3513 - val_precision_: 0.8946 - val_recall_: 0.8545 - val_f1_score: 0.8741\n",
      "Epoch 5/50\n",
      "187/187 [==============================] - 73s 390ms/step - loss: 0.3675 - precision_: 0.8952 - recall_: 0.8409 - f1_score: 0.8672 - val_loss: 0.2444 - val_precision_: 0.9061 - val_recall_: 0.8747 - val_f1_score: 0.8901\n",
      "Epoch 6/50\n",
      "187/187 [==============================] - 74s 397ms/step - loss: 0.3390 - precision_: 0.9011 - recall_: 0.8551 - f1_score: 0.8775 - val_loss: 0.3291 - val_precision_: 0.8997 - val_recall_: 0.8748 - val_f1_score: 0.8870\n",
      "Epoch 7/50\n",
      "187/187 [==============================] - 73s 392ms/step - loss: 0.3231 - precision_: 0.9052 - recall_: 0.8628 - f1_score: 0.8835 - val_loss: 0.2699 - val_precision_: 0.9073 - val_recall_: 0.8847 - val_f1_score: 0.8958\n",
      "Epoch 8/50\n",
      "187/187 [==============================] - 75s 400ms/step - loss: 0.3082 - precision_: 0.9087 - recall_: 0.8697 - f1_score: 0.8888 - val_loss: 0.3124 - val_precision_: 0.9100 - val_recall_: 0.8868 - val_f1_score: 0.8982\n",
      "Epoch 9/50\n",
      "187/187 [==============================] - 74s 396ms/step - loss: 0.2930 - precision_: 0.9123 - recall_: 0.8762 - f1_score: 0.8939 - val_loss: 0.2647 - val_precision_: 0.9135 - val_recall_: 0.8952 - val_f1_score: 0.9043\n",
      "Epoch 10/50\n",
      "187/187 [==============================] - 75s 400ms/step - loss: 0.2828 - precision_: 0.9145 - recall_: 0.8815 - f1_score: 0.8977 - val_loss: 0.3055 - val_precision_: 0.9189 - val_recall_: 0.9009 - val_f1_score: 0.9098\n",
      "Epoch 00010: early stopping\n"
     ]
    }
   ],
   "source": [
    "batch_size = 256\n",
    "gen = ImageDataGenerator(rotation_range = 15, width_shift_range = 0.15, shear_range = 0.01,\n",
    "                               height_shift_range = 0.15, zoom_range = 0.15)\n",
    "batches = gen.flow(X_train, Y_train, batch_size = 5 * batch_size)\n",
    "\n",
    "val_batches = gen.flow(X_valid, Y_valid, batch_size = 5 * batch_size)\n",
    "\n",
    "earlystopper = EarlyStopping(patience = 5, verbose = 1)\n",
    "h = model_.fit_generator(batches, steps_per_epoch = X_train.shape[0] // batch_size, epochs = 50,\n",
    "                    validation_data = val_batches, validation_steps = X_valid.shape[0] //batch_size,\n",
    "                    callbacks = [earlystopper])"
   ]
  },
  {
   "cell_type": "code",
   "execution_count": 230,
   "metadata": {
    "colab": {
     "base_uri": "https://localhost:8080/",
     "height": 819
    },
    "colab_type": "code",
    "executionInfo": {
     "elapsed": 939886,
     "status": "ok",
     "timestamp": 1587550666324,
     "user": {
      "displayName": "Александр Сергеевич Чернявский",
      "photoUrl": "https://lh3.googleusercontent.com/a-/AOh14GiFEOaj6DxQmsDw2un9e0iNjbreJ-wxgrPSXquj=s64",
      "userId": "07399096020997671028"
     },
     "user_tz": -180
    },
    "id": "JSITPc3giJfJ",
    "outputId": "ec51fc0f-b4cf-4a1c-875b-f523030c6a9c"
   },
   "outputs": [
    {
     "name": "stdout",
     "output_type": "stream",
     "text": [
      "Train on 48000 samples, validate on 12000 samples\n",
      "Epoch 1/50\n",
      "48000/48000 [==============================] - 9s 178us/step - loss: 0.2372 - precision_: 0.9272 - recall_: 0.9031 - f1_score: 0.9150 - val_loss: 0.2115 - val_precision_: 0.9320 - val_recall_: 0.9201 - val_f1_score: 0.9260\n",
      "Epoch 2/50\n",
      "48000/48000 [==============================] - 8s 177us/step - loss: 0.2287 - precision_: 0.9308 - recall_: 0.9082 - f1_score: 0.9194 - val_loss: 0.2055 - val_precision_: 0.9349 - val_recall_: 0.9220 - val_f1_score: 0.9284\n",
      "Epoch 3/50\n",
      "48000/48000 [==============================] - 9s 178us/step - loss: 0.2177 - precision_: 0.9327 - recall_: 0.9119 - f1_score: 0.9221 - val_loss: 0.1954 - val_precision_: 0.9362 - val_recall_: 0.9275 - val_f1_score: 0.9318\n",
      "Epoch 4/50\n",
      "48000/48000 [==============================] - 9s 178us/step - loss: 0.2075 - precision_: 0.9364 - recall_: 0.9174 - f1_score: 0.9268 - val_loss: 0.1982 - val_precision_: 0.9365 - val_recall_: 0.9272 - val_f1_score: 0.9319\n",
      "Epoch 5/50\n",
      "48000/48000 [==============================] - 8s 177us/step - loss: 0.1973 - precision_: 0.9380 - recall_: 0.9215 - f1_score: 0.9297 - val_loss: 0.2124 - val_precision_: 0.9334 - val_recall_: 0.9260 - val_f1_score: 0.9297\n",
      "Epoch 6/50\n",
      "48000/48000 [==============================] - 8s 177us/step - loss: 0.1941 - precision_: 0.9392 - recall_: 0.9222 - f1_score: 0.9306 - val_loss: 0.1883 - val_precision_: 0.9408 - val_recall_: 0.9320 - val_f1_score: 0.9364\n",
      "Epoch 7/50\n",
      "48000/48000 [==============================] - 9s 178us/step - loss: 0.1873 - precision_: 0.9415 - recall_: 0.9260 - f1_score: 0.9337 - val_loss: 0.1795 - val_precision_: 0.9412 - val_recall_: 0.9330 - val_f1_score: 0.9371\n",
      "Epoch 8/50\n",
      "48000/48000 [==============================] - 9s 177us/step - loss: 0.1811 - precision_: 0.9424 - recall_: 0.9270 - f1_score: 0.9346 - val_loss: 0.1904 - val_precision_: 0.9404 - val_recall_: 0.9319 - val_f1_score: 0.9361\n",
      "Epoch 9/50\n",
      "48000/48000 [==============================] - 9s 178us/step - loss: 0.1763 - precision_: 0.9435 - recall_: 0.9295 - f1_score: 0.9364 - val_loss: 0.2068 - val_precision_: 0.9348 - val_recall_: 0.9266 - val_f1_score: 0.9307\n",
      "Epoch 10/50\n",
      "48000/48000 [==============================] - 9s 178us/step - loss: 0.1739 - precision_: 0.9444 - recall_: 0.9308 - f1_score: 0.9375 - val_loss: 0.1667 - val_precision_: 0.9445 - val_recall_: 0.9360 - val_f1_score: 0.9402\n",
      "Epoch 11/50\n",
      "48000/48000 [==============================] - 9s 177us/step - loss: 0.1659 - precision_: 0.9476 - recall_: 0.9349 - f1_score: 0.9412 - val_loss: 0.1956 - val_precision_: 0.9386 - val_recall_: 0.9305 - val_f1_score: 0.9345\n",
      "Epoch 12/50\n",
      "48000/48000 [==============================] - 9s 177us/step - loss: 0.1661 - precision_: 0.9458 - recall_: 0.9347 - f1_score: 0.9402 - val_loss: 0.1738 - val_precision_: 0.9439 - val_recall_: 0.9369 - val_f1_score: 0.9404\n",
      "Epoch 13/50\n",
      "48000/48000 [==============================] - 9s 179us/step - loss: 0.1597 - precision_: 0.9491 - recall_: 0.9370 - f1_score: 0.9430 - val_loss: 0.1772 - val_precision_: 0.9432 - val_recall_: 0.9347 - val_f1_score: 0.9389\n",
      "Epoch 14/50\n",
      "48000/48000 [==============================] - 9s 178us/step - loss: 0.1551 - precision_: 0.9496 - recall_: 0.9383 - f1_score: 0.9439 - val_loss: 0.1889 - val_precision_: 0.9376 - val_recall_: 0.9293 - val_f1_score: 0.9334\n",
      "Epoch 15/50\n",
      "48000/48000 [==============================] - 9s 179us/step - loss: 0.1569 - precision_: 0.9496 - recall_: 0.9382 - f1_score: 0.9439 - val_loss: 0.1914 - val_precision_: 0.9408 - val_recall_: 0.9354 - val_f1_score: 0.9381\n",
      "Epoch 16/50\n",
      "48000/48000 [==============================] - 9s 178us/step - loss: 0.1506 - precision_: 0.9512 - recall_: 0.9409 - f1_score: 0.9460 - val_loss: 0.1665 - val_precision_: 0.9471 - val_recall_: 0.9390 - val_f1_score: 0.9430\n",
      "Epoch 17/50\n",
      "48000/48000 [==============================] - 9s 177us/step - loss: 0.1488 - precision_: 0.9514 - recall_: 0.9408 - f1_score: 0.9460 - val_loss: 0.1759 - val_precision_: 0.9422 - val_recall_: 0.9368 - val_f1_score: 0.9395\n",
      "Epoch 18/50\n",
      "48000/48000 [==============================] - 9s 178us/step - loss: 0.1433 - precision_: 0.9538 - recall_: 0.9439 - f1_score: 0.9488 - val_loss: 0.1752 - val_precision_: 0.9445 - val_recall_: 0.9375 - val_f1_score: 0.9410\n",
      "Epoch 19/50\n",
      "48000/48000 [==============================] - 9s 178us/step - loss: 0.1384 - precision_: 0.9553 - recall_: 0.9460 - f1_score: 0.9506 - val_loss: 0.1680 - val_precision_: 0.9458 - val_recall_: 0.9404 - val_f1_score: 0.9431\n",
      "Epoch 20/50\n",
      "48000/48000 [==============================] - 9s 177us/step - loss: 0.1379 - precision_: 0.9542 - recall_: 0.9459 - f1_score: 0.9500 - val_loss: 0.1740 - val_precision_: 0.9462 - val_recall_: 0.9414 - val_f1_score: 0.9438\n",
      "Epoch 21/50\n",
      "48000/48000 [==============================] - 9s 177us/step - loss: 0.1360 - precision_: 0.9551 - recall_: 0.9461 - f1_score: 0.9506 - val_loss: 0.1758 - val_precision_: 0.9434 - val_recall_: 0.9384 - val_f1_score: 0.9409\n",
      "Epoch 22/50\n",
      "48000/48000 [==============================] - 9s 178us/step - loss: 0.1292 - precision_: 0.9595 - recall_: 0.9509 - f1_score: 0.9552 - val_loss: 0.1704 - val_precision_: 0.9470 - val_recall_: 0.9411 - val_f1_score: 0.9440\n",
      "Epoch 00022: early stopping\n"
     ]
    }
   ],
   "source": [
    "n_epochs = 50\n",
    "batch_size = 512\n",
    "earlystopper = EarlyStopping(patience = 6, verbose = 1)\n",
    "history = model_.fit(X_train, Y_train,\n",
    "          batch_size = batch_size,\n",
    "          epochs = n_epochs,\n",
    "          verbose = 1,\n",
    "          callbacks = [earlystopper],\n",
    "          shuffle = True,\n",
    "          validation_data = (X_valid, Y_valid))"
   ]
  },
  {
   "cell_type": "code",
   "execution_count": 231,
   "metadata": {
    "colab": {
     "base_uri": "https://localhost:8080/",
     "height": 282
    },
    "colab_type": "code",
    "executionInfo": {
     "elapsed": 939878,
     "status": "ok",
     "timestamp": 1587550666325,
     "user": {
      "displayName": "Александр Сергеевич Чернявский",
      "photoUrl": "https://lh3.googleusercontent.com/a-/AOh14GiFEOaj6DxQmsDw2un9e0iNjbreJ-wxgrPSXquj=s64",
      "userId": "07399096020997671028"
     },
     "user_tz": -180
    },
    "id": "94_dtj15iJfO",
    "outputId": "1f65dcb3-6c5c-478a-ad92-9e09b9a04ff2"
   },
   "outputs": [
    {
     "data": {
      "text/plain": [
       "<matplotlib.legend.Legend at 0x7f840a2a4ef0>"
      ]
     },
     "execution_count": 231,
     "metadata": {
      "tags": []
     },
     "output_type": "execute_result"
    },
    {
     "data": {
      "image/png": "[encoded data removed]",
      "text/plain": [
       "<Figure size 432x288 with 1 Axes>"
      ]
     },
     "metadata": {
      "needs_background": "light",
      "tags": []
     },
     "output_type": "display_data"
    }
   ],
   "source": [
    "import matplotlib.pyplot as plt\n",
    "plt.plot(history.epoch, history.history['loss'], label = 'test')\n",
    "plt.plot(history.epoch, history.history['val_loss'], label = 'validation')\n",
    "plt.legend()"
   ]
  },
  {
   "cell_type": "code",
   "execution_count": 232,
   "metadata": {
    "colab": {
     "base_uri": "https://localhost:8080/",
     "height": 102
    },
    "colab_type": "code",
    "executionInfo": {
     "elapsed": 941319,
     "status": "ok",
     "timestamp": 1587550667780,
     "user": {
      "displayName": "Александр Сергеевич Чернявский",
      "photoUrl": "https://lh3.googleusercontent.com/a-/AOh14GiFEOaj6DxQmsDw2un9e0iNjbreJ-wxgrPSXquj=s64",
      "userId": "07399096020997671028"
     },
     "user_tz": -180
    },
    "id": "asvE6camiJfS",
    "outputId": "555600d1-1a56-4f76-e78e-cb1359dd3cb0"
   },
   "outputs": [
    {
     "name": "stdout",
     "output_type": "stream",
     "text": [
      "10000/10000 [==============================] - 2s 165us/step\n",
      "Test loss: 0.19397917054016142\n",
      "Test precision: 0.9424972534179688\n",
      "Test recall: 0.9364017844200134\n",
      "Test f1_score: 0.939397931098938\n"
     ]
    }
   ],
   "source": [
    "loss, precision, recall, f1 = model_.evaluate(X_test, Y_test, \n",
    "                                              verbose = 1)\n",
    "print('Test loss:', loss)\n",
    "print('Test precision:', precision)\n",
    "print('Test recall:', recall)\n",
    "print('Test f1_score:', f1)"
   ]
  },
  {
   "cell_type": "code",
   "execution_count": 233,
   "metadata": {
    "colab": {
     "base_uri": "https://localhost:8080/",
     "height": 102
    },
    "colab_type": "code",
    "executionInfo": {
     "elapsed": 943209,
     "status": "ok",
     "timestamp": 1587550669679,
     "user": {
      "displayName": "Александр Сергеевич Чернявский",
      "photoUrl": "https://lh3.googleusercontent.com/a-/AOh14GiFEOaj6DxQmsDw2un9e0iNjbreJ-wxgrPSXquj=s64",
      "userId": "07399096020997671028"
     },
     "user_tz": -180
    },
    "id": "kF0mvEukiJfW",
    "outputId": "d7418c93-f770-4f55-af65-27d57b7c5342"
   },
   "outputs": [
    {
     "name": "stdout",
     "output_type": "stream",
     "text": [
      "12000/12000 [==============================] - 2s 163us/step\n",
      "Validation loss: 0.17037775226992866\n",
      "Validation precision: 0.9462593793869019\n",
      "Validation recall: 0.940500020980835\n",
      "Validation f1_score: 0.9433261156082153\n"
     ]
    }
   ],
   "source": [
    "loss, precision, recall, f1 = model_.evaluate(X_valid, Y_valid, \n",
    "                                              verbose = 1)\n",
    "print('Validation loss:', loss)\n",
    "print('Validation precision:', precision)\n",
    "print('Validation recall:', recall)\n",
    "print('Validation f1_score:', f1)"
   ]
  },
  {
   "cell_type": "code",
   "execution_count": 0,
   "metadata": {
    "colab": {},
    "colab_type": "code",
    "id": "NlBFrhb0iJfZ"
   },
   "outputs": [],
   "source": []
  },
  {
   "cell_type": "code",
   "execution_count": 0,
   "metadata": {
    "colab": {},
    "colab_type": "code",
    "id": "LfeBKUa9iJfg"
   },
   "outputs": [],
   "source": []
  }
 ],
 "metadata": {
  "accelerator": "GPU",
  "colab": {
   "collapsed_sections": [],
   "name": "HW3.ipynb",
   "provenance": []
  },
  "kernelspec": {
   "display_name": "Python 3",
   "language": "python",
   "name": "python3"
  },
  "language_info": {
   "codemirror_mode": {
    "name": "ipython",
    "version": 3
   },
   "file_extension": ".py",
   "mimetype": "text/x-python",
   "name": "python",
   "nbconvert_exporter": "python",
   "pygments_lexer": "ipython3",
   "version": "3.7.4"
  }
 },
 "nbformat": 4,
 "nbformat_minor": 1
}
