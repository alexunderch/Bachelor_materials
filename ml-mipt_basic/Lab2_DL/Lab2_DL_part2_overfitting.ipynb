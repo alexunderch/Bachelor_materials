{
  "nbformat": 4,
  "nbformat_minor": 0,
  "metadata": {
    "accelerator": "GPU",
    "colab": {
      "name": "Lab2_DL_part2_overfitting.ipynb",
      "provenance": [],
      "collapsed_sections": []
    },
    "kernelspec": {
      "display_name": "Python 3",
      "language": "python",
      "name": "python3"
    },
    "language_info": {
      "codemirror_mode": {
        "name": "ipython",
        "version": 3
      },
      "file_extension": ".py",
      "mimetype": "text/x-python",
      "name": "python",
      "nbconvert_exporter": "python",
      "pygments_lexer": "ipython3",
      "version": "3.8.3"
    }
  },
  "cells": [
    {
      "cell_type": "markdown",
      "metadata": {
        "id": "NFmOh482SyEF"
      },
      "source": [
        "## Lab 2\n",
        "### Part 2: Dealing with overfitting"
      ]
    },
    {
      "cell_type": "markdown",
      "metadata": {
        "id": "AjzAuO3oSvsI"
      },
      "source": [
        "Today we work with [Fashion-MNIST dataset](https://github.com/zalandoresearch/fashion-mnist) (*hint: it is available in `torchvision`*).\n",
        "\n",
        "Your goal for today:\n",
        "1. Train a FC (fully-connected) network that achieves >= 0.885 test accuracy.\n",
        "2. Cause considerable overfitting by modifying the network (e.g. increasing the number of network parameters and/or layers) and demonstrate in in the appropriate way (e.g. plot loss and accurasy on train and validation set w.r.t. network complexity).\n",
        "3. Try to deal with overfitting (at least partially) by using regularization techniques (Dropout/Batchnorm/...) and demonstrate the results.\n",
        "\n",
        "__Please, write a small report describing your ideas, tries and achieved results in the end of this file.__\n",
        "\n",
        "*Note*: Tasks 2 and 3 are interrelated, in task 3 your goal is to make the network from task 2 less prone to overfitting. Task 1 is independent from 2 and 3.\n",
        "\n",
        "*Note 2*: We recomment to use Google Colab or other machine with GPU acceleration."
      ]
    },
    {
      "cell_type": "code",
      "metadata": {
        "colab": {
          "base_uri": "https://localhost:8080/",
          "height": 35
        },
        "id": "_KBld6VOSwhW",
        "outputId": "b019c91e-6032-4271-dea7-9ef2fef0f646"
      },
      "source": [
        "import torch\n",
        "import torch.nn as nn\n",
        "import torchvision\n",
        "import torchvision.transforms as transforms\n",
        "import torchsummary\n",
        "from IPython.display import clear_output\n",
        "from matplotlib import pyplot as plt\n",
        "from matplotlib.pyplot import figure\n",
        "import numpy as np\n",
        "from time import time\n",
        "import os\n",
        "from torch.utils.data import DataLoader, Dataset, Subset, random_split\n",
        "import itertools\n",
        "device = 'cuda:0' if torch.cuda.is_available() else 'cpu'\n",
        "device"
      ],
      "execution_count": 120,
      "outputs": [
        {
          "output_type": "execute_result",
          "data": {
            "application/vnd.google.colaboratory.intrinsic+json": {
              "type": "string"
            },
            "text/plain": [
              "'cuda:0'"
            ]
          },
          "metadata": {
            "tags": []
          },
          "execution_count": 120
        }
      ]
    },
    {
      "cell_type": "code",
      "metadata": {
        "colab": {
          "base_uri": "https://localhost:8080/"
        },
        "id": "EdLOG0XqS_g5",
        "outputId": "60a33b9b-93f0-44ae-d5f9-05fd022f7005"
      },
      "source": [
        "# Technical function\n",
        "def mkdir(path):\n",
        "    if not os.path.exists(root_path):\n",
        "        os.mkdir(root_path)\n",
        "        print('Directory', path, 'is created!')\n",
        "    else:\n",
        "        print('Directory', path, 'already exists!')\n",
        "        \n",
        "root_path = 'fmnist'\n",
        "mkdir(root_path)"
      ],
      "execution_count": 121,
      "outputs": [
        {
          "output_type": "stream",
          "text": [
            "Directory fmnist already exists!\n"
          ],
          "name": "stdout"
        }
      ]
    },
    {
      "cell_type": "code",
      "metadata": {
        "id": "qt6LE7XaTDT9"
      },
      "source": [
        "download = True\n",
        "train_transform = transforms.ToTensor()\n",
        "test_transform = transforms.ToTensor()\n",
        "transforms.Compose((transforms.ToTensor()))\n",
        "\n",
        "fmnist_dataset_train = torchvision.datasets.FashionMNIST(root_path, \n",
        "                                                        train = True, \n",
        "                                                        transform = train_transform,\n",
        "                                                        target_transform = None,\n",
        "                                                        download = download)\n",
        "fmnist_dataset_test = torchvision.datasets.FashionMNIST(root_path, \n",
        "                                                       train = False, \n",
        "                                                       transform = test_transform,\n",
        "                                                       target_transform = None,\n",
        "                                                       download = download)\n",
        "def test_train_split(dataset, split = 0.8):    \n",
        "    \"\"\"\n",
        "    Looks similar to sklearn one.\n",
        "    Params:\n",
        "    --------------\n",
        "    dataset -- torch.utils.data.Dataset to split\n",
        "    split -- float, split (to train size)\n",
        "    Returns:\n",
        "    --------------\n",
        "    train_set, valid_set -- splitted Datasets of size:\n",
        "    (split * len(dataset), len(dataset) - len(train_set))\n",
        "    \"\"\"\n",
        "    train_size = int(split * len(dataset))\n",
        "    test_size = len(dataset) - train_size\n",
        "    train_dataset, test_dataset = random_split(dataset, [train_size, test_size])\n",
        "    return train_dataset, test_dataset\n",
        "\n",
        "\n"
      ],
      "execution_count": 122,
      "outputs": []
    },
    {
      "cell_type": "code",
      "metadata": {
        "id": "v_YFmF7NTWrQ"
      },
      "source": [
        "train_set, valid_set = test_train_split(fmnist_dataset_train)\n",
        "train_loader = DataLoader(train_set, batch_size = 128,\n",
        "                                           shuffle = True,\n",
        "                                           num_workers = 2)\n"
      ],
      "execution_count": 160,
      "outputs": []
    },
    {
      "cell_type": "code",
      "metadata": {
        "colab": {
          "base_uri": "https://localhost:8080/"
        },
        "id": "aHca15bOTY4B",
        "outputId": "61f3fa3f-f511-4c65-ca8c-c977352c9f7c"
      },
      "source": [
        "for img, label in train_loader:\n",
        "    print(img.shape)\n",
        "#     print(img)\n",
        "    print(label.shape)\n",
        "    print(label.size(0))\n",
        "    break"
      ],
      "execution_count": 124,
      "outputs": [
        {
          "output_type": "stream",
          "text": [
            "torch.Size([128, 1, 28, 28])\n",
            "torch.Size([128])\n",
            "128\n"
          ],
          "name": "stdout"
        }
      ]
    },
    {
      "cell_type": "markdown",
      "metadata": {
        "id": "b6OOOffHTfX5"
      },
      "source": [
        "### Task 1\n",
        "Train a network that achieves $\\geq 0.885$ test accuracy. It's fine to use only Linear (`nn.Linear`) layers and activations/dropout/batchnorm. Convolutional layers might be a great use, but we will meet them a bit later."
      ]
    },
    {
      "cell_type": "code",
      "metadata": {
        "id": "ftpkTjxlTcFx"
      },
      "source": [
        "class TinyNeuralNetwork(nn.Module):\n",
        "    def __init__(self, input_shape = 28 * 28, num_classes = 10, input_channels = 1):\n",
        "        super(self.__class__, self).__init__()\n",
        "        self.model = nn.Sequential(\n",
        "            nn.Flatten(), # This layer converts image into a vector to use Linear layers afterwards\n",
        "            # Your network structure comes here\n",
        "            nn.BatchNorm1d(input_shape),\n",
        "            nn.Linear(input_shape, 512),\n",
        "            nn.BatchNorm1d(512),\n",
        "            nn.Dropout(0.5),\n",
        "            nn.ReLU(),\n",
        "            nn.BatchNorm1d(512),\n",
        "            nn.Dropout(0.5),\n",
        "            nn.Linear(512, num_classes))\n",
        "        \n",
        "    def forward(self, x):       \n",
        "        return self.model(x)\n",
        "    "
      ],
      "execution_count": 125,
      "outputs": []
    },
    {
      "cell_type": "code",
      "metadata": {
        "colab": {
          "base_uri": "https://localhost:8080/"
        },
        "id": "0kAfjyGmZT-P",
        "outputId": "55329c2e-157a-4793-a1d2-1540761cea70"
      },
      "source": [
        "torchsummary.summary(TinyNeuralNetwork().to(device), (28 * 28,))"
      ],
      "execution_count": 126,
      "outputs": [
        {
          "output_type": "stream",
          "text": [
            "----------------------------------------------------------------\n",
            "        Layer (type)               Output Shape         Param #\n",
            "================================================================\n",
            "           Flatten-1                  [-1, 784]               0\n",
            "       BatchNorm1d-2                  [-1, 784]           1,568\n",
            "            Linear-3                  [-1, 512]         401,920\n",
            "       BatchNorm1d-4                  [-1, 512]           1,024\n",
            "           Dropout-5                  [-1, 512]               0\n",
            "              ReLU-6                  [-1, 512]               0\n",
            "       BatchNorm1d-7                  [-1, 512]           1,024\n",
            "           Dropout-8                  [-1, 512]               0\n",
            "            Linear-9                   [-1, 10]           5,130\n",
            "================================================================\n",
            "Total params: 410,666\n",
            "Trainable params: 410,666\n",
            "Non-trainable params: 0\n",
            "----------------------------------------------------------------\n",
            "Input size (MB): 0.00\n",
            "Forward/backward pass size (MB): 0.04\n",
            "Params size (MB): 1.57\n",
            "Estimated Total Size (MB): 1.61\n",
            "----------------------------------------------------------------\n"
          ],
          "name": "stdout"
        }
      ]
    },
    {
      "cell_type": "markdown",
      "metadata": {
        "id": "544PGKEnjPr5"
      },
      "source": [
        "Your experiments come here:"
      ]
    },
    {
      "cell_type": "code",
      "metadata": {
        "id": "i3POFj90Ti-6",
        "scrolled": true
      },
      "source": [
        "model = TinyNeuralNetwork().to(device)\n",
        "opt = torch.optim.Adam(model.parameters())\n",
        "loss_func = nn.CrossEntropyLoss()\n",
        "\n",
        "def train_model(model, train_set, valid_set, \n",
        "                loss_fn, opt, \n",
        "                n_epochs: int, \n",
        "                device = device,\n",
        "                return_train_metrics = False):\n",
        "    \n",
        "    train_loader = DataLoader(train_set, batch_size = 128,\n",
        "                                           shuffle = True,\n",
        "                                           num_workers = 2)\n",
        "    valid_loader = DataLoader(valid_set, batch_size = 128,\n",
        "                                           shuffle = False,\n",
        "                                           num_workers = 2)\n",
        "    \n",
        "    train_loss = []\n",
        "    train_accuracy = []\n",
        "    val_loss = []\n",
        "    val_accuracy = []\n",
        "    \n",
        "    for epoch in range(n_epochs):\n",
        "        ep_train_loss = []\n",
        "        ep_val_loss = []\n",
        "        ep_val_accuracy = []\n",
        "        ep_train_accuracy = []\n",
        "        \n",
        "        start_time = time()\n",
        "\n",
        "        model.train(True) # enable dropout / batch_norm training behavior\n",
        "        for X_batch, y_batch in train_loader:\n",
        "            X_batch = X_batch.to(device)\n",
        "            y_batch = y_batch.to(device)\n",
        "            opt.zero_grad()\n",
        "            predictions = model(X_batch)\n",
        "            \n",
        "            loss = loss_fn(predictions, y_batch)\n",
        "            loss.backward()\n",
        "            opt.step()\n",
        "            \n",
        "            with torch.no_grad():\n",
        "                _ = model.eval()\n",
        "                y_pred = predictions.max(1)[1] \n",
        "                ep_train_accuracy.append(np.sum(y_batch.cpu().numpy() == y_pred.cpu() \\\n",
        "                            .numpy().astype(float)) / len(y_batch.cpu()))\n",
        "            \n",
        "            ep_train_loss.append(loss.item())\n",
        "\n",
        "        model.train(False) # disable dropout / use averages for batch_norm\n",
        "        with torch.no_grad():\n",
        "            for X_batch, y_batch in valid_loader:\n",
        "                \n",
        "                X_batch = X_batch.to(device)\n",
        "                y_batch = y_batch.to(device)\n",
        "                predictions = model(X_batch)\n",
        "                loss = loss_fn(predictions, y_batch)\n",
        "                \n",
        "                ep_val_loss.append(loss.item())\n",
        "                y_pred = predictions.max(1)[1] \n",
        "                ep_val_accuracy.append(np.sum(y_batch.cpu().numpy() == y_pred.cpu() \\\n",
        "                            .numpy().astype(float))/ len(y_batch.cpu()))\n",
        "\n",
        "        # print the results for this epoch:\n",
        "        print(f'Epoch {epoch + 1} of {n_epochs} took {time() - start_time:.3f}s')\n",
        "\n",
        "        train_loss.append(np.mean(ep_train_loss))\n",
        "        val_loss.append(np.mean(ep_val_loss))\n",
        "        val_accuracy.append(np.mean(ep_val_accuracy))\n",
        "        train_accuracy.append(np.mean(ep_train_accuracy))\n",
        "        \n",
        "        print(f\"\\t  training loss: {train_loss[-1]:.6f}\")\n",
        "        print(f\"\\tvalidation loss: {val_loss[-1]:.6f}\")\n",
        "        print(f\"\\tvalidation accuracy: {val_accuracy[-1]:.3f}\")\n",
        "        print(f\"\\t  training accuracy: {train_accuracy[-1]:.3f}\")\n",
        "    return train_loss, train_accuracy, val_loss, val_accuracy \n",
        "\n",
        "def evaluate_model(model, test_set, loss_fn, opt):\n",
        "    test_loader = DataLoader(test_set, batch_size = 128,\n",
        "                                          shuffle = False,\n",
        "                                          num_workers = 2)\n",
        "    _ = model.eval()\n",
        "    print(\"\\n\\n TESTING MODEL...\")\n",
        "    losses = []\n",
        "    metrics = []\n",
        "    model.train(False)\n",
        "    with torch.no_grad():\n",
        "        for X_batch, y_batch in test_loader:\n",
        "            X_batch = X_batch.to(device)\n",
        "            y_batch = y_batch.to(device)\n",
        "            predictions = model(X_batch)\n",
        "            loss = loss_fn(predictions, y_batch)\n",
        "            \n",
        "            y_pred = predictions.max(1)[1]\n",
        "            losses.append(loss.item())\n",
        "            metrics.append(np.sum(y_batch.cpu().numpy() == y_pred.cpu() \\\n",
        "                            .numpy().astype(float))/ len(y_batch.cpu()))\n",
        "            \n",
        "    print(f\"\\t test loss: {np.mean(losses):.6f}\")\n",
        "    print(f\"\\t test accuracy: {np.mean(metrics):.3f}\")\n",
        "\n",
        "    return np.mean(losses), np.mean(metrics)"
      ],
      "execution_count": 127,
      "outputs": []
    },
    {
      "cell_type": "code",
      "metadata": {
        "colab": {
          "base_uri": "https://localhost:8080/",
          "height": 1000
        },
        "id": "JrU0-0IgZT-S",
        "outputId": "16156de5-9a39-4386-f166-464836e6506d"
      },
      "source": [
        "# Your experiments, training and validation loops here\n",
        "#unlucky number :)\n",
        "n_epochs = 10\n",
        "train_set, valid_set = test_train_split(fmnist_dataset_train)\n",
        "train_loss, _, val_loss, val_accuracy = train_model(model, train_set, valid_set,\n",
        "                                                loss_func, opt, n_epochs)\n",
        "_ = evaluate_model(model, fmnist_dataset_test, loss_func, opt)\n",
        "plt.plot(np.arange(1, n_epochs + 1, 1), train_loss, color = 'r', label = 'train loss')\n",
        "plt.plot(np.arange(1, n_epochs + 1, 1), val_loss, label = 'validation loss')\n",
        "plt.legend(loc = 'best')"
      ],
      "execution_count": 214,
      "outputs": [
        {
          "output_type": "stream",
          "text": [
            "Epoch 1 of 10 took 5.703s\n",
            "\t  training loss: 0.557496\n",
            "\tvalidation loss: 0.416687\n",
            "\tvalidation accuracy: 0.854\n",
            "\t  training accuracy: 0.807\n",
            "Epoch 2 of 10 took 5.567s\n",
            "\t  training loss: 0.391739\n",
            "\tvalidation loss: 0.367608\n",
            "\tvalidation accuracy: 0.866\n",
            "\t  training accuracy: 0.860\n",
            "Epoch 3 of 10 took 5.727s\n",
            "\t  training loss: 0.345285\n",
            "\tvalidation loss: 0.347477\n",
            "\tvalidation accuracy: 0.874\n",
            "\t  training accuracy: 0.875\n",
            "Epoch 4 of 10 took 6.088s\n",
            "\t  training loss: 0.314202\n",
            "\tvalidation loss: 0.314458\n",
            "\tvalidation accuracy: 0.885\n",
            "\t  training accuracy: 0.887\n",
            "Epoch 5 of 10 took 5.763s\n",
            "\t  training loss: 0.295555\n",
            "\tvalidation loss: 0.304889\n",
            "\tvalidation accuracy: 0.891\n",
            "\t  training accuracy: 0.892\n",
            "Epoch 6 of 10 took 5.677s\n",
            "\t  training loss: 0.274352\n",
            "\tvalidation loss: 0.285040\n",
            "\tvalidation accuracy: 0.893\n",
            "\t  training accuracy: 0.899\n",
            "Epoch 7 of 10 took 5.922s\n",
            "\t  training loss: 0.258553\n",
            "\tvalidation loss: 0.284879\n",
            "\tvalidation accuracy: 0.894\n",
            "\t  training accuracy: 0.906\n",
            "Epoch 8 of 10 took 5.544s\n",
            "\t  training loss: 0.243599\n",
            "\tvalidation loss: 0.277860\n",
            "\tvalidation accuracy: 0.899\n",
            "\t  training accuracy: 0.912\n",
            "Epoch 9 of 10 took 5.769s\n",
            "\t  training loss: 0.232606\n",
            "\tvalidation loss: 0.295903\n",
            "\tvalidation accuracy: 0.894\n",
            "\t  training accuracy: 0.916\n",
            "Epoch 10 of 10 took 5.686s\n",
            "\t  training loss: 0.219173\n",
            "\tvalidation loss: 0.278143\n",
            "\tvalidation accuracy: 0.898\n",
            "\t  training accuracy: 0.921\n",
            "\n",
            "\n",
            " TESTING MODEL...\n",
            "\t test loss: 0.319655\n",
            "\t test accuracy: 0.887\n"
          ],
          "name": "stdout"
        },
        {
          "output_type": "execute_result",
          "data": {
            "text/plain": [
              "<matplotlib.legend.Legend at 0x7f082013f3c8>"
            ]
          },
          "metadata": {
            "tags": []
          },
          "execution_count": 214
        },
        {
          "output_type": "display_data",
          "data": {
            "image/png": "[encoded data removed]",
            "text/plain": [
              "<Figure size 432x288 with 1 Axes>"
            ]
          },
          "metadata": {
            "tags": [],
            "needs_background": "light"
          }
        }
      ]
    },
    {
      "cell_type": "markdown",
      "metadata": {
        "id": "L7ISqkjmCPB1"
      },
      "source": [
        "### Task 2: Overfit it.\n",
        "Build a network that will overfit to this dataset. Demonstrate the overfitting in the appropriate way (e.g. plot loss and accurasy on train and test set w.r.t. network complexity).\n",
        "\n",
        "*Note:* you also might decrease the size of `train` dataset to enforce the overfitting and speed up the computations."
      ]
    },
    {
      "cell_type": "markdown",
      "metadata": {
        "id": "LlTO22y4x8FH"
      },
      "source": [
        ""
      ]
    },
    {
      "cell_type": "code",
      "metadata": {
        "id": "H12uAWiGBwJx"
      },
      "source": [
        "class OverfittingNeuralNetwork(nn.Module):\n",
        "    def __init__(self, input_dim = 28 * 28, num_classes = 10, input_channels = 1, hidden_dim = 16):\n",
        "        super(self.__class__, self).__init__()\n",
        "        hidden_dim = hidden_dim\n",
        "        self.model = torch.nn.Sequential(nn.Flatten())\n",
        "        self.model.add_module('starter', \n",
        "                               torch.nn.Linear(input_dim, 2 * hidden_dim)) \n",
        "        self.model.add_module(' ', nn.ReLU())\n",
        "        self.model.add_module('1st', \n",
        "                               torch.nn.Linear(2 * hidden_dim, hidden_dim)) \n",
        "        self.model.add_module(' _', nn.ReLU())\n",
        "        self.model.add_module('classifier', \n",
        "                               torch.nn.Linear(hidden_dim, num_classes)) \n",
        "        \n",
        "    def forward(self, x):       \n",
        "        return self.model(x)"
      ],
      "execution_count": 128,
      "outputs": []
    },
    {
      "cell_type": "code",
      "metadata": {
        "colab": {
          "base_uri": "https://localhost:8080/"
        },
        "id": "JgXAKCpvCwqH",
        "outputId": "4bb2fa91-f55c-4369-b5dd-65b245d526f4"
      },
      "source": [
        "torchsummary.summary(OverfittingNeuralNetwork().to(device), (28 * 28,))"
      ],
      "execution_count": 129,
      "outputs": [
        {
          "output_type": "stream",
          "text": [
            "----------------------------------------------------------------\n",
            "        Layer (type)               Output Shape         Param #\n",
            "================================================================\n",
            "           Flatten-1                  [-1, 784]               0\n",
            "            Linear-2                   [-1, 32]          25,120\n",
            "              ReLU-3                   [-1, 32]               0\n",
            "            Linear-4                   [-1, 16]             528\n",
            "              ReLU-5                   [-1, 16]               0\n",
            "            Linear-6                   [-1, 10]             170\n",
            "================================================================\n",
            "Total params: 25,818\n",
            "Trainable params: 25,818\n",
            "Non-trainable params: 0\n",
            "----------------------------------------------------------------\n",
            "Input size (MB): 0.00\n",
            "Forward/backward pass size (MB): 0.01\n",
            "Params size (MB): 0.10\n",
            "Estimated Total Size (MB): 0.11\n",
            "----------------------------------------------------------------\n"
          ],
          "name": "stdout"
        }
      ]
    },
    {
      "cell_type": "code",
      "metadata": {
        "colab": {
          "base_uri": "https://localhost:8080/"
        },
        "id": "1apdslSvZT-V",
        "outputId": "f15477a8-59bb-4f98-c7bd-760fc84098f0"
      },
      "source": [
        "loss_func = nn.CrossEntropyLoss()\n",
        "# train_set, _ = test_train_split(train_set,  .75)\n",
        "def get_overfitting(n_epochs: int):  \n",
        "\n",
        "    model = OverfittingNeuralNetwork(hidden_dim = 128).to(device)\n",
        "    opt = torch.optim.Adam(model.parameters())\n",
        "    train_loss, train_accuracy, val_loss, val_accuracy = train_model(model, train_set, \n",
        "                                                valid_set,\n",
        "                                                loss_func, opt, n_epochs)\n",
        "\n",
        "    test_loss, test_accuracy = evaluate_model(model, fmnist_dataset_test, loss_func, opt)\n",
        "    return 1. - np.array(train_accuracy), 1. - np.array(val_accuracy)\n",
        "train_error, test_error = get_overfitting(20)"
      ],
      "execution_count": 169,
      "outputs": [
        {
          "output_type": "stream",
          "text": [
            "Epoch 1 of 20 took 4.223s\n",
            "\t  training loss: 0.642676\n",
            "\tvalidation loss: 0.487693\n",
            "\tvalidation accuracy: 0.821\n",
            "\t  training accuracy: 0.775\n",
            "Epoch 2 of 20 took 4.209s\n",
            "\t  training loss: 0.429529\n",
            "\tvalidation loss: 0.433562\n",
            "\tvalidation accuracy: 0.840\n",
            "\t  training accuracy: 0.846\n",
            "Epoch 3 of 20 took 4.230s\n",
            "\t  training loss: 0.377695\n",
            "\tvalidation loss: 0.397727\n",
            "\tvalidation accuracy: 0.859\n",
            "\t  training accuracy: 0.864\n",
            "Epoch 4 of 20 took 4.453s\n",
            "\t  training loss: 0.349055\n",
            "\tvalidation loss: 0.365574\n",
            "\tvalidation accuracy: 0.867\n",
            "\t  training accuracy: 0.873\n",
            "Epoch 5 of 20 took 4.189s\n",
            "\t  training loss: 0.322681\n",
            "\tvalidation loss: 0.354405\n",
            "\tvalidation accuracy: 0.872\n",
            "\t  training accuracy: 0.882\n",
            "Epoch 6 of 20 took 4.280s\n",
            "\t  training loss: 0.307899\n",
            "\tvalidation loss: 0.346862\n",
            "\tvalidation accuracy: 0.874\n",
            "\t  training accuracy: 0.887\n",
            "Epoch 7 of 20 took 4.352s\n",
            "\t  training loss: 0.290110\n",
            "\tvalidation loss: 0.352169\n",
            "\tvalidation accuracy: 0.876\n",
            "\t  training accuracy: 0.895\n",
            "Epoch 8 of 20 took 4.233s\n",
            "\t  training loss: 0.280402\n",
            "\tvalidation loss: 0.372560\n",
            "\tvalidation accuracy: 0.863\n",
            "\t  training accuracy: 0.899\n",
            "Epoch 9 of 20 took 4.294s\n",
            "\t  training loss: 0.270883\n",
            "\tvalidation loss: 0.324443\n",
            "\tvalidation accuracy: 0.883\n",
            "\t  training accuracy: 0.900\n",
            "Epoch 10 of 20 took 4.413s\n",
            "\t  training loss: 0.255869\n",
            "\tvalidation loss: 0.336469\n",
            "\tvalidation accuracy: 0.881\n",
            "\t  training accuracy: 0.905\n",
            "Epoch 11 of 20 took 4.236s\n",
            "\t  training loss: 0.245370\n",
            "\tvalidation loss: 0.326689\n",
            "\tvalidation accuracy: 0.883\n",
            "\t  training accuracy: 0.909\n",
            "Epoch 12 of 20 took 4.289s\n",
            "\t  training loss: 0.233528\n",
            "\tvalidation loss: 0.335080\n",
            "\tvalidation accuracy: 0.880\n",
            "\t  training accuracy: 0.913\n",
            "Epoch 13 of 20 took 4.293s\n",
            "\t  training loss: 0.230345\n",
            "\tvalidation loss: 0.336448\n",
            "\tvalidation accuracy: 0.883\n",
            "\t  training accuracy: 0.914\n",
            "Epoch 14 of 20 took 4.251s\n",
            "\t  training loss: 0.221654\n",
            "\tvalidation loss: 0.330055\n",
            "\tvalidation accuracy: 0.886\n",
            "\t  training accuracy: 0.918\n",
            "Epoch 15 of 20 took 4.297s\n",
            "\t  training loss: 0.212046\n",
            "\tvalidation loss: 0.327154\n",
            "\tvalidation accuracy: 0.890\n",
            "\t  training accuracy: 0.920\n",
            "Epoch 16 of 20 took 4.329s\n",
            "\t  training loss: 0.200308\n",
            "\tvalidation loss: 0.330286\n",
            "\tvalidation accuracy: 0.886\n",
            "\t  training accuracy: 0.925\n",
            "Epoch 17 of 20 took 4.326s\n",
            "\t  training loss: 0.199157\n",
            "\tvalidation loss: 0.338383\n",
            "\tvalidation accuracy: 0.885\n",
            "\t  training accuracy: 0.926\n",
            "Epoch 18 of 20 took 4.565s\n",
            "\t  training loss: 0.188590\n",
            "\tvalidation loss: 0.336607\n",
            "\tvalidation accuracy: 0.890\n",
            "\t  training accuracy: 0.930\n",
            "Epoch 19 of 20 took 4.325s\n",
            "\t  training loss: 0.182776\n",
            "\tvalidation loss: 0.338382\n",
            "\tvalidation accuracy: 0.890\n",
            "\t  training accuracy: 0.932\n",
            "Epoch 20 of 20 took 4.234s\n",
            "\t  training loss: 0.176785\n",
            "\tvalidation loss: 0.346352\n",
            "\tvalidation accuracy: 0.884\n",
            "\t  training accuracy: 0.933\n",
            "\n",
            "\n",
            " TESTING MODEL...\n",
            "\t test loss: 0.374315\n",
            "\t test accuracy: 0.882\n"
          ],
          "name": "stdout"
        }
      ]
    },
    {
      "cell_type": "markdown",
      "metadata": {
        "id": "hH22b5ZAWftQ"
      },
      "source": [
        "Here we can see sign of overfitting. Error gap between train error and validation error is huge. "
      ]
    },
    {
      "cell_type": "code",
      "metadata": {
        "colab": {
          "base_uri": "https://localhost:8080/",
          "height": 279
        },
        "id": "yZCmjY-qP0uq",
        "outputId": "673e8c13-a071-4961-a583-f3b4f8021f7d"
      },
      "source": [
        "plt.plot(train_error, label = \"Error on train\")\r\n",
        "plt.plot(test_error, label = \"Error on val\", color = 'k')\r\n",
        "plt.xlabel(\"# epoch\"); plt.ylabel(\"prediction error\")\r\n",
        "plt.legend(loc = \"best\")\r\n",
        "\r\n",
        "plt.show()\r\n"
      ],
      "execution_count": 170,
      "outputs": [
        {
          "output_type": "display_data",
          "data": {
            "image/png": "[encoded data removed]",
            "text/plain": [
              "<Figure size 432x288 with 1 Axes>"
            ]
          },
          "metadata": {
            "tags": [],
            "needs_background": "light"
          }
        }
      ]
    },
    {
      "cell_type": "markdown",
      "metadata": {
        "id": "hnLTS2PpZT-W"
      },
      "source": [
        "### Task 3: Fix it.\n",
        "Fix the overfitted network from the previous step (at least partially) by using regularization techniques (Dropout/Batchnorm/...) and demonstrate the results. "
      ]
    },
    {
      "cell_type": "code",
      "metadata": {
        "id": "9dd4S5GXZT-W"
      },
      "source": [
        "class FixedNeuralNetwork(nn.Module):\n",
        "    def __init__(self, input_dim = 28 * 28, num_classes = 10, input_channels = 1, hidden_dim = 16):\n",
        "        super(self.__class__, self).__init__()\n",
        "        hidden_dim = hidden_dim\n",
        "        self.model = torch.nn.Sequential(nn.Flatten())\n",
        "        \n",
        "        self.model.add_module('st bn', \n",
        "                               torch.nn.BatchNorm1d(input_dim))\n",
        "        self.model.add_module('st', \n",
        "                               torch.nn.Linear(input_dim, 2 * hidden_dim)) \n",
        "        self.model.add_module('  _', nn.Dropout(.5))\n",
        "        self.model.add_module('_ ', nn.ReLU())\n",
        "\n",
        "        self.model.add_module('1st bn', \n",
        "                               torch.nn.BatchNorm1d(2 * hidden_dim))\n",
        "        self.model.add_module('1st', \n",
        "                               torch.nn.Linear(2 * hidden_dim, hidden_dim)) \n",
        "        self.model.add_module('  __', nn.Dropout(.5))\n",
        "        self.model.add_module('__ ', nn.ReLU())\n",
        "\n",
        "\n",
        "        self.model.add_module('4th bn', \n",
        "                               torch.nn.BatchNorm1d(hidden_dim))\n",
        "        self.model.add_module('  ___', nn.Dropout(.5))\n",
        "\n",
        "        self.model.add_module('classifier', \n",
        "                               torch.nn.Linear(hidden_dim, num_classes)) \n",
        "    def forward(self, x):       \n",
        "        out = self.model(x)\n",
        "        return out\n",
        "                            "
      ],
      "execution_count": 171,
      "outputs": []
    },
    {
      "cell_type": "code",
      "metadata": {
        "colab": {
          "base_uri": "https://localhost:8080/"
        },
        "id": "nbea3U-oZT-W",
        "outputId": "66a32ece-1384-4a32-ceb5-377dcd09ef05"
      },
      "source": [
        "torchsummary.summary(FixedNeuralNetwork().to(device), (28 * 28,))"
      ],
      "execution_count": 164,
      "outputs": [
        {
          "output_type": "stream",
          "text": [
            "----------------------------------------------------------------\n",
            "        Layer (type)               Output Shape         Param #\n",
            "================================================================\n",
            "           Flatten-1                  [-1, 784]               0\n",
            "       BatchNorm1d-2                  [-1, 784]           1,568\n",
            "            Linear-3                   [-1, 32]          25,120\n",
            "           Dropout-4                   [-1, 32]               0\n",
            "              ReLU-5                   [-1, 32]               0\n",
            "       BatchNorm1d-6                   [-1, 32]              64\n",
            "            Linear-7                   [-1, 16]             528\n",
            "           Dropout-8                   [-1, 16]               0\n",
            "              ReLU-9                   [-1, 16]               0\n",
            "      BatchNorm1d-10                   [-1, 16]              32\n",
            "          Dropout-11                   [-1, 16]               0\n",
            "           Linear-12                   [-1, 10]             170\n",
            "================================================================\n",
            "Total params: 27,482\n",
            "Trainable params: 27,482\n",
            "Non-trainable params: 0\n",
            "----------------------------------------------------------------\n",
            "Input size (MB): 0.00\n",
            "Forward/backward pass size (MB): 0.01\n",
            "Params size (MB): 0.10\n",
            "Estimated Total Size (MB): 0.12\n",
            "----------------------------------------------------------------\n"
          ],
          "name": "stdout"
        }
      ]
    },
    {
      "cell_type": "code",
      "metadata": {
        "colab": {
          "base_uri": "https://localhost:8080/"
        },
        "id": "f1r0WhnQZT-W",
        "outputId": "f0d5d333-db2e-4e8c-ab02-2d5f71010134"
      },
      "source": [
        "loss_func = nn.CrossEntropyLoss()\n",
        "def get_overfitting(n_epochs: int):  \n",
        "\n",
        "    model = FixedNeuralNetwork(hidden_dim = 128).to(device)\n",
        "    opt = torch.optim.Adam(model.parameters(), weight_decay = 1e-4)\n",
        "    train_loss, train_accuracy, val_loss, val_accuracy = train_model(model, train_set, \n",
        "                                                valid_set,\n",
        "                                                loss_func, opt, n_epochs)\n",
        "\n",
        "    test_loss, test_accuracy = evaluate_model(model, fmnist_dataset_test, loss_func, opt)\n",
        "    return 1. - np.array(train_accuracy), 1. - np.array(val_accuracy)\n",
        "train_error, test_error = get_overfitting(20)\n",
        "# Your experiments, come here"
      ],
      "execution_count": 174,
      "outputs": [
        {
          "output_type": "stream",
          "text": [
            "Epoch 1 of 20 took 4.597s\n",
            "\t  training loss: 0.677862\n",
            "\tvalidation loss: 0.484349\n",
            "\tvalidation accuracy: 0.830\n",
            "\t  training accuracy: 0.763\n",
            "Epoch 2 of 20 took 4.579s\n",
            "\t  training loss: 0.419950\n",
            "\tvalidation loss: 0.413038\n",
            "\tvalidation accuracy: 0.850\n",
            "\t  training accuracy: 0.850\n",
            "Epoch 3 of 20 took 4.601s\n",
            "\t  training loss: 0.371923\n",
            "\tvalidation loss: 0.375817\n",
            "\tvalidation accuracy: 0.863\n",
            "\t  training accuracy: 0.865\n",
            "Epoch 4 of 20 took 4.600s\n",
            "\t  training loss: 0.341246\n",
            "\tvalidation loss: 0.349149\n",
            "\tvalidation accuracy: 0.875\n",
            "\t  training accuracy: 0.876\n",
            "Epoch 5 of 20 took 4.585s\n",
            "\t  training loss: 0.317175\n",
            "\tvalidation loss: 0.335565\n",
            "\tvalidation accuracy: 0.879\n",
            "\t  training accuracy: 0.886\n",
            "Epoch 6 of 20 took 4.541s\n",
            "\t  training loss: 0.301993\n",
            "\tvalidation loss: 0.331725\n",
            "\tvalidation accuracy: 0.878\n",
            "\t  training accuracy: 0.891\n",
            "Epoch 7 of 20 took 4.589s\n",
            "\t  training loss: 0.287390\n",
            "\tvalidation loss: 0.329776\n",
            "\tvalidation accuracy: 0.879\n",
            "\t  training accuracy: 0.895\n",
            "Epoch 8 of 20 took 4.578s\n",
            "\t  training loss: 0.273281\n",
            "\tvalidation loss: 0.342711\n",
            "\tvalidation accuracy: 0.876\n",
            "\t  training accuracy: 0.902\n",
            "Epoch 9 of 20 took 4.599s\n",
            "\t  training loss: 0.264440\n",
            "\tvalidation loss: 0.351887\n",
            "\tvalidation accuracy: 0.871\n",
            "\t  training accuracy: 0.904\n",
            "Epoch 10 of 20 took 4.551s\n",
            "\t  training loss: 0.255540\n",
            "\tvalidation loss: 0.309051\n",
            "\tvalidation accuracy: 0.886\n",
            "\t  training accuracy: 0.907\n",
            "Epoch 11 of 20 took 4.561s\n",
            "\t  training loss: 0.242136\n",
            "\tvalidation loss: 0.318408\n",
            "\tvalidation accuracy: 0.887\n",
            "\t  training accuracy: 0.912\n",
            "Epoch 12 of 20 took 4.533s\n",
            "\t  training loss: 0.234545\n",
            "\tvalidation loss: 0.346286\n",
            "\tvalidation accuracy: 0.875\n",
            "\t  training accuracy: 0.915\n",
            "Epoch 13 of 20 took 4.522s\n",
            "\t  training loss: 0.226422\n",
            "\tvalidation loss: 0.310679\n",
            "\tvalidation accuracy: 0.887\n",
            "\t  training accuracy: 0.917\n",
            "Epoch 14 of 20 took 4.556s\n",
            "\t  training loss: 0.216665\n",
            "\tvalidation loss: 0.309756\n",
            "\tvalidation accuracy: 0.889\n",
            "\t  training accuracy: 0.923\n",
            "Epoch 15 of 20 took 4.523s\n",
            "\t  training loss: 0.207104\n",
            "\tvalidation loss: 0.327300\n",
            "\tvalidation accuracy: 0.883\n",
            "\t  training accuracy: 0.926\n",
            "Epoch 16 of 20 took 4.542s\n",
            "\t  training loss: 0.200610\n",
            "\tvalidation loss: 0.314954\n",
            "\tvalidation accuracy: 0.890\n",
            "\t  training accuracy: 0.928\n",
            "Epoch 17 of 20 took 4.550s\n",
            "\t  training loss: 0.192248\n",
            "\tvalidation loss: 0.315858\n",
            "\tvalidation accuracy: 0.887\n",
            "\t  training accuracy: 0.931\n",
            "Epoch 18 of 20 took 4.544s\n",
            "\t  training loss: 0.188474\n",
            "\tvalidation loss: 0.316019\n",
            "\tvalidation accuracy: 0.889\n",
            "\t  training accuracy: 0.933\n",
            "Epoch 19 of 20 took 4.524s\n",
            "\t  training loss: 0.181158\n",
            "\tvalidation loss: 0.310278\n",
            "\tvalidation accuracy: 0.892\n",
            "\t  training accuracy: 0.936\n",
            "Epoch 20 of 20 took 4.570s\n",
            "\t  training loss: 0.171865\n",
            "\tvalidation loss: 0.317620\n",
            "\tvalidation accuracy: 0.889\n",
            "\t  training accuracy: 0.938\n",
            "\n",
            "\n",
            " TESTING MODEL...\n",
            "\t test loss: 0.330229\n",
            "\t test accuracy: 0.891\n"
          ],
          "name": "stdout"
        }
      ]
    },
    {
      "cell_type": "code",
      "metadata": {
        "colab": {
          "base_uri": "https://localhost:8080/",
          "height": 279
        },
        "id": "XYgLsJYxZT-W",
        "outputId": "f849438b-a6e5-49ad-bee8-2f4e40f8a7ad"
      },
      "source": [
        "plt.plot(train_error, label = \"Error on train\")\n",
        "plt.plot(test_error, label = \"Error on val\", color = 'k')\n",
        "plt.xlabel(\"# epoch\"); plt.ylabel(\"prediction error\")\n",
        "plt.legend(loc = \"best\")\n",
        "\n",
        "plt.show()"
      ],
      "execution_count": 175,
      "outputs": [
        {
          "output_type": "display_data",
          "data": {
            "image/png": "[encoded data removed]",
            "text/plain": [
              "<Figure size 432x288 with 1 Axes>"
            ]
          },
          "metadata": {
            "tags": [],
            "needs_background": "light"
          }
        }
      ]
    },
    {
      "cell_type": "markdown",
      "metadata": {
        "id": "dMui_uLJ7G0d"
      },
      "source": [
        "### Conclusions:\n",
        "_Write down small report with your conclusions and your ideas._\n",
        "\n",
        "\n",
        "_One of the most explicit signs of overfitting_ is that behaviour of a model's loss during training and validation is different: e.g. while loss on train in decreasing, loss on val is rising or not changing at all. That means that the model \"knows\" training set too well, however, its generalizing ability not too high for val set.\n",
        "\n",
        "To avoid this we apply _regularization technics_ such as `dropout` and `batch_normaliztion` to the model. We could use weight decay that works like `l2-reg` but this is related to optimizer not to our model.\n",
        "\n",
        "I tried to plot error of prediction (1. - accuracy_score) w.r.t. complexity of the model $-$ number of training epochs in this case. Unfortunately, i could not achieve meaningful gap but we can see that accuracy on test increased dramatically (~10%)\n",
        "\n",
        "So, this method can help us avoid oferfitting for a long time $-$ `dropout` and `batch_normaliztion` do not allow the model to memorize train set too fast and increase its ability to generalize given test set.\n",
        "\n",
        "To sum up, i think it is really useful to use `dropout` (selecting the rate is mnemonic rule that depends what rate of reg u want to have) and `batch_normaliztion` because scaling features sometimes decreases internal covariance shift and makes the loss smoother."
      ]
    },
    {
      "cell_type": "code",
      "metadata": {
        "id": "7cDMzYgDZT-X"
      },
      "source": [
        ""
      ],
      "execution_count": 210,
      "outputs": []
    }
  ]
}