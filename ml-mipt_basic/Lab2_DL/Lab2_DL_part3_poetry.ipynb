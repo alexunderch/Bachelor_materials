{
  "nbformat": 4,
  "nbformat_minor": 0,
  "metadata": {
    "accelerator": "GPU",
    "anaconda-cloud": {},
    "colab": {
      "name": "Lab2_DL_part3_poetry.ipynb",
      "provenance": [],
      "collapsed_sections": [],
      "include_colab_link": true
    },
    "kernelspec": {
      "display_name": "Python 3",
      "language": "python",
      "name": "python3"
    },
    "language_info": {
      "codemirror_mode": {
        "name": "ipython",
        "version": 3
      },
      "file_extension": ".py",
      "mimetype": "text/x-python",
      "name": "python",
      "nbconvert_exporter": "python",
      "pygments_lexer": "ipython3",
      "version": "3.8.3"
    }
  },
  "cells": [
    {
      "cell_type": "markdown",
      "metadata": {
        "id": "view-in-github",
        "colab_type": "text"
      },
      "source": [
        "<a href=\"https://colab.research.google.com/github/alexunderch/Bachelor_materials/blob/main/Lab2_DL_part3_poetry.ipynb\" target=\"_parent\"><img src=\"https://colab.research.google.com/assets/colab-badge.svg\" alt=\"Open In Colab\"/></a>"
      ]
    },
    {
      "cell_type": "markdown",
      "metadata": {
        "id": "YQHA7SXRf7g7"
      },
      "source": [
        "## Lab 2"
      ]
    },
    {
      "cell_type": "markdown",
      "metadata": {
        "id": "Kjb4VH0Cf7g9"
      },
      "source": [
        "### Part 3. Poetry generation\n",
        "\n",
        "Let's try to generate some poetry using RNNs. \n",
        "\n",
        "You have several choices here: \n",
        "\n",
        "* The Shakespeare sonnets, file `sonnets.txt` available in the notebook directory.\n",
        "\n",
        "* Роман в стихах \"Евгений Онегин\" Александра Сергеевича Пушкина. В предобработанном виде доступен по [ссылке](https://github.com/attatrol/data_sources/blob/master/onegin.txt).\n",
        "\n",
        "* Some other text source, if it will be approved by the course staff.\n",
        "\n",
        "Text generation can be designed in several steps:\n",
        "    \n",
        "1. Data loading.\n",
        "2. Dictionary generation.\n",
        "3. Data preprocessing.\n",
        "4. Model (neural network) training.\n",
        "5. Text generation (model evaluation).\n"
      ]
    },
    {
      "cell_type": "code",
      "metadata": {
        "id": "erIwlnwAf7g9"
      },
      "source": [
        "import string\n",
        "import os\n",
        "import numpy as np\n",
        "import torch\n",
        "import torch.nn as nn\n",
        "import torch.nn.functional as F\n",
        "\n",
        "from IPython.display import clear_output\n",
        "import matplotlib.pyplot as plt"
      ],
      "execution_count": null,
      "outputs": []
    },
    {
      "cell_type": "markdown",
      "metadata": {
        "id": "uTQnutfJf7hA"
      },
      "source": [
        "### Data loading: Shakespeare"
      ]
    },
    {
      "cell_type": "markdown",
      "metadata": {
        "id": "tX-V8hmqf7hA"
      },
      "source": [
        "Shakespeare sonnets are awailable at this [link](http://www.gutenberg.org/ebooks/1041?msg=welcome_stranger). In addition, they are stored in the same directory as this notebook (`sonnetes.txt`). Simple preprocessing is already done for you in the next cell: all technical info is dropped."
      ]
    },
    {
      "cell_type": "code",
      "metadata": {
        "colab": {
          "base_uri": "https://localhost:8080/"
        },
        "id": "elwM07zPf7hA",
        "outputId": "f8f3de0e-9672-4507-955b-0d58c9aa0bf1"
      },
      "source": [
        "if not os.path.exists('sonnets.txt'):\n",
        "    !wget https://raw.githubusercontent.com/girafe-ai/ml-mipt/master/homeworks_basic/Lab2_DL/sonnets.txt\n",
        "\n",
        "with open('sonnets.txt', 'r') as iofile:\n",
        "    text = iofile.readlines()\n",
        "    \n",
        "TEXT_START = 45\n",
        "TEXT_END = -368\n",
        "text = text[TEXT_START : TEXT_END]\n",
        "assert len(text) == 2616\n",
        "maxlen_ = len(max(text, key = len))\n",
        "print(\"Max seq contains {} symbols\".format(maxlen_))"
      ],
      "execution_count": null,
      "outputs": [
        {
          "output_type": "stream",
          "text": [
            "Max seq contains 63 symbols\n"
          ],
          "name": "stdout"
        }
      ]
    },
    {
      "cell_type": "markdown",
      "metadata": {
        "id": "3XMOLdwvf7hE"
      },
      "source": [
        "In opposite to the in-class practice, this time we want to predict complex text. Let's reduce the complexity of the task and lowercase all the symbols.\n",
        "\n",
        "Now variable `text` is a list of strings. Join all the strings into one and lowercase it."
      ]
    },
    {
      "cell_type": "code",
      "metadata": {
        "colab": {
          "base_uri": "https://localhost:8080/"
        },
        "id": "T1G4md2Nf7hE",
        "outputId": "5e373b70-d456-4389-93a4-e0db1f5c138d"
      },
      "source": [
        "text = \"\".join([x.lower() for x in text])\n",
        "\n",
        "# Your great code here\n",
        "\n",
        "assert len(text) == 100225, 'Are you sure you have concatenated all the strings?'\n",
        "assert not any([x in set(text) for x in string.ascii_uppercase]), 'Uppercase letters are present'\n",
        "print('OK!')"
      ],
      "execution_count": null,
      "outputs": [
        {
          "output_type": "stream",
          "text": [
            "OK!\n"
          ],
          "name": "stdout"
        }
      ]
    },
    {
      "cell_type": "markdown",
      "metadata": {
        "id": "k6IQxWp_f7hE"
      },
      "source": [
        "### Data loading: \"Евгений Онегин\"\n"
      ]
    },
    {
      "cell_type": "code",
      "metadata": {
        "colab": {
          "base_uri": "https://localhost:8080/"
        },
        "id": "RN7LJgdYf7hF",
        "outputId": "040055ee-847c-483b-ffc2-c2905d0ca95b"
      },
      "source": [
        "if not os.path.exists('onegin.txt'):\n",
        "    !wget https://raw.githubusercontent.com/attatrol/data_sources/master/onegin.txt\n",
        "    \n",
        "with open('onegin.txt', 'r') as iofile:\n",
        "    o_text = iofile.readlines()\n",
        "    \n",
        "o_text = [x.replace('\\t\\t', '') for x in o_text]\n",
        "maxlen = len(max(o_text, key = len))\n",
        "print(\"Max seq contains {} symbols\".format(maxlen))"
      ],
      "execution_count": null,
      "outputs": [
        {
          "output_type": "stream",
          "text": [
            "--2020-12-08 15:41:36--  https://raw.githubusercontent.com/attatrol/data_sources/master/onegin.txt\n",
            "Resolving raw.githubusercontent.com (raw.githubusercontent.com)... 151.101.0.133, 151.101.64.133, 151.101.128.133, ...\n",
            "Connecting to raw.githubusercontent.com (raw.githubusercontent.com)|151.101.0.133|:443... connected.\n",
            "HTTP request sent, awaiting response... 200 OK\n",
            "Length: 262521 (256K) [text/plain]\n",
            "Saving to: ‘onegin.txt’\n",
            "\n",
            "onegin.txt          100%[===================>] 256.37K  --.-KB/s    in 0.02s   \n",
            "\n",
            "2020-12-08 15:41:36 (13.1 MB/s) - ‘onegin.txt’ saved [262521/262521]\n",
            "\n",
            "Max seq contains 159 symbols\n"
          ],
          "name": "stdout"
        }
      ]
    },
    {
      "cell_type": "markdown",
      "metadata": {
        "id": "aoey6Eb-f7hF"
      },
      "source": [
        "In opposite to the in-class practice, this time we want to predict complex text. Let's reduce the complexity of the task and lowercase all the symbols.\n",
        "\n",
        "Now variable `text` is a list of strings. Join all the strings into one and lowercase it."
      ]
    },
    {
      "cell_type": "markdown",
      "metadata": {
        "id": "BnH8-588f7hF"
      },
      "source": [
        "Put all the characters, that you've seen in the text, into variable `tokens`."
      ]
    },
    {
      "cell_type": "code",
      "metadata": {
        "colab": {
          "base_uri": "https://localhost:8080/"
        },
        "id": "EWuhvALFf7hF",
        "outputId": "0ef51538-58c0-478a-c728-511fb0eefbd5"
      },
      "source": [
        "def prepare_data(text):\n",
        "    text = \"\".join([x.lower() for x in text])\n",
        "    print(\"The lenght of given tokens  = {}\".format(len(o_text)))\n",
        "\n",
        "    tokens = sorted(set(text))\n",
        "    print(\"Number of given tokens  = {}\".format(len(tokens)))\n",
        "\n",
        "    return tokens, text\n",
        "tokens, text = prepare_data(text)"
      ],
      "execution_count": null,
      "outputs": [
        {
          "output_type": "stream",
          "text": [
            "The lenght of given tokens  = 141888\n",
            "Number of given tokens  = 38\n"
          ],
          "name": "stdout"
        }
      ]
    },
    {
      "cell_type": "markdown",
      "metadata": {
        "id": "1OewJHGzf7hG"
      },
      "source": [
        "\n",
        "Create dictionary `token_to_idx = {<char>: <index>}` and dictionary `idx_to_token = {<index>: <char>}`"
      ]
    },
    {
      "cell_type": "code",
      "metadata": {
        "id": "OKULtmgxf7hG"
      },
      "source": [
        "device = torch.device(\"cuda\") if torch.cuda.is_available() else torch.device(\"cpu\")"
      ],
      "execution_count": null,
      "outputs": []
    },
    {
      "cell_type": "markdown",
      "metadata": {
        "id": "iubwpE3Xf7hH"
      },
      "source": [
        "*Comment: in this task we have only 38 different tokens, so let's use one-hot encoding.*"
      ]
    },
    {
      "cell_type": "code",
      "metadata": {
        "id": "10u_v8g1f7hH"
      },
      "source": [
        "batch_size = 512\n",
        "\n",
        "# def one_hot_encode(sequence, dict_size = len(tokens_sh)):\n",
        "#     seq_len = len(sequence)\n",
        "#     features = np.zeros((seq_len, dict_size), dtype = np.int64)\n",
        "#     features[np.arange(seq_len), [token_to_idx[s] for s in sequence]] = 1\n",
        "\n",
        "#     return features\n",
        "\n",
        "def create_mapping(tokens):\n",
        "    \"\"\"\n",
        "    INPUT: tokens -- sorted set of tokens\n",
        "    OUTPUT: \n",
        "    token_to_idx: dict <index>:<char>\n",
        "    idx_to_token:dict <char>:<index>\n",
        "    \"\"\"\n",
        "    token_to_idx = {token: idx for idx, token in enumerate(tokens)}\n",
        "    idx_to_token = dict(enumerate(tokens))\n",
        "    return token_to_idx, idx_to_token\n",
        "\n",
        "\n",
        "token_to_idx, idx_to_token = create_mapping(tokens)\n",
        "\n",
        "def prepare_set(text, tokens, maxlen, step = 1):\n",
        "    token_to_idx, idx_to_token = create_mapping(tokens)\n",
        "    sentences, next_tokens = [], []\n",
        "    for i in range(0, len(text) - maxlen, step):\n",
        "        sentences.append(text[i : i + maxlen])\n",
        "        next_tokens.append(text[i + maxlen])\n",
        "\n",
        "    print(\"Number of sequences:\", len(sentences))\n",
        "    x = np.zeros((len(sentences), maxlen, len(tokens)))\n",
        "    y = np.zeros((len(sentences), len(tokens)))\n",
        "    for i, sentence in enumerate(sentences):\n",
        "        for t, token in enumerate(sentence):\n",
        "            x[i, t, token_to_idx[token]] = 1\n",
        "        y[i, token_to_idx[next_tokens[i]]] = 1  \n",
        "    return x, y"
      ],
      "execution_count": null,
      "outputs": []
    },
    {
      "cell_type": "code",
      "metadata": {
        "colab": {
          "base_uri": "https://localhost:8080/"
        },
        "id": "6kgpySksvMbd",
        "outputId": "9b492621-b403-4eda-d73d-505c00b1deb2"
      },
      "source": [
        "x, y = prepare_set(text, tokens, maxlen = 64)\n",
        "print(x.shape)"
      ],
      "execution_count": null,
      "outputs": [
        {
          "output_type": "stream",
          "text": [
            "Number of sequences: 100161\n",
            "(100161, 64, 38)\n"
          ],
          "name": "stdout"
        }
      ]
    },
    {
      "cell_type": "markdown",
      "metadata": {
        "id": "Z6NE1KLkf7hH"
      },
      "source": [
        "### Building the model"
      ]
    },
    {
      "cell_type": "markdown",
      "metadata": {
        "id": "QaH570URf7hH"
      },
      "source": [
        "Now we want to build and train recurrent neural net which would be able to something similar to Shakespeare's poetry.\n",
        "\n",
        "Let's use vanilla RNN, similar to the one created during the lesson."
      ]
    },
    {
      "cell_type": "code",
      "metadata": {
        "id": "IkWUEOiHf7hH"
      },
      "source": [
        "# Your code here  \n",
        "class VanillaRNN(nn.Module):\n",
        "    def __init__(self, n_tokens = len(tokens), hidden_dim = 128, emb_dim = 128,\n",
        "                 n_layers = 1):\n",
        "        super(VanillaRNN, self).__init__()\n",
        "        self.hidden_dim = hidden_dim\n",
        "        self.emb_dim = emb_dim\n",
        "        self.n_layers = n_layers\n",
        "        self.n_tokens = n_tokens\n",
        "        \n",
        "        self.embed = nn.Embedding(n_tokens, self.emb_dim)\n",
        "        self.rnn = nn.RNN(self.emb_dim, self.hidden_dim, batch_first =  True)\n",
        "        self.dropout  = nn.Dropout(.35)\n",
        "        self.hid_to_logits = nn.Linear(self.hidden_dim, n_tokens)\n",
        "    \n",
        "    def forward(self, x, h_prev):\n",
        "        h_seq, h = self.rnn(self.embed(x), h_prev)\n",
        "        h_seq = self.dropout(h_seq)\n",
        "        next_logits = self.hid_to_logits(h_seq)\n",
        "        return next_logits, h\n",
        "    \n",
        "    def initial_state(self, batch_size):\n",
        "        weight = next(self.parameters()).data\n",
        "        return weight.new(self.n_layers, batch_size, self.hidden_dim).zero_().to(device)"
      ],
      "execution_count": null,
      "outputs": []
    },
    {
      "cell_type": "code",
      "metadata": {
        "id": "kfOeS7iYQXBk"
      },
      "source": [
        ""
      ],
      "execution_count": null,
      "outputs": []
    },
    {
      "cell_type": "markdown",
      "metadata": {
        "id": "jH8TqiJ_f7hH"
      },
      "source": [
        "Plot the loss function (axis X: number of epochs, axis Y: loss function)."
      ]
    },
    {
      "cell_type": "code",
      "metadata": {
        "colab": {
          "base_uri": "https://localhost:8080/",
          "height": 370
        },
        "id": "YrxuuLSFjW_A",
        "outputId": "9ba6d33e-eb2d-441d-b2f1-f5ce2a8a4bea"
      },
      "source": [
        "# Your plot code here\n",
        "model_rnn = VanillaRNN()\n",
        "opt = torch.optim.Adam(model_rnn.parameters())\n",
        "model_rnn.to(device)\n",
        "criterion = nn.CrossEntropyLoss()\n",
        "\n",
        "n_epochs = 45\n",
        "history = []\n",
        "_ = model_rnn.train()\n",
        "\n",
        "for epoch in range(n_epochs):\n",
        "    ep_history = []\n",
        "    hidden_state = model_rnn.initial_state(batch_size)\n",
        "    for batch_ind in range(batch_size, x.shape[0], batch_size):\n",
        "        \n",
        "        opt.zero_grad()\n",
        "        x_batch = torch.argmax(torch.Tensor(x[batch_ind - batch_size : batch_ind]), dim = -1).to(device)\n",
        "        y_batch = torch.argmax(torch.Tensor(y[batch_ind - batch_size : batch_ind]), dim = -1).to(device)\n",
        "\n",
        "        opt.zero_grad()\n",
        "    \n",
        "        seq, hidden_state = model_rnn(x_batch, hidden_state)\n",
        "        loss = criterion(seq[:, -1].contiguous(), y_batch.contiguous())  \n",
        "        \n",
        "        loss.backward()\n",
        "        opt.step()  \n",
        "        ep_history.append(loss.item())\n",
        "        hidden_state = hidden_state.detach()\n",
        "\n",
        "    history.append(np.mean(ep_history))\n",
        "    print(\"Loss after the epoch # {}\".format(epoch + 1), history[-1])\n",
        "    if (epoch + 1) % 10 == 0:\n",
        "        clear_output(True)\n",
        "        plt.plot(history, label = 'loss')\n",
        "        plt.xlabel(\"n_epochs\")\n",
        "        plt.legend()\n",
        "        plt.show()"
      ],
      "execution_count": null,
      "outputs": [
        {
          "output_type": "display_data",
          "data": {
            "image/png": "[encoded data removed]",
            "text/plain": [
              "<Figure size 432x288 with 1 Axes>"
            ]
          },
          "metadata": {
            "tags": [],
            "needs_background": "light"
          }
        },
        {
          "output_type": "stream",
          "text": [
            "Loss after the epoch # 41 1.64920705587436\n",
            "Loss after the epoch # 42 1.651544366738735\n",
            "Loss after the epoch # 43 1.6476189576662503\n",
            "Loss after the epoch # 44 1.6469092069528042\n",
            "Loss after the epoch # 45 1.6454708918547019\n"
          ],
          "name": "stdout"
        }
      ]
    },
    {
      "cell_type": "code",
      "metadata": {
        "id": "jVRqAJm44zET"
      },
      "source": [
        "# _ = save_net(model_rnn, \"O_RNN.net\", opt)"
      ],
      "execution_count": null,
      "outputs": []
    },
    {
      "cell_type": "code",
      "metadata": {
        "id": "-gI3M9bCf7hH"
      },
      "source": [
        "def generate_text(char_rnn, tokens = tokens, seed_phrase = 'fucking society! ', \n",
        "                    max_length = 100, temperature = 1., flag = False):\n",
        "  \n",
        "    def sample(preds, tokens, temperature = 1.):\n",
        "        preds =  F.softmax(preds / temperature, dim = -1).cpu().data.numpy().squeeze()\n",
        "        # print(preds.shape)\n",
        "        next_ix = np.random.choice(len(tokens), p = preds)\n",
        "        return torch.LongTensor([[next_ix]])\n",
        "\n",
        "    x_sequence = torch.Tensor([np.array([token_to_idx[token] for token in seed_phrase.lower()])]).to(device)\n",
        "    hid_state = char_rnn.initial_state(batch_size = 1)\n",
        "\n",
        "    if flag: hid_state = tuple([each.data for each in hid_state])\n",
        "\n",
        "    #feed the seed phrase, if any\n",
        "    for i in range(len(seed_phrase) - 1):\n",
        "        out, hid_state = char_rnn(torch.stack([x_sequence[:, i].long()]), hid_state)\n",
        "    \n",
        "    #start generating\n",
        "    for _ in range(max_length - len(seed_phrase)):\n",
        "        out, hid_state = char_rnn(torch.stack([x_sequence[:, -1].long()]), hid_state)\n",
        "        next_ix = sample(out, tokens, temperature)\n",
        "\n",
        "        x_sequence = torch.cat([x_sequence, next_ix.to(device)], dim = 1)\n",
        "    return ''.join([tokens[int(ix)] for ix in x_sequence.cpu().data.numpy()[0]])"
      ],
      "execution_count": null,
      "outputs": []
    },
    {
      "cell_type": "code",
      "metadata": {
        "id": "guTQ7mGjf7hH",
        "colab": {
          "base_uri": "https://localhost:8080/"
        },
        "outputId": "561828ff-ba2a-47b9-8dc8-2fb9e49c9cf7"
      },
      "source": [
        "# An example of generated text.\n",
        "# checkpoint = torch.load(\"ShRNN.net\")\n",
        "# model_rnn.load_state_dict(checkpoint['state_dict'])\n",
        "# opt.load_state_dict(checkpoint['opt_state_dict'])\n",
        "_ = model_rnn.eval()\n",
        "print(generate_text(char_rnn = model_rnn,  max_length = 500, temperature = 1.))"
      ],
      "execution_count": null,
      "outputs": [
        {
          "output_type": "stream",
          "text": [
            "fucking society! where with shave thy sake thy self dietty pully is suibl'ds for me\n",
            "  te for-prim,\n",
            "  dome!\n",
            "  i my houts to thel, in mants libjens, art mine to dead lhal hid heast thy distrong doth forweati fift owol ckastisgrw,\n",
            "  make proos'd,\n",
            "  tair beaver, if being byes that rele;\n",
            "    and mming winking they yulitenthe that my conbliok thou betul, or froms,\n",
            "  mine her cheatifanftion ccewilad is nefites eacy lye pard'ming, swill'd,\n",
            "  thas thine shom thy's wiends, and love is my sol'd,\n",
            "  that my \n"
          ],
          "name": "stdout"
        }
      ]
    },
    {
      "cell_type": "markdown",
      "metadata": {
        "id": "sk29R_Muf7hH"
      },
      "source": [
        "### More poetic model\n",
        "\n",
        "Let's use LSTM instead of vanilla RNN and compare the results."
      ]
    },
    {
      "cell_type": "markdown",
      "metadata": {
        "id": "lN88HUf6f7hH"
      },
      "source": [
        "Plot the loss function of the number of epochs. Does the final loss become better?"
      ]
    },
    {
      "cell_type": "code",
      "metadata": {
        "id": "LD7DK6clf7hH",
        "colab": {
          "base_uri": "https://localhost:8080/",
          "height": 280
        },
        "outputId": "52d1e83c-4e10-4a28-8593-fa6e648b41f7"
      },
      "source": [
        "# Your beautiful code here\n",
        "class LSTM (nn.Module):\n",
        "    def __init__(self, n_tokens = len(tokens), hidden_dim = 256, emb_dim = 128,\n",
        "                 n_layers = 1):\n",
        "        super(LSTM, self).__init__()\n",
        "        self.hidden_dim = hidden_dim\n",
        "        self.emb_dim = emb_dim\n",
        "        self.n_layers = n_layers\n",
        "        self.n_tokens = emb_dim\n",
        "        \n",
        "        self.embed = nn.Embedding(n_tokens, self.emb_dim)\n",
        "        self.lstm = nn.LSTM(self.emb_dim, self.hidden_dim, batch_first =  True)\n",
        "        self.hid_to_logits = nn.Linear(self.hidden_dim, n_tokens)\n",
        "    \n",
        "    def forward(self, x, hidden_state):\n",
        "        out, hidden_state = self.lstm(self.embed(x), hidden_state)\n",
        "        out = self.hid_to_logits(out)\n",
        "      \n",
        "        return out, hidden_state\n",
        "    \n",
        "    def initial_state(self, batch_size):\n",
        "        weight = next(self.parameters()).data\n",
        "        hidden = (weight.new(self.n_layers, batch_size, self.hidden_dim).zero_().to(device),\n",
        "        weight.new(self.n_layers, batch_size, self.hidden_dim).zero_().to(device))\n",
        "        return hidden\n",
        "\n",
        "model_lstm = LSTM()\n",
        "opt = torch.optim.Adam(model_lstm.parameters())\n",
        "model_lstm.to(device)\n",
        "criterion = nn.CrossEntropyLoss()\n",
        "\n",
        "n_epochs = 40\n",
        "history = []\n",
        "_ = model_lstm.train()\n",
        "for epoch in range(n_epochs):\n",
        "    ep_history = []\n",
        "    hidden_state = model_lstm.initial_state(batch_size)\n",
        "    for batch_ind in range(batch_size, x.shape[0], batch_size):\n",
        "        \n",
        "        x_batch = torch.argmax(torch.Tensor(x[batch_ind - batch_size : batch_ind]), dim = -1).to(device)\n",
        "        y_batch = torch.argmax(torch.Tensor(y[batch_ind - batch_size : batch_ind]), dim = -1).to(device)\n",
        "\n",
        "        hidden_state = tuple([each.data for each in hidden_state])\n",
        "\n",
        "        opt.zero_grad()\n",
        "    \n",
        "        seq, hidden_state = model_lstm(x_batch, hidden_state)\n",
        "        loss = criterion(seq[:, -1].contiguous(), y_batch.contiguous())  \n",
        "        loss.backward()\n",
        "        opt.step()  \n",
        "        ep_history.append(loss.item())\n",
        "    history.append(np.mean(ep_history))\n",
        "    print(\"Loss after the epoch # {}\".format(epoch + 1), history[-1])\n",
        "\n",
        "    if (epoch + 1) % 5 == 0:\n",
        "        clear_output(True)\n",
        "        plt.plot(history, label = 'loss')\n",
        "        plt.xlabel(\"n_epochs\")\n",
        "        plt.legend()\n",
        "        plt.show()"
      ],
      "execution_count": null,
      "outputs": [
        {
          "output_type": "display_data",
          "data": {
            "image/png": "[encoded data removed]",
            "text/plain": [
              "<Figure size 432x288 with 1 Axes>"
            ]
          },
          "metadata": {
            "tags": [],
            "needs_background": "light"
          }
        }
      ]
    },
    {
      "cell_type": "markdown",
      "metadata": {
        "id": "gc6RQ2KMf7hH"
      },
      "source": [
        "Generate text using the trained net with different `temperature` parameter: `[0.1, 0.2, 0.5, 1.0, 2.0]`.\n",
        "\n",
        "Evaluate the results visually, try to interpret them."
      ]
    },
    {
      "cell_type": "code",
      "metadata": {
        "id": "63nS_gTyIQSP"
      },
      "source": [
        "# _= save_net(model_lstm, \"O_LSTM.net\", opt)"
      ],
      "execution_count": null,
      "outputs": []
    },
    {
      "cell_type": "code",
      "metadata": {
        "id": "-NtVAXbOf7hH",
        "colab": {
          "base_uri": "https://localhost:8080/"
        },
        "outputId": "3469d4df-ddc6-4385-8af8-20f1d5b0b206"
      },
      "source": [
        "# Text generation with different temperature values here \n",
        "# checkpoint = torch.load(\"ShLSTM.net\")\n",
        "# model_lstm.load_state_dict(checkpoint['state_dict'])\n",
        "# opt.load_state_dict(checkpoint['opt_state_dict'])\n",
        "\n",
        "_ = model_lstm.eval()\n",
        "\n",
        "def entropy(labels, base = None):\n",
        "  values, counts = np.unique(labels, return_counts = True)\n",
        "  norm_counts = counts / counts.sum()\n",
        "  base = np.exp(1.) if base is None else base\n",
        "  return -(norm_counts * np.log(norm_counts)/np.log(base)).sum()\n",
        "\n",
        "for temperature in [0.1, 0.2, 0.5, 1.0, 2.0]:\n",
        "  print(\"TEMPERATURE = \", temperature)\n",
        "  poetry = generate_text(char_rnn = model_lstm, temperature = temperature,\n",
        "                      max_length = 400, seed_phrase = \"Listen, Bitch! \")\n",
        "  # print(\"Shannon entropy of given phrase = \", round(entropy(poetry), 3), '\\n')\n",
        "\n",
        "  print('\\t', poetry, '\\n')"
      ],
      "execution_count": null,
      "outputs": [
        {
          "output_type": "stream",
          "text": [
            "TEMPERATURE =  0.1\n",
            "\t listen, bitch! kind,\n",
            "  on the sun is death, which thou art be so, tongue:\n",
            "  nor dead that feast, who let me not from me.\n",
            "\n",
            "  cxxxviii\n",
            "\n",
            "  what no man respore more base that from hend:\n",
            "  then thou thy self thou shouldst still,\n",
            "  one mine own love, thou mayst to me another delight.\n",
            "  i will in my self, all thy self desert,\n",
            "  and in the present me with thee to be replent,\n",
            "  which put for my sinful eart \n",
            "\n",
            "TEMPERATURE =  0.2\n",
            "\t listen, bitch! kind,\n",
            "  on the sun is double not thy side.\n",
            "    if thou thy self to his store;\n",
            "  doth spures is my love swears than love thee face,\n",
            "  for not do not so me that leaves me,\n",
            "  the world will be the counter take:\n",
            "  make me gones, and they do before,\n",
            "  the outward of thy self away,\n",
            "  deserve thou wilt not be feel in my sight,\n",
            "  deserve to proud hath possess she things to see;\n",
            "  for it dos \n",
            "\n",
            "TEMPERATURE =  0.5\n",
            "\t listen, bitch! kind;\n",
            "  and sittent touble and my poor praise.\n",
            "\n",
            "  cxliv\n",
            "\n",
            "  if it believe me thou lov'st else of thee,\n",
            "  which should makes my sinful earth to me of thy self,\n",
            "  and see the outs of my self i doun.\n",
            "  for i have sworn deeds must leaves make deceive,\n",
            "  the world's out of this mays in thee mine,\n",
            "  that had my soul thee is not says she thy defence:\n",
            "  for i have sworn defears men as good r \n",
            "\n",
            "TEMPERATURE =  1.0\n",
            "\t listen, bitch! kips thy heart,\n",
            "  though she abless and in my vux'st those kind,\n",
            "  a dauth of thine,'  whou drods one please,\n",
            "  some your easure of their youth against the figured.\n",
            "  thy light in thy will, is drire,' eyen\n",
            "  have better face never we it doth tell;\n",
            "  they find they live, and thy hand,\n",
            "  not-ind and so'bloke eyes, ever smort:\n",
            "  for sometime time was should my o'ermits?\n",
            "  who taught my \n",
            "\n",
            "TEMPERATURE =  2.0\n",
            "\t listen, bitch! we proud,\n",
            "  upon mokes title eqfeited of trupl.\n",
            "\n",
            "  xcxxix\n",
            "\n",
            "  qhief his uson physic! te falseit oneath;\n",
            "  agal's, tongue-tied to izew, what waiek eye.\n",
            "\n",
            "  xxvi\n",
            "\n",
            "  were danksly huch, and yate you.\n",
            "  look-no\n",
            "  kond-edy never quiled\n",
            "  suadows gabitly jucquapy: 'tis,\n",
            "  and in teally,--drinklives by kinf\n",
            " ; mine, not loin, bequig, me some in?lanives;\n",
            "  in donest both two abount of line's h \n",
            "\n"
          ],
          "name": "stdout"
        }
      ]
    },
    {
      "cell_type": "markdown",
      "metadata": {
        "id": "z7U8u_Fff7hH"
      },
      "source": [
        "### Saving and loading models"
      ]
    },
    {
      "cell_type": "markdown",
      "metadata": {
        "id": "MkzqZkVFf7hI"
      },
      "source": [
        "Save the model to the disk, then load it and generate text. Examples are available [here](https://pytorch.org/tutorials/beginner/saving_loading_models.html])."
      ]
    },
    {
      "cell_type": "code",
      "metadata": {
        "id": "PCyfZCRDf7hI"
      },
      "source": [
        "# Saving and loading code here\n",
        "def save_net(net, name: str, opt):\n",
        "    checkpoint = {'state_dict': net.state_dict(),\n",
        "                  'opt_state_dict': opt.state_dict()}\n",
        "\n",
        "    with open(name, 'wb') as f:\n",
        "        torch.save(checkpoint, f)\n"
      ],
      "execution_count": null,
      "outputs": []
    },
    {
      "cell_type": "markdown",
      "metadata": {
        "id": "dHUPkn9Kf7hI"
      },
      "source": [
        "### References\n",
        "1. <a href='http://karpathy.github.io/2015/05/21/rnn-effectiveness/'> Andrew Karpathy blog post about RNN. </a> \n",
        "There are several examples of genration: Shakespeare texts, Latex formulas, Linux Sourse Code and children names.\n",
        "2. <a href='https://github.com/karpathy/char-rnn'> Repo with char-rnn code </a>\n",
        "3. Cool repo with PyTorch examples: [link](https://github.com/spro/practical-pytorch`)"
      ]
    }
  ]
}
